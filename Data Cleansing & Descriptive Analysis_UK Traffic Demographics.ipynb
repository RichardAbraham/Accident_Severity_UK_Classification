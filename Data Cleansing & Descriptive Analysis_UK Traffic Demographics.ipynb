{
 "cells": [
  {
   "cell_type": "markdown",
   "metadata": {},
   "source": [
    "### ANALYSING THE TRAFFIC DEMOGRAPHICS IN THE UK - Data Cleansing/ Pre-processing"
   ]
  },
  {
   "cell_type": "markdown",
   "metadata": {},
   "source": [
    "Richard Abraham"
   ]
  },
  {
   "cell_type": "code",
   "execution_count": 1,
   "metadata": {},
   "outputs": [],
   "source": [
    "# Importing python libraries\n",
    "import numpy as np\n",
    "import pandas as pd\n",
    "import matplotlib.pyplot as plt\n",
    "import seaborn as sns\n",
    "\n",
    "# To make all outputs show\n",
    "from IPython.core.interactiveshell import InteractiveShell\n",
    "InteractiveShell.ast_node_interactivity = \"all\""
   ]
  },
  {
   "cell_type": "code",
   "execution_count": 2,
   "metadata": {},
   "outputs": [],
   "source": [
    "file_1= 'C:/Users/Admin/Desktop/BDA 106/Project/NEW_Dataset/Accident_Information.csv'\n",
    "file_2= 'C:/Users/Admin/Desktop/BDA 106/Project/NEW_Dataset/Vehicle_Information.csv'\n",
    "\n",
    "report_1 = pd.read_csv(file_1, index_col = 0, low_memory = False)\n",
    "report_2 = pd.read_csv(file_2, encoding = 'unicode_escape', index_col = 0, low_memory = False)"
   ]
  },
  {
   "cell_type": "code",
   "execution_count": 3,
   "metadata": {},
   "outputs": [],
   "source": [
    "# report_1.head(3)\n",
    "# report_2.head(3)"
   ]
  },
  {
   "cell_type": "code",
   "execution_count": 4,
   "metadata": {},
   "outputs": [
    {
     "data": {
      "text/html": [
       "<div>\n",
       "<style scoped>\n",
       "    .dataframe tbody tr th:only-of-type {\n",
       "        vertical-align: middle;\n",
       "    }\n",
       "\n",
       "    .dataframe tbody tr th {\n",
       "        vertical-align: top;\n",
       "    }\n",
       "\n",
       "    .dataframe thead th {\n",
       "        text-align: right;\n",
       "    }\n",
       "</style>\n",
       "<table border=\"1\" class=\"dataframe\">\n",
       "  <thead>\n",
       "    <tr style=\"text-align: right;\">\n",
       "      <th></th>\n",
       "      <th>1st_Road_Class</th>\n",
       "      <th>1st_Road_Number</th>\n",
       "      <th>2nd_Road_Class</th>\n",
       "      <th>2nd_Road_Number</th>\n",
       "      <th>Accident_Severity</th>\n",
       "      <th>Carriageway_Hazards</th>\n",
       "      <th>Date</th>\n",
       "      <th>Day_of_Week</th>\n",
       "      <th>Did_Police_Officer_Attend_Scene_of_Accident</th>\n",
       "      <th>Junction_Control</th>\n",
       "      <th>...</th>\n",
       "      <th>Skidding_and_Overturning</th>\n",
       "      <th>Towing_and_Articulation</th>\n",
       "      <th>Vehicle_Leaving_Carriageway</th>\n",
       "      <th>Vehicle_Location.Restricted_Lane</th>\n",
       "      <th>Vehicle_Manoeuvre</th>\n",
       "      <th>Vehicle_Reference</th>\n",
       "      <th>Vehicle_Type</th>\n",
       "      <th>Was_Vehicle_Left_Hand_Drive</th>\n",
       "      <th>X1st_Point_of_Impact</th>\n",
       "      <th>Year_y</th>\n",
       "    </tr>\n",
       "    <tr>\n",
       "      <th>Accident_Index</th>\n",
       "      <th></th>\n",
       "      <th></th>\n",
       "      <th></th>\n",
       "      <th></th>\n",
       "      <th></th>\n",
       "      <th></th>\n",
       "      <th></th>\n",
       "      <th></th>\n",
       "      <th></th>\n",
       "      <th></th>\n",
       "      <th></th>\n",
       "      <th></th>\n",
       "      <th></th>\n",
       "      <th></th>\n",
       "      <th></th>\n",
       "      <th></th>\n",
       "      <th></th>\n",
       "      <th></th>\n",
       "      <th></th>\n",
       "      <th></th>\n",
       "      <th></th>\n",
       "    </tr>\n",
       "  </thead>\n",
       "  <tbody>\n",
       "    <tr>\n",
       "      <th>200501BS00002</th>\n",
       "      <td>B</td>\n",
       "      <td>450.0</td>\n",
       "      <td>C</td>\n",
       "      <td>0.0</td>\n",
       "      <td>Slight</td>\n",
       "      <td>None</td>\n",
       "      <td>2005-01-05</td>\n",
       "      <td>Wednesday</td>\n",
       "      <td>1.0</td>\n",
       "      <td>Auto traffic signal</td>\n",
       "      <td>...</td>\n",
       "      <td>None</td>\n",
       "      <td>No tow/articulation</td>\n",
       "      <td>Did not leave carriageway</td>\n",
       "      <td>0.0</td>\n",
       "      <td>Slowing or stopping</td>\n",
       "      <td>1</td>\n",
       "      <td>Bus or coach (17 or more pass seats)</td>\n",
       "      <td>No</td>\n",
       "      <td>Nearside</td>\n",
       "      <td>2005</td>\n",
       "    </tr>\n",
       "    <tr>\n",
       "      <th>200501BS00003</th>\n",
       "      <td>C</td>\n",
       "      <td>0.0</td>\n",
       "      <td>NaN</td>\n",
       "      <td>0.0</td>\n",
       "      <td>Slight</td>\n",
       "      <td>None</td>\n",
       "      <td>2005-01-06</td>\n",
       "      <td>Thursday</td>\n",
       "      <td>1.0</td>\n",
       "      <td>Data missing or out of range</td>\n",
       "      <td>...</td>\n",
       "      <td>None</td>\n",
       "      <td>No tow/articulation</td>\n",
       "      <td>Did not leave carriageway</td>\n",
       "      <td>0.0</td>\n",
       "      <td>Going ahead right-hand bend</td>\n",
       "      <td>1</td>\n",
       "      <td>Bus or coach (17 or more pass seats)</td>\n",
       "      <td>No</td>\n",
       "      <td>Nearside</td>\n",
       "      <td>2005</td>\n",
       "    </tr>\n",
       "    <tr>\n",
       "      <th>200501BS00004</th>\n",
       "      <td>A</td>\n",
       "      <td>3220.0</td>\n",
       "      <td>NaN</td>\n",
       "      <td>0.0</td>\n",
       "      <td>Slight</td>\n",
       "      <td>None</td>\n",
       "      <td>2005-01-07</td>\n",
       "      <td>Friday</td>\n",
       "      <td>1.0</td>\n",
       "      <td>Data missing or out of range</td>\n",
       "      <td>...</td>\n",
       "      <td>None</td>\n",
       "      <td>No tow/articulation</td>\n",
       "      <td>Did not leave carriageway</td>\n",
       "      <td>0.0</td>\n",
       "      <td>Going ahead other</td>\n",
       "      <td>1</td>\n",
       "      <td>Car</td>\n",
       "      <td>No</td>\n",
       "      <td>Front</td>\n",
       "      <td>2005</td>\n",
       "    </tr>\n",
       "    <tr>\n",
       "      <th>200501BS00005</th>\n",
       "      <td>Unclassified</td>\n",
       "      <td>0.0</td>\n",
       "      <td>NaN</td>\n",
       "      <td>0.0</td>\n",
       "      <td>Slight</td>\n",
       "      <td>None</td>\n",
       "      <td>2005-01-10</td>\n",
       "      <td>Monday</td>\n",
       "      <td>1.0</td>\n",
       "      <td>Data missing or out of range</td>\n",
       "      <td>...</td>\n",
       "      <td>Skidded</td>\n",
       "      <td>No tow/articulation</td>\n",
       "      <td>Did not leave carriageway</td>\n",
       "      <td>0.0</td>\n",
       "      <td>Going ahead other</td>\n",
       "      <td>1</td>\n",
       "      <td>Motorcycle 125cc and under</td>\n",
       "      <td>No</td>\n",
       "      <td>Front</td>\n",
       "      <td>2005</td>\n",
       "    </tr>\n",
       "    <tr>\n",
       "      <th>200501BS00006</th>\n",
       "      <td>Unclassified</td>\n",
       "      <td>0.0</td>\n",
       "      <td>NaN</td>\n",
       "      <td>0.0</td>\n",
       "      <td>Slight</td>\n",
       "      <td>None</td>\n",
       "      <td>2005-01-11</td>\n",
       "      <td>Tuesday</td>\n",
       "      <td>1.0</td>\n",
       "      <td>Data missing or out of range</td>\n",
       "      <td>...</td>\n",
       "      <td>None</td>\n",
       "      <td>No tow/articulation</td>\n",
       "      <td>Did not leave carriageway</td>\n",
       "      <td>0.0</td>\n",
       "      <td>Moving off</td>\n",
       "      <td>1</td>\n",
       "      <td>Car</td>\n",
       "      <td>No</td>\n",
       "      <td>Did not impact</td>\n",
       "      <td>2005</td>\n",
       "    </tr>\n",
       "  </tbody>\n",
       "</table>\n",
       "<p>5 rows × 56 columns</p>\n",
       "</div>"
      ],
      "text/plain": [
       "               1st_Road_Class  1st_Road_Number 2nd_Road_Class  \\\n",
       "Accident_Index                                                  \n",
       "200501BS00002               B            450.0              C   \n",
       "200501BS00003               C              0.0            NaN   \n",
       "200501BS00004               A           3220.0            NaN   \n",
       "200501BS00005    Unclassified              0.0            NaN   \n",
       "200501BS00006    Unclassified              0.0            NaN   \n",
       "\n",
       "                2nd_Road_Number Accident_Severity Carriageway_Hazards  \\\n",
       "Accident_Index                                                          \n",
       "200501BS00002               0.0            Slight                None   \n",
       "200501BS00003               0.0            Slight                None   \n",
       "200501BS00004               0.0            Slight                None   \n",
       "200501BS00005               0.0            Slight                None   \n",
       "200501BS00006               0.0            Slight                None   \n",
       "\n",
       "                      Date Day_of_Week  \\\n",
       "Accident_Index                           \n",
       "200501BS00002   2005-01-05   Wednesday   \n",
       "200501BS00003   2005-01-06    Thursday   \n",
       "200501BS00004   2005-01-07      Friday   \n",
       "200501BS00005   2005-01-10      Monday   \n",
       "200501BS00006   2005-01-11     Tuesday   \n",
       "\n",
       "                Did_Police_Officer_Attend_Scene_of_Accident  \\\n",
       "Accident_Index                                                \n",
       "200501BS00002                                           1.0   \n",
       "200501BS00003                                           1.0   \n",
       "200501BS00004                                           1.0   \n",
       "200501BS00005                                           1.0   \n",
       "200501BS00006                                           1.0   \n",
       "\n",
       "                            Junction_Control   ...   Skidding_and_Overturning  \\\n",
       "Accident_Index                                 ...                              \n",
       "200501BS00002            Auto traffic signal   ...                       None   \n",
       "200501BS00003   Data missing or out of range   ...                       None   \n",
       "200501BS00004   Data missing or out of range   ...                       None   \n",
       "200501BS00005   Data missing or out of range   ...                    Skidded   \n",
       "200501BS00006   Data missing or out of range   ...                       None   \n",
       "\n",
       "                Towing_and_Articulation Vehicle_Leaving_Carriageway  \\\n",
       "Accident_Index                                                        \n",
       "200501BS00002       No tow/articulation   Did not leave carriageway   \n",
       "200501BS00003       No tow/articulation   Did not leave carriageway   \n",
       "200501BS00004       No tow/articulation   Did not leave carriageway   \n",
       "200501BS00005       No tow/articulation   Did not leave carriageway   \n",
       "200501BS00006       No tow/articulation   Did not leave carriageway   \n",
       "\n",
       "               Vehicle_Location.Restricted_Lane            Vehicle_Manoeuvre  \\\n",
       "Accident_Index                                                                 \n",
       "200501BS00002                               0.0          Slowing or stopping   \n",
       "200501BS00003                               0.0  Going ahead right-hand bend   \n",
       "200501BS00004                               0.0            Going ahead other   \n",
       "200501BS00005                               0.0            Going ahead other   \n",
       "200501BS00006                               0.0                   Moving off   \n",
       "\n",
       "                Vehicle_Reference                          Vehicle_Type  \\\n",
       "Accident_Index                                                            \n",
       "200501BS00002                   1  Bus or coach (17 or more pass seats)   \n",
       "200501BS00003                   1  Bus or coach (17 or more pass seats)   \n",
       "200501BS00004                   1                                   Car   \n",
       "200501BS00005                   1            Motorcycle 125cc and under   \n",
       "200501BS00006                   1                                   Car   \n",
       "\n",
       "                Was_Vehicle_Left_Hand_Drive X1st_Point_of_Impact  Year_y  \n",
       "Accident_Index                                                            \n",
       "200501BS00002                            No             Nearside    2005  \n",
       "200501BS00003                            No             Nearside    2005  \n",
       "200501BS00004                            No                Front    2005  \n",
       "200501BS00005                            No                Front    2005  \n",
       "200501BS00006                            No       Did not impact    2005  \n",
       "\n",
       "[5 rows x 56 columns]"
      ]
     },
     "execution_count": 4,
     "metadata": {},
     "output_type": "execute_result"
    }
   ],
   "source": [
    "# Inner merge the 2 files into 1 dataset (on Accident_Index column)\n",
    "dataset = report_1.merge(report_2, on='Accident_Index', how='inner')\n",
    "dataset.head()"
   ]
  },
  {
   "cell_type": "code",
   "execution_count": 5,
   "metadata": {},
   "outputs": [
    {
     "data": {
      "text/html": [
       "<div>\n",
       "<style scoped>\n",
       "    .dataframe tbody tr th:only-of-type {\n",
       "        vertical-align: middle;\n",
       "    }\n",
       "\n",
       "    .dataframe tbody tr th {\n",
       "        vertical-align: top;\n",
       "    }\n",
       "\n",
       "    .dataframe thead th {\n",
       "        text-align: right;\n",
       "    }\n",
       "</style>\n",
       "<table border=\"1\" class=\"dataframe\">\n",
       "  <thead>\n",
       "    <tr style=\"text-align: right;\">\n",
       "      <th></th>\n",
       "      <th>1st_Road_Class</th>\n",
       "      <th>1st_Road_Number</th>\n",
       "      <th>2nd_Road_Class</th>\n",
       "      <th>2nd_Road_Number</th>\n",
       "      <th>Accident_Severity</th>\n",
       "      <th>Carriageway_Hazards</th>\n",
       "      <th>Date</th>\n",
       "      <th>Day_of_Week</th>\n",
       "      <th>Did_Police_Officer_Attend_Scene_of_Accident</th>\n",
       "      <th>Junction_Control</th>\n",
       "      <th>...</th>\n",
       "      <th>Skidding_and_Overturning</th>\n",
       "      <th>Towing_and_Articulation</th>\n",
       "      <th>Vehicle_Leaving_Carriageway</th>\n",
       "      <th>Vehicle_Location.Restricted_Lane</th>\n",
       "      <th>Vehicle_Manoeuvre</th>\n",
       "      <th>Vehicle_Reference</th>\n",
       "      <th>Vehicle_Type</th>\n",
       "      <th>Was_Vehicle_Left_Hand_Drive</th>\n",
       "      <th>X1st_Point_of_Impact</th>\n",
       "      <th>Year_y</th>\n",
       "    </tr>\n",
       "  </thead>\n",
       "  <tbody>\n",
       "    <tr>\n",
       "      <th>0</th>\n",
       "      <td>B</td>\n",
       "      <td>450.0</td>\n",
       "      <td>C</td>\n",
       "      <td>0.0</td>\n",
       "      <td>Slight</td>\n",
       "      <td>None</td>\n",
       "      <td>2005-01-05</td>\n",
       "      <td>Wednesday</td>\n",
       "      <td>1.0</td>\n",
       "      <td>Auto traffic signal</td>\n",
       "      <td>...</td>\n",
       "      <td>None</td>\n",
       "      <td>No tow/articulation</td>\n",
       "      <td>Did not leave carriageway</td>\n",
       "      <td>0.0</td>\n",
       "      <td>Slowing or stopping</td>\n",
       "      <td>1</td>\n",
       "      <td>Bus or coach (17 or more pass seats)</td>\n",
       "      <td>No</td>\n",
       "      <td>Nearside</td>\n",
       "      <td>2005</td>\n",
       "    </tr>\n",
       "    <tr>\n",
       "      <th>1</th>\n",
       "      <td>C</td>\n",
       "      <td>0.0</td>\n",
       "      <td>NaN</td>\n",
       "      <td>0.0</td>\n",
       "      <td>Slight</td>\n",
       "      <td>None</td>\n",
       "      <td>2005-01-06</td>\n",
       "      <td>Thursday</td>\n",
       "      <td>1.0</td>\n",
       "      <td>Data missing or out of range</td>\n",
       "      <td>...</td>\n",
       "      <td>None</td>\n",
       "      <td>No tow/articulation</td>\n",
       "      <td>Did not leave carriageway</td>\n",
       "      <td>0.0</td>\n",
       "      <td>Going ahead right-hand bend</td>\n",
       "      <td>1</td>\n",
       "      <td>Bus or coach (17 or more pass seats)</td>\n",
       "      <td>No</td>\n",
       "      <td>Nearside</td>\n",
       "      <td>2005</td>\n",
       "    </tr>\n",
       "    <tr>\n",
       "      <th>2</th>\n",
       "      <td>A</td>\n",
       "      <td>3220.0</td>\n",
       "      <td>NaN</td>\n",
       "      <td>0.0</td>\n",
       "      <td>Slight</td>\n",
       "      <td>None</td>\n",
       "      <td>2005-01-07</td>\n",
       "      <td>Friday</td>\n",
       "      <td>1.0</td>\n",
       "      <td>Data missing or out of range</td>\n",
       "      <td>...</td>\n",
       "      <td>None</td>\n",
       "      <td>No tow/articulation</td>\n",
       "      <td>Did not leave carriageway</td>\n",
       "      <td>0.0</td>\n",
       "      <td>Going ahead other</td>\n",
       "      <td>1</td>\n",
       "      <td>Car</td>\n",
       "      <td>No</td>\n",
       "      <td>Front</td>\n",
       "      <td>2005</td>\n",
       "    </tr>\n",
       "    <tr>\n",
       "      <th>3</th>\n",
       "      <td>Unclassified</td>\n",
       "      <td>0.0</td>\n",
       "      <td>NaN</td>\n",
       "      <td>0.0</td>\n",
       "      <td>Slight</td>\n",
       "      <td>None</td>\n",
       "      <td>2005-01-10</td>\n",
       "      <td>Monday</td>\n",
       "      <td>1.0</td>\n",
       "      <td>Data missing or out of range</td>\n",
       "      <td>...</td>\n",
       "      <td>Skidded</td>\n",
       "      <td>No tow/articulation</td>\n",
       "      <td>Did not leave carriageway</td>\n",
       "      <td>0.0</td>\n",
       "      <td>Going ahead other</td>\n",
       "      <td>1</td>\n",
       "      <td>Motorcycle 125cc and under</td>\n",
       "      <td>No</td>\n",
       "      <td>Front</td>\n",
       "      <td>2005</td>\n",
       "    </tr>\n",
       "    <tr>\n",
       "      <th>4</th>\n",
       "      <td>Unclassified</td>\n",
       "      <td>0.0</td>\n",
       "      <td>NaN</td>\n",
       "      <td>0.0</td>\n",
       "      <td>Slight</td>\n",
       "      <td>None</td>\n",
       "      <td>2005-01-11</td>\n",
       "      <td>Tuesday</td>\n",
       "      <td>1.0</td>\n",
       "      <td>Data missing or out of range</td>\n",
       "      <td>...</td>\n",
       "      <td>None</td>\n",
       "      <td>No tow/articulation</td>\n",
       "      <td>Did not leave carriageway</td>\n",
       "      <td>0.0</td>\n",
       "      <td>Moving off</td>\n",
       "      <td>1</td>\n",
       "      <td>Car</td>\n",
       "      <td>No</td>\n",
       "      <td>Did not impact</td>\n",
       "      <td>2005</td>\n",
       "    </tr>\n",
       "  </tbody>\n",
       "</table>\n",
       "<p>5 rows × 56 columns</p>\n",
       "</div>"
      ],
      "text/plain": [
       "  1st_Road_Class  1st_Road_Number 2nd_Road_Class  2nd_Road_Number  \\\n",
       "0              B            450.0              C              0.0   \n",
       "1              C              0.0            NaN              0.0   \n",
       "2              A           3220.0            NaN              0.0   \n",
       "3   Unclassified              0.0            NaN              0.0   \n",
       "4   Unclassified              0.0            NaN              0.0   \n",
       "\n",
       "  Accident_Severity Carriageway_Hazards        Date Day_of_Week  \\\n",
       "0            Slight                None  2005-01-05   Wednesday   \n",
       "1            Slight                None  2005-01-06    Thursday   \n",
       "2            Slight                None  2005-01-07      Friday   \n",
       "3            Slight                None  2005-01-10      Monday   \n",
       "4            Slight                None  2005-01-11     Tuesday   \n",
       "\n",
       "   Did_Police_Officer_Attend_Scene_of_Accident              Junction_Control  \\\n",
       "0                                          1.0           Auto traffic signal   \n",
       "1                                          1.0  Data missing or out of range   \n",
       "2                                          1.0  Data missing or out of range   \n",
       "3                                          1.0  Data missing or out of range   \n",
       "4                                          1.0  Data missing or out of range   \n",
       "\n",
       "    ...   Skidding_and_Overturning  Towing_and_Articulation  \\\n",
       "0   ...                       None      No tow/articulation   \n",
       "1   ...                       None      No tow/articulation   \n",
       "2   ...                       None      No tow/articulation   \n",
       "3   ...                    Skidded      No tow/articulation   \n",
       "4   ...                       None      No tow/articulation   \n",
       "\n",
       "  Vehicle_Leaving_Carriageway Vehicle_Location.Restricted_Lane  \\\n",
       "0   Did not leave carriageway                              0.0   \n",
       "1   Did not leave carriageway                              0.0   \n",
       "2   Did not leave carriageway                              0.0   \n",
       "3   Did not leave carriageway                              0.0   \n",
       "4   Did not leave carriageway                              0.0   \n",
       "\n",
       "             Vehicle_Manoeuvre  Vehicle_Reference  \\\n",
       "0          Slowing or stopping                  1   \n",
       "1  Going ahead right-hand bend                  1   \n",
       "2            Going ahead other                  1   \n",
       "3            Going ahead other                  1   \n",
       "4                   Moving off                  1   \n",
       "\n",
       "                           Vehicle_Type  Was_Vehicle_Left_Hand_Drive  \\\n",
       "0  Bus or coach (17 or more pass seats)                           No   \n",
       "1  Bus or coach (17 or more pass seats)                           No   \n",
       "2                                   Car                           No   \n",
       "3            Motorcycle 125cc and under                           No   \n",
       "4                                   Car                           No   \n",
       "\n",
       "  X1st_Point_of_Impact  Year_y  \n",
       "0             Nearside    2005  \n",
       "1             Nearside    2005  \n",
       "2                Front    2005  \n",
       "3                Front    2005  \n",
       "4       Did not impact    2005  \n",
       "\n",
       "[5 rows x 56 columns]"
      ]
     },
     "execution_count": 5,
     "metadata": {},
     "output_type": "execute_result"
    },
    {
     "data": {
      "text/plain": [
       "(2058408, 56)"
      ]
     },
     "execution_count": 5,
     "metadata": {},
     "output_type": "execute_result"
    }
   ],
   "source": [
    "# Getting rid of the accident index, as it is irrelevant to the analysis\n",
    "dataset.reset_index(inplace = True, drop = True)\n",
    "dataset.head()\n",
    "dataset.shape"
   ]
  },
  {
   "cell_type": "markdown",
   "metadata": {},
   "source": [
    "Data contains over 2 million records!"
   ]
  },
  {
   "cell_type": "code",
   "execution_count": 6,
   "metadata": {},
   "outputs": [
    {
     "name": "stdout",
     "output_type": "stream",
     "text": [
      "<class 'pandas.core.frame.DataFrame'>\n",
      "RangeIndex: 2058408 entries, 0 to 2058407\n",
      "Data columns (total 56 columns):\n",
      "1st_Road_Class                                 object\n",
      "1st_Road_Number                                float64\n",
      "2nd_Road_Class                                 object\n",
      "2nd_Road_Number                                float64\n",
      "Accident_Severity                              object\n",
      "Carriageway_Hazards                            object\n",
      "Date                                           object\n",
      "Day_of_Week                                    object\n",
      "Did_Police_Officer_Attend_Scene_of_Accident    float64\n",
      "Junction_Control                               object\n",
      "Junction_Detail                                object\n",
      "Latitude                                       float64\n",
      "Light_Conditions                               object\n",
      "Local_Authority_(District)                     object\n",
      "Local_Authority_(Highway)                      object\n",
      "Location_Easting_OSGR                          float64\n",
      "Location_Northing_OSGR                         float64\n",
      "Longitude                                      float64\n",
      "LSOA_of_Accident_Location                      object\n",
      "Number_of_Casualties                           int64\n",
      "Number_of_Vehicles                             int64\n",
      "Pedestrian_Crossing-Human_Control              float64\n",
      "Pedestrian_Crossing-Physical_Facilities        float64\n",
      "Police_Force                                   object\n",
      "Road_Surface_Conditions                        object\n",
      "Road_Type                                      object\n",
      "Special_Conditions_at_Site                     object\n",
      "Speed_limit                                    float64\n",
      "Time                                           object\n",
      "Urban_or_Rural_Area                            object\n",
      "Weather_Conditions                             object\n",
      "Year_x                                         int64\n",
      "InScotland                                     object\n",
      "Age_Band_of_Driver                             object\n",
      "Age_of_Vehicle                                 float64\n",
      "Driver_Home_Area_Type                          object\n",
      "Driver_IMD_Decile                              float64\n",
      "Engine_Capacity_.CC.                           float64\n",
      "Hit_Object_in_Carriageway                      object\n",
      "Hit_Object_off_Carriageway                     object\n",
      "Journey_Purpose_of_Driver                      object\n",
      "Junction_Location                              object\n",
      "make                                           object\n",
      "model                                          object\n",
      "Propulsion_Code                                object\n",
      "Sex_of_Driver                                  object\n",
      "Skidding_and_Overturning                       object\n",
      "Towing_and_Articulation                        object\n",
      "Vehicle_Leaving_Carriageway                    object\n",
      "Vehicle_Location.Restricted_Lane               float64\n",
      "Vehicle_Manoeuvre                              object\n",
      "Vehicle_Reference                              int64\n",
      "Vehicle_Type                                   object\n",
      "Was_Vehicle_Left_Hand_Drive                    object\n",
      "X1st_Point_of_Impact                           object\n",
      "Year_y                                         int64\n",
      "dtypes: float64(14), int64(5), object(37)\n",
      "memory usage: 879.4+ MB\n"
     ]
    }
   ],
   "source": [
    "#let's take a general look at the variables involved\n",
    "dataset.info()"
   ]
  },
  {
   "cell_type": "code",
   "execution_count": 7,
   "metadata": {},
   "outputs": [
    {
     "data": {
      "text/plain": [
       "1st_Road_Number                                     1\n",
       "2nd_Road_Class                                 827937\n",
       "2nd_Road_Number                                 18927\n",
       "Did_Police_Officer_Attend_Scene_of_Accident       114\n",
       "Latitude                                          124\n",
       "Location_Easting_OSGR                             124\n",
       "Location_Northing_OSGR                            124\n",
       "Longitude                                         125\n",
       "LSOA_of_Accident_Location                      139207\n",
       "Pedestrian_Crossing-Human_Control                 654\n",
       "Pedestrian_Crossing-Physical_Facilities          1370\n",
       "Speed_limit                                        65\n",
       "Time                                              146\n",
       "InScotland                                         44\n",
       "Age_of_Vehicle                                 337962\n",
       "Driver_IMD_Decile                              689290\n",
       "Engine_Capacity_.CC.                           250317\n",
       "make                                           110845\n",
       "model                                          299357\n",
       "Propulsion_Code                                233598\n",
       "Vehicle_Location.Restricted_Lane                 1124\n",
       "dtype: int64"
      ]
     },
     "execution_count": 7,
     "metadata": {},
     "output_type": "execute_result"
    }
   ],
   "source": [
    "#let's take a closer look at nulls within columns\n",
    "null_columns=dataset.columns[dataset.isnull().any()]\n",
    "dataset[null_columns].isnull().sum() "
   ]
  },
  {
   "cell_type": "markdown",
   "metadata": {},
   "source": [
    "Accident_severity has no null values , which is great because that is our target variable.\n",
    "\n",
    "We will need to drop variables that are unnecessary:\n",
    "-since we have latitude and longitude, the following are redundant:\n",
    "    -1st_Road_Number\n",
    "    -2nd_Road_Number\n",
    "    -LSOA_of_Accident_Location\n",
    "    -Location_Easting_OSGR\n",
    "    -Location_Northing_OSGR\n",
    "\n",
    "We will need to drop variables that mostly contain missing values:\n",
    "    -2nd_Road_Class\n",
    "    -Driver_IMD_Decile\n",
    "\n",
    "For variables that contain only a few missing values, we can either drop those records or replace them.\n",
    "Let's drop for now.\n",
    "(Typically, we would substitute numeric nulls with mean/median/mode.\n",
    "However, given the low volume of nulls and our need to make accurate recommendations to the UK government with as little assumptions as possible, we can safely drop records that still contain nulls.)"
   ]
  },
  {
   "cell_type": "code",
   "execution_count": 6,
   "metadata": {},
   "outputs": [],
   "source": [
    "#drop variables that are unnecessary\n",
    "dataset.drop(\"1st_Road_Number\", axis=1, inplace=True)\n",
    "dataset.drop(\"2nd_Road_Number\", axis=1, inplace=True)\n",
    "dataset.drop(\"LSOA_of_Accident_Location\", axis=1, inplace=True)\n",
    "dataset.drop(\"Location_Easting_OSGR\", axis=1, inplace=True)\n",
    "dataset.drop(\"Location_Northing_OSGR\", axis=1, inplace=True)"
   ]
  },
  {
   "cell_type": "code",
   "execution_count": 7,
   "metadata": {},
   "outputs": [
    {
     "data": {
      "text/plain": [
       "(2058408, 51)"
      ]
     },
     "execution_count": 7,
     "metadata": {},
     "output_type": "execute_result"
    }
   ],
   "source": [
    "dataset.shape"
   ]
  },
  {
   "cell_type": "code",
   "execution_count": 8,
   "metadata": {},
   "outputs": [],
   "source": [
    "#drop variables that mostly contain missing values\n",
    "\n",
    "dataset.drop(\"2nd_Road_Class\", axis=1, inplace=True)\n",
    "dataset.drop(\"Driver_IMD_Decile\", axis=1, inplace=True)"
   ]
  },
  {
   "cell_type": "code",
   "execution_count": 9,
   "metadata": {},
   "outputs": [
    {
     "data": {
      "text/plain": [
       "(2058408, 49)"
      ]
     },
     "execution_count": 9,
     "metadata": {},
     "output_type": "execute_result"
    }
   ],
   "source": [
    "dataset.shape"
   ]
  },
  {
   "cell_type": "code",
   "execution_count": 10,
   "metadata": {},
   "outputs": [],
   "source": [
    "dataset.dropna(how='any',inplace=True)"
   ]
  },
  {
   "cell_type": "code",
   "execution_count": 11,
   "metadata": {},
   "outputs": [
    {
     "data": {
      "text/plain": [
       "(1555129, 49)"
      ]
     },
     "execution_count": 11,
     "metadata": {},
     "output_type": "execute_result"
    }
   ],
   "source": [
    "dataset.shape"
   ]
  },
  {
   "cell_type": "markdown",
   "metadata": {},
   "source": [
    "Even though about a quarter or our records were dropped, we are still left with 1.5 million records to analyze. This is still a significant amount of data for the purpose of our analysis.\n",
    "Now that our data is clean of nulls, let's examine it in further detail."
   ]
  },
  {
   "cell_type": "code",
   "execution_count": 12,
   "metadata": {},
   "outputs": [
    {
     "data": {
      "text/html": [
       "<div>\n",
       "<style scoped>\n",
       "    .dataframe tbody tr th:only-of-type {\n",
       "        vertical-align: middle;\n",
       "    }\n",
       "\n",
       "    .dataframe tbody tr th {\n",
       "        vertical-align: top;\n",
       "    }\n",
       "\n",
       "    .dataframe thead th {\n",
       "        text-align: right;\n",
       "    }\n",
       "</style>\n",
       "<table border=\"1\" class=\"dataframe\">\n",
       "  <thead>\n",
       "    <tr style=\"text-align: right;\">\n",
       "      <th></th>\n",
       "      <th>1st_Road_Class</th>\n",
       "      <th>Accident_Severity</th>\n",
       "      <th>Carriageway_Hazards</th>\n",
       "      <th>Date</th>\n",
       "      <th>Day_of_Week</th>\n",
       "      <th>Did_Police_Officer_Attend_Scene_of_Accident</th>\n",
       "      <th>Junction_Control</th>\n",
       "      <th>Junction_Detail</th>\n",
       "      <th>Latitude</th>\n",
       "      <th>Light_Conditions</th>\n",
       "      <th>...</th>\n",
       "      <th>Skidding_and_Overturning</th>\n",
       "      <th>Towing_and_Articulation</th>\n",
       "      <th>Vehicle_Leaving_Carriageway</th>\n",
       "      <th>Vehicle_Location.Restricted_Lane</th>\n",
       "      <th>Vehicle_Manoeuvre</th>\n",
       "      <th>Vehicle_Reference</th>\n",
       "      <th>Vehicle_Type</th>\n",
       "      <th>Was_Vehicle_Left_Hand_Drive</th>\n",
       "      <th>X1st_Point_of_Impact</th>\n",
       "      <th>Year_y</th>\n",
       "    </tr>\n",
       "  </thead>\n",
       "  <tbody>\n",
       "    <tr>\n",
       "      <th>2</th>\n",
       "      <td>A</td>\n",
       "      <td>Slight</td>\n",
       "      <td>None</td>\n",
       "      <td>2005-01-07</td>\n",
       "      <td>Friday</td>\n",
       "      <td>1.0</td>\n",
       "      <td>Data missing or out of range</td>\n",
       "      <td>Not at junction or within 20 metres</td>\n",
       "      <td>51.482442</td>\n",
       "      <td>Daylight</td>\n",
       "      <td>...</td>\n",
       "      <td>None</td>\n",
       "      <td>No tow/articulation</td>\n",
       "      <td>Did not leave carriageway</td>\n",
       "      <td>0.0</td>\n",
       "      <td>Going ahead other</td>\n",
       "      <td>1</td>\n",
       "      <td>Car</td>\n",
       "      <td>No</td>\n",
       "      <td>Front</td>\n",
       "      <td>2005</td>\n",
       "    </tr>\n",
       "    <tr>\n",
       "      <th>4</th>\n",
       "      <td>Unclassified</td>\n",
       "      <td>Slight</td>\n",
       "      <td>None</td>\n",
       "      <td>2005-01-11</td>\n",
       "      <td>Tuesday</td>\n",
       "      <td>1.0</td>\n",
       "      <td>Data missing or out of range</td>\n",
       "      <td>Not at junction or within 20 metres</td>\n",
       "      <td>51.515540</td>\n",
       "      <td>Daylight</td>\n",
       "      <td>...</td>\n",
       "      <td>None</td>\n",
       "      <td>No tow/articulation</td>\n",
       "      <td>Did not leave carriageway</td>\n",
       "      <td>0.0</td>\n",
       "      <td>Moving off</td>\n",
       "      <td>1</td>\n",
       "      <td>Car</td>\n",
       "      <td>No</td>\n",
       "      <td>Did not impact</td>\n",
       "      <td>2005</td>\n",
       "    </tr>\n",
       "    <tr>\n",
       "      <th>5</th>\n",
       "      <td>Unclassified</td>\n",
       "      <td>Slight</td>\n",
       "      <td>None</td>\n",
       "      <td>2005-01-11</td>\n",
       "      <td>Tuesday</td>\n",
       "      <td>1.0</td>\n",
       "      <td>Data missing or out of range</td>\n",
       "      <td>Not at junction or within 20 metres</td>\n",
       "      <td>51.515540</td>\n",
       "      <td>Daylight</td>\n",
       "      <td>...</td>\n",
       "      <td>None</td>\n",
       "      <td>No tow/articulation</td>\n",
       "      <td>Did not leave carriageway</td>\n",
       "      <td>0.0</td>\n",
       "      <td>Going ahead other</td>\n",
       "      <td>2</td>\n",
       "      <td>Motorcycle 125cc and under</td>\n",
       "      <td>No</td>\n",
       "      <td>Did not impact</td>\n",
       "      <td>2005</td>\n",
       "    </tr>\n",
       "    <tr>\n",
       "      <th>7</th>\n",
       "      <td>C</td>\n",
       "      <td>Slight</td>\n",
       "      <td>None</td>\n",
       "      <td>2005-01-13</td>\n",
       "      <td>Thursday</td>\n",
       "      <td>1.0</td>\n",
       "      <td>Give way or uncontrolled</td>\n",
       "      <td>T or staggered junction</td>\n",
       "      <td>51.512695</td>\n",
       "      <td>Darkness - lights lit</td>\n",
       "      <td>...</td>\n",
       "      <td>None</td>\n",
       "      <td>No tow/articulation</td>\n",
       "      <td>Did not leave carriageway</td>\n",
       "      <td>0.0</td>\n",
       "      <td>Parked</td>\n",
       "      <td>2</td>\n",
       "      <td>Car</td>\n",
       "      <td>No</td>\n",
       "      <td>Back</td>\n",
       "      <td>2005</td>\n",
       "    </tr>\n",
       "    <tr>\n",
       "      <th>8</th>\n",
       "      <td>A</td>\n",
       "      <td>Slight</td>\n",
       "      <td>None</td>\n",
       "      <td>2005-01-14</td>\n",
       "      <td>Friday</td>\n",
       "      <td>1.0</td>\n",
       "      <td>Data missing or out of range</td>\n",
       "      <td>Not at junction or within 20 metres</td>\n",
       "      <td>51.502260</td>\n",
       "      <td>Daylight</td>\n",
       "      <td>...</td>\n",
       "      <td>None</td>\n",
       "      <td>No tow/articulation</td>\n",
       "      <td>Nearside</td>\n",
       "      <td>0.0</td>\n",
       "      <td>Going ahead other</td>\n",
       "      <td>1</td>\n",
       "      <td>Car</td>\n",
       "      <td>No</td>\n",
       "      <td>Front</td>\n",
       "      <td>2005</td>\n",
       "    </tr>\n",
       "  </tbody>\n",
       "</table>\n",
       "<p>5 rows × 49 columns</p>\n",
       "</div>"
      ],
      "text/plain": [
       "  1st_Road_Class Accident_Severity Carriageway_Hazards        Date  \\\n",
       "2              A            Slight                None  2005-01-07   \n",
       "4   Unclassified            Slight                None  2005-01-11   \n",
       "5   Unclassified            Slight                None  2005-01-11   \n",
       "7              C            Slight                None  2005-01-13   \n",
       "8              A            Slight                None  2005-01-14   \n",
       "\n",
       "  Day_of_Week  Did_Police_Officer_Attend_Scene_of_Accident  \\\n",
       "2      Friday                                          1.0   \n",
       "4     Tuesday                                          1.0   \n",
       "5     Tuesday                                          1.0   \n",
       "7    Thursday                                          1.0   \n",
       "8      Friday                                          1.0   \n",
       "\n",
       "               Junction_Control                      Junction_Detail  \\\n",
       "2  Data missing or out of range  Not at junction or within 20 metres   \n",
       "4  Data missing or out of range  Not at junction or within 20 metres   \n",
       "5  Data missing or out of range  Not at junction or within 20 metres   \n",
       "7      Give way or uncontrolled              T or staggered junction   \n",
       "8  Data missing or out of range  Not at junction or within 20 metres   \n",
       "\n",
       "    Latitude       Light_Conditions  ...   Skidding_and_Overturning  \\\n",
       "2  51.482442               Daylight  ...                       None   \n",
       "4  51.515540               Daylight  ...                       None   \n",
       "5  51.515540               Daylight  ...                       None   \n",
       "7  51.512695  Darkness - lights lit  ...                       None   \n",
       "8  51.502260               Daylight  ...                       None   \n",
       "\n",
       "  Towing_and_Articulation  Vehicle_Leaving_Carriageway  \\\n",
       "2     No tow/articulation    Did not leave carriageway   \n",
       "4     No tow/articulation    Did not leave carriageway   \n",
       "5     No tow/articulation    Did not leave carriageway   \n",
       "7     No tow/articulation    Did not leave carriageway   \n",
       "8     No tow/articulation                     Nearside   \n",
       "\n",
       "   Vehicle_Location.Restricted_Lane  Vehicle_Manoeuvre  Vehicle_Reference  \\\n",
       "2                               0.0  Going ahead other                  1   \n",
       "4                               0.0         Moving off                  1   \n",
       "5                               0.0  Going ahead other                  2   \n",
       "7                               0.0             Parked                  2   \n",
       "8                               0.0  Going ahead other                  1   \n",
       "\n",
       "                 Vehicle_Type Was_Vehicle_Left_Hand_Drive  \\\n",
       "2                         Car                          No   \n",
       "4                         Car                          No   \n",
       "5  Motorcycle 125cc and under                          No   \n",
       "7                         Car                          No   \n",
       "8                         Car                          No   \n",
       "\n",
       "  X1st_Point_of_Impact Year_y  \n",
       "2                Front   2005  \n",
       "4       Did not impact   2005  \n",
       "5       Did not impact   2005  \n",
       "7                 Back   2005  \n",
       "8                Front   2005  \n",
       "\n",
       "[5 rows x 49 columns]"
      ]
     },
     "execution_count": 12,
     "metadata": {},
     "output_type": "execute_result"
    }
   ],
   "source": [
    "dataset.head()"
   ]
  },
  {
   "cell_type": "markdown",
   "metadata": {},
   "source": [
    "Let us look further into some of the categorical data to see if they make sense!"
   ]
  },
  {
   "cell_type": "code",
   "execution_count": 69,
   "metadata": {},
   "outputs": [
    {
     "data": {
      "text/plain": [
       "array(['A', 'Unclassified', 'C', 'B', 'Motorway', 'A(M)'], dtype=object)"
      ]
     },
     "execution_count": 69,
     "metadata": {},
     "output_type": "execute_result"
    },
    {
     "data": {
      "text/plain": [
       "array(['Slight', 'Serious', 'Fatal'], dtype=object)"
      ]
     },
     "execution_count": 69,
     "metadata": {},
     "output_type": "execute_result"
    },
    {
     "data": {
      "text/plain": [
       "array(['None', 'Other object on road',\n",
       "       'Pedestrian in carriageway - not injured', 'Previous accident',\n",
       "       'Vehicle load on road',\n",
       "       'Any animal in carriageway (except ridden horse)',\n",
       "       'Data missing or out of range'], dtype=object)"
      ]
     },
     "execution_count": 69,
     "metadata": {},
     "output_type": "execute_result"
    },
    {
     "data": {
      "text/plain": [
       "array(['Friday', 'Tuesday', 'Thursday', 'Sunday', 'Saturday', 'Wednesday',\n",
       "       'Monday'], dtype=object)"
      ]
     },
     "execution_count": 69,
     "metadata": {},
     "output_type": "execute_result"
    },
    {
     "data": {
      "text/plain": [
       "array(['Data missing or out of range', 'Give way or uncontrolled',\n",
       "       'Auto traffic signal', 'Stop sign', 'Authorised person',\n",
       "       'Not at junction or within 20 metres'], dtype=object)"
      ]
     },
     "execution_count": 69,
     "metadata": {},
     "output_type": "execute_result"
    },
    {
     "data": {
      "text/plain": [
       "array(['Not at junction or within 20 metres', 'T or staggered junction',\n",
       "       'Crossroads', 'Mini-roundabout', 'Private drive or entrance',\n",
       "       'More than 4 arms (not roundabout)', 'Roundabout',\n",
       "       'Other junction', 'Slip road', 'Data missing or out of range'],\n",
       "      dtype=object)"
      ]
     },
     "execution_count": 69,
     "metadata": {},
     "output_type": "execute_result"
    },
    {
     "data": {
      "text/plain": [
       "array(['Daylight', 'Darkness - lights lit', 'Darkness - lights unlit',\n",
       "       'Darkness - lighting unknown', 'Darkness - no lighting',\n",
       "       'Data missing or out of range'], dtype=object)"
      ]
     },
     "execution_count": 69,
     "metadata": {},
     "output_type": "execute_result"
    },
    {
     "data": {
      "text/plain": [
       "array(['Kensington and Chelsea', 'Hammersmith and Fulham', 'Westminster',\n",
       "       'City of London', 'Hackney', 'Islington', 'Camden', 'Brent',\n",
       "       'Haringey', 'Barnet', 'Richmond upon Thames', 'Ealing',\n",
       "       'Tower Hamlets', 'Hillingdon', 'London Airport (Heathrow)',\n",
       "       'Hounslow', 'Waltham Forest', 'Redbridge', 'Barking and Dagenham',\n",
       "       'Newham', 'Havering', 'Lambeth', 'Southwark', 'Croydon',\n",
       "       'Wandsworth', 'Lewisham', 'Bromley', 'Bexley', 'Harrow',\n",
       "       'Greenwich', 'Enfield', 'Kingston upon Thames', 'Merton', 'Sutton',\n",
       "       'South Lakeland', 'Barrow-in-Furness', 'Carlisle', 'Eden',\n",
       "       'Allerdale', 'Copeland', 'Blackpool', 'Fylde', 'Lancaster',\n",
       "       'Blackburn with Darwen', 'Preston', 'Wyre', 'West Lancashire',\n",
       "       'South Ribble', 'Chorley', 'Hyndburn', 'Ribble Valley', 'Pendle',\n",
       "       'Rossendale', 'Burnley', 'Wirral', 'Sefton', 'Knowsley',\n",
       "       'Liverpool', 'St. Helens', 'Manchester', 'Salford', 'Rochdale',\n",
       "       'Trafford', 'Stockport', 'Wigan', 'Tameside', 'Bolton', 'Bury',\n",
       "       'Oldham', 'Warrington', 'Crewe and Nantwich', 'Halton',\n",
       "       'Ellesmere Port and Neston', 'Vale Royal', 'Chester',\n",
       "       'Macclesfield', 'Congleton', 'Newcastle upon Tyne', 'Sunderland',\n",
       "       'North Tyneside', 'Wansbeck', 'Blyth Valley', 'South Tyneside',\n",
       "       'Tynedale', 'Gateshead', 'Alnwick', 'Castle Morpeth',\n",
       "       'Berwick-upon-Tweed', 'Wear Valley', 'Sedgefield', 'Durham',\n",
       "       'Easington', 'Chester-le-Street', 'Derwentside', 'Teesdale',\n",
       "       'Darlington', 'Ryedale', 'York', 'Craven', 'Scarborough',\n",
       "       'Hambleton', 'Harrogate', 'Selby', 'Richmondshire', 'Kirklees',\n",
       "       'Leeds', 'Bradford', 'Wakefield', 'Calderdale', 'Doncaster',\n",
       "       'Barnsley', 'Sheffield', 'Rotherham', 'North East Lincolnshire',\n",
       "       'North Lincolnshire', 'East Riding of Yorkshire',\n",
       "       'Kingston upon Hull, City of', 'Hartlepool',\n",
       "       'Redcar and Cleveland', 'Middlesbrough', 'Stockton-on-Tees',\n",
       "       'Birmingham', 'Wolverhampton', 'Walsall', 'Dudley', 'Sandwell',\n",
       "       'Solihull', 'Coventry', 'Stoke-on-Trent', 'Newcastle-under-Lyme',\n",
       "       'Stafford', 'Staffordshire Moorlands', 'East Staffordshire',\n",
       "       'Cannock Chase', 'South Staffordshire', 'Lichfield', 'Tamworth',\n",
       "       'Worcester', 'Wychavon', 'Malvern Hills', 'Wyre Forest',\n",
       "       'Bromsgrove', 'Redditch', 'Herefordshire, County of',\n",
       "       'Shrewsbury and Atcham', 'Oswestry', 'Telford and Wrekin',\n",
       "       'South Shropshire', 'Bridgnorth', 'North Shropshire',\n",
       "       'Stratford-upon-Avon', 'Warwick', 'North Warwickshire',\n",
       "       'Nuneaton and Bedworth', 'Rugby', 'Amber Valley', 'Erewash',\n",
       "       'Bolsover', 'Derbyshire Dales', 'High Peak',\n",
       "       'North East Derbyshire', 'Chesterfield', 'South Derbyshire',\n",
       "       'Derby', 'Mansfield', 'Ashfield', 'Bassetlaw',\n",
       "       'Newark and Sherwood', 'Rushcliffe', 'Nottingham', 'Gedling',\n",
       "       'Broxtowe', 'South Kesteven', 'South Holland', 'North Kesteven',\n",
       "       'East Lindsey', 'West Lindsey', 'Boston', 'Lincoln', 'Harborough',\n",
       "       'Leicester', 'Charnwood', 'North West Leicestershire', 'Rutland',\n",
       "       'Blaby', 'Oadby and Wigston', 'Melton', 'Hinckley and Bosworth',\n",
       "       'Kettering', 'Corby', 'East Northamptonshire', 'Daventry',\n",
       "       'South Northamptonshire', 'Northampton', 'Wellingborough',\n",
       "       'South Cambridgeshire', 'Huntingdonshire', 'Peterborough',\n",
       "       'East Cambridgeshire', 'Cambridge', 'Fenland', 'Great Yarmouth',\n",
       "       \"King's Lynn and West Norfolk\", 'Broadland', 'South Norfolk',\n",
       "       'Breckland', 'Norwich', 'North Norfolk', 'St. Edmundsbury',\n",
       "       'Suffolk Coastal', 'Babergh', 'Mid Suffolk', 'Forest Heath',\n",
       "       'Ipswich', 'Waveney', 'Bedford', 'Mid Bedfordshire', 'Luton',\n",
       "       'South Bedfordshire', 'East Hertfordshire', 'North Hertfordshire',\n",
       "       'Welwyn Hatfield', 'Broxbourne', 'Watford', 'Hertsmere',\n",
       "       'Three Rivers', 'Dacorum', 'Stevenage', 'St. Albans', 'Uttlesford',\n",
       "       'Braintree', 'Colchester', 'Epping Forest', 'Basildon',\n",
       "       'Chelmsford', 'Thurrock', 'Maldon', 'Brentwood', 'Tendring',\n",
       "       'Harlow', 'Southend-on-Sea', 'Castle Point', 'Rochford',\n",
       "       'Aylesbury Vale', 'Wycombe', 'South Bucks', 'Milton Keynes',\n",
       "       'Chiltern', 'Slough', 'Cherwell', 'Vale of White Horse',\n",
       "       'South Oxfordshire', 'West Oxfordshire', 'Oxford',\n",
       "       'West Berkshire', 'Bracknell Forest', 'Reading',\n",
       "       'Windsor and Maidenhead', 'Wokingham', 'Gosport', 'Winchester',\n",
       "       'Isle of Wight', 'New Forest', 'Fareham', 'Test Valley',\n",
       "       'Rushmoor', 'Basingstoke and Deane', 'Havant', 'Portsmouth',\n",
       "       'Eastleigh', 'Hart', 'East Hampshire', 'Southampton', 'Elmbridge',\n",
       "       'Runnymede', 'Spelthorne', 'Guildford', 'Mole Valley',\n",
       "       'Epsom and Ewell', 'Reigate and Banstead', 'Woking',\n",
       "       'Surrey Heath', 'Waverley', 'Tandridge', 'Medway', 'Dartford',\n",
       "       'Sevenoaks', 'Dover', 'Shepway', 'Canterbury', 'Tunbridge Wells',\n",
       "       'Tonbridge and Malling', 'Maidstone', 'Swale', 'Ashford', 'Thanet',\n",
       "       'Gravesham', 'Wealden', 'Eastbourne', 'Rother',\n",
       "       'Brighton and Hove', 'Mid Sussex', 'Chichester', 'Worthing',\n",
       "       'Arun', 'Lewes', 'Crawley', 'Adur', 'Hastings', 'Horsham',\n",
       "       'Kerrier', 'Carrick', 'Penwith', 'Restormel', 'North Cornwall',\n",
       "       'West Devon', 'Caradon', 'Torridge', 'North Devon', 'Exeter',\n",
       "       'East Devon', 'Teignbridge', 'Mid Devon', 'Plymouth', 'South Hams',\n",
       "       'Torbay', 'Bristol, City of', 'Sedgemoor',\n",
       "       'Bath and North East Somerset', 'Mendip', 'South Gloucestershire',\n",
       "       'Taunton Deane', 'South Somerset', 'North Somerset',\n",
       "       'West Somerset', 'Stroud', 'Gloucester', 'Tewkesbury',\n",
       "       'Forest of Dean', 'Cotswold', 'Cheltenham', 'Salisbury', 'Kennet',\n",
       "       'West Wiltshire', 'North Wiltshire', 'Swindon', 'Bournemouth',\n",
       "       'Poole', 'North Dorset', 'East Dorset', 'Christchurch', 'Purbeck',\n",
       "       'West Dorset', 'Weymouth and Portland', 'Isle of Anglesey',\n",
       "       'Conwy', 'Denbighshire', 'Flintshire', 'Gwynedd', 'Wrexham',\n",
       "       'Caerphilly', 'Monmouthshire', 'Torfaen', 'Blaenau Gwent',\n",
       "       'Newport', 'Swansea', 'Bridgend', 'Cardiff', 'Neath Port Talbot',\n",
       "       'Merthyr Tydfil', 'The Vale of Glamorgan', 'Rhondda, Cynon, Taff',\n",
       "       'Carmarthenshire', 'Ceredigion', 'Pembrokeshire', 'Powys',\n",
       "       'Highland', 'Western Isles', 'Orkney Islands', 'Shetland Islands',\n",
       "       'Aberdeen City', 'Aberdeenshire', 'Moray', 'Perth and Kinross',\n",
       "       'Angus', 'Dundee City', 'Fife', 'Edinburgh, City of',\n",
       "       'Scottish Borders', 'West Lothian', 'Midlothian', 'East Lothian',\n",
       "       'Stirling', 'Falkirk', 'Clackmannanshire', 'Glasgow City',\n",
       "       'East Dunbartonshire', 'East Renfrewshire', 'Renfrewshire',\n",
       "       'Inverclyde', 'West Dunbartonshire', 'Argyll and Bute',\n",
       "       'North Lanarkshire', 'South Lanarkshire', 'North Ayrshire',\n",
       "       'East Ayrshire', 'South Ayrshire', 'Dumfries and Galloway',\n",
       "       'Cheshire East', 'Cheshire West and Chester', 'Northumberland',\n",
       "       'County Durham', 'Shropshire', 'Central Bedfordshire', 'Cornwall',\n",
       "       'Wiltshire'], dtype=object)"
      ]
     },
     "execution_count": 69,
     "metadata": {},
     "output_type": "execute_result"
    },
    {
     "data": {
      "text/plain": [
       "array(['Kensington and Chelsea', 'Hammersmith and Fulham', 'Westminster',\n",
       "       'City of London', 'Hackney', 'Islington', 'Camden', 'Brent',\n",
       "       'Haringey', 'Barnet', 'Richmond upon Thames', 'Ealing',\n",
       "       'Tower Hamlets', 'Hillingdon', 'London Airport (Heathrow)',\n",
       "       'Hounslow', 'Waltham Forest', 'Redbridge', 'Barking and Dagenham',\n",
       "       'Newham', 'Havering', 'Lambeth', 'Southwark', 'Croydon',\n",
       "       'Wandsworth', 'Lewisham', 'Bromley', 'Bexley', 'Harrow',\n",
       "       'Greenwich', 'Enfield', 'Kingston upon Thames', 'Merton', 'Sutton',\n",
       "       'Cumbria', 'Blackpool', 'Lancashire', 'Blackburn with Darwen',\n",
       "       'Wirral', 'Sefton', 'Knowsley', 'Liverpool', 'St. Helens',\n",
       "       'Manchester', 'Salford', 'Rochdale', 'Trafford', 'Stockport',\n",
       "       'Wigan', 'Tameside', 'Bolton', 'Bury', 'Oldham', 'Warrington',\n",
       "       'Cheshire East', 'Halton', 'Cheshire West and Chester',\n",
       "       'Newcastle upon Tyne', 'Sunderland', 'North Tyneside',\n",
       "       'Northumberland', 'South Tyneside', 'Gateshead', 'County Durham',\n",
       "       'Darlington', 'North Yorkshire', 'York', 'Kirklees', 'Leeds',\n",
       "       'Bradford', 'Wakefield', 'Calderdale', 'Doncaster', 'Barnsley',\n",
       "       'Sheffield', 'Rotherham', 'North East Lincolnshire',\n",
       "       'North Lincolnshire', 'East Riding of Yorkshire',\n",
       "       'Kingston upon Hull, City of', 'Hartlepool',\n",
       "       'Redcar and Cleveland', 'Middlesbrough', 'Stockton-on-Tees',\n",
       "       'Birmingham', 'Wolverhampton', 'Walsall', 'Dudley', 'Sandwell',\n",
       "       'Solihull', 'Coventry', 'Stoke-on-Trent', 'Staffordshire',\n",
       "       'Worcestershire', 'Herefordshire, County of', 'Shropshire',\n",
       "       'Telford and Wrekin', 'Warwickshire', 'Derbyshire', 'Derby',\n",
       "       'Nottinghamshire', 'Nottingham', 'Lincolnshire', 'Leicestershire',\n",
       "       'Leicester', 'Rutland', 'Northamptonshire', 'Cambridgeshire',\n",
       "       'Peterborough', 'Norfolk', 'Suffolk', 'Bedford',\n",
       "       'Central Bedfordshire', 'Luton', 'Hertfordshire', 'Essex',\n",
       "       'Thurrock', 'Southend-on-Sea', 'Buckinghamshire', 'Milton Keynes',\n",
       "       'Slough', 'Oxfordshire', 'West Berkshire', 'Bracknell Forest',\n",
       "       'Reading', 'Windsor and Maidenhead', 'Wokingham', 'Hampshire',\n",
       "       'Isle of Wight', 'Portsmouth', 'Southampton', 'Surrey', 'Medway',\n",
       "       'Kent', 'East Sussex', 'Brighton and Hove', 'West Sussex',\n",
       "       'Cornwall', 'Devon', 'Plymouth', 'Torbay', 'Bristol, City of',\n",
       "       'Somerset', 'Bath and North East Somerset',\n",
       "       'South Gloucestershire', 'North Somerset', 'Gloucestershire',\n",
       "       'Wiltshire', 'Swindon', 'Bournemouth', 'Poole', 'Dorset',\n",
       "       'Isle of Anglesey', 'Conwy', 'Denbighshire', 'Flintshire',\n",
       "       'Gwynedd', 'Wrexham', 'Caerphilly', 'Monmouthshire', 'Torfaen',\n",
       "       'Blaenau Gwent', 'Newport', 'Swansea', 'Bridgend', 'Cardiff',\n",
       "       'Neath Port Talbot', 'Merthyr Tydfil', 'The Vale of Glamorgan',\n",
       "       'Rhondda, Cynon, Taff', 'Carmarthenshire', 'Ceredigion',\n",
       "       'Pembrokeshire', 'Powys', 'Highland',\n",
       "       'Na h-Eileanan an Iar (Western Isles)', 'Orkney Islands',\n",
       "       'Shetland Islands', 'Aberdeen City', 'Aberdeenshire', 'Moray',\n",
       "       'Perth and Kinross', 'Angus', 'Dundee City', 'Fife',\n",
       "       'Edinburgh, City of', 'Scottish Borders', 'West Lothian',\n",
       "       'Midlothian', 'East Lothian', 'Stirling', 'Falkirk',\n",
       "       'Clackmannanshire', 'Glasgow City', 'East Dunbartonshire',\n",
       "       'East Renfrewshire', 'Renfrewshire', 'Inverclyde',\n",
       "       'West Dunbartonshire', 'Argyll & Bute', 'North Lanarkshire',\n",
       "       'South Lanarkshire', 'North Ayrshire', 'East Ayrshire',\n",
       "       'South Ayrshire', 'Dumfries & Galloway', 'Isles of Scilly'],\n",
       "      dtype=object)"
      ]
     },
     "execution_count": 69,
     "metadata": {},
     "output_type": "execute_result"
    },
    {
     "data": {
      "text/plain": [
       "array(['Metropolitan Police', 'City of London', 'Cumbria', 'Lancashire',\n",
       "       'Merseyside', 'Greater Manchester', 'Cheshire', 'Northumbria',\n",
       "       'Durham', 'North Yorkshire', 'West Yorkshire', 'South Yorkshire',\n",
       "       'Humberside', 'Cleveland', 'West Midlands', 'Staffordshire',\n",
       "       'West Mercia', 'Warwickshire', 'Derbyshire', 'Nottinghamshire',\n",
       "       'Lincolnshire', 'Leicestershire', 'Northamptonshire',\n",
       "       'Cambridgeshire', 'Norfolk', 'Suffolk', 'Bedfordshire',\n",
       "       'Hertfordshire', 'Essex', 'Thames Valley', 'Hampshire', 'Surrey',\n",
       "       'Kent', 'Sussex', 'Devon and Cornwall', 'Avon and Somerset',\n",
       "       'Gloucestershire', 'Wiltshire', 'Dorset', 'North Wales', 'Gwent',\n",
       "       'South Wales', 'Dyfed-Powys', 'Northern', 'Grampian', 'Tayside',\n",
       "       'Fife', 'Lothian and Borders', 'Central', 'Strathclyde',\n",
       "       'Dumfries and Galloway'], dtype=object)"
      ]
     },
     "execution_count": 69,
     "metadata": {},
     "output_type": "execute_result"
    },
    {
     "data": {
      "text/plain": [
       "array(['Dry', 'Wet or damp', 'Snow', 'Frost or ice',\n",
       "       'Flood over 3cm. deep', 'Data missing or out of range'],\n",
       "      dtype=object)"
      ]
     },
     "execution_count": 69,
     "metadata": {},
     "output_type": "execute_result"
    },
    {
     "data": {
      "text/plain": [
       "array(['Single carriageway', 'Dual carriageway', 'One way street',\n",
       "       'Roundabout', 'Slip road', 'Unknown'], dtype=object)"
      ]
     },
     "execution_count": 69,
     "metadata": {},
     "output_type": "execute_result"
    },
    {
     "data": {
      "text/plain": [
       "array(['None', 'Oil or diesel', 'Auto signal part defective', 'Roadworks',\n",
       "       'Road surface defective', 'Auto traffic signal - out',\n",
       "       'Road sign or marking defective or obscured', 'Mud',\n",
       "       'Data missing or out of range'], dtype=object)"
      ]
     },
     "execution_count": 69,
     "metadata": {},
     "output_type": "execute_result"
    },
    {
     "data": {
      "text/plain": [
       "array(['Urban', 'Rural', 'Unallocated'], dtype=object)"
      ]
     },
     "execution_count": 69,
     "metadata": {},
     "output_type": "execute_result"
    },
    {
     "data": {
      "text/plain": [
       "array(['Fine no high winds', 'Raining no high winds',\n",
       "       'Snowing no high winds', 'Fine + high winds', 'Other', 'Unknown',\n",
       "       'Raining + high winds', 'Fog or mist', 'Snowing + high winds',\n",
       "       'Data missing or out of range'], dtype=object)"
      ]
     },
     "execution_count": 69,
     "metadata": {},
     "output_type": "execute_result"
    },
    {
     "data": {
      "text/plain": [
       "array(['No', 'Yes'], dtype=object)"
      ]
     },
     "execution_count": 69,
     "metadata": {},
     "output_type": "execute_result"
    },
    {
     "data": {
      "text/plain": [
       "array(['46 - 55', '26 - 35', '36 - 45', '66 - 75', '16 - 20', '56 - 65',\n",
       "       'Data missing or out of range', '21 - 25', 'Over 75', '11 - 15',\n",
       "       '6 - 10', '0 - 5'], dtype=object)"
      ]
     },
     "execution_count": 69,
     "metadata": {},
     "output_type": "execute_result"
    },
    {
     "data": {
      "text/plain": [
       "array(['Urban area', 'Data missing or out of range', 'Small town',\n",
       "       'Rural'], dtype=object)"
      ]
     },
     "execution_count": 69,
     "metadata": {},
     "output_type": "execute_result"
    },
    {
     "data": {
      "text/plain": [
       "array(['None', 'Bollard or refuge', 'Open door of vehicle', 'Kerb',\n",
       "       'Parked vehicle', 'Previous accident', 'Other object',\n",
       "       'Road works', 'Central island of roundabout', 'Bridge (side)',\n",
       "       'Any animal (except ridden horse)', 'Bridge (roof)',\n",
       "       'Data missing or out of range'], dtype=object)"
      ]
     },
     "execution_count": 69,
     "metadata": {},
     "output_type": "execute_result"
    },
    {
     "data": {
      "text/plain": [
       "array(['None', 'Road sign or traffic signal', 'Other permanent object',\n",
       "       'Lamp post', 'Central crash barrier', 'Near/Offside crash barrier',\n",
       "       'Tree', 'Bus stop or bus shelter', 'Entered ditch',\n",
       "       'Telegraph or electricity pole', 'Submerged in water',\n",
       "       'Data missing or out of range', 'Wall or fence'], dtype=object)"
      ]
     },
     "execution_count": 69,
     "metadata": {},
     "output_type": "execute_result"
    },
    {
     "data": {
      "text/plain": [
       "array(['Other/Not known (2005-10)', 'Journey as part of work',\n",
       "       'Commuting to/from work', 'Pupil riding to/from school',\n",
       "       'Taking pupil to/from school', 'Data missing or out of range',\n",
       "       'Not known', 'Other'], dtype=object)"
      ]
     },
     "execution_count": 69,
     "metadata": {},
     "output_type": "execute_result"
    },
    {
     "data": {
      "text/plain": [
       "array(['Not at or within 20 metres of junction',\n",
       "       'Approaching junction or waiting/parked at junction approach',\n",
       "       'Mid Junction - on roundabout or on main road',\n",
       "       'Cleared junction or waiting/parked at junction exit',\n",
       "       'Leaving roundabout', 'Entering main road',\n",
       "       'Entering from slip road', 'Leaving main road',\n",
       "       'Entering roundabout', 'Data missing or out of range'],\n",
       "      dtype=object)"
      ]
     },
     "execution_count": 69,
     "metadata": {},
     "output_type": "execute_result"
    },
    {
     "data": {
      "text/plain": [
       "array(['NISSAN', 'AUDI', 'PIAGGIO', 'MERCEDES', 'JAGUAR', 'FORD', 'MCC',\n",
       "       'BMW', 'PEUGEOT', 'HONDA', 'VAUXHALL', 'ROVER', 'LOTUS', 'SUZUKI',\n",
       "       'SAAB', 'LONDON TAXIS INT', 'SUBARU', 'KAWASAKI', 'HYUNDAI',\n",
       "       'LAND ROVER', 'VOLKSWAGEN', 'CITROEN', 'MINI', 'DUCATI', 'DAEWOO',\n",
       "       'FIAT', 'METROCAB', 'YAMAHA', 'GILERA', 'RENAULT', 'MITSUBISHI',\n",
       "       'TOYOTA', 'BUELL', 'TRIUMPH', 'PORSCHE', 'VOLVO', 'JEEP',\n",
       "       'ASTON MARTIN', 'ALFA ROMEO', 'MG', 'TVR', 'SEAT', 'KIA',\n",
       "       'CHRYSLER', 'SMART', 'SKODA', 'TAIWAN GOLDEN BEE', 'TAISHAN',\n",
       "       'PROTON', 'MAZDA', 'HARLEY-DAVIDSON', 'KYMCO', 'LEXUS', 'KTM',\n",
       "       'ISUZU TRUCKS', 'MOTO ROMA', 'CCM', 'MALAGUTI', 'JIALING', 'SYM',\n",
       "       'ISUZU', 'DAIHATSU', 'DAF TRUCKS', 'BRANSON', 'PGO', 'LDV',\n",
       "       'BENTLEY', 'AUSTIN', 'LADA', 'AUTO-TRAIL', 'PERODUA', 'Z Y MOTOR',\n",
       "       'HILLMAN', 'DATSUN', 'LEYLAND DAF', 'APRILIA', 'CAGIVA',\n",
       "       'CHEVROLET GMC', 'ITALJET', 'BAOTIAN', 'MASERATI', 'MORRIS',\n",
       "       'DAIMLER', 'OPEL', 'IVECO', 'MOTOR HISPANIA', 'HER CHE', 'RELIANT',\n",
       "       'LEYLAND CARS', 'SANTANA', 'SSANGYONG', 'CHITUMA', 'JINLUN',\n",
       "       'ALL WHEEL DRIVE', 'MBK', 'ROYAL ENFIELD', 'EASY RIDER', 'TALBOT',\n",
       "       'FSO CARS', 'MV AGUSTA', 'TATA', 'MICROCAR', 'SACHS', 'OPTARE',\n",
       "       'GAS GAS', 'FMC', 'LANCIA', 'DAELIM', 'FREIGHT ROVER', 'MORGAN',\n",
       "       'MOTO GUZZI', 'SUKIDA', 'SHERCO', 'RIEJU', 'FERRARI', 'HIMO',\n",
       "       'ZASTAVA', 'KINLON', 'IVECO FORD', 'BEDFORD', 'AUSTIN MORRIS',\n",
       "       'BENELLI', 'BAJAJ', 'ADLY', 'ROLLS ROYCE', 'HONGYI', 'IRIS.BUS',\n",
       "       'CHEVROLET', 'GIANTCO', 'MODENAS', 'HYOSUNG', 'DAF', 'EVT',\n",
       "       'CADILLAC', 'SMC', 'DAJIANG', 'LIFAN', 'AIXAM', 'ASIA', 'WOLSELEY',\n",
       "       'CPI', 'MAXUS', 'JENSEN', 'KAZUMA', 'URAL', 'KEEN', 'SHE LUNG',\n",
       "       'LAMBRETTA', 'LAVERDA', 'YIBEN MEIDUC', 'CKR', 'VICTORY', 'VOR',\n",
       "       'AXR', 'DIRT PRO', 'GEELY', 'DODGE (USA)', 'BETTER', 'DERBI',\n",
       "       'SKYTEAM', 'THUMPSTAR', 'QINGQI', 'XINGYUE', 'KINROAD', 'AJS',\n",
       "       'HAOTIAN', 'YIYING', 'SHINERAY', 'LINHAI', 'LONGJIA',\n",
       "       'BRITISH TRACKSTAR', 'NORTON', 'RHON', 'VENTURI', 'HARTFORD',\n",
       "       'SIMCA', 'KAISAR', 'SUPERBYKE', 'TAMORETTI', 'WANGYE', 'KEEWAY',\n",
       "       'SONIK', 'SKYGO', 'MOTO MORINI', 'HUSQVARNA', 'HUATIAN', 'HONGDOU',\n",
       "       'ROVIGO', 'WUYANG', 'BASHAN', 'HUMMER', 'FYM', 'HUSABERG',\n",
       "       'MITSUBISHI FUSO', 'CARBODIES', 'LONCIN', 'LML', 'SINSKI',\n",
       "       'RENAULT TRUCKS', 'URBAN', 'HUONIAO', 'MZ', 'GENERIC', 'SANBEN',\n",
       "       'MEGELLI', 'TEC', 'POLARIS', 'DINLI', 'SIAMOTO', 'LAMBORGHINI',\n",
       "       'ZENNCO', 'ZONGSHEN', 'NEOPLAN', 'BARON', 'BUICK', 'QUADZILLA',\n",
       "       'VESPA (DOUGLAS)', 'ZNEN', 'SITCAR', 'LEYLAND', 'JINCHENG', 'POR',\n",
       "       'BOVA', 'VULCAN', 'BAROSSA', 'ABARTH', 'SFMM', 'CAN-AM', 'BEELINE',\n",
       "       'SANYA', 'XINLING', 'PULSE', 'JM STAR', 'LEXMOTO', 'LEIKE',\n",
       "       'LINCOLN', 'LIGIER', 'DAYUN', 'YUAN', 'NECHT', 'FEIYING',\n",
       "       'PIONEER', 'HUMBER', 'WARTBURG', 'RILEY', 'CSR', 'INFINITI',\n",
       "       'WK BIKES', 'WRIGHTBUS', 'CF MOTO', 'WHITE KNUCKLE', 'JOHN DEERE',\n",
       "       'ZONTES', 'BRISTOL', 'CAETANO', 'SKYJET', 'HANWAY', 'NECO',\n",
       "       'SUZUKO', 'DACIA', 'FOSTI', 'NIPPONIA', 'SFM', 'CTM', 'JIANSHE',\n",
       "       'MGXPOWER', 'JCM', 'SINNIS', 'CHUNLAN', 'VAN HOOL',\n",
       "       'HERALD MOTOR COMPANY', 'JCB', 'KSR MOTO', 'VDL', 'HONLEY',\n",
       "       'MOTOBI', 'BETA', 'JAWA', 'BOND', 'REWACO', 'IRIZAR', 'JONWAY',\n",
       "       'NIPPI', 'TM', 'MAHINDRA', 'BIMOTA', 'INDIAN', 'OTHER BRITISH',\n",
       "       'LONDON TAXIS INT.', 'ALEXANDER DENNIS', 'MAN', 'SCANIA', 'DODGE',\n",
       "       'DENNIS', 'IVECO-FORD', 'TGB', 'OTHER ITALIAN',\n",
       "       'JOHNSTON SWEEPERS', 'TOMOS', 'DS', 'TRANSBUS INT', 'MAYBACH',\n",
       "       'SANLI', 'OTHER FRENCH', 'MOTORHISPANIA', 'XGJAO', 'HINO',\n",
       "       'ZHONGYU', 'FODEN', 'NEW HOLLAND', 'AUSTIN HEALEY', 'AVIA',\n",
       "       'SCOMADI', 'KASEA', 'BSA', 'BARONI', 'MANITOU', 'SAME', 'SCORPA',\n",
       "       'RIS BUS', 'ERF', 'NORTON VILLIERS', 'YUTONG', 'CLAAS',\n",
       "       'CASE INTERNATIONAL', 'OTHER AGRIC/CONSTRUCTIONAL', 'LIEBHERR',\n",
       "       'ETON', 'MOTORINI', 'BMC', 'DENNIS FIRE', 'SCAMMELL', 'MATCHLESS',\n",
       "       'SECMA', 'ACCESS', 'ISEKI', 'KUBOTA', 'MCCORMICK', 'MERLO',\n",
       "       'JINLIN', 'TAFE', 'SETRA', 'YIBEN MEIDUO', 'CHAMP',\n",
       "       'OTHER COUNTRIES', 'ZETOR', 'BTM', 'SEDDON/ATKINSON', 'LANDINI',\n",
       "       'DEUTZ FAHR', 'ENFIELD', 'DFSK', 'GARELLI', 'BRISTOL (BLMC)',\n",
       "       'ACURA', 'ZHONGNENG', 'OTHER US/AUST/CAN', 'MASSEY FERGUSON',\n",
       "       'JIM STAR', 'HUONIAU', 'CZ', 'CIMOTORHOME', 'VELOCETTE', 'HYMER',\n",
       "       'BOMBARDIER', 'PANTHER', 'KATO', 'R-VISION', 'CATERHAM', 'BULTACO',\n",
       "       'SUNBEAM', 'OTHER JAPANESE/ASIAN', 'ERIK BUELL RACING', 'FARBOUD'],\n",
       "      dtype=object)"
      ]
     },
     "execution_count": 69,
     "metadata": {},
     "output_type": "execute_result"
    },
    {
     "data": {
      "text/plain": [
       "array(['ALMERA SE AUTO', 'A4 SPORT CABRIOLET AUTO', 'VESPA ET4', ...,\n",
       "       'FA XF95.430', 'DAILY 35 C14 MWB', 'STRALIS AD260S33Y/PS S-A'],\n",
       "      dtype=object)"
      ]
     },
     "execution_count": 69,
     "metadata": {},
     "output_type": "execute_result"
    },
    {
     "data": {
      "text/plain": [
       "array(['Petrol', 'Heavy oil', 'Hybrid electric', 'Gas/Bi-fuel',\n",
       "       'Petrol/Gas (LPG)', 'Gas', 'New fuel technology', 'Gas Diesel',\n",
       "       'Electric diesel'], dtype=object)"
      ]
     },
     "execution_count": 69,
     "metadata": {},
     "output_type": "execute_result"
    },
    {
     "data": {
      "text/plain": [
       "array(['Female', 'Male', 'Not known', 'Data missing or out of range'],\n",
       "      dtype=object)"
      ]
     },
     "execution_count": 69,
     "metadata": {},
     "output_type": "execute_result"
    },
    {
     "data": {
      "text/plain": [
       "array(['None', 'Skidded', 'Overturned', 'Skidded and overturned',\n",
       "       'Data missing or out of range', 'Jackknifed',\n",
       "       'Jackknifed and overturned'], dtype=object)"
      ]
     },
     "execution_count": 69,
     "metadata": {},
     "output_type": "execute_result"
    },
    {
     "data": {
      "text/plain": [
       "array(['No tow/articulation', 'Other tow', 'Single trailer',\n",
       "       'Articulated vehicle', 'Caravan', 'Double or multiple trailer',\n",
       "       'Data missing or out of range'], dtype=object)"
      ]
     },
     "execution_count": 69,
     "metadata": {},
     "output_type": "execute_result"
    },
    {
     "data": {
      "text/plain": [
       "array(['Did not leave carriageway', 'Nearside', 'Offside',\n",
       "       'Straight ahead at junction', 'Offside on to central reservation',\n",
       "       'Offside - crossed central reservation',\n",
       "       'Offside on to centrl res + rebounded', 'Nearside and rebounded',\n",
       "       'Offside and rebounded', 'Data missing or out of range'],\n",
       "      dtype=object)"
      ]
     },
     "execution_count": 69,
     "metadata": {},
     "output_type": "execute_result"
    },
    {
     "data": {
      "text/plain": [
       "array(['Going ahead other', 'Moving off', 'Parked', 'Turning left',\n",
       "       'Turning right', 'Overtaking moving vehicle - offside', 'U-turn',\n",
       "       'Waiting to go - held up', 'Overtaking static vehicle - offside',\n",
       "       'Waiting to turn right', 'Going ahead left-hand bend',\n",
       "       'Changing lane to right', 'Slowing or stopping',\n",
       "       'Changing lane to left', 'Reversing', 'Overtaking - nearside',\n",
       "       'Going ahead right-hand bend', 'Waiting to turn left',\n",
       "       'Data missing or out of range'], dtype=object)"
      ]
     },
     "execution_count": 69,
     "metadata": {},
     "output_type": "execute_result"
    },
    {
     "data": {
      "text/plain": [
       "array(['Car', 'Motorcycle 125cc and under', 'Motorcycle over 500cc',\n",
       "       'Motorcycle over 125cc and up to 500cc', 'Taxi/Private hire car',\n",
       "       'Motorcycle 50cc and under', 'Van / Goods 3.5 tonnes mgw or under',\n",
       "       'Minibus (8 - 16 passenger seats)',\n",
       "       'Goods 7.5 tonnes mgw and over', 'Goods over 3.5t. and under 7.5t',\n",
       "       'Other vehicle', 'Bus or coach (17 or more pass seats)',\n",
       "       'Agricultural vehicle', 'Motorcycle - unknown cc',\n",
       "       'Goods vehicle - unknown weight', 'Electric motorcycle'],\n",
       "      dtype=object)"
      ]
     },
     "execution_count": 69,
     "metadata": {},
     "output_type": "execute_result"
    },
    {
     "data": {
      "text/plain": [
       "array(['No', 'Yes', 'Data missing or out of range'], dtype=object)"
      ]
     },
     "execution_count": 69,
     "metadata": {},
     "output_type": "execute_result"
    },
    {
     "data": {
      "text/plain": [
       "array(['Front', 'Did not impact', 'Back', 'Offside', 'Nearside',\n",
       "       'Data missing or out of range'], dtype=object)"
      ]
     },
     "execution_count": 69,
     "metadata": {},
     "output_type": "execute_result"
    }
   ],
   "source": [
    "dataset[\"1st_Road_Class\"].unique()  #unknowns: 'Unclassified'\n",
    "dataset[\"Accident_Severity\"].unique() #need to reclassify into binary variable for model simplification\n",
    "dataset[\"Carriageway_Hazards\"].unique() #unknowns: 'Data missing or out of range'\n",
    "#dataset[\"Date\"].unique()\n",
    "dataset[\"Day_of_Week\"].unique()\n",
    "dataset[\"Junction_Control\"].unique() #unknowns: 'Data missing or out of range'\n",
    "dataset[\"Junction_Detail\"].unique() #unknowns: 'Data missing or out of range'\n",
    "dataset[\"Light_Conditions\"].unique() #unknowns: 'Data missing or out of range'\n",
    "dataset[\"Local_Authority_(District)\"].unique() #too many categories! might be unnecessary\n",
    "dataset[\"Local_Authority_(Highway)\"].unique() #too many categories! might be unnecessary\n",
    "dataset[\"Police_Force\"].unique()\n",
    "dataset[\"Road_Surface_Conditions\"].unique() #unknowns: 'Data missing or out of range'\n",
    "dataset[\"Road_Type\"].unique() #unknowns: 'Unknown'\n",
    "dataset[\"Special_Conditions_at_Site\"].unique() #unknowns: 'Data missing or out of range'\n",
    "#dataset[\"Time\"].unique()\n",
    "dataset[\"Urban_or_Rural_Area\"].unique() #unknowns: 'Unallocated' ... is that really unknown?\n",
    "dataset[\"Weather_Conditions\"].unique() #unknowns: 'Other', 'Unknown','Data missing or out of range'\n",
    "dataset[\"InScotland\"].unique() #might be an unnecessary location column\n",
    "dataset[\"Age_Band_of_Driver\"].unique() #unknowns/non-sensical data: 'Data missing or out of range','11 - 15','6 - 10', '0 - 5'\n",
    "dataset[\"Driver_Home_Area_Type\"].unique() #unknowns: 'Data missing or out of range'\n",
    "dataset[\"Hit_Object_in_Carriageway\"].unique() #unknowns: 'Data missing or out of range'\n",
    "dataset[\"Hit_Object_off_Carriageway\"].unique() #unknowns: 'Data missing or out of range'\n",
    "dataset[\"Journey_Purpose_of_Driver\"].unique() #unknowns: 'Other/Not known (2005-10)','Data missing or out of range','Not known','Other'\n",
    "dataset[\"Junction_Location\"].unique() #unknowns: 'Data missing or out of range'\n",
    "dataset[\"make\"].unique() #too many categories!\n",
    "dataset[\"model\"].unique() #too many categories!\n",
    "dataset[\"Propulsion_Code\"].unique()\n",
    "dataset[\"Sex_of_Driver\"].unique() #unknowns: 'Not known', 'Data missing or out of range'\n",
    "dataset[\"Skidding_and_Overturning\"].unique() #unknowns: 'Data missing or out of range'\n",
    "dataset[\"Towing_and_Articulation\"].unique() #unknowns: 'Data missing or out of range'\n",
    "dataset[\"Vehicle_Leaving_Carriageway\"].unique() #unknowns: 'Data missing or out of range'\n",
    "dataset[\"Vehicle_Manoeuvre\"].unique() #unknowns: 'Data missing or out of range'\n",
    "dataset[\"Vehicle_Type\"].unique()\n",
    "dataset[\"Was_Vehicle_Left_Hand_Drive\"].unique() #unknowns: 'Data missing or out of range'\n",
    "dataset[\"X1st_Point_of_Impact\"].unique() #unknowns: 'Data missing or out of range'"
   ]
  },
  {
   "cell_type": "markdown",
   "metadata": {},
   "source": [
    "We can see above that although we removed NULL values, most of the categorical columns still contain values that are not quite useful when making a prediction."
   ]
  },
  {
   "cell_type": "code",
   "execution_count": 16,
   "metadata": {},
   "outputs": [
    {
     "name": "stdout",
     "output_type": "stream",
     "text": [
      "1st_Road_Class : 412850\n",
      "Carriageway_Hazards : 98\n",
      "Junction_Control : 558205\n",
      "Junction_Detail : 30\n",
      "Light_Conditions : 9\n",
      "Road_Surface_Conditions : 2022\n",
      "Road_Type : 7320\n",
      "Special_Conditions_at_Site : 110\n",
      "Urban_or_Rural_Area : 15\n",
      "Weather_Conditions : 58394\n",
      "Age_Band_of_Driver : 107721\n",
      "Driver_Home_Area_Type : 196154\n",
      "Hit_Object_in_Carriageway : 95\n",
      "Hit_Object_off_Carriageway : 19\n",
      "Journey_Purpose_of_Driver : 1157832\n",
      "Junction_Location : 1955\n",
      "Sex_of_Driver : 41936\n",
      "Skidding_and_Overturning : 109\n",
      "Towing_and_Articulation : 167\n",
      "Vehicle_Leaving_Carriageway : 66\n",
      "Vehicle_Manoeuvre : 234\n",
      "Was_Vehicle_Left_Hand_Drive : 5784\n",
      "X1st_Point_of_Impact : 279\n"
     ]
    }
   ],
   "source": [
    "print(\"1st_Road_Class\",\":\",(dataset[\"1st_Road_Class\"]=='Unclassified').sum())\n",
    "print(\"Carriageway_Hazards\",\":\",(dataset[\"Carriageway_Hazards\"]=='Data missing or out of range').sum())\n",
    "print(\"Junction_Control\",\":\",(dataset[\"Junction_Control\"]=='Data missing or out of range').sum())\n",
    "print(\"Junction_Detail\",\":\",(dataset[\"Junction_Detail\"]=='Data missing or out of range').sum())\n",
    "print(\"Light_Conditions\",\":\",(dataset[\"Light_Conditions\"]=='Data missing or out of range').sum())\n",
    "print(\"Road_Surface_Conditions\",\":\",(dataset[\"Road_Surface_Conditions\"]=='Data missing or out of range').sum())\n",
    "print(\"Road_Type\",\":\",(dataset[\"Road_Type\"]=='Unknown').sum())\n",
    "print(\"Special_Conditions_at_Site\",\":\",(dataset[\"Special_Conditions_at_Site\"]=='Data missing or out of range').sum())\n",
    "print(\"Urban_or_Rural_Area\",\":\",(dataset[\"Urban_or_Rural_Area\"]=='Unallocated').sum())\n",
    "print(\"Weather_Conditions\",\":\",(dataset[\"Weather_Conditions\"].isin(['Other','Unknown','Data missing or out of range'])).sum())\n",
    "print(\"Age_Band_of_Driver\",\":\",(dataset[\"Age_Band_of_Driver\"].isin(['Data missing or out of range','11 - 15','6 - 10','0 - 5'])).sum())\n",
    "print(\"Driver_Home_Area_Type\",\":\",(dataset[\"Driver_Home_Area_Type\"]=='Data missing or out of range').sum())\n",
    "print(\"Hit_Object_in_Carriageway\",\":\",(dataset[\"Hit_Object_in_Carriageway\"]=='Data missing or out of range').sum())\n",
    "print(\"Hit_Object_off_Carriageway\",\":\",(dataset[\"Hit_Object_off_Carriageway\"]=='Data missing or out of range').sum())\n",
    "print(\"Journey_Purpose_of_Driver\",\":\",(dataset[\"Journey_Purpose_of_Driver\"].isin(['Other/Not known (2005-10)','Data missing or out of range','Not known','Other'])).sum())\n",
    "print(\"Junction_Location\",\":\",(dataset[\"Junction_Location\"]=='Data missing or out of range').sum())\n",
    "print(\"Sex_of_Driver\",\":\",(dataset[\"Sex_of_Driver\"].isin(['Not known','Data missing or out of range'])).sum())\n",
    "print(\"Skidding_and_Overturning\",\":\",(dataset[\"Skidding_and_Overturning\"]=='Data missing or out of range').sum())\n",
    "print(\"Towing_and_Articulation\",\":\",(dataset[\"Towing_and_Articulation\"]=='Data missing or out of range').sum())\n",
    "print(\"Vehicle_Leaving_Carriageway\",\":\",(dataset[\"Vehicle_Leaving_Carriageway\"]=='Data missing or out of range').sum())\n",
    "print(\"Vehicle_Manoeuvre\",\":\",(dataset[\"Vehicle_Manoeuvre\"]=='Data missing or out of range').sum())\n",
    "print(\"Was_Vehicle_Left_Hand_Drive\",\":\",(dataset[\"Was_Vehicle_Left_Hand_Drive\"]=='Data missing or out of range').sum())\n",
    "print(\"X1st_Point_of_Impact\",\":\",(dataset[\"X1st_Point_of_Impact\"]=='Data missing or out of range').sum())\n"
   ]
  },
  {
   "cell_type": "markdown",
   "metadata": {},
   "source": [
    "As with nulls, we will delete columns that contain mostly meaningless data. Otherwise, we will remove records with remaining meaningless values."
   ]
  },
  {
   "cell_type": "code",
   "execution_count": 12,
   "metadata": {},
   "outputs": [],
   "source": [
    "#drop variables that are unnecessary\n",
    "dataset.drop(\"1st_Road_Class\", axis=1, inplace=True)\n",
    "dataset.drop(\"Junction_Control\", axis=1, inplace=True)\n",
    "dataset.drop(\"Journey_Purpose_of_Driver\", axis=1, inplace=True)"
   ]
  },
  {
   "cell_type": "code",
   "execution_count": 13,
   "metadata": {},
   "outputs": [
    {
     "data": {
      "text/plain": [
       "(1555129, 46)"
      ]
     },
     "execution_count": 13,
     "metadata": {},
     "output_type": "execute_result"
    }
   ],
   "source": [
    "dataset.shape"
   ]
  },
  {
   "cell_type": "code",
   "execution_count": 14,
   "metadata": {},
   "outputs": [],
   "source": [
    "#otherwise drop records with meaningless data\n",
    "dataset=dataset[dataset[\"Carriageway_Hazards\"]!='Data missing or out of range']\n",
    "dataset=dataset[dataset[\"Junction_Detail\"]!='Data missing or out of range']\n",
    "dataset=dataset[dataset[\"Light_Conditions\"]!='Data missing or out of range']\n",
    "dataset=dataset[dataset[\"Road_Surface_Conditions\"]!='Data missing or out of range']\n",
    "dataset=dataset[dataset[\"Road_Type\"]!='Unknown']\n",
    "dataset=dataset[dataset[\"Special_Conditions_at_Site\"]!='Data missing or out of range']\n",
    "dataset=dataset[dataset[\"Urban_or_Rural_Area\"]!='Unallocated']\n",
    "dataset=dataset[~dataset[\"Weather_Conditions\"].isin(['Other','Unknown','Data missing or out of range'])]\n",
    "dataset=dataset[~dataset[\"Age_Band_of_Driver\"].isin(['Data missing or out of range','11 - 15','6 - 10','0 - 5'])]\n",
    "dataset=dataset[dataset[\"Driver_Home_Area_Type\"]!='Data missing or out of range']\n",
    "dataset=dataset[dataset[\"Hit_Object_in_Carriageway\"]!='Data missing or out of range']\n",
    "dataset=dataset[dataset[\"Hit_Object_off_Carriageway\"]!='Data missing or out of range']\n",
    "dataset=dataset[dataset[\"Junction_Location\"]!='Data missing or out of range']\n",
    "dataset=dataset[~dataset[\"Sex_of_Driver\"].isin(['Not known','Data missing or out of range'])]\n",
    "dataset=dataset[dataset[\"Skidding_and_Overturning\"]!='Data missing or out of range']\n",
    "dataset=dataset[dataset[\"Towing_and_Articulation\"]!='Data missing or out of range']\n",
    "dataset=dataset[dataset[\"Vehicle_Leaving_Carriageway\"]!='Data missing or out of range']\n",
    "dataset=dataset[dataset[\"Vehicle_Manoeuvre\"]!='Data missing or out of range']\n",
    "dataset=dataset[dataset[\"Was_Vehicle_Left_Hand_Drive\"]!='Data missing or out of range']\n",
    "dataset=dataset[dataset[\"X1st_Point_of_Impact\"]!='Data missing or out of range']"
   ]
  },
  {
   "cell_type": "code",
   "execution_count": 15,
   "metadata": {},
   "outputs": [
    {
     "data": {
      "text/plain": [
       "(1263105, 46)"
      ]
     },
     "execution_count": 15,
     "metadata": {},
     "output_type": "execute_result"
    }
   ],
   "source": [
    "dataset.shape"
   ]
  },
  {
   "cell_type": "code",
   "execution_count": 75,
   "metadata": {},
   "outputs": [
    {
     "name": "stdout",
     "output_type": "stream",
     "text": [
      "<class 'pandas.core.frame.DataFrame'>\n",
      "Int64Index: 1263105 entries, 2 to 2058407\n",
      "Data columns (total 46 columns):\n",
      "Accident_Severity                              1263105 non-null object\n",
      "Carriageway_Hazards                            1263105 non-null object\n",
      "Date                                           1263105 non-null object\n",
      "Day_of_Week                                    1263105 non-null object\n",
      "Did_Police_Officer_Attend_Scene_of_Accident    1263105 non-null float64\n",
      "Junction_Detail                                1263105 non-null object\n",
      "Latitude                                       1263105 non-null float64\n",
      "Light_Conditions                               1263105 non-null object\n",
      "Local_Authority_(District)                     1263105 non-null object\n",
      "Local_Authority_(Highway)                      1263105 non-null object\n",
      "Longitude                                      1263105 non-null float64\n",
      "Number_of_Casualties                           1263105 non-null int64\n",
      "Number_of_Vehicles                             1263105 non-null int64\n",
      "Pedestrian_Crossing-Human_Control              1263105 non-null float64\n",
      "Pedestrian_Crossing-Physical_Facilities        1263105 non-null float64\n",
      "Police_Force                                   1263105 non-null object\n",
      "Road_Surface_Conditions                        1263105 non-null object\n",
      "Road_Type                                      1263105 non-null object\n",
      "Special_Conditions_at_Site                     1263105 non-null object\n",
      "Speed_limit                                    1263105 non-null float64\n",
      "Time                                           1263105 non-null object\n",
      "Urban_or_Rural_Area                            1263105 non-null object\n",
      "Weather_Conditions                             1263105 non-null object\n",
      "Year_x                                         1263105 non-null int64\n",
      "InScotland                                     1263105 non-null object\n",
      "Age_Band_of_Driver                             1263105 non-null object\n",
      "Age_of_Vehicle                                 1263105 non-null float64\n",
      "Driver_Home_Area_Type                          1263105 non-null object\n",
      "Engine_Capacity_.CC.                           1263105 non-null float64\n",
      "Hit_Object_in_Carriageway                      1263105 non-null object\n",
      "Hit_Object_off_Carriageway                     1263105 non-null object\n",
      "Junction_Location                              1263105 non-null object\n",
      "make                                           1263105 non-null object\n",
      "model                                          1263105 non-null object\n",
      "Propulsion_Code                                1263105 non-null object\n",
      "Sex_of_Driver                                  1263105 non-null object\n",
      "Skidding_and_Overturning                       1263105 non-null object\n",
      "Towing_and_Articulation                        1263105 non-null object\n",
      "Vehicle_Leaving_Carriageway                    1263105 non-null object\n",
      "Vehicle_Location.Restricted_Lane               1263105 non-null float64\n",
      "Vehicle_Manoeuvre                              1263105 non-null object\n",
      "Vehicle_Reference                              1263105 non-null int64\n",
      "Vehicle_Type                                   1263105 non-null object\n",
      "Was_Vehicle_Left_Hand_Drive                    1263105 non-null object\n",
      "X1st_Point_of_Impact                           1263105 non-null object\n",
      "Year_y                                         1263105 non-null int64\n",
      "dtypes: float64(9), int64(5), object(32)\n",
      "memory usage: 452.9+ MB\n"
     ]
    }
   ],
   "source": [
    "#dataset.info()"
   ]
  },
  {
   "cell_type": "code",
   "execution_count": 16,
   "metadata": {},
   "outputs": [],
   "source": [
    "#create a new target variable - Reduced target class from a multi-class classification to a binary classification \n",
    "# problem to handle the imbalanced dataset and simplify analysis\n",
    " \n",
    "\n",
    "dataset.loc[dataset.Accident_Severity !='Slight', 'Target_Severe_Indicator'] = 1\n",
    "dataset.loc[dataset.Accident_Severity =='Slight', 'Target_Severe_Indicator'] = 0"
   ]
  },
  {
   "cell_type": "code",
   "execution_count": 18,
   "metadata": {},
   "outputs": [
    {
     "data": {
      "text/plain": [
       "0.0    1084634\n",
       "1.0     178471\n",
       "Name: Target_Severe_Indicator, dtype: int64"
      ]
     },
     "execution_count": 18,
     "metadata": {},
     "output_type": "execute_result"
    },
    {
     "data": {
      "text/plain": [
       "Slight     1084634\n",
       "Serious     162443\n",
       "Fatal        16028\n",
       "Name: Accident_Severity, dtype: int64"
      ]
     },
     "execution_count": 18,
     "metadata": {},
     "output_type": "execute_result"
    }
   ],
   "source": [
    "dataset[\"Target_Severe_Indicator\"].value_counts()\n",
    "dataset[\"Accident_Severity\"].value_counts()"
   ]
  },
  {
   "cell_type": "markdown",
   "metadata": {},
   "source": [
    "We see a slight improvement in the unique class counts"
   ]
  },
  {
   "cell_type": "markdown",
   "metadata": {},
   "source": [
    "### Further cleansing and data transformations"
   ]
  },
  {
   "cell_type": "code",
   "execution_count": 17,
   "metadata": {},
   "outputs": [
    {
     "data": {
      "text/html": [
       "<div>\n",
       "<style scoped>\n",
       "    .dataframe tbody tr th:only-of-type {\n",
       "        vertical-align: middle;\n",
       "    }\n",
       "\n",
       "    .dataframe tbody tr th {\n",
       "        vertical-align: top;\n",
       "    }\n",
       "\n",
       "    .dataframe thead th {\n",
       "        text-align: right;\n",
       "    }\n",
       "</style>\n",
       "<table border=\"1\" class=\"dataframe\">\n",
       "  <thead>\n",
       "    <tr style=\"text-align: right;\">\n",
       "      <th></th>\n",
       "      <th>Time</th>\n",
       "      <th>Hour</th>\n",
       "      <th>Daytime</th>\n",
       "    </tr>\n",
       "  </thead>\n",
       "  <tbody>\n",
       "    <tr>\n",
       "      <th>2</th>\n",
       "      <td>10:35</td>\n",
       "      <td>10</td>\n",
       "      <td>office hours (10-15)</td>\n",
       "    </tr>\n",
       "    <tr>\n",
       "      <th>4</th>\n",
       "      <td>12:40</td>\n",
       "      <td>12</td>\n",
       "      <td>office hours (10-15)</td>\n",
       "    </tr>\n",
       "    <tr>\n",
       "      <th>5</th>\n",
       "      <td>12:40</td>\n",
       "      <td>12</td>\n",
       "      <td>office hours (10-15)</td>\n",
       "    </tr>\n",
       "    <tr>\n",
       "      <th>7</th>\n",
       "      <td>20:40</td>\n",
       "      <td>20</td>\n",
       "      <td>evening (19-23)</td>\n",
       "    </tr>\n",
       "    <tr>\n",
       "      <th>8</th>\n",
       "      <td>17:35</td>\n",
       "      <td>17</td>\n",
       "      <td>afternoon rush (15-19)</td>\n",
       "    </tr>\n",
       "    <tr>\n",
       "      <th>9</th>\n",
       "      <td>00:42</td>\n",
       "      <td>0</td>\n",
       "      <td>night (23-5)</td>\n",
       "    </tr>\n",
       "    <tr>\n",
       "      <th>11</th>\n",
       "      <td>05:01</td>\n",
       "      <td>5</td>\n",
       "      <td>morning rush (5-10)</td>\n",
       "    </tr>\n",
       "    <tr>\n",
       "      <th>12</th>\n",
       "      <td>05:01</td>\n",
       "      <td>5</td>\n",
       "      <td>morning rush (5-10)</td>\n",
       "    </tr>\n",
       "  </tbody>\n",
       "</table>\n",
       "</div>"
      ],
      "text/plain": [
       "     Time  Hour                 Daytime\n",
       "2   10:35    10    office hours (10-15)\n",
       "4   12:40    12    office hours (10-15)\n",
       "5   12:40    12    office hours (10-15)\n",
       "7   20:40    20         evening (19-23)\n",
       "8   17:35    17  afternoon rush (15-19)\n",
       "9   00:42     0            night (23-5)\n",
       "11  05:01     5     morning rush (5-10)\n",
       "12  05:01     5     morning rush (5-10)"
      ]
     },
     "execution_count": 17,
     "metadata": {},
     "output_type": "execute_result"
    }
   ],
   "source": [
    "# Create new column for time of day category\n",
    "\n",
    "# Define a function that turns the hours into daytime groups\n",
    "\n",
    "def when_was_it(hour):\n",
    "    if hour >= 5 and hour < 10:\n",
    "        return \"morning rush (5-10)\"\n",
    "    elif hour >= 10 and hour < 15:\n",
    "        return \"office hours (10-15)\"\n",
    "    elif hour >= 15 and hour < 19:\n",
    "        return \"afternoon rush (15-19)\"\n",
    "    elif hour >= 19 and hour < 23:\n",
    "        return \"evening (19-23)\"\n",
    "    else:\n",
    "        return \"night (23-5)\"\n",
    "    \n",
    "# slice first and second string from time column\n",
    "dataset['Hour'] = dataset['Time'].str[0:2]\n",
    "\n",
    "# convert new column to numeric datetype\n",
    "dataset['Hour'] = pd.to_numeric(dataset['Hour'])\n",
    "\n",
    "# drop null values in our new column\n",
    "dataset = dataset.dropna(subset=['Hour'])\n",
    "\n",
    "# cast to integer values\n",
    "dataset['Hour'] = dataset['Hour'].astype('int')\n",
    "\n",
    "# apply thus function to our temporary hour column\n",
    "dataset['Daytime'] = dataset['Hour'].apply(when_was_it)\n",
    "dataset[['Time', 'Hour', 'Daytime']].head(8)"
   ]
  },
  {
   "cell_type": "markdown",
   "metadata": {},
   "source": [
    "Can now use the dataset as is for descriptive analysis.. but will need to drop some variables before building a model"
   ]
  },
  {
   "cell_type": "code",
   "execution_count": 20,
   "metadata": {},
   "outputs": [],
   "source": [
    "#drop Did_Police_Officer_Attend_Scene_of_Accident and Police_Force, as they are irrelevant. The dataset to begin\n",
    "# with represents only those accidents reported by the police\n",
    "dataset.drop(\"Did_Police_Officer_Attend_Scene_of_Accident\", axis=1, inplace=True)\n",
    "dataset.drop(\"Police_Force\", axis=1, inplace=True)\n",
    "\n",
    "#drop Time as Daytime is sufficient \n",
    "dataset.drop(\"Time\", axis=1, inplace=True)\n",
    "\n",
    "\n",
    "#drop Year_y as there is already a column called year_x containing the same info\n",
    "dataset.drop(\"Year_y\", axis=1, inplace=True)"
   ]
  },
  {
   "cell_type": "code",
   "execution_count": 22,
   "metadata": {},
   "outputs": [],
   "source": [
    "#since 'model' is a more detailed version of 'make', drop 'model' and keep 'make'\n",
    "dataset.drop(\"model\", axis=1, inplace=True)\n",
    "\n",
    "#we can drop inscotland, as the data contained in this column is higly skewed and will not proivde much info\n",
    "dataset.drop(\"InScotland\", axis=1, inplace=True)\n",
    "\n",
    "#we can drop 'Vehicle_reference', due to high correlation with 'Number_of_Vehicles'\n",
    "dataset.drop(\"Vehicle_Reference\", axis=1, inplace=True)\n",
    "\n",
    "#we can drop 'Local_Authority_(District)' since it is a more detailed version of 'Local_Authority_(Highway)'\n",
    "dataset.drop(\"Local_Authority_(District)\", axis=1, inplace=True)"
   ]
  },
  {
   "cell_type": "code",
   "execution_count": 20,
   "metadata": {},
   "outputs": [
    {
     "data": {
      "text/plain": [
       "(1263105, 40)"
      ]
     },
     "execution_count": 20,
     "metadata": {},
     "output_type": "execute_result"
    }
   ],
   "source": [
    "dataset.shape"
   ]
  },
  {
   "cell_type": "code",
   "execution_count": 23,
   "metadata": {},
   "outputs": [],
   "source": [
    "#check correlation between 'Was_Vehicle_Left_Hand_Drive' and  'Target_Severe_Indicator'\n",
    "\n",
    "dataset.loc[dataset['Was_Vehicle_Left_Hand_Drive'] == 'Yes', 'Was_Vehicle_Left_Hand_Drive_test'] = 1\n",
    "dataset.loc[dataset['Was_Vehicle_Left_Hand_Drive'] == 'No', 'Was_Vehicle_Left_Hand_Drive_test'] = 0\n",
    "\n",
    "x=dataset['Target_Severe_Indicator'].values\n",
    "y=dataset['Was_Vehicle_Left_Hand_Drive_test'].values\n",
    "\n",
    "np.corrcoef(x,y)\n",
    "\n",
    "# Due to the low correlation with the target variable and high imbalance in values, we drop 'Was_Vehicle_Left_Hand_Drive'\n",
    "dataset.drop(\"Was_Vehicle_Left_Hand_Drive\", axis=1, inplace=True)"
   ]
  },
  {
   "cell_type": "code",
   "execution_count": 22,
   "metadata": {},
   "outputs": [
    {
     "data": {
      "text/plain": [
       "(1263105, 39)"
      ]
     },
     "execution_count": 22,
     "metadata": {},
     "output_type": "execute_result"
    }
   ],
   "source": [
    "dataset.shape"
   ]
  },
  {
   "cell_type": "code",
   "execution_count": 24,
   "metadata": {},
   "outputs": [],
   "source": [
    "# change numeric values in pedestrian crossing variables to categoric\n",
    "# Converting numerical values present in these columns to a more meaninful form using data obtained from the data_dictionary\n",
    "\n",
    "dataset.loc[dataset['Pedestrian_Crossing-Human_Control'] ==0, 'Ped_Cross_Human'] = 'None within 50 metres'\n",
    "dataset.loc[dataset['Pedestrian_Crossing-Human_Control'] ==1, 'Ped_Cross_Human'] = 'Control by school crossing patrol'\n",
    "dataset.loc[dataset['Pedestrian_Crossing-Human_Control'] ==2, 'Ped_Cross_Human'] = 'Control by other authorised person'\n",
    "\n",
    "\n",
    "dataset.loc[dataset['Pedestrian_Crossing-Physical_Facilities'] ==0, 'Ped_Cross_Physical'] = 'No physical crossing facilities within 50 metres'\n",
    "dataset.loc[dataset['Pedestrian_Crossing-Physical_Facilities'] ==1, 'Ped_Cross_Physical'] = 'Zebra'\n",
    "dataset.loc[dataset['Pedestrian_Crossing-Physical_Facilities'] ==4, 'Ped_Cross_Physical'] = 'Pelican, puffin, toucan or similar non-junction pedestrian light crossing'\n",
    "dataset.loc[dataset['Pedestrian_Crossing-Physical_Facilities'] ==5, 'Ped_Cross_Physical'] = 'Pedestrian phase at traffic signal junction'\n",
    "dataset.loc[dataset['Pedestrian_Crossing-Physical_Facilities'] ==7, 'Ped_Cross_Physical'] = 'Footbridge or subway'\n",
    "dataset.loc[dataset['Pedestrian_Crossing-Physical_Facilities'] ==8, 'Ped_Cross_Physical'] = 'Central refuge'\n",
    "\n",
    "#and then we can drop the original pedestrian crossing variables\n",
    "dataset.drop(\"Pedestrian_Crossing-Human_Control\", axis=1, inplace=True)\n",
    "dataset.drop(\"Pedestrian_Crossing-Physical_Facilities\", axis=1, inplace=True)"
   ]
  },
  {
   "cell_type": "code",
   "execution_count": 24,
   "metadata": {},
   "outputs": [
    {
     "data": {
      "text/plain": [
       "(1263105, 39)"
      ]
     },
     "execution_count": 24,
     "metadata": {},
     "output_type": "execute_result"
    }
   ],
   "source": [
    "dataset.shape"
   ]
  },
  {
   "cell_type": "code",
   "execution_count": 32,
   "metadata": {},
   "outputs": [],
   "source": [
    "#Change categorical variables with order to numeric\n",
    "#dataset['Age_Band_of_Driver'].unique()\n",
    "\n",
    "dataset.loc[dataset['Age_Band_of_Driver'] =='16 - 20', 'Age_Band_of_Driver_order'] = 1\n",
    "dataset.loc[dataset['Age_Band_of_Driver'] =='21 - 25', 'Age_Band_of_Driver_order'] = 2\n",
    "dataset.loc[dataset['Age_Band_of_Driver'] =='26 - 35', 'Age_Band_of_Driver_order'] = 3\n",
    "dataset.loc[dataset['Age_Band_of_Driver'] =='36 - 45', 'Age_Band_of_Driver_order'] = 4\n",
    "dataset.loc[dataset['Age_Band_of_Driver'] =='46 - 55', 'Age_Band_of_Driver_order'] = 5\n",
    "dataset.loc[dataset['Age_Band_of_Driver'] =='56 - 65', 'Age_Band_of_Driver_order'] = 6\n",
    "dataset.loc[dataset['Age_Band_of_Driver'] =='66 - 75', 'Age_Band_of_Driver_order'] = 7\n",
    "dataset.loc[dataset['Age_Band_of_Driver'] =='Over 75', 'Age_Band_of_Driver_order'] = 8\n",
    "\n",
    "dataset.drop(\"Age_Band_of_Driver\", axis=1, inplace=True)"
   ]
  },
  {
   "cell_type": "code",
   "execution_count": 25,
   "metadata": {},
   "outputs": [
    {
     "data": {
      "text/plain": [
       "(1263105, 39)"
      ]
     },
     "execution_count": 25,
     "metadata": {},
     "output_type": "execute_result"
    }
   ],
   "source": [
    "dataset.shape"
   ]
  },
  {
   "cell_type": "code",
   "execution_count": null,
   "metadata": {},
   "outputs": [],
   "source": [
    "eda_data_1=dataset.copy()"
   ]
  },
  {
   "cell_type": "markdown",
   "metadata": {},
   "source": [
    "**Next we carry out some descriptive analysis, to gain insights about our data**"
   ]
  },
  {
   "cell_type": "markdown",
   "metadata": {},
   "source": [
    "## EDA"
   ]
  },
  {
   "cell_type": "markdown",
   "metadata": {},
   "source": [
    "### Time Series Analysis"
   ]
  },
  {
   "cell_type": "markdown",
   "metadata": {},
   "source": [
    "#### Total Number of Accidents per Year"
   ]
  },
  {
   "cell_type": "code",
   "execution_count": 21,
   "metadata": {},
   "outputs": [],
   "source": [
    "# Covert 'Date' to proper datetime format\n",
    "eda_data_1['Date']= pd.to_datetime(eda_data_1['Date'], format=\"%Y-%m-%d\")"
   ]
  },
  {
   "cell_type": "code",
   "execution_count": 45,
   "metadata": {},
   "outputs": [
    {
     "name": "stdout",
     "output_type": "stream",
     "text": [
      "<class 'pandas.core.frame.DataFrame'>\n",
      "Int64Index: 1263105 entries, 2 to 2058407\n",
      "Data columns (total 49 columns):\n",
      "Accident_Severity                              1263105 non-null object\n",
      "Carriageway_Hazards                            1263105 non-null object\n",
      "Date                                           1263105 non-null datetime64[ns]\n",
      "Day_of_Week                                    1263105 non-null object\n",
      "Did_Police_Officer_Attend_Scene_of_Accident    1263105 non-null float64\n",
      "Junction_Detail                                1263105 non-null object\n",
      "Latitude                                       1263105 non-null float64\n",
      "Light_Conditions                               1263105 non-null object\n",
      "Local_Authority_(District)                     1263105 non-null object\n",
      "Local_Authority_(Highway)                      1263105 non-null object\n",
      "Longitude                                      1263105 non-null float64\n",
      "Number_of_Casualties                           1263105 non-null int64\n",
      "Number_of_Vehicles                             1263105 non-null int64\n",
      "Pedestrian_Crossing-Human_Control              1263105 non-null float64\n",
      "Pedestrian_Crossing-Physical_Facilities        1263105 non-null float64\n",
      "Police_Force                                   1263105 non-null object\n",
      "Road_Surface_Conditions                        1263105 non-null object\n",
      "Road_Type                                      1263105 non-null object\n",
      "Special_Conditions_at_Site                     1263105 non-null object\n",
      "Speed_limit                                    1263105 non-null float64\n",
      "Time                                           1263105 non-null object\n",
      "Urban_or_Rural_Area                            1263105 non-null object\n",
      "Weather_Conditions                             1263105 non-null object\n",
      "Year_x                                         1263105 non-null int64\n",
      "InScotland                                     1263105 non-null object\n",
      "Age_Band_of_Driver                             1263105 non-null object\n",
      "Age_of_Vehicle                                 1263105 non-null float64\n",
      "Driver_Home_Area_Type                          1263105 non-null object\n",
      "Engine_Capacity_.CC.                           1263105 non-null float64\n",
      "Hit_Object_in_Carriageway                      1263105 non-null object\n",
      "Hit_Object_off_Carriageway                     1263105 non-null object\n",
      "Junction_Location                              1263105 non-null object\n",
      "make                                           1263105 non-null object\n",
      "model                                          1263105 non-null object\n",
      "Propulsion_Code                                1263105 non-null object\n",
      "Sex_of_Driver                                  1263105 non-null object\n",
      "Skidding_and_Overturning                       1263105 non-null object\n",
      "Towing_and_Articulation                        1263105 non-null object\n",
      "Vehicle_Leaving_Carriageway                    1263105 non-null object\n",
      "Vehicle_Location.Restricted_Lane               1263105 non-null float64\n",
      "Vehicle_Manoeuvre                              1263105 non-null object\n",
      "Vehicle_Reference                              1263105 non-null int64\n",
      "Vehicle_Type                                   1263105 non-null object\n",
      "Was_Vehicle_Left_Hand_Drive                    1263105 non-null object\n",
      "X1st_Point_of_Impact                           1263105 non-null object\n",
      "Year_y                                         1263105 non-null int64\n",
      "Target_Severe_Indicator                        1263105 non-null float64\n",
      "Hour                                           1263105 non-null int32\n",
      "Daytime                                        1263105 non-null object\n",
      "dtypes: datetime64[ns](1), float64(10), int32(1), int64(5), object(32)\n",
      "memory usage: 477.0+ MB\n"
     ]
    }
   ],
   "source": [
    "eda_data_1.info()"
   ]
  },
  {
   "cell_type": "code",
   "execution_count": 32,
   "metadata": {},
   "outputs": [],
   "source": [
    "# eda_data_1.iloc[:, 1:5].info()"
   ]
  },
  {
   "cell_type": "code",
   "execution_count": 22,
   "metadata": {},
   "outputs": [
    {
     "data": {
      "text/plain": [
       "2005     55737\n",
       "2006     59637\n",
       "2007     71151\n",
       "2008     68520\n",
       "2009    118301\n",
       "2010    119198\n",
       "2011    121976\n",
       "2012    118715\n",
       "2013    118227\n",
       "2014    126653\n",
       "2015    135839\n",
       "2016    149151\n",
       "Name: Year_x, dtype: int64"
      ]
     },
     "execution_count": 22,
     "metadata": {},
     "output_type": "execute_result"
    }
   ],
   "source": [
    "# In general terms, the number of accidents have gone up over the years\n",
    "eda_data_1[\"Year_x\"].value_counts().sort_index()"
   ]
  },
  {
   "cell_type": "code",
   "execution_count": 64,
   "metadata": {},
   "outputs": [
    {
     "data": {
      "image/png": "[encoded data removed]",
      "text/plain": [
       "<Figure size 864x360 with 1 Axes>"
      ]
     },
     "metadata": {},
     "output_type": "display_data"
    }
   ],
   "source": [
    "# Plotting Number of Accidents over the years\n",
    "\n",
    "# Getting yearly count\n",
    "yearly_count = eda_data_1['Date'].dt.year.value_counts().sort_index(ascending=False)\n",
    "\n",
    "# prepare plot\n",
    "sns.set_style('white')\n",
    "fig, ax = plt.subplots(figsize=(12,5))\n",
    "\n",
    "# plot\n",
    "ax.bar(yearly_count.index, yearly_count.values, color='lightsteelblue')\n",
    "ax.plot(yearly_count, linestyle=':', color='black')\n",
    "ax.set_title('\\nTotal Number of Accidents per Year\\n', fontsize=14, fontweight='bold')\n",
    "ax.set(ylabel='\\nNumber of Accidents')\n",
    "ax.set(xlabel='\\nYears')\n",
    "# remove all spines\n",
    "sns.despine(ax=ax, top=True, right=True, left=True, bottom=True);"
   ]
  },
  {
   "cell_type": "markdown",
   "metadata": {},
   "source": [
    "#### Average Number of Accidents by Weekday"
   ]
  },
  {
   "cell_type": "code",
   "execution_count": 24,
   "metadata": {},
   "outputs": [
    {
     "data": {
      "text/plain": [
       "Friday       209735\n",
       "Thursday     190929\n",
       "Wednesday    190008\n",
       "Tuesday      188080\n",
       "Monday       178249\n",
       "Saturday     167443\n",
       "Sunday       138661\n",
       "Name: Day_of_Week, dtype: int64"
      ]
     },
     "execution_count": 24,
     "metadata": {},
     "output_type": "execute_result"
    }
   ],
   "source": [
    "# Total number of accidents by day of the week\n",
    "eda_data_1[\"Day_of_Week\"].value_counts()"
   ]
  },
  {
   "cell_type": "code",
   "execution_count": 25,
   "metadata": {},
   "outputs": [
    {
     "data": {
      "text/html": [
       "<div>\n",
       "<style scoped>\n",
       "    .dataframe tbody tr th:only-of-type {\n",
       "        vertical-align: middle;\n",
       "    }\n",
       "\n",
       "    .dataframe tbody tr th {\n",
       "        vertical-align: top;\n",
       "    }\n",
       "\n",
       "    .dataframe thead th {\n",
       "        text-align: right;\n",
       "    }\n",
       "</style>\n",
       "<table border=\"1\" class=\"dataframe\">\n",
       "  <thead>\n",
       "    <tr style=\"text-align: right;\">\n",
       "      <th></th>\n",
       "      <th>Average_Accidents</th>\n",
       "    </tr>\n",
       "    <tr>\n",
       "      <th>Weekday</th>\n",
       "      <th></th>\n",
       "    </tr>\n",
       "  </thead>\n",
       "  <tbody>\n",
       "    <tr>\n",
       "      <th>Friday</th>\n",
       "      <td>335.039936</td>\n",
       "    </tr>\n",
       "    <tr>\n",
       "      <th>Monday</th>\n",
       "      <td>284.742812</td>\n",
       "    </tr>\n",
       "    <tr>\n",
       "      <th>Saturday</th>\n",
       "      <td>267.054226</td>\n",
       "    </tr>\n",
       "    <tr>\n",
       "      <th>Sunday</th>\n",
       "      <td>221.503195</td>\n",
       "    </tr>\n",
       "    <tr>\n",
       "      <th>Thursday</th>\n",
       "      <td>304.998403</td>\n",
       "    </tr>\n",
       "    <tr>\n",
       "      <th>Tuesday</th>\n",
       "      <td>300.447284</td>\n",
       "    </tr>\n",
       "    <tr>\n",
       "      <th>Wednesday</th>\n",
       "      <td>303.527157</td>\n",
       "    </tr>\n",
       "  </tbody>\n",
       "</table>\n",
       "</div>"
      ],
      "text/plain": [
       "           Average_Accidents\n",
       "Weekday                     \n",
       "Friday            335.039936\n",
       "Monday            284.742812\n",
       "Saturday          267.054226\n",
       "Sunday            221.503195\n",
       "Thursday          304.998403\n",
       "Tuesday           300.447284\n",
       "Wednesday         303.527157"
      ]
     },
     "execution_count": 25,
     "metadata": {},
     "output_type": "execute_result"
    }
   ],
   "source": [
    "# Getting count of accidents on each day (from 2005 - 2016) - using timeseries data ('Date')\n",
    "weekday_counts = pd.DataFrame(eda_data_1.set_index('Date').resample('1d').size().reset_index())\n",
    "\n",
    "#weekday_counts - renaming columns\n",
    "weekday_counts.columns = ['Date', 'Count']\n",
    "\n",
    "#weekday - using timeseries data to get name of weekday\n",
    "weekday = weekday_counts['Date'].dt.weekday_name\n",
    "\n",
    "\n",
    "# Calculating average per weekday over the years (2005-2016)\n",
    "weekday_averages = pd.DataFrame(weekday_counts.groupby(weekday)['Count'].mean().reset_index())\n",
    "weekday_averages.columns = ['Weekday', 'Average_Accidents']\n",
    "weekday_averages.set_index('Weekday', inplace=True)\n",
    "weekday_averages"
   ]
  },
  {
   "cell_type": "code",
   "execution_count": 69,
   "metadata": {},
   "outputs": [
    {
     "data": {
      "image/png": "[encoded data removed]",
      "text/plain": [
       "<Figure size 720x360 with 1 Axes>"
      ]
     },
     "metadata": {},
     "output_type": "display_data"
    }
   ],
   "source": [
    "# Plotting the dataframe\n",
    "\n",
    "# reorder the weekdays beginning with Monday (backwards because of printing behavior!)\n",
    "days = ['Sunday', 'Saturday', 'Friday', 'Thursday', 'Wednesday', 'Tuesday', 'Monday']\n",
    "\n",
    "# prepare plot\n",
    "sns.set_style('white')\n",
    "fig, ax = plt.subplots(figsize=(10,5))\n",
    "colors=['lightsteelblue', 'lightsteelblue', 'blue', 'lightsteelblue', \n",
    "        'lightsteelblue', 'lightsteelblue', 'lightsteelblue']\n",
    "\n",
    "# plot\n",
    "weekday_averages.reindex(days).plot(kind='barh', ax=ax, color=[colors])\n",
    "ax.set_title('\\nAverage Number of Accidents by Weekday\\n', fontsize=14, fontweight='bold')\n",
    "ax.set(xlabel='\\nAverage Number of Accidents', ylabel='')\n",
    "# ax.set(ylabel='\\nDay of the Week')\n",
    "ax.legend('')\n",
    "\n",
    "# remove all spines\n",
    "sns.despine(ax=ax, top=True, right=True, left=True, bottom=True);"
   ]
  },
  {
   "cell_type": "markdown",
   "metadata": {},
   "source": [
    "#### Number of Accidents by Day and Year"
   ]
  },
  {
   "cell_type": "code",
   "execution_count": 27,
   "metadata": {},
   "outputs": [
    {
     "data": {
      "text/html": [
       "<div>\n",
       "<style scoped>\n",
       "    .dataframe tbody tr th:only-of-type {\n",
       "        vertical-align: middle;\n",
       "    }\n",
       "\n",
       "    .dataframe tbody tr th {\n",
       "        vertical-align: top;\n",
       "    }\n",
       "\n",
       "    .dataframe thead th {\n",
       "        text-align: right;\n",
       "    }\n",
       "</style>\n",
       "<table border=\"1\" class=\"dataframe\">\n",
       "  <thead>\n",
       "    <tr style=\"text-align: right;\">\n",
       "      <th>Weekday</th>\n",
       "      <th>Sunday</th>\n",
       "      <th>Saturday</th>\n",
       "      <th>Friday</th>\n",
       "      <th>Thursday</th>\n",
       "      <th>Wednesday</th>\n",
       "      <th>Tuesday</th>\n",
       "      <th>Monday</th>\n",
       "    </tr>\n",
       "    <tr>\n",
       "      <th>Year</th>\n",
       "      <th></th>\n",
       "      <th></th>\n",
       "      <th></th>\n",
       "      <th></th>\n",
       "      <th></th>\n",
       "      <th></th>\n",
       "      <th></th>\n",
       "    </tr>\n",
       "  </thead>\n",
       "  <tbody>\n",
       "    <tr>\n",
       "      <th>2005</th>\n",
       "      <td>6190</td>\n",
       "      <td>7518</td>\n",
       "      <td>9223</td>\n",
       "      <td>8394</td>\n",
       "      <td>8433</td>\n",
       "      <td>8216</td>\n",
       "      <td>7763</td>\n",
       "    </tr>\n",
       "    <tr>\n",
       "      <th>2006</th>\n",
       "      <td>6625</td>\n",
       "      <td>7951</td>\n",
       "      <td>10258</td>\n",
       "      <td>8841</td>\n",
       "      <td>9104</td>\n",
       "      <td>8742</td>\n",
       "      <td>8116</td>\n",
       "    </tr>\n",
       "    <tr>\n",
       "      <th>2007</th>\n",
       "      <td>8132</td>\n",
       "      <td>9543</td>\n",
       "      <td>11714</td>\n",
       "      <td>10476</td>\n",
       "      <td>10578</td>\n",
       "      <td>10515</td>\n",
       "      <td>10193</td>\n",
       "    </tr>\n",
       "    <tr>\n",
       "      <th>2008</th>\n",
       "      <td>7561</td>\n",
       "      <td>9101</td>\n",
       "      <td>11153</td>\n",
       "      <td>10074</td>\n",
       "      <td>10518</td>\n",
       "      <td>10420</td>\n",
       "      <td>9693</td>\n",
       "    </tr>\n",
       "    <tr>\n",
       "      <th>2009</th>\n",
       "      <td>13121</td>\n",
       "      <td>16172</td>\n",
       "      <td>19608</td>\n",
       "      <td>17629</td>\n",
       "      <td>17749</td>\n",
       "      <td>17793</td>\n",
       "      <td>16229</td>\n",
       "    </tr>\n",
       "    <tr>\n",
       "      <th>2010</th>\n",
       "      <td>12902</td>\n",
       "      <td>16233</td>\n",
       "      <td>19988</td>\n",
       "      <td>17660</td>\n",
       "      <td>17630</td>\n",
       "      <td>17778</td>\n",
       "      <td>17007</td>\n",
       "    </tr>\n",
       "    <tr>\n",
       "      <th>2011</th>\n",
       "      <td>13251</td>\n",
       "      <td>16223</td>\n",
       "      <td>20430</td>\n",
       "      <td>18982</td>\n",
       "      <td>18487</td>\n",
       "      <td>17633</td>\n",
       "      <td>16970</td>\n",
       "    </tr>\n",
       "    <tr>\n",
       "      <th>2012</th>\n",
       "      <td>12934</td>\n",
       "      <td>15550</td>\n",
       "      <td>19402</td>\n",
       "      <td>18225</td>\n",
       "      <td>18126</td>\n",
       "      <td>17577</td>\n",
       "      <td>16901</td>\n",
       "    </tr>\n",
       "    <tr>\n",
       "      <th>2013</th>\n",
       "      <td>12624</td>\n",
       "      <td>15547</td>\n",
       "      <td>19942</td>\n",
       "      <td>18179</td>\n",
       "      <td>17345</td>\n",
       "      <td>17946</td>\n",
       "      <td>16644</td>\n",
       "    </tr>\n",
       "    <tr>\n",
       "      <th>2014</th>\n",
       "      <td>13884</td>\n",
       "      <td>16544</td>\n",
       "      <td>21116</td>\n",
       "      <td>18862</td>\n",
       "      <td>18943</td>\n",
       "      <td>19175</td>\n",
       "      <td>18129</td>\n",
       "    </tr>\n",
       "    <tr>\n",
       "      <th>2015</th>\n",
       "      <td>14926</td>\n",
       "      <td>17703</td>\n",
       "      <td>21916</td>\n",
       "      <td>20856</td>\n",
       "      <td>20472</td>\n",
       "      <td>20379</td>\n",
       "      <td>19587</td>\n",
       "    </tr>\n",
       "    <tr>\n",
       "      <th>2016</th>\n",
       "      <td>16511</td>\n",
       "      <td>19358</td>\n",
       "      <td>24985</td>\n",
       "      <td>22751</td>\n",
       "      <td>22623</td>\n",
       "      <td>21906</td>\n",
       "      <td>21017</td>\n",
       "    </tr>\n",
       "  </tbody>\n",
       "</table>\n",
       "</div>"
      ],
      "text/plain": [
       "Weekday  Sunday  Saturday  Friday  Thursday  Wednesday  Tuesday  Monday\n",
       "Year                                                                   \n",
       "2005       6190      7518    9223      8394       8433     8216    7763\n",
       "2006       6625      7951   10258      8841       9104     8742    8116\n",
       "2007       8132      9543   11714     10476      10578    10515   10193\n",
       "2008       7561      9101   11153     10074      10518    10420    9693\n",
       "2009      13121     16172   19608     17629      17749    17793   16229\n",
       "2010      12902     16233   19988     17660      17630    17778   17007\n",
       "2011      13251     16223   20430     18982      18487    17633   16970\n",
       "2012      12934     15550   19402     18225      18126    17577   16901\n",
       "2013      12624     15547   19942     18179      17345    17946   16644\n",
       "2014      13884     16544   21116     18862      18943    19175   18129\n",
       "2015      14926     17703   21916     20856      20472    20379   19587\n",
       "2016      16511     19358   24985     22751      22623    21906   21017"
      ]
     },
     "execution_count": 27,
     "metadata": {},
     "output_type": "execute_result"
    }
   ],
   "source": [
    "# Getting weekday and year\n",
    "weekday = eda_data_1['Date'].dt.weekday_name\n",
    "year    = eda_data_1['Date'].dt.year\n",
    "\n",
    "# Grouping data by year and weekday\n",
    "accident_table = eda_data_1.groupby([year, weekday]).size()\n",
    "\n",
    "\n",
    "accident_table = accident_table.rename_axis(['Year', 'Weekday'])\\\n",
    "                               .unstack('Weekday')\\\n",
    "                               .reindex(columns=days)\n",
    "accident_table"
   ]
  },
  {
   "cell_type": "code",
   "execution_count": 66,
   "metadata": {},
   "outputs": [
    {
     "data": {
      "image/png": "[encoded data removed]",
      "text/plain": [
       "<Figure size 720x432 with 2 Axes>"
      ]
     },
     "metadata": {},
     "output_type": "display_data"
    }
   ],
   "source": [
    "# Plotting dataframe\n",
    "plt.figure(figsize=(10,6))\n",
    "sns.heatmap(accident_table, cmap='Reds')\n",
    "plt.title('\\nAccidents by Year and Weekday\\n', fontsize=14, fontweight='bold')\n",
    "plt.xlabel('')\n",
    "plt.ylabel('');"
   ]
  },
  {
   "cell_type": "markdown",
   "metadata": {},
   "source": [
    "#### Proportion of Accident Severity"
   ]
  },
  {
   "cell_type": "code",
   "execution_count": 58,
   "metadata": {},
   "outputs": [
    {
     "data": {
      "text/html": [
       "<div>\n",
       "<style scoped>\n",
       "    .dataframe tbody tr th:only-of-type {\n",
       "        vertical-align: middle;\n",
       "    }\n",
       "\n",
       "    .dataframe tbody tr th {\n",
       "        vertical-align: top;\n",
       "    }\n",
       "\n",
       "    .dataframe thead th {\n",
       "        text-align: right;\n",
       "    }\n",
       "</style>\n",
       "<table border=\"1\" class=\"dataframe\">\n",
       "  <thead>\n",
       "    <tr style=\"text-align: right;\">\n",
       "      <th>Accident_Severity</th>\n",
       "      <th>Fatal</th>\n",
       "      <th>Serious</th>\n",
       "      <th>Slight</th>\n",
       "    </tr>\n",
       "    <tr>\n",
       "      <th>Week</th>\n",
       "      <th></th>\n",
       "      <th></th>\n",
       "      <th></th>\n",
       "    </tr>\n",
       "  </thead>\n",
       "  <tbody>\n",
       "    <tr>\n",
       "      <th>2005-01-02</th>\n",
       "      <td>3</td>\n",
       "      <td>25</td>\n",
       "      <td>117</td>\n",
       "    </tr>\n",
       "    <tr>\n",
       "      <th>2005-01-09</th>\n",
       "      <td>11</td>\n",
       "      <td>80</td>\n",
       "      <td>707</td>\n",
       "    </tr>\n",
       "    <tr>\n",
       "      <th>2005-01-16</th>\n",
       "      <td>12</td>\n",
       "      <td>142</td>\n",
       "      <td>932</td>\n",
       "    </tr>\n",
       "    <tr>\n",
       "      <th>2005-01-23</th>\n",
       "      <td>20</td>\n",
       "      <td>110</td>\n",
       "      <td>969</td>\n",
       "    </tr>\n",
       "    <tr>\n",
       "      <th>2005-01-30</th>\n",
       "      <td>7</td>\n",
       "      <td>106</td>\n",
       "      <td>906</td>\n",
       "    </tr>\n",
       "  </tbody>\n",
       "</table>\n",
       "</div>"
      ],
      "text/plain": [
       "Accident_Severity  Fatal  Serious  Slight\n",
       "Week                                     \n",
       "2005-01-02             3       25     117\n",
       "2005-01-09            11       80     707\n",
       "2005-01-16            12      142     932\n",
       "2005-01-23            20      110     969\n",
       "2005-01-30             7      106     906"
      ]
     },
     "execution_count": 58,
     "metadata": {},
     "output_type": "execute_result"
    }
   ],
   "source": [
    "sub_df = eda_data_1[['Date','Accident_Severity']]\n",
    "\n",
    "# pull out the year\n",
    "year = sub_df['Date'].dt.year\n",
    "week = sub_df['Date'].dt.week\n",
    "\n",
    "# groupby year and severities\n",
    "count_of_fatalities = sub_df.set_index('Date').groupby([pd.Grouper(freq='W'), 'Accident_Severity']).size()\n",
    "\n",
    "# build a nice table\n",
    "fatalities_table = count_of_fatalities.rename_axis(['Week', 'Accident_Severity'])\\\n",
    "                                      .unstack('Accident_Severity')\\\n",
    "                                      .rename({1:'fatal', 2:'serious', 3:'slight'}, axis='columns')\n",
    "fatalities_table.head()"
   ]
  },
  {
   "cell_type": "code",
   "execution_count": 59,
   "metadata": {},
   "outputs": [
    {
     "data": {
      "text/html": [
       "<div>\n",
       "<style scoped>\n",
       "    .dataframe tbody tr th:only-of-type {\n",
       "        vertical-align: middle;\n",
       "    }\n",
       "\n",
       "    .dataframe tbody tr th {\n",
       "        vertical-align: top;\n",
       "    }\n",
       "\n",
       "    .dataframe thead th {\n",
       "        text-align: right;\n",
       "    }\n",
       "</style>\n",
       "<table border=\"1\" class=\"dataframe\">\n",
       "  <thead>\n",
       "    <tr style=\"text-align: right;\">\n",
       "      <th>Accident_Severity</th>\n",
       "      <th>Fatal</th>\n",
       "      <th>Serious</th>\n",
       "      <th>Slight</th>\n",
       "      <th>sum</th>\n",
       "      <th>Fatal_percentage</th>\n",
       "      <th>Serious_percentage</th>\n",
       "      <th>Slight_percentage</th>\n",
       "      <th>sum_percentage</th>\n",
       "    </tr>\n",
       "    <tr>\n",
       "      <th>Week</th>\n",
       "      <th></th>\n",
       "      <th></th>\n",
       "      <th></th>\n",
       "      <th></th>\n",
       "      <th></th>\n",
       "      <th></th>\n",
       "      <th></th>\n",
       "      <th></th>\n",
       "    </tr>\n",
       "  </thead>\n",
       "  <tbody>\n",
       "    <tr>\n",
       "      <th>2005-01-02</th>\n",
       "      <td>3</td>\n",
       "      <td>25</td>\n",
       "      <td>117</td>\n",
       "      <td>145</td>\n",
       "      <td>0.020690</td>\n",
       "      <td>0.172414</td>\n",
       "      <td>0.806897</td>\n",
       "      <td>1.0</td>\n",
       "    </tr>\n",
       "    <tr>\n",
       "      <th>2005-01-09</th>\n",
       "      <td>11</td>\n",
       "      <td>80</td>\n",
       "      <td>707</td>\n",
       "      <td>798</td>\n",
       "      <td>0.013784</td>\n",
       "      <td>0.100251</td>\n",
       "      <td>0.885965</td>\n",
       "      <td>1.0</td>\n",
       "    </tr>\n",
       "    <tr>\n",
       "      <th>2005-01-16</th>\n",
       "      <td>12</td>\n",
       "      <td>142</td>\n",
       "      <td>932</td>\n",
       "      <td>1086</td>\n",
       "      <td>0.011050</td>\n",
       "      <td>0.130755</td>\n",
       "      <td>0.858195</td>\n",
       "      <td>1.0</td>\n",
       "    </tr>\n",
       "    <tr>\n",
       "      <th>2005-01-23</th>\n",
       "      <td>20</td>\n",
       "      <td>110</td>\n",
       "      <td>969</td>\n",
       "      <td>1099</td>\n",
       "      <td>0.018198</td>\n",
       "      <td>0.100091</td>\n",
       "      <td>0.881711</td>\n",
       "      <td>1.0</td>\n",
       "    </tr>\n",
       "    <tr>\n",
       "      <th>2005-01-30</th>\n",
       "      <td>7</td>\n",
       "      <td>106</td>\n",
       "      <td>906</td>\n",
       "      <td>1019</td>\n",
       "      <td>0.006869</td>\n",
       "      <td>0.104024</td>\n",
       "      <td>0.889107</td>\n",
       "      <td>1.0</td>\n",
       "    </tr>\n",
       "  </tbody>\n",
       "</table>\n",
       "</div>"
      ],
      "text/plain": [
       "Accident_Severity  Fatal  Serious  Slight   sum  Fatal_percentage  \\\n",
       "Week                                                                \n",
       "2005-01-02             3       25     117   145          0.020690   \n",
       "2005-01-09            11       80     707   798          0.013784   \n",
       "2005-01-16            12      142     932  1086          0.011050   \n",
       "2005-01-23            20      110     969  1099          0.018198   \n",
       "2005-01-30             7      106     906  1019          0.006869   \n",
       "\n",
       "Accident_Severity  Serious_percentage  Slight_percentage  sum_percentage  \n",
       "Week                                                                      \n",
       "2005-01-02                   0.172414           0.806897             1.0  \n",
       "2005-01-09                   0.100251           0.885965             1.0  \n",
       "2005-01-16                   0.130755           0.858195             1.0  \n",
       "2005-01-23                   0.100091           0.881711             1.0  \n",
       "2005-01-30                   0.104024           0.889107             1.0  "
      ]
     },
     "execution_count": 59,
     "metadata": {},
     "output_type": "execute_result"
    }
   ],
   "source": [
    "fatalities_table['sum'] = fatalities_table.sum(axis=1)\n",
    "fatalities_table = fatalities_table.join(fatalities_table.div(fatalities_table['sum'], axis=0), rsuffix='_percentage')\n",
    "fatalities_table.head()"
   ]
  },
  {
   "cell_type": "code",
   "execution_count": 70,
   "metadata": {},
   "outputs": [
    {
     "data": {
      "image/png": "[encoded data removed]",
      "text/plain": [
       "<Figure size 1008x432 with 1 Axes>"
      ]
     },
     "metadata": {},
     "output_type": "display_data"
    }
   ],
   "source": [
    "# prepare data\n",
    "sub_df = fatalities_table[['Fatal_percentage', 'Serious_percentage', 'Slight_percentage']]\n",
    "\n",
    "# prepare plot\n",
    "sns.set_style('white')\n",
    "fig, ax = plt.subplots(figsize=(14,6))\n",
    "colors=['black', 'navy', 'lightsteelblue']\n",
    "\n",
    "# plot\n",
    "sub_df.plot(color=colors, ax=ax)\n",
    "ax.set_title('\\nProportion of Accident Severities\\n', fontsize=14, fontweight='bold')\n",
    "ax.set(ylabel='Share of All Accidents\\n', xlabel='Year')\n",
    "ax.legend(labels=['Fatal Accidents', 'Serious Accidents', 'Slight Accidents'], \n",
    "          bbox_to_anchor=(1.3, 1.1), frameon=False)\n",
    "\n",
    "# remove all spines\n",
    "sns.despine(top=True, right=True, left=True, bottom=False);"
   ]
  },
  {
   "cell_type": "markdown",
   "metadata": {},
   "source": [
    "#### Accident Distribution per Day"
   ]
  },
  {
   "cell_type": "code",
   "execution_count": 71,
   "metadata": {},
   "outputs": [
    {
     "data": {
      "image/png": "[encoded data removed]",
      "text/plain": [
       "<Figure size 720x432 with 1 Axes>"
      ]
     },
     "metadata": {},
     "output_type": "display_data"
    }
   ],
   "source": [
    "# prepare plot\n",
    "sns.set_style('white')\n",
    "fig, ax = plt.subplots(figsize=(10,6))\n",
    "\n",
    "# plot\n",
    "eda_data_1.Hour.hist(bins=24, ax=ax, color='lightsteelblue')\n",
    "ax.set_title('\\nAccidents by Time of Day\\n', fontsize=14, fontweight='bold')\n",
    "ax.set(xlabel='Hour of the Day', ylabel='Number of Accidents')\n",
    "\n",
    "# remove all spines\n",
    "sns.despine(top=True, right=True, left=True, bottom=True);"
   ]
  },
  {
   "cell_type": "markdown",
   "metadata": {},
   "source": [
    "Count of accidents by 'Daytime' categories"
   ]
  },
  {
   "cell_type": "code",
   "execution_count": 72,
   "metadata": {},
   "outputs": [
    {
     "data": {
      "image/png": "[encoded data removed]",
      "text/plain": [
       "<Figure size 720x360 with 1 Axes>"
      ]
     },
     "metadata": {},
     "output_type": "display_data"
    }
   ],
   "source": [
    "# prepare dataframe\n",
    "order = ['night (23-5)', 'evening (19-23)', 'afternoon rush (15-19)', 'office hours (10-15)', 'morning rush (5-10)']\n",
    "df_sub = eda_data_1.groupby('Daytime').size().reindex(order)\n",
    "\n",
    "# prepare barplot\n",
    "fig, ax = plt.subplots(figsize=(10, 5))\n",
    "colors = ['lightsteelblue', 'lightsteelblue', 'navy', 'lightsteelblue', 'lightsteelblue']\n",
    "\n",
    "# plot\n",
    "df_sub.plot(kind='barh', ax=ax, color=colors)\n",
    "ax.set_title('\\nAccidents by Daytime Categories\\n', fontsize=14, fontweight='bold')\n",
    "ax.set(xlabel='\\nNumber of Accidents', ylabel='')\n",
    "\n",
    "# remove all spines\n",
    "sns.despine(top=True, right=True, left=True, bottom=True);"
   ]
  },
  {
   "cell_type": "markdown",
   "metadata": {},
   "source": [
    "#### Percentage Distributiong of Accident Severity"
   ]
  },
  {
   "cell_type": "code",
   "execution_count": 74,
   "metadata": {},
   "outputs": [
    {
     "data": {
      "image/png": "[encoded data removed]",
      "text/plain": [
       "<Figure size 576x576 with 1 Axes>"
      ]
     },
     "metadata": {},
     "output_type": "display_data"
    }
   ],
   "source": [
    "# assign the data\n",
    "fatal   = eda_data_1.Accident_Severity.value_counts()['Fatal']\n",
    "serious = eda_data_1.Accident_Severity.value_counts()['Serious']\n",
    "slight  = eda_data_1.Accident_Severity.value_counts()['Slight']\n",
    "\n",
    "names = ['Fatal Accidents','Serious Accidents', 'Slight Accidents']\n",
    "size  = [fatal, serious, slight]\n",
    "#explode = (0.2, 0, 0)\n",
    "\n",
    "# create a pie chart\n",
    "plt.pie(x=size, labels=names, colors=['red', 'darkorange', 'silver'], \n",
    "        autopct='%1.2f%%', pctdistance=0.6, textprops=dict(fontweight='bold'),\n",
    "        wedgeprops={'linewidth':7, 'edgecolor':'white'})\n",
    "\n",
    "# create circle for the center of the plot to make the pie look like a donut\n",
    "my_circle = plt.Circle((0,0), 0.6, color='white')\n",
    "\n",
    "# plot the donut chart\n",
    "fig = plt.gcf()\n",
    "fig.set_size_inches(8,8)\n",
    "fig.gca().add_artist(my_circle)\n",
    "plt.title('\\nAccident Severity: Proportion in % (2005-2016)', fontsize=14, fontweight='bold')\n",
    "plt.show();"
   ]
  },
  {
   "cell_type": "markdown",
   "metadata": {},
   "source": [
    "#### Share of accident sevirity by Daytime"
   ]
  },
  {
   "cell_type": "code",
   "execution_count": 75,
   "metadata": {},
   "outputs": [
    {
     "data": {
      "text/html": [
       "<div>\n",
       "<style scoped>\n",
       "    .dataframe tbody tr th:only-of-type {\n",
       "        vertical-align: middle;\n",
       "    }\n",
       "\n",
       "    .dataframe tbody tr th {\n",
       "        vertical-align: top;\n",
       "    }\n",
       "\n",
       "    .dataframe thead th {\n",
       "        text-align: right;\n",
       "    }\n",
       "</style>\n",
       "<table border=\"1\" class=\"dataframe\">\n",
       "  <thead>\n",
       "    <tr style=\"text-align: right;\">\n",
       "      <th>Accident_Severity</th>\n",
       "      <th>Fatal</th>\n",
       "      <th>Serious</th>\n",
       "      <th>Slight</th>\n",
       "    </tr>\n",
       "    <tr>\n",
       "      <th>Daytime</th>\n",
       "      <th></th>\n",
       "      <th></th>\n",
       "      <th></th>\n",
       "    </tr>\n",
       "  </thead>\n",
       "  <tbody>\n",
       "    <tr>\n",
       "      <th>afternoon rush (15-19)</th>\n",
       "      <td>4327</td>\n",
       "      <td>53330</td>\n",
       "      <td>356989</td>\n",
       "    </tr>\n",
       "    <tr>\n",
       "      <th>evening (19-23)</th>\n",
       "      <td>2949</td>\n",
       "      <td>25268</td>\n",
       "      <td>145977</td>\n",
       "    </tr>\n",
       "    <tr>\n",
       "      <th>morning rush (5-10)</th>\n",
       "      <td>2608</td>\n",
       "      <td>28436</td>\n",
       "      <td>212983</td>\n",
       "    </tr>\n",
       "    <tr>\n",
       "      <th>night (23-5)</th>\n",
       "      <td>2056</td>\n",
       "      <td>11526</td>\n",
       "      <td>53310</td>\n",
       "    </tr>\n",
       "    <tr>\n",
       "      <th>office hours (10-15)</th>\n",
       "      <td>4088</td>\n",
       "      <td>43883</td>\n",
       "      <td>315375</td>\n",
       "    </tr>\n",
       "  </tbody>\n",
       "</table>\n",
       "</div>"
      ],
      "text/plain": [
       "Accident_Severity       Fatal  Serious  Slight\n",
       "Daytime                                       \n",
       "afternoon rush (15-19)   4327    53330  356989\n",
       "evening (19-23)          2949    25268  145977\n",
       "morning rush (5-10)      2608    28436  212983\n",
       "night (23-5)             2056    11526   53310\n",
       "office hours (10-15)     4088    43883  315375"
      ]
     },
     "execution_count": 75,
     "metadata": {},
     "output_type": "execute_result"
    }
   ],
   "source": [
    "# prepare dataframe with simple counts\n",
    "counts = eda_data_1.groupby(['Daytime', 'Accident_Severity']).size()\n",
    "\n",
    "counts = counts.rename_axis(['Daytime', 'Accident_Severity'])\\\n",
    "                                .unstack('Accident_Severity')\\\n",
    "                                .rename({1:'fatal', 2:'serious', 3:'slight'}, axis='columns')\n",
    "counts"
   ]
  },
  {
   "cell_type": "code",
   "execution_count": 76,
   "metadata": {},
   "outputs": [
    {
     "data": {
      "text/html": [
       "<div>\n",
       "<style scoped>\n",
       "    .dataframe tbody tr th:only-of-type {\n",
       "        vertical-align: middle;\n",
       "    }\n",
       "\n",
       "    .dataframe tbody tr th {\n",
       "        vertical-align: top;\n",
       "    }\n",
       "\n",
       "    .dataframe thead th {\n",
       "        text-align: right;\n",
       "    }\n",
       "</style>\n",
       "<table border=\"1\" class=\"dataframe\">\n",
       "  <thead>\n",
       "    <tr style=\"text-align: right;\">\n",
       "      <th>Accident_Severity</th>\n",
       "      <th>Fatal in %</th>\n",
       "      <th>Serious in %</th>\n",
       "      <th>Slight in %</th>\n",
       "    </tr>\n",
       "    <tr>\n",
       "      <th>Daytime</th>\n",
       "      <th></th>\n",
       "      <th></th>\n",
       "      <th></th>\n",
       "    </tr>\n",
       "  </thead>\n",
       "  <tbody>\n",
       "    <tr>\n",
       "      <th>afternoon rush (15-19)</th>\n",
       "      <td>0.010435</td>\n",
       "      <td>0.128616</td>\n",
       "      <td>0.860949</td>\n",
       "    </tr>\n",
       "    <tr>\n",
       "      <th>evening (19-23)</th>\n",
       "      <td>0.016929</td>\n",
       "      <td>0.145057</td>\n",
       "      <td>0.838014</td>\n",
       "    </tr>\n",
       "    <tr>\n",
       "      <th>morning rush (5-10)</th>\n",
       "      <td>0.010687</td>\n",
       "      <td>0.116528</td>\n",
       "      <td>0.872785</td>\n",
       "    </tr>\n",
       "    <tr>\n",
       "      <th>night (23-5)</th>\n",
       "      <td>0.030736</td>\n",
       "      <td>0.172308</td>\n",
       "      <td>0.796956</td>\n",
       "    </tr>\n",
       "    <tr>\n",
       "      <th>office hours (10-15)</th>\n",
       "      <td>0.011251</td>\n",
       "      <td>0.120775</td>\n",
       "      <td>0.867974</td>\n",
       "    </tr>\n",
       "  </tbody>\n",
       "</table>\n",
       "</div>"
      ],
      "text/plain": [
       "Accident_Severity       Fatal in %  Serious in %  Slight in %\n",
       "Daytime                                                      \n",
       "afternoon rush (15-19)    0.010435      0.128616     0.860949\n",
       "evening (19-23)           0.016929      0.145057     0.838014\n",
       "morning rush (5-10)       0.010687      0.116528     0.872785\n",
       "night (23-5)              0.030736      0.172308     0.796956\n",
       "office hours (10-15)      0.011251      0.120775     0.867974"
      ]
     },
     "execution_count": 76,
     "metadata": {},
     "output_type": "execute_result"
    }
   ],
   "source": [
    "# prepare dataframe with shares\n",
    "counts['sum'] = counts.sum(axis=1)\n",
    "counts = counts.join(counts.div(counts['sum'], axis=0), rsuffix=' in %')\n",
    "counts_share = counts.drop(columns=['Fatal', 'Serious', 'Slight', 'sum', 'sum in %'], axis=1)\n",
    "counts_share"
   ]
  },
  {
   "cell_type": "code",
   "execution_count": 78,
   "metadata": {},
   "outputs": [
    {
     "data": {
      "image/png": "[encoded data removed]",
      "text/plain": [
       "<Figure size 720x360 with 1 Axes>"
      ]
     },
     "metadata": {},
     "output_type": "display_data"
    }
   ],
   "source": [
    "# prepare barplot\n",
    "fig, ax = plt.subplots(figsize=(10, 5))\n",
    "\n",
    "# plot\n",
    "counts_share.reindex(order).plot(kind='barh', ax=ax, stacked=True, cmap='cividis')\n",
    "ax.set_title('\\nAccident Severity by Daytime Categories\\n', fontsize=14, fontweight='bold')\n",
    "ax.set(xlabel='Percent Accident Severity', ylabel='')\n",
    "ax.legend(bbox_to_anchor=(1.25, 0.98), frameon=False)\n",
    "\n",
    "# remove all spines\n",
    "sns.despine(top=True, right=True, left=True, bottom=True);"
   ]
  },
  {
   "cell_type": "markdown",
   "metadata": {},
   "source": [
    "#### Reason for Accidents"
   ]
  },
  {
   "cell_type": "code",
   "execution_count": 37,
   "metadata": {},
   "outputs": [],
   "source": [
    "vehicle_ManoeuvreDF=eda_data_1[\"Vehicle_Manoeuvre\"].value_counts()"
   ]
  },
  {
   "cell_type": "code",
   "execution_count": 38,
   "metadata": {},
   "outputs": [
    {
     "data": {
      "text/plain": [
       "Going ahead other                      569219\n",
       "Turning right                          138093\n",
       "Slowing or stopping                    107931\n",
       "Waiting to go - held up                101272\n",
       "Going ahead right-hand bend             55635\n",
       "Moving off                              50297\n",
       "Going ahead left-hand bend              48474\n",
       "Turning left                            39742\n",
       "Parked                                  30488\n",
       "Waiting to turn right                   24701\n",
       "Overtaking moving vehicle - offside     23735\n",
       "Reversing                               15082\n",
       "Overtaking static vehicle - offside     14702\n",
       "U-turn                                  10761\n",
       "Changing lane to right                   9946\n",
       "Changing lane to left                    9122\n",
       "Waiting to turn left                     8277\n",
       "Overtaking - nearside                    5628\n",
       "Name: Vehicle_Manoeuvre, dtype: int64"
      ]
     },
     "execution_count": 38,
     "metadata": {},
     "output_type": "execute_result"
    }
   ],
   "source": [
    "vehicle_ManoeuvreDF"
   ]
  },
  {
   "cell_type": "code",
   "execution_count": 70,
   "metadata": {},
   "outputs": [
    {
     "name": "stdout",
     "output_type": "stream",
     "text": [
      "<class 'pandas.core.series.Series'>\n"
     ]
    }
   ],
   "source": [
    "print(type(vehicle_ManoeuvreDF))"
   ]
  },
  {
   "cell_type": "code",
   "execution_count": 39,
   "metadata": {},
   "outputs": [],
   "source": [
    "from pandas import Series, DataFrame\n",
    "df=Series.to_frame(vehicle_ManoeuvreDF)"
   ]
  },
  {
   "cell_type": "code",
   "execution_count": 40,
   "metadata": {},
   "outputs": [],
   "source": [
    "# df.columns = ['Count']"
   ]
  },
  {
   "cell_type": "code",
   "execution_count": 41,
   "metadata": {},
   "outputs": [],
   "source": [
    "df.reset_index(level=0, inplace=True)"
   ]
  },
  {
   "cell_type": "code",
   "execution_count": 78,
   "metadata": {},
   "outputs": [
    {
     "data": {
      "text/plain": [
       "['index', 'Count']"
      ]
     },
     "execution_count": 78,
     "metadata": {},
     "output_type": "execute_result"
    }
   ],
   "source": [
    "# list(df.columns.values)"
   ]
  },
  {
   "cell_type": "code",
   "execution_count": 77,
   "metadata": {},
   "outputs": [
    {
     "data": {
      "text/html": [
       "<div>\n",
       "<style scoped>\n",
       "    .dataframe tbody tr th:only-of-type {\n",
       "        vertical-align: middle;\n",
       "    }\n",
       "\n",
       "    .dataframe tbody tr th {\n",
       "        vertical-align: top;\n",
       "    }\n",
       "\n",
       "    .dataframe thead th {\n",
       "        text-align: right;\n",
       "    }\n",
       "</style>\n",
       "<table border=\"1\" class=\"dataframe\">\n",
       "  <thead>\n",
       "    <tr style=\"text-align: right;\">\n",
       "      <th></th>\n",
       "      <th>index</th>\n",
       "      <th>Count</th>\n",
       "    </tr>\n",
       "  </thead>\n",
       "  <tbody>\n",
       "    <tr>\n",
       "      <th>0</th>\n",
       "      <td>Going ahead other</td>\n",
       "      <td>569219</td>\n",
       "    </tr>\n",
       "    <tr>\n",
       "      <th>1</th>\n",
       "      <td>Turning right</td>\n",
       "      <td>138093</td>\n",
       "    </tr>\n",
       "    <tr>\n",
       "      <th>2</th>\n",
       "      <td>Slowing or stopping</td>\n",
       "      <td>107931</td>\n",
       "    </tr>\n",
       "    <tr>\n",
       "      <th>3</th>\n",
       "      <td>Waiting to go - held up</td>\n",
       "      <td>101272</td>\n",
       "    </tr>\n",
       "    <tr>\n",
       "      <th>4</th>\n",
       "      <td>Going ahead right-hand bend</td>\n",
       "      <td>55635</td>\n",
       "    </tr>\n",
       "    <tr>\n",
       "      <th>5</th>\n",
       "      <td>Moving off</td>\n",
       "      <td>50297</td>\n",
       "    </tr>\n",
       "    <tr>\n",
       "      <th>6</th>\n",
       "      <td>Going ahead left-hand bend</td>\n",
       "      <td>48474</td>\n",
       "    </tr>\n",
       "    <tr>\n",
       "      <th>7</th>\n",
       "      <td>Turning left</td>\n",
       "      <td>39742</td>\n",
       "    </tr>\n",
       "    <tr>\n",
       "      <th>8</th>\n",
       "      <td>Parked</td>\n",
       "      <td>30488</td>\n",
       "    </tr>\n",
       "    <tr>\n",
       "      <th>9</th>\n",
       "      <td>Waiting to turn right</td>\n",
       "      <td>24701</td>\n",
       "    </tr>\n",
       "    <tr>\n",
       "      <th>10</th>\n",
       "      <td>Overtaking moving vehicle - offside</td>\n",
       "      <td>23735</td>\n",
       "    </tr>\n",
       "    <tr>\n",
       "      <th>11</th>\n",
       "      <td>Reversing</td>\n",
       "      <td>15082</td>\n",
       "    </tr>\n",
       "    <tr>\n",
       "      <th>12</th>\n",
       "      <td>Overtaking static vehicle - offside</td>\n",
       "      <td>14702</td>\n",
       "    </tr>\n",
       "    <tr>\n",
       "      <th>13</th>\n",
       "      <td>U-turn</td>\n",
       "      <td>10761</td>\n",
       "    </tr>\n",
       "    <tr>\n",
       "      <th>14</th>\n",
       "      <td>Changing lane to right</td>\n",
       "      <td>9946</td>\n",
       "    </tr>\n",
       "    <tr>\n",
       "      <th>15</th>\n",
       "      <td>Changing lane to left</td>\n",
       "      <td>9122</td>\n",
       "    </tr>\n",
       "    <tr>\n",
       "      <th>16</th>\n",
       "      <td>Waiting to turn left</td>\n",
       "      <td>8277</td>\n",
       "    </tr>\n",
       "    <tr>\n",
       "      <th>17</th>\n",
       "      <td>Overtaking - nearside</td>\n",
       "      <td>5628</td>\n",
       "    </tr>\n",
       "  </tbody>\n",
       "</table>\n",
       "</div>"
      ],
      "text/plain": [
       "                                  index   Count\n",
       "0                     Going ahead other  569219\n",
       "1                         Turning right  138093\n",
       "2                   Slowing or stopping  107931\n",
       "3               Waiting to go - held up  101272\n",
       "4           Going ahead right-hand bend   55635\n",
       "5                            Moving off   50297\n",
       "6            Going ahead left-hand bend   48474\n",
       "7                          Turning left   39742\n",
       "8                                Parked   30488\n",
       "9                 Waiting to turn right   24701\n",
       "10  Overtaking moving vehicle - offside   23735\n",
       "11                            Reversing   15082\n",
       "12  Overtaking static vehicle - offside   14702\n",
       "13                               U-turn   10761\n",
       "14               Changing lane to right    9946\n",
       "15                Changing lane to left    9122\n",
       "16                 Waiting to turn left    8277\n",
       "17                Overtaking - nearside    5628"
      ]
     },
     "execution_count": 77,
     "metadata": {},
     "output_type": "execute_result"
    }
   ],
   "source": [
    "# df"
   ]
  },
  {
   "cell_type": "code",
   "execution_count": 42,
   "metadata": {},
   "outputs": [],
   "source": [
    "df.columns = ['Vehicle_Manoeuvre', 'Count'] "
   ]
  },
  {
   "cell_type": "code",
   "execution_count": 43,
   "metadata": {},
   "outputs": [
    {
     "data": {
      "text/html": [
       "<div>\n",
       "<style scoped>\n",
       "    .dataframe tbody tr th:only-of-type {\n",
       "        vertical-align: middle;\n",
       "    }\n",
       "\n",
       "    .dataframe tbody tr th {\n",
       "        vertical-align: top;\n",
       "    }\n",
       "\n",
       "    .dataframe thead th {\n",
       "        text-align: right;\n",
       "    }\n",
       "</style>\n",
       "<table border=\"1\" class=\"dataframe\">\n",
       "  <thead>\n",
       "    <tr style=\"text-align: right;\">\n",
       "      <th></th>\n",
       "      <th>Vehicle_Manoeuvre</th>\n",
       "      <th>Count</th>\n",
       "    </tr>\n",
       "  </thead>\n",
       "  <tbody>\n",
       "    <tr>\n",
       "      <th>0</th>\n",
       "      <td>Going ahead other</td>\n",
       "      <td>569219</td>\n",
       "    </tr>\n",
       "    <tr>\n",
       "      <th>1</th>\n",
       "      <td>Turning right</td>\n",
       "      <td>138093</td>\n",
       "    </tr>\n",
       "    <tr>\n",
       "      <th>2</th>\n",
       "      <td>Slowing or stopping</td>\n",
       "      <td>107931</td>\n",
       "    </tr>\n",
       "    <tr>\n",
       "      <th>3</th>\n",
       "      <td>Waiting to go - held up</td>\n",
       "      <td>101272</td>\n",
       "    </tr>\n",
       "    <tr>\n",
       "      <th>4</th>\n",
       "      <td>Going ahead right-hand bend</td>\n",
       "      <td>55635</td>\n",
       "    </tr>\n",
       "    <tr>\n",
       "      <th>5</th>\n",
       "      <td>Moving off</td>\n",
       "      <td>50297</td>\n",
       "    </tr>\n",
       "    <tr>\n",
       "      <th>6</th>\n",
       "      <td>Going ahead left-hand bend</td>\n",
       "      <td>48474</td>\n",
       "    </tr>\n",
       "    <tr>\n",
       "      <th>7</th>\n",
       "      <td>Turning left</td>\n",
       "      <td>39742</td>\n",
       "    </tr>\n",
       "    <tr>\n",
       "      <th>8</th>\n",
       "      <td>Parked</td>\n",
       "      <td>30488</td>\n",
       "    </tr>\n",
       "    <tr>\n",
       "      <th>9</th>\n",
       "      <td>Waiting to turn right</td>\n",
       "      <td>24701</td>\n",
       "    </tr>\n",
       "    <tr>\n",
       "      <th>10</th>\n",
       "      <td>Overtaking moving vehicle - offside</td>\n",
       "      <td>23735</td>\n",
       "    </tr>\n",
       "    <tr>\n",
       "      <th>11</th>\n",
       "      <td>Reversing</td>\n",
       "      <td>15082</td>\n",
       "    </tr>\n",
       "    <tr>\n",
       "      <th>12</th>\n",
       "      <td>Overtaking static vehicle - offside</td>\n",
       "      <td>14702</td>\n",
       "    </tr>\n",
       "    <tr>\n",
       "      <th>13</th>\n",
       "      <td>U-turn</td>\n",
       "      <td>10761</td>\n",
       "    </tr>\n",
       "    <tr>\n",
       "      <th>14</th>\n",
       "      <td>Changing lane to right</td>\n",
       "      <td>9946</td>\n",
       "    </tr>\n",
       "    <tr>\n",
       "      <th>15</th>\n",
       "      <td>Changing lane to left</td>\n",
       "      <td>9122</td>\n",
       "    </tr>\n",
       "    <tr>\n",
       "      <th>16</th>\n",
       "      <td>Waiting to turn left</td>\n",
       "      <td>8277</td>\n",
       "    </tr>\n",
       "    <tr>\n",
       "      <th>17</th>\n",
       "      <td>Overtaking - nearside</td>\n",
       "      <td>5628</td>\n",
       "    </tr>\n",
       "  </tbody>\n",
       "</table>\n",
       "</div>"
      ],
      "text/plain": [
       "                      Vehicle_Manoeuvre   Count\n",
       "0                     Going ahead other  569219\n",
       "1                         Turning right  138093\n",
       "2                   Slowing or stopping  107931\n",
       "3               Waiting to go - held up  101272\n",
       "4           Going ahead right-hand bend   55635\n",
       "5                            Moving off   50297\n",
       "6            Going ahead left-hand bend   48474\n",
       "7                          Turning left   39742\n",
       "8                                Parked   30488\n",
       "9                 Waiting to turn right   24701\n",
       "10  Overtaking moving vehicle - offside   23735\n",
       "11                            Reversing   15082\n",
       "12  Overtaking static vehicle - offside   14702\n",
       "13                               U-turn   10761\n",
       "14               Changing lane to right    9946\n",
       "15                Changing lane to left    9122\n",
       "16                 Waiting to turn left    8277\n",
       "17                Overtaking - nearside    5628"
      ]
     },
     "execution_count": 43,
     "metadata": {},
     "output_type": "execute_result"
    }
   ],
   "source": [
    "df"
   ]
  },
  {
   "cell_type": "code",
   "execution_count": 44,
   "metadata": {},
   "outputs": [],
   "source": [
    "manoeuvre = df['Vehicle_Manoeuvre'].tolist()\n",
    "count_manoeuvre = df['Count'].tolist()"
   ]
  },
  {
   "cell_type": "code",
   "execution_count": 45,
   "metadata": {},
   "outputs": [
    {
     "data": {
      "text/html": [
       "<script type=\"text/javascript\">window.PlotlyConfig = {MathJaxConfig: 'local'};</script><script type=\"text/javascript\">if (window.MathJax) {MathJax.Hub.Config({SVG: {font: \"STIX-Web\"}});}</script><script>requirejs.config({paths: { 'plotly': ['https://cdn.plot.ly/plotly-latest.min']},});if(!window._Plotly) {require(['plotly'],function(plotly) {window._Plotly=plotly;});}</script>"
      ],
      "text/vnd.plotly.v1+html": [
       "<script type=\"text/javascript\">window.PlotlyConfig = {MathJaxConfig: 'local'};</script><script type=\"text/javascript\">if (window.MathJax) {MathJax.Hub.Config({SVG: {font: \"STIX-Web\"}});}</script><script>requirejs.config({paths: { 'plotly': ['https://cdn.plot.ly/plotly-latest.min']},});if(!window._Plotly) {require(['plotly'],function(plotly) {window._Plotly=plotly;});}</script>"
      ]
     },
     "metadata": {},
     "output_type": "display_data"
    }
   ],
   "source": [
    "import plotly.graph_objs as go\n",
    "from plotly.offline import init_notebook_mode, iplot\n",
    "init_notebook_mode(connected=True)"
   ]
  },
  {
   "cell_type": "markdown",
   "metadata": {},
   "source": [
    "Please refer to the image titled **\"Vehicle manoeuvre at the time of accident.png\"** in the Images folder."
   ]
  },
  {
   "cell_type": "code",
   "execution_count": 79,
   "metadata": {},
   "outputs": [
    {
     "data": {
      "application/vnd.plotly.v1+json": {
       "config": {
        "linkText": "Export to plot.ly",
        "plotlyServerURL": "https://plot.ly",
        "showLink": true
       },
       "data": [
        {
         "labels": [
          "Going ahead other",
          "Turning right",
          "Slowing or stopping",
          "Waiting to go - held up",
          "Going ahead right-hand bend",
          "Moving off",
          "Going ahead left-hand bend",
          "Turning left",
          "Parked",
          "Waiting to turn right",
          "Overtaking moving vehicle - offside",
          "Reversing",
          "Overtaking static vehicle - offside",
          "U-turn",
          "Changing lane to right",
          "Changing lane to left",
          "Waiting to turn left",
          "Overtaking - nearside"
         ],
         "marker": {
          "colors": [
           "#25e475",
           "#ee1c96"
          ]
         },
         "type": "pie",
         "uid": "a0c7af02-114c-4388-bb52-160f3563ba76",
         "values": [
          569219,
          138093,
          107931,
          101272,
          55635,
          50297,
          48474,
          39742,
          30488,
          24701,
          23735,
          15082,
          14702,
          10761,
          9946,
          9122,
          8277,
          5628
         ]
        }
       ],
       "layout": {
        "height": 500,
        "title": "Vehicle Manoeuvre at the time of Accident",
        "width": 800
       }
      },
      "text/html": [
       "<div id=\"1216b7cb-40c2-433a-abbd-716184e1f71f\" style=\"height: 500px; width: 800px;\" class=\"plotly-graph-div\"></div><script type=\"text/javascript\">require([\"plotly\"], function(Plotly) { window.PLOTLYENV=window.PLOTLYENV || {};window.PLOTLYENV.BASE_URL=\"https://plot.ly\";Plotly.newPlot(\"1216b7cb-40c2-433a-abbd-716184e1f71f\", [{\"labels\": [\"Going ahead other\", \"Turning right\", \"Slowing or stopping\", \"Waiting to go - held up\", \"Going ahead right-hand bend\", \"Moving off\", \"Going ahead left-hand bend\", \"Turning left\", \"Parked\", \"Waiting to turn right\", \"Overtaking moving vehicle - offside\", \"Reversing\", \"Overtaking static vehicle - offside\", \"U-turn\", \"Changing lane to right\", \"Changing lane to left\", \"Waiting to turn left\", \"Overtaking - nearside\"], \"marker\": {\"colors\": [\"#25e475\", \"#ee1c96\"]}, \"values\": [569219, 138093, 107931, 101272, 55635, 50297, 48474, 39742, 30488, 24701, 23735, 15082, 14702, 10761, 9946, 9122, 8277, 5628], \"type\": \"pie\", \"uid\": \"a0c7af02-114c-4388-bb52-160f3563ba76\"}], {\"height\": 500, \"title\": \"Vehicle Manoeuvre at the time of Accident\", \"width\": 800}, {\"showLink\": true, \"linkText\": \"Export to plot.ly\", \"plotlyServerURL\": \"https://plot.ly\"})});</script>"
      ],
      "text/vnd.plotly.v1+html": [
       "<div id=\"1216b7cb-40c2-433a-abbd-716184e1f71f\" style=\"height: 500px; width: 800px;\" class=\"plotly-graph-div\"></div><script type=\"text/javascript\">require([\"plotly\"], function(Plotly) { window.PLOTLYENV=window.PLOTLYENV || {};window.PLOTLYENV.BASE_URL=\"https://plot.ly\";Plotly.newPlot(\"1216b7cb-40c2-433a-abbd-716184e1f71f\", [{\"labels\": [\"Going ahead other\", \"Turning right\", \"Slowing or stopping\", \"Waiting to go - held up\", \"Going ahead right-hand bend\", \"Moving off\", \"Going ahead left-hand bend\", \"Turning left\", \"Parked\", \"Waiting to turn right\", \"Overtaking moving vehicle - offside\", \"Reversing\", \"Overtaking static vehicle - offside\", \"U-turn\", \"Changing lane to right\", \"Changing lane to left\", \"Waiting to turn left\", \"Overtaking - nearside\"], \"marker\": {\"colors\": [\"#25e475\", \"#ee1c96\"]}, \"values\": [569219, 138093, 107931, 101272, 55635, 50297, 48474, 39742, 30488, 24701, 23735, 15082, 14702, 10761, 9946, 9122, 8277, 5628], \"type\": \"pie\", \"uid\": \"a0c7af02-114c-4388-bb52-160f3563ba76\"}], {\"height\": 500, \"title\": \"Vehicle Manoeuvre at the time of Accident\", \"width\": 800}, {\"showLink\": true, \"linkText\": \"Export to plot.ly\", \"plotlyServerURL\": \"https://plot.ly\"})});</script>"
      ]
     },
     "metadata": {},
     "output_type": "display_data"
    }
   ],
   "source": [
    "pie_visual = go.Pie(labels=manoeuvre, values=count_manoeuvre, marker=dict(colors=['#25e475', '#ee1c96',]))\n",
    "\n",
    "layout = go.Layout(title='Vehicle manoeuvre at the time of accident', width=800, height=500)\n",
    "fig = go.Figure(data=[pie_visual], layout=layout)\n",
    "iplot(fig)"
   ]
  },
  {
   "cell_type": "markdown",
   "metadata": {},
   "source": [
    "#### Accidents categorized by gender & age_band of driver"
   ]
  },
  {
   "cell_type": "code",
   "execution_count": 90,
   "metadata": {},
   "outputs": [
    {
     "data": {
      "text/plain": [
       "Male      814339\n",
       "Female    448766\n",
       "Name: Sex_of_Driver, dtype: int64"
      ]
     },
     "execution_count": 90,
     "metadata": {},
     "output_type": "execute_result"
    }
   ],
   "source": [
    "eda_data_1['Sex_of_Driver'].value_counts()"
   ]
  },
  {
   "cell_type": "code",
   "execution_count": 47,
   "metadata": {},
   "outputs": [
    {
     "data": {
      "text/html": [
       "<div>\n",
       "<style scoped>\n",
       "    .dataframe tbody tr th:only-of-type {\n",
       "        vertical-align: middle;\n",
       "    }\n",
       "\n",
       "    .dataframe tbody tr th {\n",
       "        vertical-align: top;\n",
       "    }\n",
       "\n",
       "    .dataframe thead th {\n",
       "        text-align: right;\n",
       "    }\n",
       "</style>\n",
       "<table border=\"1\" class=\"dataframe\">\n",
       "  <thead>\n",
       "    <tr style=\"text-align: right;\">\n",
       "      <th></th>\n",
       "      <th>Accident_Severity</th>\n",
       "      <th>Carriageway_Hazards</th>\n",
       "      <th>Date</th>\n",
       "      <th>Day_of_Week</th>\n",
       "      <th>Did_Police_Officer_Attend_Scene_of_Accident</th>\n",
       "      <th>Junction_Detail</th>\n",
       "      <th>Latitude</th>\n",
       "      <th>Light_Conditions</th>\n",
       "      <th>Local_Authority_(District)</th>\n",
       "      <th>Local_Authority_(Highway)</th>\n",
       "      <th>...</th>\n",
       "      <th>Vehicle_Location.Restricted_Lane</th>\n",
       "      <th>Vehicle_Manoeuvre</th>\n",
       "      <th>Vehicle_Reference</th>\n",
       "      <th>Vehicle_Type</th>\n",
       "      <th>Was_Vehicle_Left_Hand_Drive</th>\n",
       "      <th>X1st_Point_of_Impact</th>\n",
       "      <th>Year_y</th>\n",
       "      <th>Target_Severe_Indicator</th>\n",
       "      <th>Hour</th>\n",
       "      <th>Daytime</th>\n",
       "    </tr>\n",
       "    <tr>\n",
       "      <th>Accident_Index</th>\n",
       "      <th></th>\n",
       "      <th></th>\n",
       "      <th></th>\n",
       "      <th></th>\n",
       "      <th></th>\n",
       "      <th></th>\n",
       "      <th></th>\n",
       "      <th></th>\n",
       "      <th></th>\n",
       "      <th></th>\n",
       "      <th></th>\n",
       "      <th></th>\n",
       "      <th></th>\n",
       "      <th></th>\n",
       "      <th></th>\n",
       "      <th></th>\n",
       "      <th></th>\n",
       "      <th></th>\n",
       "      <th></th>\n",
       "      <th></th>\n",
       "      <th></th>\n",
       "    </tr>\n",
       "  </thead>\n",
       "  <tbody>\n",
       "    <tr>\n",
       "      <th>200501BS00006</th>\n",
       "      <td>Slight</td>\n",
       "      <td>None</td>\n",
       "      <td>2005-01-11</td>\n",
       "      <td>Tuesday</td>\n",
       "      <td>1.0</td>\n",
       "      <td>Not at junction or within 20 metres</td>\n",
       "      <td>51.515540</td>\n",
       "      <td>Daylight</td>\n",
       "      <td>Kensington and Chelsea</td>\n",
       "      <td>Kensington and Chelsea</td>\n",
       "      <td>...</td>\n",
       "      <td>0.0</td>\n",
       "      <td>Moving off</td>\n",
       "      <td>1</td>\n",
       "      <td>Car</td>\n",
       "      <td>No</td>\n",
       "      <td>Did not impact</td>\n",
       "      <td>2005</td>\n",
       "      <td>0.0</td>\n",
       "      <td>12</td>\n",
       "      <td>office hours (10-15)</td>\n",
       "    </tr>\n",
       "    <tr>\n",
       "      <th>200501BS00007</th>\n",
       "      <td>Slight</td>\n",
       "      <td>None</td>\n",
       "      <td>2005-01-13</td>\n",
       "      <td>Thursday</td>\n",
       "      <td>1.0</td>\n",
       "      <td>T or staggered junction</td>\n",
       "      <td>51.512695</td>\n",
       "      <td>Darkness - lights lit</td>\n",
       "      <td>Kensington and Chelsea</td>\n",
       "      <td>Kensington and Chelsea</td>\n",
       "      <td>...</td>\n",
       "      <td>0.0</td>\n",
       "      <td>Parked</td>\n",
       "      <td>2</td>\n",
       "      <td>Car</td>\n",
       "      <td>No</td>\n",
       "      <td>Back</td>\n",
       "      <td>2005</td>\n",
       "      <td>0.0</td>\n",
       "      <td>20</td>\n",
       "      <td>evening (19-23)</td>\n",
       "    </tr>\n",
       "    <tr>\n",
       "      <th>200501BS00009</th>\n",
       "      <td>Slight</td>\n",
       "      <td>None</td>\n",
       "      <td>2005-01-14</td>\n",
       "      <td>Friday</td>\n",
       "      <td>1.0</td>\n",
       "      <td>Not at junction or within 20 metres</td>\n",
       "      <td>51.502260</td>\n",
       "      <td>Daylight</td>\n",
       "      <td>Kensington and Chelsea</td>\n",
       "      <td>Kensington and Chelsea</td>\n",
       "      <td>...</td>\n",
       "      <td>0.0</td>\n",
       "      <td>Going ahead other</td>\n",
       "      <td>1</td>\n",
       "      <td>Car</td>\n",
       "      <td>No</td>\n",
       "      <td>Front</td>\n",
       "      <td>2005</td>\n",
       "      <td>0.0</td>\n",
       "      <td>17</td>\n",
       "      <td>afternoon rush (15-19)</td>\n",
       "    </tr>\n",
       "  </tbody>\n",
       "</table>\n",
       "<p>3 rows × 49 columns</p>\n",
       "</div>"
      ],
      "text/plain": [
       "               Accident_Severity Carriageway_Hazards       Date Day_of_Week  \\\n",
       "Accident_Index                                                                \n",
       "200501BS00006             Slight                None 2005-01-11     Tuesday   \n",
       "200501BS00007             Slight                None 2005-01-13    Thursday   \n",
       "200501BS00009             Slight                None 2005-01-14      Friday   \n",
       "\n",
       "                Did_Police_Officer_Attend_Scene_of_Accident  \\\n",
       "Accident_Index                                                \n",
       "200501BS00006                                           1.0   \n",
       "200501BS00007                                           1.0   \n",
       "200501BS00009                                           1.0   \n",
       "\n",
       "                                    Junction_Detail   Latitude  \\\n",
       "Accident_Index                                                   \n",
       "200501BS00006   Not at junction or within 20 metres  51.515540   \n",
       "200501BS00007               T or staggered junction  51.512695   \n",
       "200501BS00009   Not at junction or within 20 metres  51.502260   \n",
       "\n",
       "                     Light_Conditions Local_Authority_(District)  \\\n",
       "Accident_Index                                                     \n",
       "200501BS00006                Daylight     Kensington and Chelsea   \n",
       "200501BS00007   Darkness - lights lit     Kensington and Chelsea   \n",
       "200501BS00009                Daylight     Kensington and Chelsea   \n",
       "\n",
       "               Local_Authority_(Highway)           ...            \\\n",
       "Accident_Index                                     ...             \n",
       "200501BS00006     Kensington and Chelsea           ...             \n",
       "200501BS00007     Kensington and Chelsea           ...             \n",
       "200501BS00009     Kensington and Chelsea           ...             \n",
       "\n",
       "                Vehicle_Location.Restricted_Lane  Vehicle_Manoeuvre  \\\n",
       "Accident_Index                                                        \n",
       "200501BS00006                                0.0         Moving off   \n",
       "200501BS00007                                0.0             Parked   \n",
       "200501BS00009                                0.0  Going ahead other   \n",
       "\n",
       "                Vehicle_Reference  Vehicle_Type  Was_Vehicle_Left_Hand_Drive  \\\n",
       "Accident_Index                                                                 \n",
       "200501BS00006                   1           Car                           No   \n",
       "200501BS00007                   2           Car                           No   \n",
       "200501BS00009                   1           Car                           No   \n",
       "\n",
       "               X1st_Point_of_Impact Year_y Target_Severe_Indicator Hour  \\\n",
       "Accident_Index                                                            \n",
       "200501BS00006        Did not impact   2005                     0.0   12   \n",
       "200501BS00007                  Back   2005                     0.0   20   \n",
       "200501BS00009                 Front   2005                     0.0   17   \n",
       "\n",
       "                               Daytime  \n",
       "Accident_Index                          \n",
       "200501BS00006     office hours (10-15)  \n",
       "200501BS00007          evening (19-23)  \n",
       "200501BS00009   afternoon rush (15-19)  \n",
       "\n",
       "[3 rows x 49 columns]"
      ]
     },
     "execution_count": 47,
     "metadata": {},
     "output_type": "execute_result"
    }
   ],
   "source": [
    "df_gender_male =  eda_data_1['Sex_of_Driver']=='Male'\n",
    "df_male=eda_data_1[df_gender_male]\n",
    "df_male.head(3)"
   ]
  },
  {
   "cell_type": "code",
   "execution_count": 48,
   "metadata": {},
   "outputs": [],
   "source": [
    "df_gender_female =  eda_data_1['Sex_of_Driver']=='Female'\n",
    "df_female=eda_data_1[df_gender_female]"
   ]
  },
  {
   "cell_type": "code",
   "execution_count": 49,
   "metadata": {},
   "outputs": [],
   "source": [
    "maleDF=Series.to_frame(df_male['Age_Band_of_Driver'].value_counts())\n",
    "femaleDF=Series.to_frame(df_female['Age_Band_of_Driver'].value_counts())"
   ]
  },
  {
   "cell_type": "code",
   "execution_count": 50,
   "metadata": {},
   "outputs": [
    {
     "data": {
      "text/html": [
       "<div>\n",
       "<style scoped>\n",
       "    .dataframe tbody tr th:only-of-type {\n",
       "        vertical-align: middle;\n",
       "    }\n",
       "\n",
       "    .dataframe tbody tr th {\n",
       "        vertical-align: top;\n",
       "    }\n",
       "\n",
       "    .dataframe thead th {\n",
       "        text-align: right;\n",
       "    }\n",
       "</style>\n",
       "<table border=\"1\" class=\"dataframe\">\n",
       "  <thead>\n",
       "    <tr style=\"text-align: right;\">\n",
       "      <th></th>\n",
       "      <th>Age_Band_of_Driver</th>\n",
       "      <th>Count</th>\n",
       "    </tr>\n",
       "  </thead>\n",
       "  <tbody>\n",
       "    <tr>\n",
       "      <th>0</th>\n",
       "      <td>26 - 35</td>\n",
       "      <td>178082</td>\n",
       "    </tr>\n",
       "    <tr>\n",
       "      <th>1</th>\n",
       "      <td>36 - 45</td>\n",
       "      <td>165115</td>\n",
       "    </tr>\n",
       "  </tbody>\n",
       "</table>\n",
       "</div>"
      ],
      "text/plain": [
       "  Age_Band_of_Driver   Count\n",
       "0            26 - 35  178082\n",
       "1            36 - 45  165115"
      ]
     },
     "execution_count": 50,
     "metadata": {},
     "output_type": "execute_result"
    },
    {
     "data": {
      "text/html": [
       "<div>\n",
       "<style scoped>\n",
       "    .dataframe tbody tr th:only-of-type {\n",
       "        vertical-align: middle;\n",
       "    }\n",
       "\n",
       "    .dataframe tbody tr th {\n",
       "        vertical-align: top;\n",
       "    }\n",
       "\n",
       "    .dataframe thead th {\n",
       "        text-align: right;\n",
       "    }\n",
       "</style>\n",
       "<table border=\"1\" class=\"dataframe\">\n",
       "  <thead>\n",
       "    <tr style=\"text-align: right;\">\n",
       "      <th></th>\n",
       "      <th>Age_Band_of_Driver</th>\n",
       "      <th>Count</th>\n",
       "    </tr>\n",
       "  </thead>\n",
       "  <tbody>\n",
       "    <tr>\n",
       "      <th>0</th>\n",
       "      <td>26 - 35</td>\n",
       "      <td>102301</td>\n",
       "    </tr>\n",
       "    <tr>\n",
       "      <th>1</th>\n",
       "      <td>36 - 45</td>\n",
       "      <td>97546</td>\n",
       "    </tr>\n",
       "  </tbody>\n",
       "</table>\n",
       "</div>"
      ],
      "text/plain": [
       "  Age_Band_of_Driver   Count\n",
       "0            26 - 35  102301\n",
       "1            36 - 45   97546"
      ]
     },
     "execution_count": 50,
     "metadata": {},
     "output_type": "execute_result"
    }
   ],
   "source": [
    "maleDF.reset_index(level=0, inplace=True)\n",
    "maleDF.columns = ['Age_Band_of_Driver', 'Count']\n",
    "maleDF.head(2)\n",
    "femaleDF.reset_index(level=0, inplace=True)\n",
    "femaleDF.columns = ['Age_Band_of_Driver', 'Count']\n",
    "femaleDF.head(2)"
   ]
  },
  {
   "cell_type": "code",
   "execution_count": 51,
   "metadata": {},
   "outputs": [],
   "source": [
    "male_age_band=maleDF['Age_Band_of_Driver'].tolist()\n",
    "male_accident_count=maleDF['Count'].tolist()\n",
    "female_age_band=femaleDF['Age_Band_of_Driver'].tolist()\n",
    "female_accident_count=femaleDF['Count'].tolist()"
   ]
  },
  {
   "cell_type": "markdown",
   "metadata": {},
   "source": [
    "Please refer to the image titled **\"Accidents by gender and age band.png\"** in the Images folder."
   ]
  },
  {
   "cell_type": "code",
   "execution_count": 81,
   "metadata": {},
   "outputs": [
    {
     "data": {
      "application/vnd.plotly.v1+json": {
       "config": {
        "linkText": "Export to plot.ly",
        "plotlyServerURL": "https://plot.ly",
        "showLink": true
       },
       "data": [
        {
         "marker": {
          "color": "#5e59f2"
         },
         "name": "Male Drivers",
         "opacity": 0.8,
         "type": "bar",
         "uid": "01ef9195-9bba-41d8-9802-d50b6d292286",
         "x": [
          "26 - 35",
          "36 - 45",
          "46 - 55",
          "21 - 25",
          "56 - 65",
          "16 - 20",
          "66 - 75",
          "Over 75"
         ],
         "y": [
          178082,
          165115,
          135365,
          99259,
          85537,
          77158,
          44547,
          29276
         ]
        },
        {
         "marker": {
          "color": "#F259D6"
         },
         "name": "Female Drivers",
         "opacity": 0.8,
         "type": "bar",
         "uid": "1a760545-0344-4306-b2ce-6b6be1edddd7",
         "x": [
          "26 - 35",
          "36 - 45",
          "46 - 55",
          "21 - 25",
          "56 - 65",
          "16 - 20",
          "66 - 75",
          "Over 75"
         ],
         "y": [
          102301,
          97546,
          75310,
          59259,
          41399,
          39747,
          20554,
          12650
         ]
        }
       ],
       "layout": {
        "barmode": "group",
        "legend": {
         "x": -0.1,
         "y": 1.2
        },
        "margin": {
         "b": 120
        },
        "title": "Accidents categorized by Gender and Age Group"
       }
      },
      "text/html": [
       "<div id=\"0416ae75-08a9-41e5-b175-1677197621b1\" style=\"height: 525px; width: 100%;\" class=\"plotly-graph-div\"></div><script type=\"text/javascript\">require([\"plotly\"], function(Plotly) { window.PLOTLYENV=window.PLOTLYENV || {};window.PLOTLYENV.BASE_URL=\"https://plot.ly\";Plotly.newPlot(\"0416ae75-08a9-41e5-b175-1677197621b1\", [{\"marker\": {\"color\": \"#5e59f2\"}, \"name\": \"Male Drivers\", \"opacity\": 0.8, \"x\": [\"26 - 35\", \"36 - 45\", \"46 - 55\", \"21 - 25\", \"56 - 65\", \"16 - 20\", \"66 - 75\", \"Over 75\"], \"y\": [178082, 165115, 135365, 99259, 85537, 77158, 44547, 29276], \"type\": \"bar\", \"uid\": \"01ef9195-9bba-41d8-9802-d50b6d292286\"}, {\"marker\": {\"color\": \"#F259D6\"}, \"name\": \"Female Drivers\", \"opacity\": 0.8, \"x\": [\"26 - 35\", \"36 - 45\", \"46 - 55\", \"21 - 25\", \"56 - 65\", \"16 - 20\", \"66 - 75\", \"Over 75\"], \"y\": [102301, 97546, 75310, 59259, 41399, 39747, 20554, 12650], \"type\": \"bar\", \"uid\": \"1a760545-0344-4306-b2ce-6b6be1edddd7\"}], {\"barmode\": \"group\", \"legend\": {\"x\": -0.1, \"y\": 1.2}, \"margin\": {\"b\": 120}, \"title\": \"Accidents categorized by Gender and Age Group\"}, {\"showLink\": true, \"linkText\": \"Export to plot.ly\", \"plotlyServerURL\": \"https://plot.ly\"})});</script><script type=\"text/javascript\">window.addEventListener(\"resize\", function(){window._Plotly.Plots.resize(document.getElementById(\"0416ae75-08a9-41e5-b175-1677197621b1\"));});</script>"
      ],
      "text/vnd.plotly.v1+html": [
       "<div id=\"0416ae75-08a9-41e5-b175-1677197621b1\" style=\"height: 525px; width: 100%;\" class=\"plotly-graph-div\"></div><script type=\"text/javascript\">require([\"plotly\"], function(Plotly) { window.PLOTLYENV=window.PLOTLYENV || {};window.PLOTLYENV.BASE_URL=\"https://plot.ly\";Plotly.newPlot(\"0416ae75-08a9-41e5-b175-1677197621b1\", [{\"marker\": {\"color\": \"#5e59f2\"}, \"name\": \"Male Drivers\", \"opacity\": 0.8, \"x\": [\"26 - 35\", \"36 - 45\", \"46 - 55\", \"21 - 25\", \"56 - 65\", \"16 - 20\", \"66 - 75\", \"Over 75\"], \"y\": [178082, 165115, 135365, 99259, 85537, 77158, 44547, 29276], \"type\": \"bar\", \"uid\": \"01ef9195-9bba-41d8-9802-d50b6d292286\"}, {\"marker\": {\"color\": \"#F259D6\"}, \"name\": \"Female Drivers\", \"opacity\": 0.8, \"x\": [\"26 - 35\", \"36 - 45\", \"46 - 55\", \"21 - 25\", \"56 - 65\", \"16 - 20\", \"66 - 75\", \"Over 75\"], \"y\": [102301, 97546, 75310, 59259, 41399, 39747, 20554, 12650], \"type\": \"bar\", \"uid\": \"1a760545-0344-4306-b2ce-6b6be1edddd7\"}], {\"barmode\": \"group\", \"legend\": {\"x\": -0.1, \"y\": 1.2}, \"margin\": {\"b\": 120}, \"title\": \"Accidents categorized by Gender and Age Group\"}, {\"showLink\": true, \"linkText\": \"Export to plot.ly\", \"plotlyServerURL\": \"https://plot.ly\"})});</script><script type=\"text/javascript\">window.addEventListener(\"resize\", function(){window._Plotly.Plots.resize(document.getElementById(\"0416ae75-08a9-41e5-b175-1677197621b1\"));});</script>"
      ]
     },
     "metadata": {},
     "output_type": "display_data"
    }
   ],
   "source": [
    "trace1 = go.Bar(\n",
    "    x=male_age_band,\n",
    "    y=male_accident_count,\n",
    "    name='Male Drivers',\n",
    "    marker=dict(color='#5e59f2'),\n",
    "    opacity=0.8\n",
    ")\n",
    "trace2 = go.Bar(\n",
    "    x=female_age_band,\n",
    "    y=female_accident_count,\n",
    "    name='Female Drivers',\n",
    "    marker=dict(color='#F259D6'),\n",
    "    opacity=0.8\n",
    ")\n",
    "data = [trace1, trace2]\n",
    "layout = go.Layout(\n",
    "    barmode='group',\n",
    "    legend=dict(dict(x=-.1, y=1.2)),\n",
    "    margin=dict(b=120),\n",
    "    title = 'Accidents categorized by Gender and Age Group',\n",
    ")\n",
    "\n",
    "fig = go.Figure(data=data, layout=layout)\n",
    "iplot(fig, filename='grouped-bar')\n",
    "\n",
    "plt.show()"
   ]
  },
  {
   "cell_type": "markdown",
   "metadata": {},
   "source": [
    "#### Average number of casualities by Daytime"
   ]
  },
  {
   "cell_type": "code",
   "execution_count": 53,
   "metadata": {},
   "outputs": [],
   "source": [
    "# Create a dictionary of Daytime groups\n",
    "daytime_groups = {1: 'Morning (5-10)', \n",
    "                  2: 'Office Hours (10-15)', \n",
    "                  3: 'Afternoon Rush (15-19)', \n",
    "                  4: 'Evening (19-23)', \n",
    "                  5: 'Night(23-5)'}"
   ]
  },
  {
   "cell_type": "code",
   "execution_count": 54,
   "metadata": {},
   "outputs": [],
   "source": [
    "labels = tuple(daytime_groups.values())"
   ]
  },
  {
   "cell_type": "code",
   "execution_count": 55,
   "metadata": {},
   "outputs": [
    {
     "data": {
      "image/png": "[encoded data removed]",
      "text/plain": [
       "<Figure size 864x288 with 1 Axes>"
      ]
     },
     "metadata": {},
     "output_type": "display_data"
    }
   ],
   "source": [
    "# plot average no. of casualties by daytime\n",
    "eda_data_1.groupby('Daytime')['Number_of_Casualties'].mean().plot(kind='bar', color='slategrey', \n",
    "                                                                 figsize=(12,4), grid=False)\n",
    "plt.xticks(np.arange(5), labels, rotation='horizontal')\n",
    "plt.ylim((1,1.5))\n",
    "plt.xlabel(''), plt.ylabel('Average Number of Casualties\\n')\n",
    "plt.title('\\nAverage Number of Casualties by Daytime\\n', fontweight='bold')\n",
    "sns.despine(top=True, right=True, left=True, bottom=True);"
   ]
  },
  {
   "cell_type": "markdown",
   "metadata": {},
   "source": [
    "#### Average number of casualities by speed limit"
   ]
  },
  {
   "cell_type": "code",
   "execution_count": 56,
   "metadata": {},
   "outputs": [
    {
     "data": {
      "text/plain": [
       "Speed_limit\n",
       "10.0    1.000000\n",
       "15.0    1.166667\n",
       "20.0    1.253647\n",
       "30.0    1.375816\n",
       "40.0    1.566714\n",
       "50.0    1.658071\n",
       "60.0    1.661390\n",
       "70.0    1.822851\n",
       "Name: Number_of_Casualties, dtype: float64"
      ]
     },
     "execution_count": 56,
     "metadata": {},
     "output_type": "execute_result"
    }
   ],
   "source": [
    "eda_data_1.groupby('Speed_limit')['Number_of_Casualties'].mean()"
   ]
  },
  {
   "cell_type": "code",
   "execution_count": 57,
   "metadata": {},
   "outputs": [
    {
     "data": {
      "image/png": "[encoded data removed]",
      "text/plain": [
       "<Figure size 1080x288 with 1 Axes>"
      ]
     },
     "metadata": {},
     "output_type": "display_data"
    }
   ],
   "source": [
    "# check speed limit\n",
    "eda_data_1.groupby('Speed_limit')['Number_of_Casualties'].mean().plot(kind='bar', color='slategrey', \n",
    "                                                              figsize=(15,4), grid=False)\n",
    "plt.xticks(np.arange(8), \n",
    "           ['10mph', '15mph', '20mph', '30mph', '40mph', '50mph', '60mph', '70mph'], \n",
    "           rotation='horizontal')\n",
    "plt.ylim((0.6,2.0))\n",
    "plt.xlabel(''), plt.ylabel('Average Number of Casualties\\n')\n",
    "plt.title('\\nAverage Number of Casualties by Speed Limit\\n', fontweight='bold')\n",
    "sns.despine(top=True, right=True, left=True, bottom=True);"
   ]
  },
  {
   "cell_type": "code",
   "execution_count": null,
   "metadata": {},
   "outputs": [],
   "source": []
  },
  {
   "cell_type": "code",
   "execution_count": null,
   "metadata": {},
   "outputs": [],
   "source": []
  }
 ],
 "metadata": {
  "kernelspec": {
   "display_name": "Python 3",
   "language": "python",
   "name": "python3"
  },
  "language_info": {
   "codemirror_mode": {
    "name": "ipython",
    "version": 3
   },
   "file_extension": ".py",
   "mimetype": "text/x-python",
   "name": "python",
   "nbconvert_exporter": "python",
   "pygments_lexer": "ipython3",
   "version": "3.6.7"
  }
 },
 "nbformat": 4,
 "nbformat_minor": 2
}
