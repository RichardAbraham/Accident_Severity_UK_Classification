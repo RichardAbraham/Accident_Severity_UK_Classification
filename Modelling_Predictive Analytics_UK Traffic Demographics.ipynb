{
 "cells": [
  {
   "cell_type": "markdown",
   "metadata": {},
   "source": [
    "### ANALYSING THE TRAFFIC DEMOGRAPHICS IN THE UK - Modeling & Predictive Analytics"
   ]
  },
  {
   "cell_type": "markdown",
   "metadata": {},
   "source": [
    "Richard Abraham"
   ]
  },
  {
   "cell_type": "code",
   "execution_count": 1,
   "metadata": {},
   "outputs": [],
   "source": [
    "# Importing python libraries\n",
    "import numpy as np\n",
    "import pandas as pd\n",
    "\n",
    "# To make all outputs show\n",
    "from IPython.core.interactiveshell import InteractiveShell\n",
    "InteractiveShell.ast_node_interactivity = \"all\""
   ]
  },
  {
   "cell_type": "code",
   "execution_count": 2,
   "metadata": {},
   "outputs": [],
   "source": [
    "# Reading in pre-processed and transformed data \n",
    "\n",
    "file = 'C:/Users/Admin/Desktop/BDA 106/Project/NEW_Dataset/Predictive_Modelling/predictive_analytics.csv'\n",
    "\n",
    "dataset = pd.read_csv(file, low_memory = False)"
   ]
  },
  {
   "cell_type": "code",
   "execution_count": 3,
   "metadata": {},
   "outputs": [
    {
     "data": {
      "text/html": [
       "<div>\n",
       "<style scoped>\n",
       "    .dataframe tbody tr th:only-of-type {\n",
       "        vertical-align: middle;\n",
       "    }\n",
       "\n",
       "    .dataframe tbody tr th {\n",
       "        vertical-align: top;\n",
       "    }\n",
       "\n",
       "    .dataframe thead th {\n",
       "        text-align: right;\n",
       "    }\n",
       "</style>\n",
       "<table border=\"1\" class=\"dataframe\">\n",
       "  <thead>\n",
       "    <tr style=\"text-align: right;\">\n",
       "      <th></th>\n",
       "      <th>Unnamed: 0</th>\n",
       "      <th>Carriageway_Hazards</th>\n",
       "      <th>Day_of_Week</th>\n",
       "      <th>Junction_Detail</th>\n",
       "      <th>Latitude</th>\n",
       "      <th>Light_Conditions</th>\n",
       "      <th>Local_Authority_(Highway)</th>\n",
       "      <th>Longitude</th>\n",
       "      <th>Number_of_Casualties</th>\n",
       "      <th>Number_of_Vehicles</th>\n",
       "      <th>...</th>\n",
       "      <th>Vehicle_Leaving_Carriageway</th>\n",
       "      <th>Vehicle_Location.Restricted_Lane</th>\n",
       "      <th>Vehicle_Manoeuvre</th>\n",
       "      <th>Vehicle_Type</th>\n",
       "      <th>X1st_Point_of_Impact</th>\n",
       "      <th>Target_Severe_Indicator</th>\n",
       "      <th>Daytime</th>\n",
       "      <th>Ped_Cross_Human</th>\n",
       "      <th>Ped_Cross_Physical</th>\n",
       "      <th>Age_Band_of_Driver_order</th>\n",
       "    </tr>\n",
       "  </thead>\n",
       "  <tbody>\n",
       "    <tr>\n",
       "      <th>0</th>\n",
       "      <td>2</td>\n",
       "      <td>None</td>\n",
       "      <td>Friday</td>\n",
       "      <td>Not at junction or within 20 metres</td>\n",
       "      <td>51.482442</td>\n",
       "      <td>Daylight</td>\n",
       "      <td>Kensington and Chelsea</td>\n",
       "      <td>-0.173862</td>\n",
       "      <td>1</td>\n",
       "      <td>1</td>\n",
       "      <td>...</td>\n",
       "      <td>Did not leave carriageway</td>\n",
       "      <td>0.0</td>\n",
       "      <td>Going ahead other</td>\n",
       "      <td>Car</td>\n",
       "      <td>Front</td>\n",
       "      <td>0.0</td>\n",
       "      <td>office hours (10-15)</td>\n",
       "      <td>None within 50 metres</td>\n",
       "      <td>No physical crossing facilities within 50 metres</td>\n",
       "      <td>5.0</td>\n",
       "    </tr>\n",
       "    <tr>\n",
       "      <th>1</th>\n",
       "      <td>4</td>\n",
       "      <td>None</td>\n",
       "      <td>Tuesday</td>\n",
       "      <td>Not at junction or within 20 metres</td>\n",
       "      <td>51.515540</td>\n",
       "      <td>Daylight</td>\n",
       "      <td>Kensington and Chelsea</td>\n",
       "      <td>-0.203238</td>\n",
       "      <td>1</td>\n",
       "      <td>2</td>\n",
       "      <td>...</td>\n",
       "      <td>Did not leave carriageway</td>\n",
       "      <td>0.0</td>\n",
       "      <td>Moving off</td>\n",
       "      <td>Car</td>\n",
       "      <td>Did not impact</td>\n",
       "      <td>0.0</td>\n",
       "      <td>office hours (10-15)</td>\n",
       "      <td>None within 50 metres</td>\n",
       "      <td>No physical crossing facilities within 50 metres</td>\n",
       "      <td>5.0</td>\n",
       "    </tr>\n",
       "    <tr>\n",
       "      <th>2</th>\n",
       "      <td>5</td>\n",
       "      <td>None</td>\n",
       "      <td>Tuesday</td>\n",
       "      <td>Not at junction or within 20 metres</td>\n",
       "      <td>51.515540</td>\n",
       "      <td>Daylight</td>\n",
       "      <td>Kensington and Chelsea</td>\n",
       "      <td>-0.203238</td>\n",
       "      <td>1</td>\n",
       "      <td>2</td>\n",
       "      <td>...</td>\n",
       "      <td>Did not leave carriageway</td>\n",
       "      <td>0.0</td>\n",
       "      <td>Going ahead other</td>\n",
       "      <td>Motorcycle 125cc and under</td>\n",
       "      <td>Did not impact</td>\n",
       "      <td>0.0</td>\n",
       "      <td>office hours (10-15)</td>\n",
       "      <td>None within 50 metres</td>\n",
       "      <td>No physical crossing facilities within 50 metres</td>\n",
       "      <td>3.0</td>\n",
       "    </tr>\n",
       "    <tr>\n",
       "      <th>3</th>\n",
       "      <td>7</td>\n",
       "      <td>None</td>\n",
       "      <td>Thursday</td>\n",
       "      <td>T or staggered junction</td>\n",
       "      <td>51.512695</td>\n",
       "      <td>Darkness - lights lit</td>\n",
       "      <td>Kensington and Chelsea</td>\n",
       "      <td>-0.211277</td>\n",
       "      <td>1</td>\n",
       "      <td>2</td>\n",
       "      <td>...</td>\n",
       "      <td>Did not leave carriageway</td>\n",
       "      <td>0.0</td>\n",
       "      <td>Parked</td>\n",
       "      <td>Car</td>\n",
       "      <td>Back</td>\n",
       "      <td>0.0</td>\n",
       "      <td>evening (19-23)</td>\n",
       "      <td>None within 50 metres</td>\n",
       "      <td>No physical crossing facilities within 50 metres</td>\n",
       "      <td>4.0</td>\n",
       "    </tr>\n",
       "    <tr>\n",
       "      <th>4</th>\n",
       "      <td>8</td>\n",
       "      <td>None</td>\n",
       "      <td>Friday</td>\n",
       "      <td>Not at junction or within 20 metres</td>\n",
       "      <td>51.502260</td>\n",
       "      <td>Daylight</td>\n",
       "      <td>Kensington and Chelsea</td>\n",
       "      <td>-0.187623</td>\n",
       "      <td>2</td>\n",
       "      <td>1</td>\n",
       "      <td>...</td>\n",
       "      <td>Nearside</td>\n",
       "      <td>0.0</td>\n",
       "      <td>Going ahead other</td>\n",
       "      <td>Car</td>\n",
       "      <td>Front</td>\n",
       "      <td>0.0</td>\n",
       "      <td>afternoon rush (15-19)</td>\n",
       "      <td>None within 50 metres</td>\n",
       "      <td>No physical crossing facilities within 50 metres</td>\n",
       "      <td>7.0</td>\n",
       "    </tr>\n",
       "  </tbody>\n",
       "</table>\n",
       "<p>5 rows × 37 columns</p>\n",
       "</div>"
      ],
      "text/plain": [
       "   Unnamed: 0 Carriageway_Hazards Day_of_Week  \\\n",
       "0           2                None      Friday   \n",
       "1           4                None     Tuesday   \n",
       "2           5                None     Tuesday   \n",
       "3           7                None    Thursday   \n",
       "4           8                None      Friday   \n",
       "\n",
       "                       Junction_Detail   Latitude       Light_Conditions  \\\n",
       "0  Not at junction or within 20 metres  51.482442               Daylight   \n",
       "1  Not at junction or within 20 metres  51.515540               Daylight   \n",
       "2  Not at junction or within 20 metres  51.515540               Daylight   \n",
       "3              T or staggered junction  51.512695  Darkness - lights lit   \n",
       "4  Not at junction or within 20 metres  51.502260               Daylight   \n",
       "\n",
       "  Local_Authority_(Highway)  Longitude  Number_of_Casualties  \\\n",
       "0    Kensington and Chelsea  -0.173862                     1   \n",
       "1    Kensington and Chelsea  -0.203238                     1   \n",
       "2    Kensington and Chelsea  -0.203238                     1   \n",
       "3    Kensington and Chelsea  -0.211277                     1   \n",
       "4    Kensington and Chelsea  -0.187623                     2   \n",
       "\n",
       "   Number_of_Vehicles           ...            Vehicle_Leaving_Carriageway  \\\n",
       "0                   1           ...              Did not leave carriageway   \n",
       "1                   2           ...              Did not leave carriageway   \n",
       "2                   2           ...              Did not leave carriageway   \n",
       "3                   2           ...              Did not leave carriageway   \n",
       "4                   1           ...                               Nearside   \n",
       "\n",
       "  Vehicle_Location.Restricted_Lane  Vehicle_Manoeuvre  \\\n",
       "0                              0.0  Going ahead other   \n",
       "1                              0.0         Moving off   \n",
       "2                              0.0  Going ahead other   \n",
       "3                              0.0             Parked   \n",
       "4                              0.0  Going ahead other   \n",
       "\n",
       "                 Vehicle_Type X1st_Point_of_Impact Target_Severe_Indicator  \\\n",
       "0                         Car                Front                     0.0   \n",
       "1                         Car       Did not impact                     0.0   \n",
       "2  Motorcycle 125cc and under       Did not impact                     0.0   \n",
       "3                         Car                 Back                     0.0   \n",
       "4                         Car                Front                     0.0   \n",
       "\n",
       "                  Daytime        Ped_Cross_Human  \\\n",
       "0    office hours (10-15)  None within 50 metres   \n",
       "1    office hours (10-15)  None within 50 metres   \n",
       "2    office hours (10-15)  None within 50 metres   \n",
       "3         evening (19-23)  None within 50 metres   \n",
       "4  afternoon rush (15-19)  None within 50 metres   \n",
       "\n",
       "                                 Ped_Cross_Physical Age_Band_of_Driver_order  \n",
       "0  No physical crossing facilities within 50 metres                      5.0  \n",
       "1  No physical crossing facilities within 50 metres                      5.0  \n",
       "2  No physical crossing facilities within 50 metres                      3.0  \n",
       "3  No physical crossing facilities within 50 metres                      4.0  \n",
       "4  No physical crossing facilities within 50 metres                      7.0  \n",
       "\n",
       "[5 rows x 37 columns]"
      ]
     },
     "execution_count": 3,
     "metadata": {},
     "output_type": "execute_result"
    }
   ],
   "source": [
    "dataset.head()"
   ]
  },
  {
   "cell_type": "code",
   "execution_count": 4,
   "metadata": {},
   "outputs": [],
   "source": [
    "# Dropping unnamed column\n",
    "dataset.drop(dataset.columns[0],axis=1,inplace=True)"
   ]
  },
  {
   "cell_type": "code",
   "execution_count": 5,
   "metadata": {},
   "outputs": [
    {
     "data": {
      "text/html": [
       "<div>\n",
       "<style scoped>\n",
       "    .dataframe tbody tr th:only-of-type {\n",
       "        vertical-align: middle;\n",
       "    }\n",
       "\n",
       "    .dataframe tbody tr th {\n",
       "        vertical-align: top;\n",
       "    }\n",
       "\n",
       "    .dataframe thead th {\n",
       "        text-align: right;\n",
       "    }\n",
       "</style>\n",
       "<table border=\"1\" class=\"dataframe\">\n",
       "  <thead>\n",
       "    <tr style=\"text-align: right;\">\n",
       "      <th></th>\n",
       "      <th>Carriageway_Hazards</th>\n",
       "      <th>Day_of_Week</th>\n",
       "      <th>Junction_Detail</th>\n",
       "      <th>Latitude</th>\n",
       "      <th>Light_Conditions</th>\n",
       "      <th>Local_Authority_(Highway)</th>\n",
       "      <th>Longitude</th>\n",
       "      <th>Number_of_Casualties</th>\n",
       "      <th>Number_of_Vehicles</th>\n",
       "      <th>Road_Surface_Conditions</th>\n",
       "      <th>...</th>\n",
       "      <th>Vehicle_Leaving_Carriageway</th>\n",
       "      <th>Vehicle_Location.Restricted_Lane</th>\n",
       "      <th>Vehicle_Manoeuvre</th>\n",
       "      <th>Vehicle_Type</th>\n",
       "      <th>X1st_Point_of_Impact</th>\n",
       "      <th>Target_Severe_Indicator</th>\n",
       "      <th>Daytime</th>\n",
       "      <th>Ped_Cross_Human</th>\n",
       "      <th>Ped_Cross_Physical</th>\n",
       "      <th>Age_Band_of_Driver_order</th>\n",
       "    </tr>\n",
       "  </thead>\n",
       "  <tbody>\n",
       "    <tr>\n",
       "      <th>0</th>\n",
       "      <td>None</td>\n",
       "      <td>Friday</td>\n",
       "      <td>Not at junction or within 20 metres</td>\n",
       "      <td>51.482442</td>\n",
       "      <td>Daylight</td>\n",
       "      <td>Kensington and Chelsea</td>\n",
       "      <td>-0.173862</td>\n",
       "      <td>1</td>\n",
       "      <td>1</td>\n",
       "      <td>Dry</td>\n",
       "      <td>...</td>\n",
       "      <td>Did not leave carriageway</td>\n",
       "      <td>0.0</td>\n",
       "      <td>Going ahead other</td>\n",
       "      <td>Car</td>\n",
       "      <td>Front</td>\n",
       "      <td>0.0</td>\n",
       "      <td>office hours (10-15)</td>\n",
       "      <td>None within 50 metres</td>\n",
       "      <td>No physical crossing facilities within 50 metres</td>\n",
       "      <td>5.0</td>\n",
       "    </tr>\n",
       "    <tr>\n",
       "      <th>1</th>\n",
       "      <td>None</td>\n",
       "      <td>Tuesday</td>\n",
       "      <td>Not at junction or within 20 metres</td>\n",
       "      <td>51.515540</td>\n",
       "      <td>Daylight</td>\n",
       "      <td>Kensington and Chelsea</td>\n",
       "      <td>-0.203238</td>\n",
       "      <td>1</td>\n",
       "      <td>2</td>\n",
       "      <td>Wet or damp</td>\n",
       "      <td>...</td>\n",
       "      <td>Did not leave carriageway</td>\n",
       "      <td>0.0</td>\n",
       "      <td>Moving off</td>\n",
       "      <td>Car</td>\n",
       "      <td>Did not impact</td>\n",
       "      <td>0.0</td>\n",
       "      <td>office hours (10-15)</td>\n",
       "      <td>None within 50 metres</td>\n",
       "      <td>No physical crossing facilities within 50 metres</td>\n",
       "      <td>5.0</td>\n",
       "    </tr>\n",
       "    <tr>\n",
       "      <th>2</th>\n",
       "      <td>None</td>\n",
       "      <td>Tuesday</td>\n",
       "      <td>Not at junction or within 20 metres</td>\n",
       "      <td>51.515540</td>\n",
       "      <td>Daylight</td>\n",
       "      <td>Kensington and Chelsea</td>\n",
       "      <td>-0.203238</td>\n",
       "      <td>1</td>\n",
       "      <td>2</td>\n",
       "      <td>Wet or damp</td>\n",
       "      <td>...</td>\n",
       "      <td>Did not leave carriageway</td>\n",
       "      <td>0.0</td>\n",
       "      <td>Going ahead other</td>\n",
       "      <td>Motorcycle 125cc and under</td>\n",
       "      <td>Did not impact</td>\n",
       "      <td>0.0</td>\n",
       "      <td>office hours (10-15)</td>\n",
       "      <td>None within 50 metres</td>\n",
       "      <td>No physical crossing facilities within 50 metres</td>\n",
       "      <td>3.0</td>\n",
       "    </tr>\n",
       "    <tr>\n",
       "      <th>3</th>\n",
       "      <td>None</td>\n",
       "      <td>Thursday</td>\n",
       "      <td>T or staggered junction</td>\n",
       "      <td>51.512695</td>\n",
       "      <td>Darkness - lights lit</td>\n",
       "      <td>Kensington and Chelsea</td>\n",
       "      <td>-0.211277</td>\n",
       "      <td>1</td>\n",
       "      <td>2</td>\n",
       "      <td>Dry</td>\n",
       "      <td>...</td>\n",
       "      <td>Did not leave carriageway</td>\n",
       "      <td>0.0</td>\n",
       "      <td>Parked</td>\n",
       "      <td>Car</td>\n",
       "      <td>Back</td>\n",
       "      <td>0.0</td>\n",
       "      <td>evening (19-23)</td>\n",
       "      <td>None within 50 metres</td>\n",
       "      <td>No physical crossing facilities within 50 metres</td>\n",
       "      <td>4.0</td>\n",
       "    </tr>\n",
       "    <tr>\n",
       "      <th>4</th>\n",
       "      <td>None</td>\n",
       "      <td>Friday</td>\n",
       "      <td>Not at junction or within 20 metres</td>\n",
       "      <td>51.502260</td>\n",
       "      <td>Daylight</td>\n",
       "      <td>Kensington and Chelsea</td>\n",
       "      <td>-0.187623</td>\n",
       "      <td>2</td>\n",
       "      <td>1</td>\n",
       "      <td>Dry</td>\n",
       "      <td>...</td>\n",
       "      <td>Nearside</td>\n",
       "      <td>0.0</td>\n",
       "      <td>Going ahead other</td>\n",
       "      <td>Car</td>\n",
       "      <td>Front</td>\n",
       "      <td>0.0</td>\n",
       "      <td>afternoon rush (15-19)</td>\n",
       "      <td>None within 50 metres</td>\n",
       "      <td>No physical crossing facilities within 50 metres</td>\n",
       "      <td>7.0</td>\n",
       "    </tr>\n",
       "  </tbody>\n",
       "</table>\n",
       "<p>5 rows × 36 columns</p>\n",
       "</div>"
      ],
      "text/plain": [
       "  Carriageway_Hazards Day_of_Week                      Junction_Detail  \\\n",
       "0                None      Friday  Not at junction or within 20 metres   \n",
       "1                None     Tuesday  Not at junction or within 20 metres   \n",
       "2                None     Tuesday  Not at junction or within 20 metres   \n",
       "3                None    Thursday              T or staggered junction   \n",
       "4                None      Friday  Not at junction or within 20 metres   \n",
       "\n",
       "    Latitude       Light_Conditions Local_Authority_(Highway)  Longitude  \\\n",
       "0  51.482442               Daylight    Kensington and Chelsea  -0.173862   \n",
       "1  51.515540               Daylight    Kensington and Chelsea  -0.203238   \n",
       "2  51.515540               Daylight    Kensington and Chelsea  -0.203238   \n",
       "3  51.512695  Darkness - lights lit    Kensington and Chelsea  -0.211277   \n",
       "4  51.502260               Daylight    Kensington and Chelsea  -0.187623   \n",
       "\n",
       "   Number_of_Casualties  Number_of_Vehicles Road_Surface_Conditions  \\\n",
       "0                     1                   1                     Dry   \n",
       "1                     1                   2             Wet or damp   \n",
       "2                     1                   2             Wet or damp   \n",
       "3                     1                   2                     Dry   \n",
       "4                     2                   1                     Dry   \n",
       "\n",
       "            ...            Vehicle_Leaving_Carriageway  \\\n",
       "0           ...              Did not leave carriageway   \n",
       "1           ...              Did not leave carriageway   \n",
       "2           ...              Did not leave carriageway   \n",
       "3           ...              Did not leave carriageway   \n",
       "4           ...                               Nearside   \n",
       "\n",
       "  Vehicle_Location.Restricted_Lane  Vehicle_Manoeuvre  \\\n",
       "0                              0.0  Going ahead other   \n",
       "1                              0.0         Moving off   \n",
       "2                              0.0  Going ahead other   \n",
       "3                              0.0             Parked   \n",
       "4                              0.0  Going ahead other   \n",
       "\n",
       "                 Vehicle_Type X1st_Point_of_Impact  Target_Severe_Indicator  \\\n",
       "0                         Car                Front                      0.0   \n",
       "1                         Car       Did not impact                      0.0   \n",
       "2  Motorcycle 125cc and under       Did not impact                      0.0   \n",
       "3                         Car                 Back                      0.0   \n",
       "4                         Car                Front                      0.0   \n",
       "\n",
       "                  Daytime        Ped_Cross_Human  \\\n",
       "0    office hours (10-15)  None within 50 metres   \n",
       "1    office hours (10-15)  None within 50 metres   \n",
       "2    office hours (10-15)  None within 50 metres   \n",
       "3         evening (19-23)  None within 50 metres   \n",
       "4  afternoon rush (15-19)  None within 50 metres   \n",
       "\n",
       "                                 Ped_Cross_Physical Age_Band_of_Driver_order  \n",
       "0  No physical crossing facilities within 50 metres                      5.0  \n",
       "1  No physical crossing facilities within 50 metres                      5.0  \n",
       "2  No physical crossing facilities within 50 metres                      3.0  \n",
       "3  No physical crossing facilities within 50 metres                      4.0  \n",
       "4  No physical crossing facilities within 50 metres                      7.0  \n",
       "\n",
       "[5 rows x 36 columns]"
      ]
     },
     "execution_count": 5,
     "metadata": {},
     "output_type": "execute_result"
    }
   ],
   "source": [
    "dataset.head()"
   ]
  },
  {
   "cell_type": "code",
   "execution_count": 6,
   "metadata": {},
   "outputs": [
    {
     "name": "stdout",
     "output_type": "stream",
     "text": [
      "<class 'pandas.core.frame.DataFrame'>\n",
      "RangeIndex: 1263105 entries, 0 to 1263104\n",
      "Data columns (total 36 columns):\n",
      "Carriageway_Hazards                 1263105 non-null object\n",
      "Day_of_Week                         1263105 non-null object\n",
      "Junction_Detail                     1263105 non-null object\n",
      "Latitude                            1263105 non-null float64\n",
      "Light_Conditions                    1263105 non-null object\n",
      "Local_Authority_(Highway)           1263105 non-null object\n",
      "Longitude                           1263105 non-null float64\n",
      "Number_of_Casualties                1263105 non-null int64\n",
      "Number_of_Vehicles                  1263105 non-null int64\n",
      "Road_Surface_Conditions             1263105 non-null object\n",
      "Road_Type                           1263105 non-null object\n",
      "Special_Conditions_at_Site          1263105 non-null object\n",
      "Speed_limit                         1263105 non-null float64\n",
      "Urban_or_Rural_Area                 1263105 non-null object\n",
      "Weather_Conditions                  1263105 non-null object\n",
      "Age_of_Vehicle                      1263105 non-null float64\n",
      "Driver_Home_Area_Type               1263105 non-null object\n",
      "Engine_Capacity_.CC.                1263105 non-null float64\n",
      "Hit_Object_in_Carriageway           1263105 non-null object\n",
      "Hit_Object_off_Carriageway          1263105 non-null object\n",
      "Junction_Location                   1263105 non-null object\n",
      "make                                1263105 non-null object\n",
      "Propulsion_Code                     1263105 non-null object\n",
      "Sex_of_Driver                       1263105 non-null object\n",
      "Skidding_and_Overturning            1263105 non-null object\n",
      "Towing_and_Articulation             1263105 non-null object\n",
      "Vehicle_Leaving_Carriageway         1263105 non-null object\n",
      "Vehicle_Location.Restricted_Lane    1263105 non-null float64\n",
      "Vehicle_Manoeuvre                   1263105 non-null object\n",
      "Vehicle_Type                        1263105 non-null object\n",
      "X1st_Point_of_Impact                1263105 non-null object\n",
      "Target_Severe_Indicator             1263105 non-null float64\n",
      "Daytime                             1263105 non-null object\n",
      "Ped_Cross_Human                     1263105 non-null object\n",
      "Ped_Cross_Physical                  1263105 non-null object\n",
      "Age_Band_of_Driver_order            1263105 non-null float64\n",
      "dtypes: float64(8), int64(2), object(26)\n",
      "memory usage: 346.9+ MB\n"
     ]
    }
   ],
   "source": [
    "dataset.info()"
   ]
  },
  {
   "cell_type": "markdown",
   "metadata": {},
   "source": [
    "#### Converting 'Object' to 'category' dtype - Saves memory"
   ]
  },
  {
   "cell_type": "code",
   "execution_count": 7,
   "metadata": {},
   "outputs": [],
   "source": [
    "for col in set(dataset.columns) - set(dataset.describe().columns):\n",
    "    dataset[col] = dataset[col].astype('category')"
   ]
  },
  {
   "cell_type": "code",
   "execution_count": 8,
   "metadata": {},
   "outputs": [
    {
     "name": "stdout",
     "output_type": "stream",
     "text": [
      "<class 'pandas.core.frame.DataFrame'>\n",
      "RangeIndex: 1263105 entries, 0 to 1263104\n",
      "Data columns (total 36 columns):\n",
      "Carriageway_Hazards                 1263105 non-null category\n",
      "Day_of_Week                         1263105 non-null category\n",
      "Junction_Detail                     1263105 non-null category\n",
      "Latitude                            1263105 non-null float64\n",
      "Light_Conditions                    1263105 non-null category\n",
      "Local_Authority_(Highway)           1263105 non-null category\n",
      "Longitude                           1263105 non-null float64\n",
      "Number_of_Casualties                1263105 non-null int64\n",
      "Number_of_Vehicles                  1263105 non-null int64\n",
      "Road_Surface_Conditions             1263105 non-null category\n",
      "Road_Type                           1263105 non-null category\n",
      "Special_Conditions_at_Site          1263105 non-null category\n",
      "Speed_limit                         1263105 non-null float64\n",
      "Urban_or_Rural_Area                 1263105 non-null category\n",
      "Weather_Conditions                  1263105 non-null category\n",
      "Age_of_Vehicle                      1263105 non-null float64\n",
      "Driver_Home_Area_Type               1263105 non-null category\n",
      "Engine_Capacity_.CC.                1263105 non-null float64\n",
      "Hit_Object_in_Carriageway           1263105 non-null category\n",
      "Hit_Object_off_Carriageway          1263105 non-null category\n",
      "Junction_Location                   1263105 non-null category\n",
      "make                                1263105 non-null category\n",
      "Propulsion_Code                     1263105 non-null category\n",
      "Sex_of_Driver                       1263105 non-null category\n",
      "Skidding_and_Overturning            1263105 non-null category\n",
      "Towing_and_Articulation             1263105 non-null category\n",
      "Vehicle_Leaving_Carriageway         1263105 non-null category\n",
      "Vehicle_Location.Restricted_Lane    1263105 non-null float64\n",
      "Vehicle_Manoeuvre                   1263105 non-null category\n",
      "Vehicle_Type                        1263105 non-null category\n",
      "X1st_Point_of_Impact                1263105 non-null category\n",
      "Target_Severe_Indicator             1263105 non-null float64\n",
      "Daytime                             1263105 non-null category\n",
      "Ped_Cross_Human                     1263105 non-null category\n",
      "Ped_Cross_Physical                  1263105 non-null category\n",
      "Age_Band_of_Driver_order            1263105 non-null float64\n",
      "dtypes: category(26), float64(8), int64(2)\n",
      "memory usage: 130.1 MB\n"
     ]
    }
   ],
   "source": [
    "dataset.info()"
   ]
  },
  {
   "cell_type": "markdown",
   "metadata": {},
   "source": [
    "### Random Sampling - removed rows at random to speed up model run times (for testing purposes only) \n",
    "Considering the imbalance of classes in the target variable, it may be worth using random stratified sampling to maintain proportionality of classes of the original dataset (Stratified sampling not carried out here however)"
   ]
  },
  {
   "cell_type": "code",
   "execution_count": 10,
   "metadata": {},
   "outputs": [],
   "source": [
    "np.random.seed(150)\n",
    "\n",
    "remove_n = 1100000 #Sample size to remove from original dataset\n",
    "df = dataset\n",
    "drop_indices = np.random.choice(df.index, remove_n, replace=False)\n",
    "df_subset = df.drop(drop_indices)"
   ]
  },
  {
   "cell_type": "code",
   "execution_count": 11,
   "metadata": {},
   "outputs": [
    {
     "data": {
      "text/plain": [
       "(163105, 36)"
      ]
     },
     "execution_count": 11,
     "metadata": {},
     "output_type": "execute_result"
    },
    {
     "data": {
      "text/html": [
       "<div>\n",
       "<style scoped>\n",
       "    .dataframe tbody tr th:only-of-type {\n",
       "        vertical-align: middle;\n",
       "    }\n",
       "\n",
       "    .dataframe tbody tr th {\n",
       "        vertical-align: top;\n",
       "    }\n",
       "\n",
       "    .dataframe thead th {\n",
       "        text-align: right;\n",
       "    }\n",
       "</style>\n",
       "<table border=\"1\" class=\"dataframe\">\n",
       "  <thead>\n",
       "    <tr style=\"text-align: right;\">\n",
       "      <th></th>\n",
       "      <th>Carriageway_Hazards</th>\n",
       "      <th>Day_of_Week</th>\n",
       "      <th>Junction_Detail</th>\n",
       "      <th>Latitude</th>\n",
       "      <th>Light_Conditions</th>\n",
       "      <th>Local_Authority_(Highway)</th>\n",
       "      <th>Longitude</th>\n",
       "      <th>Number_of_Casualties</th>\n",
       "      <th>Number_of_Vehicles</th>\n",
       "      <th>Road_Surface_Conditions</th>\n",
       "      <th>...</th>\n",
       "      <th>Vehicle_Leaving_Carriageway</th>\n",
       "      <th>Vehicle_Location.Restricted_Lane</th>\n",
       "      <th>Vehicle_Manoeuvre</th>\n",
       "      <th>Vehicle_Type</th>\n",
       "      <th>X1st_Point_of_Impact</th>\n",
       "      <th>Target_Severe_Indicator</th>\n",
       "      <th>Daytime</th>\n",
       "      <th>Ped_Cross_Human</th>\n",
       "      <th>Ped_Cross_Physical</th>\n",
       "      <th>Age_Band_of_Driver_order</th>\n",
       "    </tr>\n",
       "  </thead>\n",
       "  <tbody>\n",
       "    <tr>\n",
       "      <th>1</th>\n",
       "      <td>None</td>\n",
       "      <td>Tuesday</td>\n",
       "      <td>Not at junction or within 20 metres</td>\n",
       "      <td>51.515540</td>\n",
       "      <td>Daylight</td>\n",
       "      <td>Kensington and Chelsea</td>\n",
       "      <td>-0.203238</td>\n",
       "      <td>1</td>\n",
       "      <td>2</td>\n",
       "      <td>Wet or damp</td>\n",
       "      <td>...</td>\n",
       "      <td>Did not leave carriageway</td>\n",
       "      <td>0.0</td>\n",
       "      <td>Moving off</td>\n",
       "      <td>Car</td>\n",
       "      <td>Did not impact</td>\n",
       "      <td>0.0</td>\n",
       "      <td>office hours (10-15)</td>\n",
       "      <td>None within 50 metres</td>\n",
       "      <td>No physical crossing facilities within 50 metres</td>\n",
       "      <td>5.0</td>\n",
       "    </tr>\n",
       "    <tr>\n",
       "      <th>6</th>\n",
       "      <td>None</td>\n",
       "      <td>Tuesday</td>\n",
       "      <td>T or staggered junction</td>\n",
       "      <td>51.492622</td>\n",
       "      <td>Darkness - lights lit</td>\n",
       "      <td>Kensington and Chelsea</td>\n",
       "      <td>-0.157753</td>\n",
       "      <td>1</td>\n",
       "      <td>2</td>\n",
       "      <td>Wet or damp</td>\n",
       "      <td>...</td>\n",
       "      <td>Offside</td>\n",
       "      <td>0.0</td>\n",
       "      <td>Going ahead other</td>\n",
       "      <td>Car</td>\n",
       "      <td>Front</td>\n",
       "      <td>0.0</td>\n",
       "      <td>morning rush (5-10)</td>\n",
       "      <td>None within 50 metres</td>\n",
       "      <td>No physical crossing facilities within 50 metres</td>\n",
       "      <td>3.0</td>\n",
       "    </tr>\n",
       "    <tr>\n",
       "      <th>7</th>\n",
       "      <td>None</td>\n",
       "      <td>Tuesday</td>\n",
       "      <td>T or staggered junction</td>\n",
       "      <td>51.492622</td>\n",
       "      <td>Darkness - lights lit</td>\n",
       "      <td>Kensington and Chelsea</td>\n",
       "      <td>-0.157753</td>\n",
       "      <td>1</td>\n",
       "      <td>2</td>\n",
       "      <td>Wet or damp</td>\n",
       "      <td>...</td>\n",
       "      <td>Did not leave carriageway</td>\n",
       "      <td>0.0</td>\n",
       "      <td>Turning left</td>\n",
       "      <td>Car</td>\n",
       "      <td>Did not impact</td>\n",
       "      <td>0.0</td>\n",
       "      <td>morning rush (5-10)</td>\n",
       "      <td>None within 50 metres</td>\n",
       "      <td>No physical crossing facilities within 50 metres</td>\n",
       "      <td>3.0</td>\n",
       "    </tr>\n",
       "    <tr>\n",
       "      <th>12</th>\n",
       "      <td>None</td>\n",
       "      <td>Saturday</td>\n",
       "      <td>T or staggered junction</td>\n",
       "      <td>51.495498</td>\n",
       "      <td>Darkness - lights lit</td>\n",
       "      <td>Kensington and Chelsea</td>\n",
       "      <td>-0.174925</td>\n",
       "      <td>1</td>\n",
       "      <td>1</td>\n",
       "      <td>Dry</td>\n",
       "      <td>...</td>\n",
       "      <td>Did not leave carriageway</td>\n",
       "      <td>0.0</td>\n",
       "      <td>Going ahead other</td>\n",
       "      <td>Car</td>\n",
       "      <td>Front</td>\n",
       "      <td>1.0</td>\n",
       "      <td>night (23-5)</td>\n",
       "      <td>None within 50 metres</td>\n",
       "      <td>No physical crossing facilities within 50 metres</td>\n",
       "      <td>3.0</td>\n",
       "    </tr>\n",
       "    <tr>\n",
       "      <th>49</th>\n",
       "      <td>None</td>\n",
       "      <td>Saturday</td>\n",
       "      <td>Crossroads</td>\n",
       "      <td>51.517616</td>\n",
       "      <td>Daylight</td>\n",
       "      <td>Kensington and Chelsea</td>\n",
       "      <td>-0.203733</td>\n",
       "      <td>1</td>\n",
       "      <td>2</td>\n",
       "      <td>Dry</td>\n",
       "      <td>...</td>\n",
       "      <td>Did not leave carriageway</td>\n",
       "      <td>0.0</td>\n",
       "      <td>Going ahead other</td>\n",
       "      <td>Motorcycle 50cc and under</td>\n",
       "      <td>Front</td>\n",
       "      <td>0.0</td>\n",
       "      <td>morning rush (5-10)</td>\n",
       "      <td>None within 50 metres</td>\n",
       "      <td>No physical crossing facilities within 50 metres</td>\n",
       "      <td>4.0</td>\n",
       "    </tr>\n",
       "  </tbody>\n",
       "</table>\n",
       "<p>5 rows × 36 columns</p>\n",
       "</div>"
      ],
      "text/plain": [
       "   Carriageway_Hazards Day_of_Week                      Junction_Detail  \\\n",
       "1                 None     Tuesday  Not at junction or within 20 metres   \n",
       "6                 None     Tuesday              T or staggered junction   \n",
       "7                 None     Tuesday              T or staggered junction   \n",
       "12                None    Saturday              T or staggered junction   \n",
       "49                None    Saturday                           Crossroads   \n",
       "\n",
       "     Latitude       Light_Conditions Local_Authority_(Highway)  Longitude  \\\n",
       "1   51.515540               Daylight    Kensington and Chelsea  -0.203238   \n",
       "6   51.492622  Darkness - lights lit    Kensington and Chelsea  -0.157753   \n",
       "7   51.492622  Darkness - lights lit    Kensington and Chelsea  -0.157753   \n",
       "12  51.495498  Darkness - lights lit    Kensington and Chelsea  -0.174925   \n",
       "49  51.517616               Daylight    Kensington and Chelsea  -0.203733   \n",
       "\n",
       "    Number_of_Casualties  Number_of_Vehicles Road_Surface_Conditions  \\\n",
       "1                      1                   2             Wet or damp   \n",
       "6                      1                   2             Wet or damp   \n",
       "7                      1                   2             Wet or damp   \n",
       "12                     1                   1                     Dry   \n",
       "49                     1                   2                     Dry   \n",
       "\n",
       "             ...            Vehicle_Leaving_Carriageway  \\\n",
       "1            ...              Did not leave carriageway   \n",
       "6            ...                                Offside   \n",
       "7            ...              Did not leave carriageway   \n",
       "12           ...              Did not leave carriageway   \n",
       "49           ...              Did not leave carriageway   \n",
       "\n",
       "   Vehicle_Location.Restricted_Lane  Vehicle_Manoeuvre  \\\n",
       "1                               0.0         Moving off   \n",
       "6                               0.0  Going ahead other   \n",
       "7                               0.0       Turning left   \n",
       "12                              0.0  Going ahead other   \n",
       "49                              0.0  Going ahead other   \n",
       "\n",
       "                 Vehicle_Type X1st_Point_of_Impact  Target_Severe_Indicator  \\\n",
       "1                         Car       Did not impact                      0.0   \n",
       "6                         Car                Front                      0.0   \n",
       "7                         Car       Did not impact                      0.0   \n",
       "12                        Car                Front                      1.0   \n",
       "49  Motorcycle 50cc and under                Front                      0.0   \n",
       "\n",
       "                 Daytime        Ped_Cross_Human  \\\n",
       "1   office hours (10-15)  None within 50 metres   \n",
       "6    morning rush (5-10)  None within 50 metres   \n",
       "7    morning rush (5-10)  None within 50 metres   \n",
       "12          night (23-5)  None within 50 metres   \n",
       "49   morning rush (5-10)  None within 50 metres   \n",
       "\n",
       "                                  Ped_Cross_Physical Age_Band_of_Driver_order  \n",
       "1   No physical crossing facilities within 50 metres                      5.0  \n",
       "6   No physical crossing facilities within 50 metres                      3.0  \n",
       "7   No physical crossing facilities within 50 metres                      3.0  \n",
       "12  No physical crossing facilities within 50 metres                      3.0  \n",
       "49  No physical crossing facilities within 50 metres                      4.0  \n",
       "\n",
       "[5 rows x 36 columns]"
      ]
     },
     "execution_count": 11,
     "metadata": {},
     "output_type": "execute_result"
    }
   ],
   "source": [
    "df_subset.shape\n",
    "df_subset.head()"
   ]
  },
  {
   "cell_type": "code",
   "execution_count": 12,
   "metadata": {},
   "outputs": [
    {
     "data": {
      "text/plain": [
       "0.0    139876\n",
       "1.0     23229\n",
       "Name: Target_Severe_Indicator, dtype: int64"
      ]
     },
     "execution_count": 12,
     "metadata": {},
     "output_type": "execute_result"
    }
   ],
   "source": [
    "# 85% to 15% distribution of target class - Proportionality of the original dataset is still maintained\n",
    "df_subset['Target_Severe_Indicator'].value_counts()"
   ]
  },
  {
   "cell_type": "markdown",
   "metadata": {},
   "source": [
    "### Splitting target variable from predictor variables"
   ]
  },
  {
   "cell_type": "code",
   "execution_count": 13,
   "metadata": {},
   "outputs": [],
   "source": [
    "dataset_X = df_subset.drop('Target_Severe_Indicator', axis=1)  \n",
    "dataset_Y = df_subset['Target_Severe_Indicator']  "
   ]
  },
  {
   "cell_type": "code",
   "execution_count": 14,
   "metadata": {},
   "outputs": [],
   "source": [
    "# Converting independent categorical features to Numerical by creating Dummy variables\n",
    "\n",
    "dataset_X_dummy = pd.get_dummies(dataset_X)\n",
    "#print(dataset_X_dummy.head())"
   ]
  },
  {
   "cell_type": "code",
   "execution_count": 15,
   "metadata": {},
   "outputs": [
    {
     "data": {
      "text/plain": [
       "(163105, 753)"
      ]
     },
     "execution_count": 15,
     "metadata": {},
     "output_type": "execute_result"
    }
   ],
   "source": [
    "dataset_X_dummy.shape"
   ]
  },
  {
   "cell_type": "markdown",
   "metadata": {},
   "source": [
    "## Feature Selection"
   ]
  },
  {
   "cell_type": "markdown",
   "metadata": {},
   "source": [
    "### 1. Applying VarianceThreshold filter"
   ]
  },
  {
   "cell_type": "code",
   "execution_count": 16,
   "metadata": {},
   "outputs": [],
   "source": [
    "from sklearn.feature_selection import VarianceThreshold\n",
    "\n",
    "# threshold set to 87% for variance \n",
    "# i.e. if 87% of the column data is the same (i.e. low variation), the column will not be as useful\n",
    "# in the prediction\n",
    "thresh=(.85 * (1 - .85))"
   ]
  },
  {
   "cell_type": "code",
   "execution_count": 17,
   "metadata": {},
   "outputs": [],
   "source": [
    "# Wrapper function to identify low variance features and remove them from the dataframe \n",
    "\n",
    "def get_low_variance_columns(dframe=None, columns=None,\n",
    "                             skip_columns=None, thresh=0.0,\n",
    "                             autoremove=False):\n",
    "    try:\n",
    "        # get list of all the original df columns\n",
    "        all_columns = dframe.columns\n",
    "\n",
    "        # remove `skip_columns`\n",
    "        remaining_columns = all_columns.drop(skip_columns)\n",
    "\n",
    "        # get length of new index\n",
    "        max_index = len(remaining_columns) - 1\n",
    "\n",
    "        # get indices for `skip_columns`\n",
    "        skipped_idx = [all_columns.get_loc(column)\n",
    "                       for column\n",
    "                       in skip_columns]\n",
    "\n",
    "        # adjust insert location by the number of columns removed\n",
    "        # (for non-zero insertion locations) to keep relative\n",
    "        # locations intact\n",
    "        for idx, item in enumerate(skipped_idx):\n",
    "            if item > max_index:\n",
    "                diff = item - max_index\n",
    "                skipped_idx[idx] -= diff\n",
    "            if item == max_index:\n",
    "                diff = item - len(skip_columns)\n",
    "                skipped_idx[idx] -= diff\n",
    "            if idx == 0:\n",
    "                skipped_idx[idx] = item\n",
    "\n",
    "        # get values of `skip_columns`\n",
    "        skipped_values = dframe.iloc[:, skipped_idx].values\n",
    "\n",
    "        # get dataframe values\n",
    "        X = dframe.loc[:, remaining_columns].values\n",
    "\n",
    "        # instantiate VarianceThreshold object\n",
    "        vt = VarianceThreshold(threshold=thresh)\n",
    "\n",
    "        # fit vt to data\n",
    "        vt.fit(X)\n",
    "\n",
    "        # get the indices of the features that are being kept\n",
    "        feature_indices = vt.get_support(indices=True)\n",
    "\n",
    "        # remove low-variance columns from index\n",
    "        feature_names = [remaining_columns[idx]\n",
    "                         for idx, _\n",
    "                         in enumerate(remaining_columns)\n",
    "                         if idx\n",
    "                         in feature_indices]\n",
    "\n",
    "        # get the columns to be removed\n",
    "        removed_features = list(np.setdiff1d(remaining_columns,\n",
    "                                             feature_names))\n",
    "        print(\"Found {0} low-variance columns.\"\n",
    "              .format(len(removed_features)))\n",
    "\n",
    "        # remove the columns\n",
    "        if autoremove:\n",
    "            print(\"Removing low-variance features.\")\n",
    "            # remove the low-variance columns\n",
    "            X_removed = vt.transform(X)\n",
    "\n",
    "            print(\"Reassembling the dataframe (with low-variance \"\n",
    "                  \"features removed).\")\n",
    "            # re-assemble the dataframe\n",
    "            dframe = pd.DataFrame(data=X_removed,\n",
    "                                  columns=feature_names)\n",
    "\n",
    "            # add back the `skip_columns`\n",
    "            for idx, index in enumerate(skipped_idx):\n",
    "                dframe.insert(loc=index,\n",
    "                              column=skip_columns[idx],\n",
    "                              value=skipped_values[:, idx])\n",
    "            print(\"Succesfully removed low-variance columns.\")\n",
    "\n",
    "        # do not remove columns\n",
    "        else:\n",
    "            print(\"No changes have been made to the dataframe.\")\n",
    "\n",
    "    except Exception as e:\n",
    "        print(e)\n",
    "        print(\"Could not remove low-variance features. Something \"\n",
    "              \"went wrong.\")\n",
    "        pass\n",
    "\n",
    "    return dframe, removed_features"
   ]
  },
  {
   "cell_type": "code",
   "execution_count": 18,
   "metadata": {},
   "outputs": [
    {
     "name": "stdout",
     "output_type": "stream",
     "text": [
      "Found 715 low-variance columns.\n",
      "Removing low-variance features.\n",
      "Reassembling the dataframe (with low-variance features removed).\n",
      "Succesfully removed low-variance columns.\n"
     ]
    }
   ],
   "source": [
    "# retrieve new dataframe (with low variance features)\n",
    "dataset_X_new, low_var_col = get_low_variance_columns(dataset_X_dummy,[],[],thresh, True) \n",
    "#Set to True to remove low variance columns"
   ]
  },
  {
   "cell_type": "code",
   "execution_count": 19,
   "metadata": {},
   "outputs": [
    {
     "data": {
      "text/plain": [
       "(163105, 38)"
      ]
     },
     "execution_count": 19,
     "metadata": {},
     "output_type": "execute_result"
    }
   ],
   "source": [
    "dataset_X_new.shape"
   ]
  },
  {
   "cell_type": "code",
   "execution_count": 20,
   "metadata": {},
   "outputs": [
    {
     "data": {
      "text/html": [
       "<div>\n",
       "<style scoped>\n",
       "    .dataframe tbody tr th:only-of-type {\n",
       "        vertical-align: middle;\n",
       "    }\n",
       "\n",
       "    .dataframe tbody tr th {\n",
       "        vertical-align: top;\n",
       "    }\n",
       "\n",
       "    .dataframe thead th {\n",
       "        text-align: right;\n",
       "    }\n",
       "</style>\n",
       "<table border=\"1\" class=\"dataframe\">\n",
       "  <thead>\n",
       "    <tr style=\"text-align: right;\">\n",
       "      <th></th>\n",
       "      <th>Latitude</th>\n",
       "      <th>Longitude</th>\n",
       "      <th>Number_of_Casualties</th>\n",
       "      <th>Number_of_Vehicles</th>\n",
       "      <th>Speed_limit</th>\n",
       "      <th>Age_of_Vehicle</th>\n",
       "      <th>Engine_Capacity_.CC.</th>\n",
       "      <th>Vehicle_Location.Restricted_Lane</th>\n",
       "      <th>Age_Band_of_Driver_order</th>\n",
       "      <th>Day_of_Week_Friday</th>\n",
       "      <th>...</th>\n",
       "      <th>Sex_of_Driver_Female</th>\n",
       "      <th>Sex_of_Driver_Male</th>\n",
       "      <th>Vehicle_Manoeuvre_Going ahead other</th>\n",
       "      <th>Vehicle_Type_Car</th>\n",
       "      <th>X1st_Point_of_Impact_Back</th>\n",
       "      <th>X1st_Point_of_Impact_Front</th>\n",
       "      <th>Daytime_afternoon rush (15-19)</th>\n",
       "      <th>Daytime_morning rush (5-10)</th>\n",
       "      <th>Daytime_office hours (10-15)</th>\n",
       "      <th>Ped_Cross_Physical_No physical crossing facilities within 50 metres</th>\n",
       "    </tr>\n",
       "  </thead>\n",
       "  <tbody>\n",
       "    <tr>\n",
       "      <th>0</th>\n",
       "      <td>51.515540</td>\n",
       "      <td>-0.203238</td>\n",
       "      <td>1.0</td>\n",
       "      <td>2.0</td>\n",
       "      <td>30.0</td>\n",
       "      <td>1.0</td>\n",
       "      <td>2976.0</td>\n",
       "      <td>0.0</td>\n",
       "      <td>5.0</td>\n",
       "      <td>0.0</td>\n",
       "      <td>...</td>\n",
       "      <td>0.0</td>\n",
       "      <td>1.0</td>\n",
       "      <td>0.0</td>\n",
       "      <td>1.0</td>\n",
       "      <td>0.0</td>\n",
       "      <td>0.0</td>\n",
       "      <td>0.0</td>\n",
       "      <td>0.0</td>\n",
       "      <td>1.0</td>\n",
       "      <td>1.0</td>\n",
       "    </tr>\n",
       "    <tr>\n",
       "      <th>1</th>\n",
       "      <td>51.492622</td>\n",
       "      <td>-0.157753</td>\n",
       "      <td>1.0</td>\n",
       "      <td>2.0</td>\n",
       "      <td>30.0</td>\n",
       "      <td>2.0</td>\n",
       "      <td>698.0</td>\n",
       "      <td>0.0</td>\n",
       "      <td>3.0</td>\n",
       "      <td>0.0</td>\n",
       "      <td>...</td>\n",
       "      <td>0.0</td>\n",
       "      <td>1.0</td>\n",
       "      <td>1.0</td>\n",
       "      <td>1.0</td>\n",
       "      <td>0.0</td>\n",
       "      <td>1.0</td>\n",
       "      <td>0.0</td>\n",
       "      <td>1.0</td>\n",
       "      <td>0.0</td>\n",
       "      <td>1.0</td>\n",
       "    </tr>\n",
       "    <tr>\n",
       "      <th>2</th>\n",
       "      <td>51.492622</td>\n",
       "      <td>-0.157753</td>\n",
       "      <td>1.0</td>\n",
       "      <td>2.0</td>\n",
       "      <td>30.0</td>\n",
       "      <td>4.0</td>\n",
       "      <td>2148.0</td>\n",
       "      <td>0.0</td>\n",
       "      <td>3.0</td>\n",
       "      <td>0.0</td>\n",
       "      <td>...</td>\n",
       "      <td>0.0</td>\n",
       "      <td>1.0</td>\n",
       "      <td>0.0</td>\n",
       "      <td>1.0</td>\n",
       "      <td>0.0</td>\n",
       "      <td>0.0</td>\n",
       "      <td>0.0</td>\n",
       "      <td>1.0</td>\n",
       "      <td>0.0</td>\n",
       "      <td>1.0</td>\n",
       "    </tr>\n",
       "    <tr>\n",
       "      <th>3</th>\n",
       "      <td>51.495498</td>\n",
       "      <td>-0.174925</td>\n",
       "      <td>1.0</td>\n",
       "      <td>1.0</td>\n",
       "      <td>30.0</td>\n",
       "      <td>1.0</td>\n",
       "      <td>1997.0</td>\n",
       "      <td>0.0</td>\n",
       "      <td>3.0</td>\n",
       "      <td>0.0</td>\n",
       "      <td>...</td>\n",
       "      <td>0.0</td>\n",
       "      <td>1.0</td>\n",
       "      <td>1.0</td>\n",
       "      <td>1.0</td>\n",
       "      <td>0.0</td>\n",
       "      <td>1.0</td>\n",
       "      <td>0.0</td>\n",
       "      <td>0.0</td>\n",
       "      <td>0.0</td>\n",
       "      <td>1.0</td>\n",
       "    </tr>\n",
       "    <tr>\n",
       "      <th>4</th>\n",
       "      <td>51.517616</td>\n",
       "      <td>-0.203733</td>\n",
       "      <td>1.0</td>\n",
       "      <td>2.0</td>\n",
       "      <td>30.0</td>\n",
       "      <td>3.0</td>\n",
       "      <td>49.0</td>\n",
       "      <td>0.0</td>\n",
       "      <td>4.0</td>\n",
       "      <td>0.0</td>\n",
       "      <td>...</td>\n",
       "      <td>0.0</td>\n",
       "      <td>1.0</td>\n",
       "      <td>1.0</td>\n",
       "      <td>0.0</td>\n",
       "      <td>0.0</td>\n",
       "      <td>1.0</td>\n",
       "      <td>0.0</td>\n",
       "      <td>1.0</td>\n",
       "      <td>0.0</td>\n",
       "      <td>1.0</td>\n",
       "    </tr>\n",
       "  </tbody>\n",
       "</table>\n",
       "<p>5 rows × 38 columns</p>\n",
       "</div>"
      ],
      "text/plain": [
       "    Latitude  Longitude  Number_of_Casualties  Number_of_Vehicles  \\\n",
       "0  51.515540  -0.203238                   1.0                 2.0   \n",
       "1  51.492622  -0.157753                   1.0                 2.0   \n",
       "2  51.492622  -0.157753                   1.0                 2.0   \n",
       "3  51.495498  -0.174925                   1.0                 1.0   \n",
       "4  51.517616  -0.203733                   1.0                 2.0   \n",
       "\n",
       "   Speed_limit  Age_of_Vehicle  Engine_Capacity_.CC.  \\\n",
       "0         30.0             1.0                2976.0   \n",
       "1         30.0             2.0                 698.0   \n",
       "2         30.0             4.0                2148.0   \n",
       "3         30.0             1.0                1997.0   \n",
       "4         30.0             3.0                  49.0   \n",
       "\n",
       "   Vehicle_Location.Restricted_Lane  Age_Band_of_Driver_order  \\\n",
       "0                               0.0                       5.0   \n",
       "1                               0.0                       3.0   \n",
       "2                               0.0                       3.0   \n",
       "3                               0.0                       3.0   \n",
       "4                               0.0                       4.0   \n",
       "\n",
       "   Day_of_Week_Friday  \\\n",
       "0                 0.0   \n",
       "1                 0.0   \n",
       "2                 0.0   \n",
       "3                 0.0   \n",
       "4                 0.0   \n",
       "\n",
       "                                  ...                                   \\\n",
       "0                                 ...                                    \n",
       "1                                 ...                                    \n",
       "2                                 ...                                    \n",
       "3                                 ...                                    \n",
       "4                                 ...                                    \n",
       "\n",
       "   Sex_of_Driver_Female  Sex_of_Driver_Male  \\\n",
       "0                   0.0                 1.0   \n",
       "1                   0.0                 1.0   \n",
       "2                   0.0                 1.0   \n",
       "3                   0.0                 1.0   \n",
       "4                   0.0                 1.0   \n",
       "\n",
       "   Vehicle_Manoeuvre_Going ahead other  Vehicle_Type_Car  \\\n",
       "0                                  0.0               1.0   \n",
       "1                                  1.0               1.0   \n",
       "2                                  0.0               1.0   \n",
       "3                                  1.0               1.0   \n",
       "4                                  1.0               0.0   \n",
       "\n",
       "   X1st_Point_of_Impact_Back  X1st_Point_of_Impact_Front  \\\n",
       "0                        0.0                         0.0   \n",
       "1                        0.0                         1.0   \n",
       "2                        0.0                         0.0   \n",
       "3                        0.0                         1.0   \n",
       "4                        0.0                         1.0   \n",
       "\n",
       "   Daytime_afternoon rush (15-19)  Daytime_morning rush (5-10)  \\\n",
       "0                             0.0                          0.0   \n",
       "1                             0.0                          1.0   \n",
       "2                             0.0                          1.0   \n",
       "3                             0.0                          0.0   \n",
       "4                             0.0                          1.0   \n",
       "\n",
       "   Daytime_office hours (10-15)  \\\n",
       "0                           1.0   \n",
       "1                           0.0   \n",
       "2                           0.0   \n",
       "3                           0.0   \n",
       "4                           0.0   \n",
       "\n",
       "   Ped_Cross_Physical_No physical crossing facilities within 50 metres  \n",
       "0                                                1.0                    \n",
       "1                                                1.0                    \n",
       "2                                                1.0                    \n",
       "3                                                1.0                    \n",
       "4                                                1.0                    \n",
       "\n",
       "[5 rows x 38 columns]"
      ]
     },
     "execution_count": 20,
     "metadata": {},
     "output_type": "execute_result"
    }
   ],
   "source": [
    "dataset_X_new.head()"
   ]
  },
  {
   "cell_type": "markdown",
   "metadata": {},
   "source": [
    "**Normalizing data** - adjusting values measured on different scales to a notionally common scale (between 0 - 1)"
   ]
  },
  {
   "cell_type": "code",
   "execution_count": 21,
   "metadata": {},
   "outputs": [],
   "source": [
    "dataset_X_normalized=(dataset_X_new-dataset_X_new.min())/(dataset_X_new.max()-dataset_X_new.min())"
   ]
  },
  {
   "cell_type": "code",
   "execution_count": 22,
   "metadata": {},
   "outputs": [
    {
     "data": {
      "text/html": [
       "<div>\n",
       "<style scoped>\n",
       "    .dataframe tbody tr th:only-of-type {\n",
       "        vertical-align: middle;\n",
       "    }\n",
       "\n",
       "    .dataframe tbody tr th {\n",
       "        vertical-align: top;\n",
       "    }\n",
       "\n",
       "    .dataframe thead th {\n",
       "        text-align: right;\n",
       "    }\n",
       "</style>\n",
       "<table border=\"1\" class=\"dataframe\">\n",
       "  <thead>\n",
       "    <tr style=\"text-align: right;\">\n",
       "      <th></th>\n",
       "      <th>Latitude</th>\n",
       "      <th>Longitude</th>\n",
       "      <th>Number_of_Casualties</th>\n",
       "      <th>Number_of_Vehicles</th>\n",
       "      <th>Speed_limit</th>\n",
       "      <th>Age_of_Vehicle</th>\n",
       "      <th>Engine_Capacity_.CC.</th>\n",
       "      <th>Vehicle_Location.Restricted_Lane</th>\n",
       "      <th>Age_Band_of_Driver_order</th>\n",
       "      <th>Day_of_Week_Friday</th>\n",
       "      <th>...</th>\n",
       "      <th>Sex_of_Driver_Female</th>\n",
       "      <th>Sex_of_Driver_Male</th>\n",
       "      <th>Vehicle_Manoeuvre_Going ahead other</th>\n",
       "      <th>Vehicle_Type_Car</th>\n",
       "      <th>X1st_Point_of_Impact_Back</th>\n",
       "      <th>X1st_Point_of_Impact_Front</th>\n",
       "      <th>Daytime_afternoon rush (15-19)</th>\n",
       "      <th>Daytime_morning rush (5-10)</th>\n",
       "      <th>Daytime_office hours (10-15)</th>\n",
       "      <th>Ped_Cross_Physical_No physical crossing facilities within 50 metres</th>\n",
       "    </tr>\n",
       "  </thead>\n",
       "  <tbody>\n",
       "    <tr>\n",
       "      <th>0</th>\n",
       "      <td>0.142774</td>\n",
       "      <td>0.788285</td>\n",
       "      <td>0.0</td>\n",
       "      <td>0.015152</td>\n",
       "      <td>0.2</td>\n",
       "      <td>0.000000</td>\n",
       "      <td>0.106284</td>\n",
       "      <td>0.0</td>\n",
       "      <td>0.571429</td>\n",
       "      <td>0.0</td>\n",
       "      <td>...</td>\n",
       "      <td>0.0</td>\n",
       "      <td>1.0</td>\n",
       "      <td>0.0</td>\n",
       "      <td>1.0</td>\n",
       "      <td>0.0</td>\n",
       "      <td>0.0</td>\n",
       "      <td>0.0</td>\n",
       "      <td>0.0</td>\n",
       "      <td>1.0</td>\n",
       "      <td>1.0</td>\n",
       "    </tr>\n",
       "    <tr>\n",
       "      <th>1</th>\n",
       "      <td>0.140562</td>\n",
       "      <td>0.793194</td>\n",
       "      <td>0.0</td>\n",
       "      <td>0.015152</td>\n",
       "      <td>0.2</td>\n",
       "      <td>0.014493</td>\n",
       "      <td>0.023820</td>\n",
       "      <td>0.0</td>\n",
       "      <td>0.285714</td>\n",
       "      <td>0.0</td>\n",
       "      <td>...</td>\n",
       "      <td>0.0</td>\n",
       "      <td>1.0</td>\n",
       "      <td>1.0</td>\n",
       "      <td>1.0</td>\n",
       "      <td>0.0</td>\n",
       "      <td>1.0</td>\n",
       "      <td>0.0</td>\n",
       "      <td>1.0</td>\n",
       "      <td>0.0</td>\n",
       "      <td>1.0</td>\n",
       "    </tr>\n",
       "    <tr>\n",
       "      <th>2</th>\n",
       "      <td>0.140562</td>\n",
       "      <td>0.793194</td>\n",
       "      <td>0.0</td>\n",
       "      <td>0.015152</td>\n",
       "      <td>0.2</td>\n",
       "      <td>0.043478</td>\n",
       "      <td>0.076310</td>\n",
       "      <td>0.0</td>\n",
       "      <td>0.285714</td>\n",
       "      <td>0.0</td>\n",
       "      <td>...</td>\n",
       "      <td>0.0</td>\n",
       "      <td>1.0</td>\n",
       "      <td>0.0</td>\n",
       "      <td>1.0</td>\n",
       "      <td>0.0</td>\n",
       "      <td>0.0</td>\n",
       "      <td>0.0</td>\n",
       "      <td>1.0</td>\n",
       "      <td>0.0</td>\n",
       "      <td>1.0</td>\n",
       "    </tr>\n",
       "    <tr>\n",
       "      <th>3</th>\n",
       "      <td>0.140839</td>\n",
       "      <td>0.791340</td>\n",
       "      <td>0.0</td>\n",
       "      <td>0.000000</td>\n",
       "      <td>0.2</td>\n",
       "      <td>0.000000</td>\n",
       "      <td>0.070844</td>\n",
       "      <td>0.0</td>\n",
       "      <td>0.285714</td>\n",
       "      <td>0.0</td>\n",
       "      <td>...</td>\n",
       "      <td>0.0</td>\n",
       "      <td>1.0</td>\n",
       "      <td>1.0</td>\n",
       "      <td>1.0</td>\n",
       "      <td>0.0</td>\n",
       "      <td>1.0</td>\n",
       "      <td>0.0</td>\n",
       "      <td>0.0</td>\n",
       "      <td>0.0</td>\n",
       "      <td>1.0</td>\n",
       "    </tr>\n",
       "    <tr>\n",
       "      <th>4</th>\n",
       "      <td>0.142975</td>\n",
       "      <td>0.788231</td>\n",
       "      <td>0.0</td>\n",
       "      <td>0.015152</td>\n",
       "      <td>0.2</td>\n",
       "      <td>0.028986</td>\n",
       "      <td>0.000326</td>\n",
       "      <td>0.0</td>\n",
       "      <td>0.428571</td>\n",
       "      <td>0.0</td>\n",
       "      <td>...</td>\n",
       "      <td>0.0</td>\n",
       "      <td>1.0</td>\n",
       "      <td>1.0</td>\n",
       "      <td>0.0</td>\n",
       "      <td>0.0</td>\n",
       "      <td>1.0</td>\n",
       "      <td>0.0</td>\n",
       "      <td>1.0</td>\n",
       "      <td>0.0</td>\n",
       "      <td>1.0</td>\n",
       "    </tr>\n",
       "  </tbody>\n",
       "</table>\n",
       "<p>5 rows × 38 columns</p>\n",
       "</div>"
      ],
      "text/plain": [
       "   Latitude  Longitude  Number_of_Casualties  Number_of_Vehicles  Speed_limit  \\\n",
       "0  0.142774   0.788285                   0.0            0.015152          0.2   \n",
       "1  0.140562   0.793194                   0.0            0.015152          0.2   \n",
       "2  0.140562   0.793194                   0.0            0.015152          0.2   \n",
       "3  0.140839   0.791340                   0.0            0.000000          0.2   \n",
       "4  0.142975   0.788231                   0.0            0.015152          0.2   \n",
       "\n",
       "   Age_of_Vehicle  Engine_Capacity_.CC.  Vehicle_Location.Restricted_Lane  \\\n",
       "0        0.000000              0.106284                               0.0   \n",
       "1        0.014493              0.023820                               0.0   \n",
       "2        0.043478              0.076310                               0.0   \n",
       "3        0.000000              0.070844                               0.0   \n",
       "4        0.028986              0.000326                               0.0   \n",
       "\n",
       "   Age_Band_of_Driver_order  Day_of_Week_Friday  \\\n",
       "0                  0.571429                 0.0   \n",
       "1                  0.285714                 0.0   \n",
       "2                  0.285714                 0.0   \n",
       "3                  0.285714                 0.0   \n",
       "4                  0.428571                 0.0   \n",
       "\n",
       "                                  ...                                   \\\n",
       "0                                 ...                                    \n",
       "1                                 ...                                    \n",
       "2                                 ...                                    \n",
       "3                                 ...                                    \n",
       "4                                 ...                                    \n",
       "\n",
       "   Sex_of_Driver_Female  Sex_of_Driver_Male  \\\n",
       "0                   0.0                 1.0   \n",
       "1                   0.0                 1.0   \n",
       "2                   0.0                 1.0   \n",
       "3                   0.0                 1.0   \n",
       "4                   0.0                 1.0   \n",
       "\n",
       "   Vehicle_Manoeuvre_Going ahead other  Vehicle_Type_Car  \\\n",
       "0                                  0.0               1.0   \n",
       "1                                  1.0               1.0   \n",
       "2                                  0.0               1.0   \n",
       "3                                  1.0               1.0   \n",
       "4                                  1.0               0.0   \n",
       "\n",
       "   X1st_Point_of_Impact_Back  X1st_Point_of_Impact_Front  \\\n",
       "0                        0.0                         0.0   \n",
       "1                        0.0                         1.0   \n",
       "2                        0.0                         0.0   \n",
       "3                        0.0                         1.0   \n",
       "4                        0.0                         1.0   \n",
       "\n",
       "   Daytime_afternoon rush (15-19)  Daytime_morning rush (5-10)  \\\n",
       "0                             0.0                          0.0   \n",
       "1                             0.0                          1.0   \n",
       "2                             0.0                          1.0   \n",
       "3                             0.0                          0.0   \n",
       "4                             0.0                          1.0   \n",
       "\n",
       "   Daytime_office hours (10-15)  \\\n",
       "0                           1.0   \n",
       "1                           0.0   \n",
       "2                           0.0   \n",
       "3                           0.0   \n",
       "4                           0.0   \n",
       "\n",
       "   Ped_Cross_Physical_No physical crossing facilities within 50 metres  \n",
       "0                                                1.0                    \n",
       "1                                                1.0                    \n",
       "2                                                1.0                    \n",
       "3                                                1.0                    \n",
       "4                                                1.0                    \n",
       "\n",
       "[5 rows x 38 columns]"
      ]
     },
     "execution_count": 22,
     "metadata": {},
     "output_type": "execute_result"
    }
   ],
   "source": [
    "dataset_X_normalized.head()"
   ]
  },
  {
   "cell_type": "code",
   "execution_count": 23,
   "metadata": {},
   "outputs": [],
   "source": [
    "df_X=dataset_X_normalized.round(3) "
   ]
  },
  {
   "cell_type": "code",
   "execution_count": 24,
   "metadata": {},
   "outputs": [
    {
     "data": {
      "text/html": [
       "<div>\n",
       "<style scoped>\n",
       "    .dataframe tbody tr th:only-of-type {\n",
       "        vertical-align: middle;\n",
       "    }\n",
       "\n",
       "    .dataframe tbody tr th {\n",
       "        vertical-align: top;\n",
       "    }\n",
       "\n",
       "    .dataframe thead th {\n",
       "        text-align: right;\n",
       "    }\n",
       "</style>\n",
       "<table border=\"1\" class=\"dataframe\">\n",
       "  <thead>\n",
       "    <tr style=\"text-align: right;\">\n",
       "      <th></th>\n",
       "      <th>Latitude</th>\n",
       "      <th>Longitude</th>\n",
       "      <th>Number_of_Casualties</th>\n",
       "      <th>Number_of_Vehicles</th>\n",
       "      <th>Speed_limit</th>\n",
       "      <th>Age_of_Vehicle</th>\n",
       "      <th>Engine_Capacity_.CC.</th>\n",
       "      <th>Vehicle_Location.Restricted_Lane</th>\n",
       "      <th>Age_Band_of_Driver_order</th>\n",
       "      <th>Day_of_Week_Friday</th>\n",
       "      <th>...</th>\n",
       "      <th>Sex_of_Driver_Female</th>\n",
       "      <th>Sex_of_Driver_Male</th>\n",
       "      <th>Vehicle_Manoeuvre_Going ahead other</th>\n",
       "      <th>Vehicle_Type_Car</th>\n",
       "      <th>X1st_Point_of_Impact_Back</th>\n",
       "      <th>X1st_Point_of_Impact_Front</th>\n",
       "      <th>Daytime_afternoon rush (15-19)</th>\n",
       "      <th>Daytime_morning rush (5-10)</th>\n",
       "      <th>Daytime_office hours (10-15)</th>\n",
       "      <th>Ped_Cross_Physical_No physical crossing facilities within 50 metres</th>\n",
       "    </tr>\n",
       "  </thead>\n",
       "  <tbody>\n",
       "    <tr>\n",
       "      <th>0</th>\n",
       "      <td>0.143</td>\n",
       "      <td>0.788</td>\n",
       "      <td>0.0</td>\n",
       "      <td>0.015</td>\n",
       "      <td>0.2</td>\n",
       "      <td>0.000</td>\n",
       "      <td>0.106</td>\n",
       "      <td>0.0</td>\n",
       "      <td>0.571</td>\n",
       "      <td>0.0</td>\n",
       "      <td>...</td>\n",
       "      <td>0.0</td>\n",
       "      <td>1.0</td>\n",
       "      <td>0.0</td>\n",
       "      <td>1.0</td>\n",
       "      <td>0.0</td>\n",
       "      <td>0.0</td>\n",
       "      <td>0.0</td>\n",
       "      <td>0.0</td>\n",
       "      <td>1.0</td>\n",
       "      <td>1.0</td>\n",
       "    </tr>\n",
       "    <tr>\n",
       "      <th>1</th>\n",
       "      <td>0.141</td>\n",
       "      <td>0.793</td>\n",
       "      <td>0.0</td>\n",
       "      <td>0.015</td>\n",
       "      <td>0.2</td>\n",
       "      <td>0.014</td>\n",
       "      <td>0.024</td>\n",
       "      <td>0.0</td>\n",
       "      <td>0.286</td>\n",
       "      <td>0.0</td>\n",
       "      <td>...</td>\n",
       "      <td>0.0</td>\n",
       "      <td>1.0</td>\n",
       "      <td>1.0</td>\n",
       "      <td>1.0</td>\n",
       "      <td>0.0</td>\n",
       "      <td>1.0</td>\n",
       "      <td>0.0</td>\n",
       "      <td>1.0</td>\n",
       "      <td>0.0</td>\n",
       "      <td>1.0</td>\n",
       "    </tr>\n",
       "    <tr>\n",
       "      <th>2</th>\n",
       "      <td>0.141</td>\n",
       "      <td>0.793</td>\n",
       "      <td>0.0</td>\n",
       "      <td>0.015</td>\n",
       "      <td>0.2</td>\n",
       "      <td>0.043</td>\n",
       "      <td>0.076</td>\n",
       "      <td>0.0</td>\n",
       "      <td>0.286</td>\n",
       "      <td>0.0</td>\n",
       "      <td>...</td>\n",
       "      <td>0.0</td>\n",
       "      <td>1.0</td>\n",
       "      <td>0.0</td>\n",
       "      <td>1.0</td>\n",
       "      <td>0.0</td>\n",
       "      <td>0.0</td>\n",
       "      <td>0.0</td>\n",
       "      <td>1.0</td>\n",
       "      <td>0.0</td>\n",
       "      <td>1.0</td>\n",
       "    </tr>\n",
       "  </tbody>\n",
       "</table>\n",
       "<p>3 rows × 38 columns</p>\n",
       "</div>"
      ],
      "text/plain": [
       "   Latitude  Longitude  Number_of_Casualties  Number_of_Vehicles  Speed_limit  \\\n",
       "0     0.143      0.788                   0.0               0.015          0.2   \n",
       "1     0.141      0.793                   0.0               0.015          0.2   \n",
       "2     0.141      0.793                   0.0               0.015          0.2   \n",
       "\n",
       "   Age_of_Vehicle  Engine_Capacity_.CC.  Vehicle_Location.Restricted_Lane  \\\n",
       "0           0.000                 0.106                               0.0   \n",
       "1           0.014                 0.024                               0.0   \n",
       "2           0.043                 0.076                               0.0   \n",
       "\n",
       "   Age_Band_of_Driver_order  Day_of_Week_Friday  \\\n",
       "0                     0.571                 0.0   \n",
       "1                     0.286                 0.0   \n",
       "2                     0.286                 0.0   \n",
       "\n",
       "                                  ...                                   \\\n",
       "0                                 ...                                    \n",
       "1                                 ...                                    \n",
       "2                                 ...                                    \n",
       "\n",
       "   Sex_of_Driver_Female  Sex_of_Driver_Male  \\\n",
       "0                   0.0                 1.0   \n",
       "1                   0.0                 1.0   \n",
       "2                   0.0                 1.0   \n",
       "\n",
       "   Vehicle_Manoeuvre_Going ahead other  Vehicle_Type_Car  \\\n",
       "0                                  0.0               1.0   \n",
       "1                                  1.0               1.0   \n",
       "2                                  0.0               1.0   \n",
       "\n",
       "   X1st_Point_of_Impact_Back  X1st_Point_of_Impact_Front  \\\n",
       "0                        0.0                         0.0   \n",
       "1                        0.0                         1.0   \n",
       "2                        0.0                         0.0   \n",
       "\n",
       "   Daytime_afternoon rush (15-19)  Daytime_morning rush (5-10)  \\\n",
       "0                             0.0                          0.0   \n",
       "1                             0.0                          1.0   \n",
       "2                             0.0                          1.0   \n",
       "\n",
       "   Daytime_office hours (10-15)  \\\n",
       "0                           1.0   \n",
       "1                           0.0   \n",
       "2                           0.0   \n",
       "\n",
       "   Ped_Cross_Physical_No physical crossing facilities within 50 metres  \n",
       "0                                                1.0                    \n",
       "1                                                1.0                    \n",
       "2                                                1.0                    \n",
       "\n",
       "[3 rows x 38 columns]"
      ]
     },
     "execution_count": 24,
     "metadata": {},
     "output_type": "execute_result"
    }
   ],
   "source": [
    "df_X.head(3)"
   ]
  },
  {
   "cell_type": "markdown",
   "metadata": {},
   "source": [
    "## Dealing with Imbalanced Data"
   ]
  },
  {
   "cell_type": "markdown",
   "metadata": {},
   "source": [
    "### 1. Change the Performance Metric before treating imbalance in dataset\n",
    "\n",
    "#### Popular metric\n",
    "The very simple metric to measure classification is basic accuracy i.e. ratio of correct predictions to the total number of samples in the dataset. However, in the case of imbalanced classes this metric can be misleading, as high scores do not show prediction capacity for the minority class. One may have a 99% accuracy but a low prediction capacity on the class they are truly interested in (eg. anomaly detection where anomalies are rare classes in a dataset). \n",
    "\n",
    "Therefore, we start by calculating alternate performance measures such as AUC, recall and F1 scores."
   ]
  },
  {
   "cell_type": "markdown",
   "metadata": {},
   "source": [
    "**AUC - ROC** curve is a performance measurement for classification problem at various thresholds settings. ROC is a probability curve and AUC represents degree or measure of separability. It tells how much model is capable of distinguishing between classes. Higher the AUC, better the model is at predicting 0s as 0s and 1s as 1s.\n",
    "\n",
    "**recall** refers to the percentage of total relevant results correctly classified by the algorithm.\n",
    "\n",
    "The **F1 score** can be interpreted as a weighted average of the precision and recall, where an F1 score reaches its best value at 1 and worst score at 0"
   ]
  },
  {
   "cell_type": "code",
   "execution_count": 25,
   "metadata": {},
   "outputs": [
    {
     "data": {
      "text/plain": [
       "0.0    139876\n",
       "1.0     23229\n",
       "Name: Target_Severe_Indicator, dtype: int64"
      ]
     },
     "execution_count": 25,
     "metadata": {},
     "output_type": "execute_result"
    }
   ],
   "source": [
    "dataset_Y.value_counts()"
   ]
  },
  {
   "cell_type": "code",
   "execution_count": 26,
   "metadata": {},
   "outputs": [],
   "source": [
    "# Using Logistic Regression to train model using imbalanced data (at first)\n",
    "from sklearn.linear_model import LogisticRegression\n",
    "from sklearn.metrics import accuracy_score"
   ]
  },
  {
   "cell_type": "code",
   "execution_count": 27,
   "metadata": {},
   "outputs": [],
   "source": [
    "# Splitting data into train and test\n",
    "from sklearn.model_selection import train_test_split"
   ]
  },
  {
   "cell_type": "code",
   "execution_count": 28,
   "metadata": {},
   "outputs": [],
   "source": [
    "# 80 train -20 test split\n",
    "X_train, X_test, y_train, y_test = train_test_split(df_X, dataset_Y, test_size=0.2, random_state=42)"
   ]
  },
  {
   "cell_type": "code",
   "execution_count": 29,
   "metadata": {},
   "outputs": [],
   "source": [
    "# Train model using the 'saga' solver which is faster for large datasets\n",
    "clf_0 = LogisticRegression(solver='saga',max_iter=2500).fit(X_train, y_train)"
   ]
  },
  {
   "cell_type": "code",
   "execution_count": 30,
   "metadata": {},
   "outputs": [],
   "source": [
    "# Predict on testing set\n",
    "pred_y_0 = clf_0.predict(X_test)"
   ]
  },
  {
   "cell_type": "code",
   "execution_count": 31,
   "metadata": {},
   "outputs": [
    {
     "name": "stdout",
     "output_type": "stream",
     "text": [
      "Accuracy :  0.8575\n"
     ]
    }
   ],
   "source": [
    "print(\"Accuracy : \", round(accuracy_score(y_test, pred_y_0),4))"
   ]
  },
  {
   "cell_type": "markdown",
   "metadata": {},
   "source": [
    "Accuracy seems high! but it does not mean the model is good. The model is highly biased towards the majority class. It is for this reason that using Accuracy as a performance metric is quite misleading for higly imbalanced datasets."
   ]
  },
  {
   "cell_type": "markdown",
   "metadata": {},
   "source": [
    "#### AUC of model trained on imbalanced dataset - Logisitc Regression"
   ]
  },
  {
   "cell_type": "code",
   "execution_count": 32,
   "metadata": {},
   "outputs": [],
   "source": [
    "from sklearn.metrics import roc_auc_score"
   ]
  },
  {
   "cell_type": "code",
   "execution_count": 33,
   "metadata": {},
   "outputs": [
    {
     "name": "stdout",
     "output_type": "stream",
     "text": [
      "0.6852303336337825\n"
     ]
    }
   ],
   "source": [
    "# To calculate AUROC, we need predicted class probabilities instead of just the predicted classes \n",
    "# We get them using the .predict_proba()\n",
    "prob_y_0 = clf_0.predict_proba(X_test)\n",
    "prob_y_0 = [p[1] for p in prob_y_0]\n",
    " \n",
    "print(roc_auc_score(y_test, prob_y_0))"
   ]
  },
  {
   "cell_type": "code",
   "execution_count": 34,
   "metadata": {},
   "outputs": [
    {
     "data": {
      "text/plain": [
       "0.004080756013745705"
      ]
     },
     "execution_count": 34,
     "metadata": {},
     "output_type": "execute_result"
    }
   ],
   "source": [
    "from sklearn.metrics import recall_score\n",
    "\n",
    "# recall_score\n",
    "recall_score(y_test, pred_y_0)"
   ]
  },
  {
   "cell_type": "code",
   "execution_count": 35,
   "metadata": {},
   "outputs": [
    {
     "data": {
      "text/plain": [
       "0.00810753147002347"
      ]
     },
     "execution_count": 35,
     "metadata": {},
     "output_type": "execute_result"
    }
   ],
   "source": [
    "from sklearn.metrics import f1_score\n",
    "# f1 score\n",
    "f1_score(y_test, pred_y_0)"
   ]
  },
  {
   "cell_type": "markdown",
   "metadata": {},
   "source": [
    "As seen above, although the accuracy is relatively high, recall and f1-scores are quite low indicating a poor model."
   ]
  },
  {
   "cell_type": "markdown",
   "metadata": {},
   "source": [
    "### 2. Next, we up-sample the minority class using SMOTE - synthetic sampling of minority class\n",
    "TO KEEP IN MIND - random oversampling can lead to overfitting (WILL NEED TO TEST MODEL FOR OVERFITTING AT A LATER STAGE)"
   ]
  },
  {
   "cell_type": "markdown",
   "metadata": {},
   "source": [
    "SMOTE uses a nearest neighbors algorithm to generate new and synthetic data we can use for training our model.\n",
    "Again, it’s important to generate the new samples only in the training set to ensure our model generalizes well to unseen data."
   ]
  },
  {
   "cell_type": "code",
   "execution_count": 36,
   "metadata": {},
   "outputs": [],
   "source": [
    "from imblearn.over_sampling import SMOTE"
   ]
  },
  {
   "cell_type": "code",
   "execution_count": 37,
   "metadata": {},
   "outputs": [
    {
     "name": "stderr",
     "output_type": "stream",
     "text": [
      "C:\\Users\\Admin\\Anaconda3\\lib\\site-packages\\sklearn\\utils\\deprecation.py:77: DeprecationWarning: Function _ratio_float is deprecated; Use a float for 'ratio' is deprecated from version 0.2. The support will be removed in 0.4. Use a dict, str, or a callable instead.\n",
      "  warnings.warn(msg, category=DeprecationWarning)\n"
     ]
    }
   ],
   "source": [
    "# ratio of 0.55 results in a target class variation of approximately 65% (majority class) to 35% (minority class)\n",
    "# It is important to carry out SMOTE only on the training data and not on the test data\n",
    "\n",
    "smote = SMOTE(random_state=12,ratio=0.55)\n",
    "x_train_res, y_train_res = smote.fit_sample(X_train, y_train)"
   ]
  },
  {
   "cell_type": "code",
   "execution_count": 38,
   "metadata": {},
   "outputs": [
    {
     "name": "stdout",
     "output_type": "stream",
     "text": [
      "Before OverSampling, counts of label '1': 18573\n",
      "Before OverSampling, counts of label '0': 111911 \n",
      "\n"
     ]
    }
   ],
   "source": [
    "# Count of Labels in the Training Set\n",
    "\n",
    "print(\"Before OverSampling, counts of label '1': {}\".format(sum(y_train==1)))\n",
    "print(\"Before OverSampling, counts of label '0': {} \\n\".format(sum(y_train==0)))"
   ]
  },
  {
   "cell_type": "code",
   "execution_count": 39,
   "metadata": {},
   "outputs": [
    {
     "name": "stdout",
     "output_type": "stream",
     "text": [
      "After OverSampling, counts of label '1': 61551\n",
      "After OverSampling, counts of label '0': 111911\n"
     ]
    }
   ],
   "source": [
    "print(\"After OverSampling, counts of label '1': {}\".format(sum(y_train_res==1)))\n",
    "print(\"After OverSampling, counts of label '0': {}\".format(sum(y_train_res==0)))"
   ]
  },
  {
   "cell_type": "code",
   "execution_count": 40,
   "metadata": {},
   "outputs": [],
   "source": [
    "# Train model again using Logistic Rregression but on the OVERSAMPLED dataset\n",
    "\n",
    "clf_1 = LogisticRegression(solver='saga',max_iter=2500).fit(x_train_res, y_train_res)"
   ]
  },
  {
   "cell_type": "code",
   "execution_count": 41,
   "metadata": {},
   "outputs": [],
   "source": [
    "# Predict on testing set\n",
    "pred_y_1 = clf_1.predict(X_test)"
   ]
  },
  {
   "cell_type": "code",
   "execution_count": 42,
   "metadata": {},
   "outputs": [
    {
     "name": "stdout",
     "output_type": "stream",
     "text": [
      "Accuracy :  0.8061\n"
     ]
    }
   ],
   "source": [
    "print(\"Accuracy : \", round(accuracy_score(y_test, pred_y_1),4))"
   ]
  },
  {
   "cell_type": "markdown",
   "metadata": {},
   "source": [
    "The accuracy has decreased from earlier which is a good sign in the sense that now the model is classifying the minority class slightly better than before"
   ]
  },
  {
   "cell_type": "markdown",
   "metadata": {},
   "source": [
    "#### AUC of model trained on oversampled dataset - Logistic Regression"
   ]
  },
  {
   "cell_type": "code",
   "execution_count": 43,
   "metadata": {},
   "outputs": [
    {
     "name": "stdout",
     "output_type": "stream",
     "text": [
      "0.6850457785658681\n"
     ]
    }
   ],
   "source": [
    "# Predict class probabilities\n",
    "prob_y_1 = clf_1.predict_proba(X_test)\n",
    "prob_y_1 = [p[1] for p in prob_y_1]\n",
    " \n",
    "print(roc_auc_score(y_test, prob_y_1))"
   ]
  },
  {
   "cell_type": "markdown",
   "metadata": {},
   "source": [
    "AUC score after oversampling is the same as before (No change in comparison to auc of original imbalanced dataset - using Logistic Reg)"
   ]
  },
  {
   "cell_type": "code",
   "execution_count": 44,
   "metadata": {},
   "outputs": [
    {
     "data": {
      "text/plain": [
       "0.31013745704467355"
      ]
     },
     "execution_count": 44,
     "metadata": {},
     "output_type": "execute_result"
    }
   ],
   "source": [
    "# recall_score\n",
    "recall_score(y_test, pred_y_1)"
   ]
  },
  {
   "cell_type": "code",
   "execution_count": 45,
   "metadata": {},
   "outputs": [
    {
     "data": {
      "text/plain": [
       "0.31350412505427705"
      ]
     },
     "execution_count": 45,
     "metadata": {},
     "output_type": "execute_result"
    }
   ],
   "source": [
    "# f1 score\n",
    "f1_score(y_test, pred_y_1)"
   ]
  },
  {
   "cell_type": "markdown",
   "metadata": {},
   "source": [
    "Better values for recall and f1-score (after synthetic oversampling) when compared to the model run on the original imbalanced dataset. The higher the recall (closer to 1) the better."
   ]
  },
  {
   "cell_type": "markdown",
   "metadata": {},
   "source": [
    "#### Cohen’s kappa"
   ]
  },
  {
   "cell_type": "markdown",
   "metadata": {},
   "source": [
    "The function cohen_kappa_score computes Cohen’s kappa statistic. This measure is intended to compare labelings by different human annotators, not a classifier versus a ground truth.\n",
    "\n",
    "The kappa score is a number between -1 and 1. Scores above .8 are generally considered good agreement; zero or lower means no agreement (practically random labels).\n",
    "\n",
    "Kappa scores can be computed for binary or multiclass problems"
   ]
  },
  {
   "cell_type": "code",
   "execution_count": 46,
   "metadata": {},
   "outputs": [
    {
     "data": {
      "text/plain": [
       "0.2006515054798298"
      ]
     },
     "execution_count": 46,
     "metadata": {},
     "output_type": "execute_result"
    }
   ],
   "source": [
    "from sklearn.metrics import cohen_kappa_score\n",
    "cohen_kappa_score(y_test, pred_y_1)"
   ]
  },
  {
   "cell_type": "markdown",
   "metadata": {},
   "source": [
    "### 3. Penalize Algorithms (Cost-Sensitive Training) "
   ]
  },
  {
   "cell_type": "code",
   "execution_count": 47,
   "metadata": {},
   "outputs": [],
   "source": [
    "# from sklearn.svm import SVC"
   ]
  },
  {
   "cell_type": "markdown",
   "metadata": {},
   "source": [
    "During training, we can use the argument class_weight='balanced'  to penalize mistakes on the minority class by an amount proportional to how under-represented it is.\n",
    "\n",
    "We also want to include the argument probability=True  if we want to enable probability estimates for SVM algorithms.\n",
    "\n",
    "Let's train a model using Penalized-SVM on the original imbalanced dataset:"
   ]
  },
  {
   "cell_type": "code",
   "execution_count": 48,
   "metadata": {},
   "outputs": [],
   "source": [
    "# Train model\n",
    "# clf_3 = SVC(kernel='linear', \n",
    "#             class_weight='balanced', # penalize\n",
    "#             probability=True)"
   ]
  },
  {
   "cell_type": "code",
   "execution_count": 49,
   "metadata": {},
   "outputs": [],
   "source": [
    "# clf_3.fit(X_train, y_train)"
   ]
  },
  {
   "cell_type": "code",
   "execution_count": 50,
   "metadata": {},
   "outputs": [],
   "source": [
    "# Predict on testing set\n",
    "# pred_y_3 = clf_3.predict(X_test)"
   ]
  },
  {
   "cell_type": "code",
   "execution_count": 51,
   "metadata": {},
   "outputs": [],
   "source": [
    "# print(accuracy_score(y_test, pred_y_3))"
   ]
  },
  {
   "cell_type": "code",
   "execution_count": 52,
   "metadata": {},
   "outputs": [],
   "source": [
    "# AUC SCORE\n",
    "# prob_y_3 = clf_3.predict_proba(X_test)\n",
    "# prob_y_3 = [p[1] for p in prob_y_3]\n",
    "# print( roc_auc_score(y_test, prob_y_3) )"
   ]
  },
  {
   "cell_type": "code",
   "execution_count": 53,
   "metadata": {},
   "outputs": [],
   "source": [
    "# recall_score\n",
    "# recall_score(y_test, pred_y_3)"
   ]
  },
  {
   "cell_type": "code",
   "execution_count": null,
   "metadata": {},
   "outputs": [],
   "source": [
    "# f1 score\n",
    "# f1_score(y_test, pred_y_3)"
   ]
  },
  {
   "cell_type": "code",
   "execution_count": null,
   "metadata": {},
   "outputs": [],
   "source": [
    "# Kappa Score\n",
    "# cohen_kappa_score(y_test, pred_y_3)"
   ]
  },
  {
   "cell_type": "markdown",
   "metadata": {},
   "source": [
    "### 4. Use Tree-Based Algorithms"
   ]
  },
  {
   "cell_type": "markdown",
   "metadata": {},
   "source": [
    "Decision trees often perform well on imbalanced datasets because their hierarchical structure allows them to learn signals from both classes.\n",
    "\n",
    "In modern applied machine learning, tree ensembles (Random Forests, Gradient Boosted Trees, etc.) almost always outperform singular decision trees."
   ]
  },
  {
   "cell_type": "code",
   "execution_count": 54,
   "metadata": {},
   "outputs": [
    {
     "name": "stderr",
     "output_type": "stream",
     "text": [
      "C:\\Users\\Admin\\Anaconda3\\lib\\site-packages\\sklearn\\ensemble\\weight_boosting.py:29: DeprecationWarning: numpy.core.umath_tests is an internal NumPy module and should not be imported. It will be removed in a future NumPy release.\n",
      "  from numpy.core.umath_tests import inner1d\n"
     ]
    }
   ],
   "source": [
    "# Training the model using Random Forrest tree ensemble\n",
    "\n",
    "from sklearn.ensemble import RandomForestClassifier"
   ]
  },
  {
   "cell_type": "code",
   "execution_count": 55,
   "metadata": {},
   "outputs": [
    {
     "data": {
      "text/plain": [
       "RandomForestClassifier(bootstrap=True, class_weight=None, criterion='gini',\n",
       "            max_depth=None, max_features='auto', max_leaf_nodes=None,\n",
       "            min_impurity_decrease=0.0, min_impurity_split=None,\n",
       "            min_samples_leaf=1, min_samples_split=2,\n",
       "            min_weight_fraction_leaf=0.0, n_estimators=10, n_jobs=1,\n",
       "            oob_score=False, random_state=None, verbose=0,\n",
       "            warm_start=False)"
      ]
     },
     "execution_count": 55,
     "metadata": {},
     "output_type": "execute_result"
    }
   ],
   "source": [
    "# Train model - Using original imbalanced dataset at first\n",
    "clf_4 = RandomForestClassifier()\n",
    "clf_4.fit(X_train, y_train)"
   ]
  },
  {
   "cell_type": "code",
   "execution_count": 56,
   "metadata": {},
   "outputs": [],
   "source": [
    "# Predict on testing set\n",
    "pred_y_4 = clf_4.predict(X_test)"
   ]
  },
  {
   "cell_type": "code",
   "execution_count": 57,
   "metadata": {},
   "outputs": [
    {
     "name": "stdout",
     "output_type": "stream",
     "text": [
      "0.8539591060972993\n"
     ]
    }
   ],
   "source": [
    "print(accuracy_score(y_test, pred_y_4))"
   ]
  },
  {
   "cell_type": "code",
   "execution_count": 58,
   "metadata": {},
   "outputs": [
    {
     "name": "stdout",
     "output_type": "stream",
     "text": [
      "0.6499274260044003\n"
     ]
    }
   ],
   "source": [
    "# AUROC score\n",
    "prob_y_4 = clf_4.predict_proba(X_test)\n",
    "prob_y_4 = [p[1] for p in prob_y_4]\n",
    "print( roc_auc_score(y_test, prob_y_4) )"
   ]
  },
  {
   "cell_type": "code",
   "execution_count": 59,
   "metadata": {},
   "outputs": [
    {
     "data": {
      "text/plain": [
       "0.062285223367697595"
      ]
     },
     "execution_count": 59,
     "metadata": {},
     "output_type": "execute_result"
    }
   ],
   "source": [
    "# recall_score\n",
    "recall_score(y_test, pred_y_4)"
   ]
  },
  {
   "cell_type": "code",
   "execution_count": 60,
   "metadata": {},
   "outputs": [
    {
     "data": {
      "text/plain": [
       "0.10853293413173654"
      ]
     },
     "execution_count": 60,
     "metadata": {},
     "output_type": "execute_result"
    }
   ],
   "source": [
    "# f1 score\n",
    "f1_score(y_test, pred_y_4)"
   ]
  },
  {
   "cell_type": "markdown",
   "metadata": {},
   "source": [
    "Using Decision Forrest - Although the accuracy is high, the recall is still low (but better than Logistic Regression using the original imbalanced dataset). However, it is not as good as Logisitic Regression on the oversampled dataset."
   ]
  },
  {
   "cell_type": "code",
   "execution_count": 61,
   "metadata": {},
   "outputs": [
    {
     "data": {
      "text/plain": [
       "RandomForestClassifier(bootstrap=True, class_weight=None, criterion='gini',\n",
       "            max_depth=None, max_features='auto', max_leaf_nodes=None,\n",
       "            min_impurity_decrease=0.0, min_impurity_split=None,\n",
       "            min_samples_leaf=1, min_samples_split=2,\n",
       "            min_weight_fraction_leaf=0.0, n_estimators=10, n_jobs=1,\n",
       "            oob_score=False, random_state=None, verbose=0,\n",
       "            warm_start=False)"
      ]
     },
     "execution_count": 61,
     "metadata": {},
     "output_type": "execute_result"
    }
   ],
   "source": [
    "# Now using the oversampled dataset to train a Decsion Tree based model - Random Forrest\n",
    "clf_10 = RandomForestClassifier()\n",
    "clf_10.fit(x_train_res, y_train_res)"
   ]
  },
  {
   "cell_type": "code",
   "execution_count": 62,
   "metadata": {},
   "outputs": [],
   "source": [
    "# Predict on testing set\n",
    "pred_y_10 = clf_10.predict(X_test)"
   ]
  },
  {
   "cell_type": "code",
   "execution_count": 63,
   "metadata": {},
   "outputs": [
    {
     "name": "stdout",
     "output_type": "stream",
     "text": [
      "0.8490849452806475\n"
     ]
    }
   ],
   "source": [
    "print(accuracy_score(y_test, pred_y_10))"
   ]
  },
  {
   "cell_type": "code",
   "execution_count": 64,
   "metadata": {},
   "outputs": [
    {
     "name": "stdout",
     "output_type": "stream",
     "text": [
      "0.6573855628015628\n"
     ]
    }
   ],
   "source": [
    "# AUROC score\n",
    "prob_y_10 = clf_10.predict_proba(X_test)\n",
    "prob_y_10 = [p[1] for p in prob_y_10]\n",
    "print( roc_auc_score(y_test, prob_y_10) )"
   ]
  },
  {
   "cell_type": "code",
   "execution_count": 65,
   "metadata": {},
   "outputs": [
    {
     "data": {
      "text/plain": [
       "0.10223367697594501"
      ]
     },
     "execution_count": 65,
     "metadata": {},
     "output_type": "execute_result"
    }
   ],
   "source": [
    "# recall_score\n",
    "recall_score(y_test, pred_y_10)"
   ]
  },
  {
   "cell_type": "code",
   "execution_count": 66,
   "metadata": {},
   "outputs": [
    {
     "data": {
      "text/plain": [
       "0.16204255319148936"
      ]
     },
     "execution_count": 66,
     "metadata": {},
     "output_type": "execute_result"
    }
   ],
   "source": [
    "# f1 score\n",
    "f1_score(y_test, pred_y_10)"
   ]
  },
  {
   "cell_type": "markdown",
   "metadata": {},
   "source": [
    "Although the accuracy is higher (when using the oversampled data) for the Decision Tree based model in comparison to the Logistic Regression model, the recall and f1 scores are lower. \n",
    "\n",
    "However, the recall and f1 scores did improve in comparison to the model when trained on the original imbalanced dataset using Random Forrest Classifier."
   ]
  },
  {
   "cell_type": "code",
   "execution_count": 67,
   "metadata": {},
   "outputs": [
    {
     "data": {
      "text/plain": [
       "0.10928556139912804"
      ]
     },
     "execution_count": 67,
     "metadata": {},
     "output_type": "execute_result"
    }
   ],
   "source": [
    "cohen_kappa_score(y_test, pred_y_10) #Kappa score not as good as that of logistic regression model using the oversampled data"
   ]
  },
  {
   "cell_type": "markdown",
   "metadata": {},
   "source": [
    "#### **As of now Logistic Regression produced the best results when trained on the oversampled dataset"
   ]
  },
  {
   "cell_type": "code",
   "execution_count": 68,
   "metadata": {},
   "outputs": [
    {
     "data": {
      "text/plain": [
       "GradientBoostingClassifier(criterion='friedman_mse', init=None,\n",
       "              learning_rate=0.1, loss='deviance', max_depth=3,\n",
       "              max_features=None, max_leaf_nodes=None,\n",
       "              min_impurity_decrease=0.0, min_impurity_split=None,\n",
       "              min_samples_leaf=1, min_samples_split=2,\n",
       "              min_weight_fraction_leaf=0.0, n_estimators=100,\n",
       "              presort='auto', random_state=None, subsample=1.0, verbose=0,\n",
       "              warm_start=False)"
      ]
     },
     "execution_count": 68,
     "metadata": {},
     "output_type": "execute_result"
    }
   ],
   "source": [
    "# Using the oversampled dataset to train a Gradient Boosting model\n",
    "\n",
    "from sklearn.ensemble import GradientBoostingClassifier\n",
    "\n",
    "clf_11 = GradientBoostingClassifier()\n",
    "clf_11.fit(x_train_res, y_train_res)"
   ]
  },
  {
   "cell_type": "code",
   "execution_count": 69,
   "metadata": {},
   "outputs": [],
   "source": [
    "# Predict on testing set\n",
    "pred_y_11 = clf_11.predict(X_test)"
   ]
  },
  {
   "cell_type": "code",
   "execution_count": 70,
   "metadata": {},
   "outputs": [
    {
     "name": "stdout",
     "output_type": "stream",
     "text": [
      "0.858863922013427\n"
     ]
    }
   ],
   "source": [
    "print(accuracy_score(y_test, pred_y_11))"
   ]
  },
  {
   "cell_type": "code",
   "execution_count": 71,
   "metadata": {},
   "outputs": [
    {
     "name": "stdout",
     "output_type": "stream",
     "text": [
      "0.7116638495714144\n"
     ]
    }
   ],
   "source": [
    "# AUROC score\n",
    "prob_y_11 = clf_11.predict_proba(X_test)\n",
    "prob_y_11 = [p[1] for p in prob_y_11]\n",
    "print( roc_auc_score(y_test, prob_y_11) )"
   ]
  },
  {
   "cell_type": "code",
   "execution_count": 72,
   "metadata": {},
   "outputs": [
    {
     "data": {
      "text/plain": [
       "0.03608247422680412"
      ]
     },
     "execution_count": 72,
     "metadata": {},
     "output_type": "execute_result"
    }
   ],
   "source": [
    "# recall_score\n",
    "recall_score(y_test, pred_y_11)"
   ]
  },
  {
   "cell_type": "code",
   "execution_count": 73,
   "metadata": {},
   "outputs": [
    {
     "data": {
      "text/plain": [
       "0.0680161943319838"
      ]
     },
     "execution_count": 73,
     "metadata": {},
     "output_type": "execute_result"
    }
   ],
   "source": [
    "# f1 score\n",
    "f1_score(y_test, pred_y_11)"
   ]
  },
  {
   "cell_type": "markdown",
   "metadata": {},
   "source": [
    "Again recall and f1 scores are not as good as logistic Regression using the oversampled dataset. Infact they are lower than that produced by Random Forrest using the oversampled data - **Therefore, we can discard this algorithm for now**"
   ]
  },
  {
   "cell_type": "markdown",
   "metadata": {},
   "source": [
    "### Gaussian Naive Bayes"
   ]
  },
  {
   "cell_type": "code",
   "execution_count": 74,
   "metadata": {},
   "outputs": [],
   "source": [
    "# Using the oversampled data\n",
    "\n",
    "from sklearn.naive_bayes import GaussianNB\n",
    "\n",
    "clf_12 = GaussianNB()"
   ]
  },
  {
   "cell_type": "code",
   "execution_count": 75,
   "metadata": {},
   "outputs": [
    {
     "data": {
      "text/plain": [
       "GaussianNB(priors=None)"
      ]
     },
     "execution_count": 75,
     "metadata": {},
     "output_type": "execute_result"
    }
   ],
   "source": [
    "clf_12.fit(x_train_res, y_train_res)"
   ]
  },
  {
   "cell_type": "code",
   "execution_count": 76,
   "metadata": {},
   "outputs": [],
   "source": [
    "# Predict on testing set\n",
    "pred_y_12 = clf_12.predict(X_test)"
   ]
  },
  {
   "cell_type": "code",
   "execution_count": 77,
   "metadata": {},
   "outputs": [
    {
     "name": "stdout",
     "output_type": "stream",
     "text": [
      "0.7437233683823304\n"
     ]
    }
   ],
   "source": [
    "print(accuracy_score(y_test, pred_y_12))"
   ]
  },
  {
   "cell_type": "code",
   "execution_count": 78,
   "metadata": {},
   "outputs": [
    {
     "name": "stdout",
     "output_type": "stream",
     "text": [
      "0.6629657423399279\n"
     ]
    }
   ],
   "source": [
    "# AUROC score\n",
    "prob_y_12 = clf_12.predict_proba(X_test)\n",
    "prob_y_12 = [p[1] for p in prob_y_12]\n",
    "print( roc_auc_score(y_test, prob_y_12) )"
   ]
  },
  {
   "cell_type": "code",
   "execution_count": 79,
   "metadata": {},
   "outputs": [
    {
     "data": {
      "text/plain": [
       "0.4050687285223368"
      ]
     },
     "execution_count": 79,
     "metadata": {},
     "output_type": "execute_result"
    }
   ],
   "source": [
    "# recall_score\n",
    "recall_score(y_test, pred_y_12)"
   ]
  },
  {
   "cell_type": "code",
   "execution_count": 191,
   "metadata": {},
   "outputs": [
    {
     "data": {
      "text/plain": [
       "0.3109132871744148"
      ]
     },
     "execution_count": 191,
     "metadata": {},
     "output_type": "execute_result"
    }
   ],
   "source": [
    "# f1_score\n",
    "f1_score(y_test, pred_y_12)"
   ]
  },
  {
   "cell_type": "markdown",
   "metadata": {},
   "source": [
    "Although the accuracy is lower, GaussianNB seems to produce the best results for f1 and recall scores"
   ]
  },
  {
   "cell_type": "code",
   "execution_count": 81,
   "metadata": {},
   "outputs": [
    {
     "data": {
      "text/plain": [
       "0.1638243110826817"
      ]
     },
     "execution_count": 81,
     "metadata": {},
     "output_type": "execute_result"
    }
   ],
   "source": [
    "# Kappa Score\n",
    "cohen_kappa_score(y_test, pred_y_12) #Kappa score is still not as good as the logistic regression model using oversampled data"
   ]
  },
  {
   "cell_type": "markdown",
   "metadata": {},
   "source": [
    "#### For comparison purpose we also train a gaussianNB model on the original imbalanced data"
   ]
  },
  {
   "cell_type": "code",
   "execution_count": 82,
   "metadata": {},
   "outputs": [
    {
     "data": {
      "text/plain": [
       "GaussianNB(priors=None)"
      ]
     },
     "execution_count": 82,
     "metadata": {},
     "output_type": "execute_result"
    }
   ],
   "source": [
    "clf_16 = GaussianNB()\n",
    "clf_16.fit(X_train,y_train)"
   ]
  },
  {
   "cell_type": "code",
   "execution_count": 83,
   "metadata": {},
   "outputs": [],
   "source": [
    "# Predict on testing set\n",
    "pred_y_16 = clf_16.predict(X_test)"
   ]
  },
  {
   "cell_type": "code",
   "execution_count": 84,
   "metadata": {},
   "outputs": [
    {
     "name": "stdout",
     "output_type": "stream",
     "text": [
      "0.8206063578676313\n"
     ]
    }
   ],
   "source": [
    "print(accuracy_score(y_test, pred_y_16))"
   ]
  },
  {
   "cell_type": "code",
   "execution_count": 85,
   "metadata": {},
   "outputs": [
    {
     "name": "stdout",
     "output_type": "stream",
     "text": [
      "0.6687265331664581\n"
     ]
    }
   ],
   "source": [
    "# AUROC score\n",
    "prob_y_16 = clf_16.predict_proba(X_test)\n",
    "prob_y_16 = [p[1] for p in prob_y_16]\n",
    "print( roc_auc_score(y_test, prob_y_16) )"
   ]
  },
  {
   "cell_type": "code",
   "execution_count": 86,
   "metadata": {},
   "outputs": [
    {
     "data": {
      "text/plain": [
       "0.19093642611683848"
      ]
     },
     "execution_count": 86,
     "metadata": {},
     "output_type": "execute_result"
    }
   ],
   "source": [
    "# recall_score\n",
    "recall_score(y_test, pred_y_16)"
   ]
  },
  {
   "cell_type": "code",
   "execution_count": 87,
   "metadata": {},
   "outputs": [
    {
     "data": {
      "text/plain": [
       "0.19093642611683848"
      ]
     },
     "execution_count": 87,
     "metadata": {},
     "output_type": "execute_result"
    }
   ],
   "source": [
    "# recall_score\n",
    "recall_score(y_test, pred_y_16)"
   ]
  },
  {
   "cell_type": "code",
   "execution_count": 88,
   "metadata": {},
   "outputs": [
    {
     "data": {
      "text/plain": [
       "0.13700567414720988"
      ]
     },
     "execution_count": 88,
     "metadata": {},
     "output_type": "execute_result"
    }
   ],
   "source": [
    "# Kappa Score\n",
    "cohen_kappa_score(y_test, pred_y_16) #Kappa score not as good as logistic regression model using oversample dataset"
   ]
  },
  {
   "cell_type": "markdown",
   "metadata": {},
   "source": [
    "Therefore, from the above results for f1 score and recall it can be seen that the model performs better when using the oversampled dataset rather than the original imbalanced dataset"
   ]
  },
  {
   "cell_type": "markdown",
   "metadata": {},
   "source": [
    "### 5.a) Under-sampling: Tomek links\n",
    "Tomek links are pairs of very close instances, but of opposite classes. Removing the instances of the majority class of each pair increases the space between the two classes, facilitating the classification process."
   ]
  },
  {
   "cell_type": "code",
   "execution_count": 89,
   "metadata": {},
   "outputs": [],
   "source": [
    "# In the code below, use ratio='majority' to resample the majority class."
   ]
  },
  {
   "cell_type": "code",
   "execution_count": 90,
   "metadata": {},
   "outputs": [],
   "source": [
    "import matplotlib\n",
    "import matplotlib.pyplot as plt"
   ]
  },
  {
   "cell_type": "code",
   "execution_count": 53,
   "metadata": {},
   "outputs": [],
   "source": [
    "from imblearn.under_sampling import TomekLinks\n",
    "\n",
    "tl = TomekLinks(return_indices=True, ratio='majority')\n",
    "X_tl, y_tl, id_tl = tl.fit_sample(X_train, y_train)\n",
    "\n",
    "# print('Removed indexes:', id_tl)\n",
    "\n",
    "# plot_2d_space(X_tl, y_tl, 'Tomek links under-sampling')"
   ]
  },
  {
   "cell_type": "code",
   "execution_count": 54,
   "metadata": {},
   "outputs": [
    {
     "name": "stdout",
     "output_type": "stream",
     "text": [
      "Before Undersampling, counts of label '1': 29932\n",
      "Before Undersampling, counts of label '0': 180552 \n",
      "\n"
     ]
    }
   ],
   "source": [
    "print(\"Before Undersampling, counts of label '1': {}\".format(sum(y_train==1)))\n",
    "print(\"Before Undersampling, counts of label '0': {} \\n\".format(sum(y_train==0)))"
   ]
  },
  {
   "cell_type": "code",
   "execution_count": 55,
   "metadata": {},
   "outputs": [
    {
     "name": "stdout",
     "output_type": "stream",
     "text": [
      "After Undersampling, counts of label '1': 29932\n",
      "After Undersampling, counts of label '0': 168168\n"
     ]
    }
   ],
   "source": [
    "print(\"After Undersampling, counts of label '1': {}\".format(sum(y_tl==1)))\n",
    "print(\"After Undersampling, counts of label '0': {}\".format(sum(y_tl==0)))"
   ]
  },
  {
   "cell_type": "markdown",
   "metadata": {},
   "source": [
    "% variation in the target class did not change much after undersampling (Using Tomek Links) - Still approx 85% to 15% split"
   ]
  },
  {
   "cell_type": "markdown",
   "metadata": {},
   "source": [
    "Therefore we can expect the same results as seen above (Using the original imbalanced dataset), when using the different algorithms to train and test the model. **In any case Undersampling may not be the best route in our scenario.** In addition, by undersampling we also run the risk of loosing potentially valuable information."
   ]
  },
  {
   "cell_type": "markdown",
   "metadata": {},
   "source": [
    "But for the sake of showing the results we run the undersampled data through a few different algorithms"
   ]
  },
  {
   "cell_type": "code",
   "execution_count": 56,
   "metadata": {},
   "outputs": [],
   "source": [
    "# LOGISTIC REGRESSION\n",
    "\n",
    "# Train model on undersampled dataset\n",
    "\n",
    "clf_5 = LogisticRegression(solver='saga',max_iter=2500).fit(X_tl, y_tl)"
   ]
  },
  {
   "cell_type": "code",
   "execution_count": 57,
   "metadata": {},
   "outputs": [],
   "source": [
    "# Predict on testing set\n",
    "pred_y_5 = clf_5.predict(X_test)"
   ]
  },
  {
   "cell_type": "code",
   "execution_count": 58,
   "metadata": {},
   "outputs": [
    {
     "name": "stdout",
     "output_type": "stream",
     "text": [
      "Accuracy :  0.8601\n"
     ]
    }
   ],
   "source": [
    "print(\"Accuracy : \", round(accuracy_score(y_test, pred_y_5),4))"
   ]
  },
  {
   "cell_type": "code",
   "execution_count": 59,
   "metadata": {},
   "outputs": [
    {
     "name": "stdout",
     "output_type": "stream",
     "text": [
      "0.6744168296526147\n"
     ]
    }
   ],
   "source": [
    "# Predict class probabilities\n",
    "prob_y_5 = clf_5.predict_proba(X_test)\n",
    "prob_y_5 = [p[1] for p in prob_y_5]\n",
    " \n",
    "print(roc_auc_score(y_test, prob_y_5))"
   ]
  },
  {
   "cell_type": "code",
   "execution_count": 60,
   "metadata": {},
   "outputs": [
    {
     "data": {
      "text/plain": [
       "0.01579160480496693"
      ]
     },
     "execution_count": 60,
     "metadata": {},
     "output_type": "execute_result"
    }
   ],
   "source": [
    "# recall_score\n",
    "recall_score(y_test, pred_y_5)"
   ]
  },
  {
   "cell_type": "code",
   "execution_count": 61,
   "metadata": {},
   "outputs": [
    {
     "data": {
      "text/plain": [
       "0.0307975783100816"
      ]
     },
     "execution_count": 61,
     "metadata": {},
     "output_type": "execute_result"
    }
   ],
   "source": [
    "# f1 score\n",
    "f1_score(y_test, pred_y_5)"
   ]
  },
  {
   "cell_type": "markdown",
   "metadata": {},
   "source": [
    "Recall and F1-score is not as good as Randomforrest and much worse than that using Oversampled (SMOTE) data using Logistic Regression"
   ]
  },
  {
   "cell_type": "code",
   "execution_count": 62,
   "metadata": {},
   "outputs": [
    {
     "data": {
      "text/plain": [
       "RandomForestClassifier(bootstrap=True, class_weight=None, criterion='gini',\n",
       "            max_depth=None, max_features='auto', max_leaf_nodes=None,\n",
       "            min_impurity_decrease=0.0, min_impurity_split=None,\n",
       "            min_samples_leaf=1, min_samples_split=2,\n",
       "            min_weight_fraction_leaf=0.0, n_estimators=10, n_jobs=1,\n",
       "            oob_score=False, random_state=None, verbose=0,\n",
       "            warm_start=False)"
      ]
     },
     "execution_count": 62,
     "metadata": {},
     "output_type": "execute_result"
    }
   ],
   "source": [
    "# RANDOM FORREST CLASSIFIER\n",
    "\n",
    "# Train model using undersampled dataset (derived using TOMEK LINKS)\n",
    "\n",
    "clf_6 = RandomForestClassifier()\n",
    "clf_6.fit(X_tl, y_tl)"
   ]
  },
  {
   "cell_type": "code",
   "execution_count": 63,
   "metadata": {},
   "outputs": [],
   "source": [
    "# Predict on testing set\n",
    "pred_y_6 = clf_6.predict(X_test)"
   ]
  },
  {
   "cell_type": "code",
   "execution_count": 64,
   "metadata": {},
   "outputs": [
    {
     "name": "stdout",
     "output_type": "stream",
     "text": [
      "0.8544877520381596\n"
     ]
    }
   ],
   "source": [
    "print(accuracy_score(y_test, pred_y_6))"
   ]
  },
  {
   "cell_type": "code",
   "execution_count": 65,
   "metadata": {},
   "outputs": [
    {
     "name": "stdout",
     "output_type": "stream",
     "text": [
      "0.6513282509429013\n"
     ]
    }
   ],
   "source": [
    "# AUROC score\n",
    "prob_y_6 = clf_6.predict_proba(X_test)\n",
    "prob_y_6 = [p[1] for p in prob_y_6]\n",
    "print( roc_auc_score(y_test, prob_y_6) )"
   ]
  },
  {
   "cell_type": "code",
   "execution_count": 66,
   "metadata": {},
   "outputs": [
    {
     "data": {
      "text/plain": [
       "0.08935078958024024"
      ]
     },
     "execution_count": 66,
     "metadata": {},
     "output_type": "execute_result"
    }
   ],
   "source": [
    "# recall_score\n",
    "recall_score(y_test, pred_y_6)"
   ]
  },
  {
   "cell_type": "code",
   "execution_count": 67,
   "metadata": {},
   "outputs": [
    {
     "data": {
      "text/plain": [
       "0.14742233604275692"
      ]
     },
     "execution_count": 67,
     "metadata": {},
     "output_type": "execute_result"
    }
   ],
   "source": [
    "# f1 score\n",
    "f1_score(y_test, pred_y_6)"
   ]
  },
  {
   "cell_type": "markdown",
   "metadata": {},
   "source": [
    "F1-score and recall have improved slightly when compared to the RandomForrest Classifer using the original imbalanced dataset but are still not as good as that produced by Logistic Regression on the Oversampled dataset"
   ]
  },
  {
   "cell_type": "markdown",
   "metadata": {},
   "source": [
    "### 5.b) Under-sampling: Cluster Centroids (another option. Not used here)\n",
    "\n",
    "Perform under-sampling by generating centroids based on clustering methods.\n",
    "\n",
    "Method that under samples the majority class by replacing a cluster of majority samples by the cluster centroid of a KMeans algorithm. This algorithm keeps N majority samples by fitting the KMeans algorithm with N cluster to the majority class and using the coordinates of the N cluster centroids as the new majority samples."
   ]
  },
  {
   "cell_type": "markdown",
   "metadata": {},
   "source": [
    "### 5.c) Random Undersampler - Not ideal as it may lead to loss of information"
   ]
  },
  {
   "cell_type": "markdown",
   "metadata": {},
   "source": [
    "## Feature Selection continued....\n",
    "\n",
    "### 2. Using RandomForrest Classifiers feature_importance measure"
   ]
  },
  {
   "cell_type": "code",
   "execution_count": 91,
   "metadata": {},
   "outputs": [
    {
     "data": {
      "text/plain": [
       "RandomForestClassifier(bootstrap=True, class_weight=None, criterion='gini',\n",
       "            max_depth=None, max_features='auto', max_leaf_nodes=None,\n",
       "            min_impurity_decrease=0.0, min_impurity_split=None,\n",
       "            min_samples_leaf=1, min_samples_split=2,\n",
       "            min_weight_fraction_leaf=0.0, n_estimators=10, n_jobs=1,\n",
       "            oob_score=False, random_state=None, verbose=0,\n",
       "            warm_start=False)"
      ]
     },
     "execution_count": 91,
     "metadata": {},
     "output_type": "execute_result"
    }
   ],
   "source": [
    "# Training the model on the reduced dataset (38 predictors X 163105 rows)\n",
    "\n",
    "clf_31 = RandomForestClassifier()\n",
    "clf_31.fit(df_X, dataset_Y)"
   ]
  },
  {
   "cell_type": "code",
   "execution_count": 92,
   "metadata": {},
   "outputs": [],
   "source": [
    "importances = clf_31.feature_importances_"
   ]
  },
  {
   "cell_type": "code",
   "execution_count": 93,
   "metadata": {},
   "outputs": [
    {
     "data": {
      "text/html": [
       "<div>\n",
       "<style scoped>\n",
       "    .dataframe tbody tr th:only-of-type {\n",
       "        vertical-align: middle;\n",
       "    }\n",
       "\n",
       "    .dataframe tbody tr th {\n",
       "        vertical-align: top;\n",
       "    }\n",
       "\n",
       "    .dataframe thead th {\n",
       "        text-align: right;\n",
       "    }\n",
       "</style>\n",
       "<table border=\"1\" class=\"dataframe\">\n",
       "  <thead>\n",
       "    <tr style=\"text-align: right;\">\n",
       "      <th></th>\n",
       "      <th>importance</th>\n",
       "    </tr>\n",
       "  </thead>\n",
       "  <tbody>\n",
       "    <tr>\n",
       "      <th>Longitude</th>\n",
       "      <td>0.139214</td>\n",
       "    </tr>\n",
       "    <tr>\n",
       "      <th>Latitude</th>\n",
       "      <td>0.136004</td>\n",
       "    </tr>\n",
       "    <tr>\n",
       "      <th>Engine_Capacity_.CC.</th>\n",
       "      <td>0.107908</td>\n",
       "    </tr>\n",
       "    <tr>\n",
       "      <th>Age_of_Vehicle</th>\n",
       "      <td>0.094642</td>\n",
       "    </tr>\n",
       "    <tr>\n",
       "      <th>Age_Band_of_Driver_order</th>\n",
       "      <td>0.067985</td>\n",
       "    </tr>\n",
       "    <tr>\n",
       "      <th>Number_of_Vehicles</th>\n",
       "      <td>0.042379</td>\n",
       "    </tr>\n",
       "    <tr>\n",
       "      <th>Number_of_Casualties</th>\n",
       "      <td>0.040718</td>\n",
       "    </tr>\n",
       "    <tr>\n",
       "      <th>Speed_limit</th>\n",
       "      <td>0.029420</td>\n",
       "    </tr>\n",
       "    <tr>\n",
       "      <th>X1st_Point_of_Impact_Front</th>\n",
       "      <td>0.019233</td>\n",
       "    </tr>\n",
       "    <tr>\n",
       "      <th>Daytime_afternoon rush (15-19)</th>\n",
       "      <td>0.018170</td>\n",
       "    </tr>\n",
       "    <tr>\n",
       "      <th>Vehicle_Manoeuvre_Going ahead other</th>\n",
       "      <td>0.017101</td>\n",
       "    </tr>\n",
       "    <tr>\n",
       "      <th>Driver_Home_Area_Type_Urban area</th>\n",
       "      <td>0.017048</td>\n",
       "    </tr>\n",
       "    <tr>\n",
       "      <th>Day_of_Week_Wednesday</th>\n",
       "      <td>0.015841</td>\n",
       "    </tr>\n",
       "    <tr>\n",
       "      <th>Day_of_Week_Friday</th>\n",
       "      <td>0.015833</td>\n",
       "    </tr>\n",
       "    <tr>\n",
       "      <th>Daytime_morning rush (5-10)</th>\n",
       "      <td>0.014970</td>\n",
       "    </tr>\n",
       "    <tr>\n",
       "      <th>Daytime_office hours (10-15)</th>\n",
       "      <td>0.014614</td>\n",
       "    </tr>\n",
       "    <tr>\n",
       "      <th>Propulsion_Code_Heavy oil</th>\n",
       "      <td>0.014109</td>\n",
       "    </tr>\n",
       "    <tr>\n",
       "      <th>Junction_Detail_T or staggered junction</th>\n",
       "      <td>0.013987</td>\n",
       "    </tr>\n",
       "    <tr>\n",
       "      <th>Road_Surface_Conditions_Dry</th>\n",
       "      <td>0.012963</td>\n",
       "    </tr>\n",
       "    <tr>\n",
       "      <th>Ped_Cross_Physical_No physical crossing facilities within 50 metres</th>\n",
       "      <td>0.012640</td>\n",
       "    </tr>\n",
       "  </tbody>\n",
       "</table>\n",
       "</div>"
      ],
      "text/plain": [
       "                                                    importance\n",
       "Longitude                                             0.139214\n",
       "Latitude                                              0.136004\n",
       "Engine_Capacity_.CC.                                  0.107908\n",
       "Age_of_Vehicle                                        0.094642\n",
       "Age_Band_of_Driver_order                              0.067985\n",
       "Number_of_Vehicles                                    0.042379\n",
       "Number_of_Casualties                                  0.040718\n",
       "Speed_limit                                           0.029420\n",
       "X1st_Point_of_Impact_Front                            0.019233\n",
       "Daytime_afternoon rush (15-19)                        0.018170\n",
       "Vehicle_Manoeuvre_Going ahead other                   0.017101\n",
       "Driver_Home_Area_Type_Urban area                      0.017048\n",
       "Day_of_Week_Wednesday                                 0.015841\n",
       "Day_of_Week_Friday                                    0.015833\n",
       "Daytime_morning rush (5-10)                           0.014970\n",
       "Daytime_office hours (10-15)                          0.014614\n",
       "Propulsion_Code_Heavy oil                             0.014109\n",
       "Junction_Detail_T or staggered junction               0.013987\n",
       "Road_Surface_Conditions_Dry                           0.012963\n",
       "Ped_Cross_Physical_No physical crossing facilit...    0.012640"
      ]
     },
     "execution_count": 93,
     "metadata": {},
     "output_type": "execute_result"
    }
   ],
   "source": [
    "feature_importances = pd.DataFrame(importances,\n",
    "                                   index = df_X.columns,\n",
    "                                    columns=['importance']).sort_values('importance', ascending=False)\n",
    "\n",
    "# Giving more importance to features that have less impurity\n",
    "\n",
    "# Top 20 features\n",
    "feature_importances.head(20)"
   ]
  },
  {
   "cell_type": "markdown",
   "metadata": {},
   "source": [
    "### 3. Recursive Feature Elimination - RFE\n",
    "Feature ranking with recursive feature elimination"
   ]
  },
  {
   "cell_type": "code",
   "execution_count": 94,
   "metadata": {},
   "outputs": [],
   "source": [
    "from sklearn.feature_selection import RFE"
   ]
  },
  {
   "cell_type": "markdown",
   "metadata": {},
   "source": [
    "Cannont use Gaussian Naive Bayes because the classifier does not expose \"coef_\" or \"feature_importances_\" attributes that is used in the RFE process.\n",
    "\n",
    "Therefore, we only use Logistic Regression and Random Forrest Classifiers"
   ]
  },
  {
   "cell_type": "code",
   "execution_count": 91,
   "metadata": {},
   "outputs": [],
   "source": [
    "# Create the RFE object and rank each feature -  Logistic Regression (On entire dataset - all 753 features)\n",
    "\n",
    "# clf_30 = LogisticRegression(solver='saga',max_iter=2500)\n",
    "# rfe = RFE(estimator=clf_30, n_features_to_select=1, step=150)\n",
    "# rfe.fit(dataset_X_dummy, dataset_Y)\n",
    "# ranking = rfe.ranking_\n",
    "\n",
    "# Did not run to completion. Therefore, we perform the operation on the reduced dataset (38 features)"
   ]
  },
  {
   "cell_type": "code",
   "execution_count": 95,
   "metadata": {},
   "outputs": [
    {
     "data": {
      "text/plain": [
       "RFE(estimator=LogisticRegression(C=1.0, class_weight=None, dual=False, fit_intercept=True,\n",
       "          intercept_scaling=1, max_iter=2500, multi_class='ovr', n_jobs=1,\n",
       "          penalty='l2', random_state=None, solver='saga', tol=0.0001,\n",
       "          verbose=0, warm_start=False),\n",
       "  n_features_to_select=1, step=1, verbose=0)"
      ]
     },
     "execution_count": 95,
     "metadata": {},
     "output_type": "execute_result"
    }
   ],
   "source": [
    "# Create the RFE object and rank each feature -  Logistic Regression (On reduced dataset - 38 features)\n",
    "\n",
    "clf_30 = LogisticRegression(solver='saga',max_iter=2500)\n",
    "rfe = RFE(estimator=clf_30, n_features_to_select=1, step=1)\n",
    "rfe.fit(df_X, dataset_Y)\n",
    "ranking = rfe.ranking_"
   ]
  },
  {
   "cell_type": "code",
   "execution_count": 96,
   "metadata": {},
   "outputs": [],
   "source": [
    "names=list(df_X.columns.values)"
   ]
  },
  {
   "cell_type": "code",
   "execution_count": 97,
   "metadata": {},
   "outputs": [
    {
     "name": "stdout",
     "output_type": "stream",
     "text": [
      "Features sorted by their rank:\n",
      "[(1, 'Number_of_Casualties'), (2, 'Number_of_Vehicles'), (3, 'Engine_Capacity_.CC.'), (4, 'X1st_Point_of_Impact_Back'), (5, 'Speed_limit'), (6, 'Age_of_Vehicle'), (7, 'Vehicle_Type_Car'), (8, 'Age_Band_of_Driver_order'), (9, 'Road_Type_Single carriageway'), (10, 'Latitude'), (11, 'Road_Surface_Conditions_Dry'), (12, 'Road_Surface_Conditions_Wet or damp'), (13, 'Vehicle_Location.Restricted_Lane'), (14, 'Light_Conditions_Daylight'), (15, 'Junction_Detail_Not at junction or within 20 metres'), (16, 'Urban_or_Rural_Area_Urban'), (17, 'Propulsion_Code_Petrol'), (18, 'Sex_of_Driver_Female'), (19, 'Junction_Location_Not at or within 20 metres of junction'), (20, 'Junction_Location_Approaching junction or waiting/parked at junction approach'), (21, 'Junction_Detail_T or staggered junction'), (22, 'Junction_Location_Mid Junction - on roundabout or on main road'), (23, 'Weather_Conditions_Fine no high winds'), (24, 'Longitude'), (25, 'Road_Type_Dual carriageway'), (26, 'Daytime_morning rush (5-10)'), (27, 'Daytime_office hours (10-15)'), (28, 'Daytime_afternoon rush (15-19)'), (29, 'Driver_Home_Area_Type_Urban area'), (30, 'Urban_or_Rural_Area_Rural'), (31, 'Day_of_Week_Friday'), (32, 'Sex_of_Driver_Male'), (33, 'Vehicle_Manoeuvre_Going ahead other'), (34, 'X1st_Point_of_Impact_Front'), (35, 'Day_of_Week_Wednesday'), (36, 'Ped_Cross_Physical_No physical crossing facilities within 50 metres'), (37, 'Light_Conditions_Darkness - lights lit'), (38, 'Propulsion_Code_Heavy oil')]\n"
     ]
    }
   ],
   "source": [
    "# selector = rfe.fit(df_X, dataset_Y)\n",
    "print (\"Features sorted by their rank:\")\n",
    "print (sorted(zip(map(lambda x: round(x, 4), ranking), names)))"
   ]
  },
  {
   "cell_type": "markdown",
   "metadata": {},
   "source": [
    "### 3.a) Recursive feature elimination with cross-validation"
   ]
  },
  {
   "cell_type": "code",
   "execution_count": 98,
   "metadata": {},
   "outputs": [],
   "source": [
    "from sklearn.model_selection import StratifiedKFold\n",
    "from sklearn.feature_selection import RFECV"
   ]
  },
  {
   "cell_type": "code",
   "execution_count": 100,
   "metadata": {},
   "outputs": [],
   "source": [
    "from sklearn.metrics import matthews_corrcoef"
   ]
  },
  {
   "cell_type": "code",
   "execution_count": 101,
   "metadata": {},
   "outputs": [
    {
     "name": "stdout",
     "output_type": "stream",
     "text": [
      "Optimal number of features : 29\n"
     ]
    },
    {
     "data": {
      "image/png": "[encoded data removed]",
      "text/plain": [
       "<Figure size 432x288 with 1 Axes>"
      ]
     },
     "metadata": {
      "needs_background": "light"
     },
     "output_type": "display_data"
    }
   ],
   "source": [
    "# Create the RFE object and compute a cross-validated score.\n",
    "clf_32 = LogisticRegression(solver='saga',max_iter=2500)\n",
    "\n",
    "\n",
    "rfecv = RFECV(estimator=clf_32, step=1, cv=StratifiedKFold(3),\n",
    "              scoring='recall')\n",
    "rfecv.fit(df_X, dataset_Y)\n",
    "\n",
    "print(\"Optimal number of features : %d\" % rfecv.n_features_)\n",
    "\n",
    "# Plot number of features VS. cross-validation scores\n",
    "plt.figure()\n",
    "plt.xlabel(\"Number of features selected\")\n",
    "plt.ylabel(\"Cross validation score (recall)\")\n",
    "plt.plot(range(1, len(rfecv.grid_scores_) + 1), rfecv.grid_scores_)\n",
    "plt.show();"
   ]
  },
  {
   "cell_type": "markdown",
   "metadata": {},
   "source": [
    "From output above - optimal number of features is 29"
   ]
  },
  {
   "cell_type": "code",
   "execution_count": 102,
   "metadata": {},
   "outputs": [],
   "source": [
    "ranking_rfecv=rfecv.ranking_"
   ]
  },
  {
   "cell_type": "code",
   "execution_count": 103,
   "metadata": {},
   "outputs": [
    {
     "data": {
      "text/plain": [
       "array([ 1,  1,  1,  1,  1,  1,  1,  1,  1,  3,  7,  1,  1,  9,  1,  1,  1,\n",
       "        1,  1,  2,  1,  1,  1,  1,  1,  1, 10,  1,  1,  4,  5,  1,  1,  6,\n",
       "        1,  1,  1,  8])"
      ]
     },
     "execution_count": 103,
     "metadata": {},
     "output_type": "execute_result"
    }
   ],
   "source": [
    "ranking_rfecv"
   ]
  },
  {
   "cell_type": "code",
   "execution_count": 107,
   "metadata": {},
   "outputs": [
    {
     "data": {
      "text/plain": [
       "array([ True,  True,  True,  True,  True,  True,  True,  True,  True,\n",
       "       False, False,  True,  True, False,  True,  True,  True,  True,\n",
       "        True, False,  True,  True,  True,  True,  True,  True, False,\n",
       "        True,  True, False, False,  True,  True, False,  True,  True,\n",
       "        True, False])"
      ]
     },
     "execution_count": 107,
     "metadata": {},
     "output_type": "execute_result"
    }
   ],
   "source": [
    "rfecv.support_ "
   ]
  },
  {
   "cell_type": "code",
   "execution_count": 106,
   "metadata": {},
   "outputs": [
    {
     "name": "stdout",
     "output_type": "stream",
     "text": [
      "Features sorted by their rank:\n",
      "[(1, 'Age_Band_of_Driver_order'), (1, 'Age_of_Vehicle'), (1, 'Daytime_afternoon rush (15-19)'), (1, 'Daytime_morning rush (5-10)'), (1, 'Daytime_office hours (10-15)'), (1, 'Driver_Home_Area_Type_Urban area'), (1, 'Engine_Capacity_.CC.'), (1, 'Junction_Detail_Not at junction or within 20 metres'), (1, 'Junction_Detail_T or staggered junction'), (1, 'Junction_Location_Approaching junction or waiting/parked at junction approach'), (1, 'Junction_Location_Mid Junction - on roundabout or on main road'), (1, 'Junction_Location_Not at or within 20 metres of junction'), (1, 'Latitude'), (1, 'Light_Conditions_Daylight'), (1, 'Longitude'), (1, 'Number_of_Casualties'), (1, 'Number_of_Vehicles'), (1, 'Propulsion_Code_Petrol'), (1, 'Road_Surface_Conditions_Dry'), (1, 'Road_Surface_Conditions_Wet or damp'), (1, 'Road_Type_Dual carriageway'), (1, 'Road_Type_Single carriageway'), (1, 'Sex_of_Driver_Female'), (1, 'Speed_limit'), (1, 'Urban_or_Rural_Area_Urban'), (1, 'Vehicle_Location.Restricted_Lane'), (1, 'Vehicle_Type_Car'), (1, 'Weather_Conditions_Fine no high winds'), (1, 'X1st_Point_of_Impact_Back'), (2, 'Urban_or_Rural_Area_Rural'), (3, 'Day_of_Week_Friday'), (4, 'Sex_of_Driver_Male'), (5, 'Vehicle_Manoeuvre_Going ahead other'), (6, 'X1st_Point_of_Impact_Front'), (7, 'Day_of_Week_Wednesday'), (8, 'Ped_Cross_Physical_No physical crossing facilities within 50 metres'), (9, 'Light_Conditions_Darkness - lights lit'), (10, 'Propulsion_Code_Heavy oil')]\n"
     ]
    }
   ],
   "source": [
    "print (\"List of optimal features: 29 features in total (out of 38)\")\n",
    "print (sorted(zip(map(lambda x: round(x, 4), ranking_rfecv), names)))"
   ]
  },
  {
   "cell_type": "code",
   "execution_count": 139,
   "metadata": {},
   "outputs": [
    {
     "data": {
      "text/plain": [
       "array([[ 0.37236394,  0.11701663, 16.95247261,  5.14392043,  0.61483086,\n",
       "         0.25678179,  1.10067496,  0.36264944,  0.57198172,  0.52148383,\n",
       "         0.15586196,  0.20474175,  0.536397  ,  0.45652178,  0.12285283,\n",
       "         0.50302732,  0.21924947,  0.1620824 ,  0.08899253,  0.28767463,\n",
       "         0.17121414,  0.33212867,  0.21670485,  0.20725511,  0.67104963,\n",
       "         0.9013023 ,  0.11687779,  0.18141073,  0.16626025]])"
      ]
     },
     "execution_count": 139,
     "metadata": {},
     "output_type": "execute_result"
    }
   ],
   "source": [
    "# estimator coefficients for each of the 29 selected features from above\n",
    "np.absolute(rfecv.estimator_.coef_)"
   ]
  },
  {
   "cell_type": "code",
   "execution_count": null,
   "metadata": {},
   "outputs": [],
   "source": [
    "list_coeff=[0.37236394,  0.11701663, 16.95247261,  5.14392043,  0.61483086,\n",
    "         0.25678179,  1.10067496,  0.36264944,  0.57198172,  0.52148383,\n",
    "         0.15586196,  0.20474175,  0.536397  ,  0.45652178,  0.12285283,\n",
    "         0.50302732,  0.21924947,  0.1620824 ,  0.08899253,  0.28767463,\n",
    "         0.17121414,  0.33212867,  0.21670485,  0.20725511,  0.67104963,\n",
    "         0.9013023 ,  0.11687779,  0.18141073,  0.16626025]"
   ]
  },
  {
   "cell_type": "code",
   "execution_count": 138,
   "metadata": {},
   "outputs": [
    {
     "name": "stdout",
     "output_type": "stream",
     "text": [
      "final list -  [('Number_of_Casualties', 16.95247261), ('Number_of_Vehicles', 5.14392043), ('Engine_Capacity_.CC.', 1.10067496), ('Junction_Location_Not at or within 20 metres of junction', 0.9013023), ('Junction_Location_Mid Junction - on roundabout or on main road', 0.67104963), ('Speed_limit', 0.61483086), ('Age_Band_of_Driver_order', 0.57198172), ('Junction_Detail_T or staggered junction', 0.536397), ('Day_of_Week_Friday', 0.52148383), ('Road_Surface_Conditions_Dry', 0.50302732), ('Light_Conditions_Darkness - lights lit', 0.45652178), ('Latitude', 0.37236394), ('Vehicle_Location.Restricted_Lane', 0.36264944), ('Weather_Conditions_Fine no high winds', 0.33212867), ('Urban_or_Rural_Area_Rural', 0.28767463), ('Age_of_Vehicle', 0.25678179), ('Road_Surface_Conditions_Wet or damp', 0.21924947), ('Driver_Home_Area_Type_Urban area', 0.21670485), ('Junction_Location_Approaching junction or waiting/parked at junction approach', 0.20725511), ('Junction_Detail_Not at junction or within 20 metres', 0.20474175), ('Propulsion_Code_Petrol', 0.18141073), ('Urban_or_Rural_Area_Urban', 0.17121414), ('Sex_of_Driver_Female', 0.16626025), ('Road_Type_Dual carriageway', 0.1620824), ('Day_of_Week_Wednesday', 0.15586196), ('Light_Conditions_Daylight', 0.12285283), ('Longitude', 0.11701663), ('Propulsion_Code_Heavy oil', 0.11687779), ('Road_Type_Single carriageway', 0.08899253)]\n"
     ]
    }
   ],
   "source": [
    "# Sorting and listing features by rank/importance in DESC order\n",
    "\n",
    "zipped = zip(names, list_coeff)  \n",
    "zipped = list(zipped) \n",
    "  \n",
    "# Features sorted by rank (DESC order of importance)\n",
    "res = sorted(zipped, key = lambda x: x[1],reverse = True) \n",
    "      \n",
    "# printing result \n",
    "print(\"final list - \", str(res)) "
   ]
  },
  {
   "cell_type": "markdown",
   "metadata": {},
   "source": [
    "### 4. High Correlation Filter - Not used widely and does not provide much info here - Can be discarded"
   ]
  },
  {
   "cell_type": "code",
   "execution_count": 74,
   "metadata": {},
   "outputs": [
    {
     "data": {
      "text/html": [
       "<div>\n",
       "<style scoped>\n",
       "    .dataframe tbody tr th:only-of-type {\n",
       "        vertical-align: middle;\n",
       "    }\n",
       "\n",
       "    .dataframe tbody tr th {\n",
       "        vertical-align: top;\n",
       "    }\n",
       "\n",
       "    .dataframe thead th {\n",
       "        text-align: right;\n",
       "    }\n",
       "</style>\n",
       "<table border=\"1\" class=\"dataframe\">\n",
       "  <thead>\n",
       "    <tr style=\"text-align: right;\">\n",
       "      <th></th>\n",
       "      <th>Latitude</th>\n",
       "      <th>Longitude</th>\n",
       "      <th>Number_of_Casualties</th>\n",
       "      <th>Number_of_Vehicles</th>\n",
       "      <th>Speed_limit</th>\n",
       "      <th>Age_of_Vehicle</th>\n",
       "      <th>Engine_Capacity_.CC.</th>\n",
       "      <th>Vehicle_Location.Restricted_Lane</th>\n",
       "      <th>Target_Severe_Indicator</th>\n",
       "      <th>Age_Band_of_Driver_order</th>\n",
       "    </tr>\n",
       "  </thead>\n",
       "  <tbody>\n",
       "    <tr>\n",
       "      <th>Latitude</th>\n",
       "      <td>1.000000</td>\n",
       "      <td>-0.425193</td>\n",
       "      <td>0.022780</td>\n",
       "      <td>-0.026633</td>\n",
       "      <td>0.038974</td>\n",
       "      <td>-0.082461</td>\n",
       "      <td>0.004703</td>\n",
       "      <td>0.007541</td>\n",
       "      <td>0.021777</td>\n",
       "      <td>0.002221</td>\n",
       "    </tr>\n",
       "    <tr>\n",
       "      <th>Longitude</th>\n",
       "      <td>-0.425193</td>\n",
       "      <td>1.000000</td>\n",
       "      <td>-0.022124</td>\n",
       "      <td>0.013509</td>\n",
       "      <td>-0.038220</td>\n",
       "      <td>0.025379</td>\n",
       "      <td>-0.001462</td>\n",
       "      <td>-0.008248</td>\n",
       "      <td>-0.018144</td>\n",
       "      <td>-0.011670</td>\n",
       "    </tr>\n",
       "    <tr>\n",
       "      <th>Number_of_Casualties</th>\n",
       "      <td>0.022780</td>\n",
       "      <td>-0.022124</td>\n",
       "      <td>1.000000</td>\n",
       "      <td>0.452289</td>\n",
       "      <td>0.146952</td>\n",
       "      <td>0.003821</td>\n",
       "      <td>0.044556</td>\n",
       "      <td>-0.017601</td>\n",
       "      <td>0.086605</td>\n",
       "      <td>-0.010799</td>\n",
       "    </tr>\n",
       "    <tr>\n",
       "      <th>Number_of_Vehicles</th>\n",
       "      <td>-0.026633</td>\n",
       "      <td>0.013509</td>\n",
       "      <td>0.452289</td>\n",
       "      <td>1.000000</td>\n",
       "      <td>0.155865</td>\n",
       "      <td>-0.037679</td>\n",
       "      <td>0.043251</td>\n",
       "      <td>-0.031871</td>\n",
       "      <td>-0.025338</td>\n",
       "      <td>0.031075</td>\n",
       "    </tr>\n",
       "    <tr>\n",
       "      <th>Speed_limit</th>\n",
       "      <td>0.038974</td>\n",
       "      <td>-0.038220</td>\n",
       "      <td>0.146952</td>\n",
       "      <td>0.155865</td>\n",
       "      <td>1.000000</td>\n",
       "      <td>-0.028001</td>\n",
       "      <td>0.067066</td>\n",
       "      <td>-0.027005</td>\n",
       "      <td>0.078533</td>\n",
       "      <td>0.002076</td>\n",
       "    </tr>\n",
       "    <tr>\n",
       "      <th>Age_of_Vehicle</th>\n",
       "      <td>-0.082461</td>\n",
       "      <td>0.025379</td>\n",
       "      <td>0.003821</td>\n",
       "      <td>-0.037679</td>\n",
       "      <td>-0.028001</td>\n",
       "      <td>1.000000</td>\n",
       "      <td>-0.004107</td>\n",
       "      <td>0.001250</td>\n",
       "      <td>0.010053</td>\n",
       "      <td>-0.039878</td>\n",
       "    </tr>\n",
       "    <tr>\n",
       "      <th>Engine_Capacity_.CC.</th>\n",
       "      <td>0.004703</td>\n",
       "      <td>-0.001462</td>\n",
       "      <td>0.044556</td>\n",
       "      <td>0.043251</td>\n",
       "      <td>0.067066</td>\n",
       "      <td>-0.004107</td>\n",
       "      <td>1.000000</td>\n",
       "      <td>0.010729</td>\n",
       "      <td>-0.017387</td>\n",
       "      <td>0.148953</td>\n",
       "    </tr>\n",
       "    <tr>\n",
       "      <th>Vehicle_Location.Restricted_Lane</th>\n",
       "      <td>0.007541</td>\n",
       "      <td>-0.008248</td>\n",
       "      <td>-0.017601</td>\n",
       "      <td>-0.031871</td>\n",
       "      <td>-0.027005</td>\n",
       "      <td>0.001250</td>\n",
       "      <td>0.010729</td>\n",
       "      <td>1.000000</td>\n",
       "      <td>0.009202</td>\n",
       "      <td>0.016230</td>\n",
       "    </tr>\n",
       "    <tr>\n",
       "      <th>Target_Severe_Indicator</th>\n",
       "      <td>0.021777</td>\n",
       "      <td>-0.018144</td>\n",
       "      <td>0.086605</td>\n",
       "      <td>-0.025338</td>\n",
       "      <td>0.078533</td>\n",
       "      <td>0.010053</td>\n",
       "      <td>-0.017387</td>\n",
       "      <td>0.009202</td>\n",
       "      <td>1.000000</td>\n",
       "      <td>0.028151</td>\n",
       "    </tr>\n",
       "    <tr>\n",
       "      <th>Age_Band_of_Driver_order</th>\n",
       "      <td>0.002221</td>\n",
       "      <td>-0.011670</td>\n",
       "      <td>-0.010799</td>\n",
       "      <td>0.031075</td>\n",
       "      <td>0.002076</td>\n",
       "      <td>-0.039878</td>\n",
       "      <td>0.148953</td>\n",
       "      <td>0.016230</td>\n",
       "      <td>0.028151</td>\n",
       "      <td>1.000000</td>\n",
       "    </tr>\n",
       "  </tbody>\n",
       "</table>\n",
       "</div>"
      ],
      "text/plain": [
       "                                  Latitude  Longitude  Number_of_Casualties  \\\n",
       "Latitude                          1.000000  -0.425193              0.022780   \n",
       "Longitude                        -0.425193   1.000000             -0.022124   \n",
       "Number_of_Casualties              0.022780  -0.022124              1.000000   \n",
       "Number_of_Vehicles               -0.026633   0.013509              0.452289   \n",
       "Speed_limit                       0.038974  -0.038220              0.146952   \n",
       "Age_of_Vehicle                   -0.082461   0.025379              0.003821   \n",
       "Engine_Capacity_.CC.              0.004703  -0.001462              0.044556   \n",
       "Vehicle_Location.Restricted_Lane  0.007541  -0.008248             -0.017601   \n",
       "Target_Severe_Indicator           0.021777  -0.018144              0.086605   \n",
       "Age_Band_of_Driver_order          0.002221  -0.011670             -0.010799   \n",
       "\n",
       "                                  Number_of_Vehicles  Speed_limit  \\\n",
       "Latitude                                   -0.026633     0.038974   \n",
       "Longitude                                   0.013509    -0.038220   \n",
       "Number_of_Casualties                        0.452289     0.146952   \n",
       "Number_of_Vehicles                          1.000000     0.155865   \n",
       "Speed_limit                                 0.155865     1.000000   \n",
       "Age_of_Vehicle                             -0.037679    -0.028001   \n",
       "Engine_Capacity_.CC.                        0.043251     0.067066   \n",
       "Vehicle_Location.Restricted_Lane           -0.031871    -0.027005   \n",
       "Target_Severe_Indicator                    -0.025338     0.078533   \n",
       "Age_Band_of_Driver_order                    0.031075     0.002076   \n",
       "\n",
       "                                  Age_of_Vehicle  Engine_Capacity_.CC.  \\\n",
       "Latitude                               -0.082461              0.004703   \n",
       "Longitude                               0.025379             -0.001462   \n",
       "Number_of_Casualties                    0.003821              0.044556   \n",
       "Number_of_Vehicles                     -0.037679              0.043251   \n",
       "Speed_limit                            -0.028001              0.067066   \n",
       "Age_of_Vehicle                          1.000000             -0.004107   \n",
       "Engine_Capacity_.CC.                   -0.004107              1.000000   \n",
       "Vehicle_Location.Restricted_Lane        0.001250              0.010729   \n",
       "Target_Severe_Indicator                 0.010053             -0.017387   \n",
       "Age_Band_of_Driver_order               -0.039878              0.148953   \n",
       "\n",
       "                                  Vehicle_Location.Restricted_Lane  \\\n",
       "Latitude                                                  0.007541   \n",
       "Longitude                                                -0.008248   \n",
       "Number_of_Casualties                                     -0.017601   \n",
       "Number_of_Vehicles                                       -0.031871   \n",
       "Speed_limit                                              -0.027005   \n",
       "Age_of_Vehicle                                            0.001250   \n",
       "Engine_Capacity_.CC.                                      0.010729   \n",
       "Vehicle_Location.Restricted_Lane                          1.000000   \n",
       "Target_Severe_Indicator                                   0.009202   \n",
       "Age_Band_of_Driver_order                                  0.016230   \n",
       "\n",
       "                                  Target_Severe_Indicator  \\\n",
       "Latitude                                         0.021777   \n",
       "Longitude                                       -0.018144   \n",
       "Number_of_Casualties                             0.086605   \n",
       "Number_of_Vehicles                              -0.025338   \n",
       "Speed_limit                                      0.078533   \n",
       "Age_of_Vehicle                                   0.010053   \n",
       "Engine_Capacity_.CC.                            -0.017387   \n",
       "Vehicle_Location.Restricted_Lane                 0.009202   \n",
       "Target_Severe_Indicator                          1.000000   \n",
       "Age_Band_of_Driver_order                         0.028151   \n",
       "\n",
       "                                  Age_Band_of_Driver_order  \n",
       "Latitude                                          0.002221  \n",
       "Longitude                                        -0.011670  \n",
       "Number_of_Casualties                             -0.010799  \n",
       "Number_of_Vehicles                                0.031075  \n",
       "Speed_limit                                       0.002076  \n",
       "Age_of_Vehicle                                   -0.039878  \n",
       "Engine_Capacity_.CC.                              0.148953  \n",
       "Vehicle_Location.Restricted_Lane                  0.016230  \n",
       "Target_Severe_Indicator                           0.028151  \n",
       "Age_Band_of_Driver_order                          1.000000  "
      ]
     },
     "execution_count": 74,
     "metadata": {},
     "output_type": "execute_result"
    }
   ],
   "source": [
    "df_subset.corr()"
   ]
  },
  {
   "cell_type": "markdown",
   "metadata": {},
   "source": [
    "Number_of_Vehicles & Number_of_Casualties - 0.45 (hihgly correlated)"
   ]
  },
  {
   "cell_type": "markdown",
   "metadata": {},
   "source": [
    "## Feature Reduction"
   ]
  },
  {
   "cell_type": "markdown",
   "metadata": {},
   "source": [
    "### PCA"
   ]
  },
  {
   "cell_type": "code",
   "execution_count": 129,
   "metadata": {},
   "outputs": [],
   "source": [
    "# Using reduced dataset after applying variance threshold filter (also normalized)\n",
    "# Datset used -> dataset_X_normalized"
   ]
  },
  {
   "cell_type": "code",
   "execution_count": 140,
   "metadata": {},
   "outputs": [],
   "source": [
    "# Splitting validation dataset (80-20 split)\n",
    "validation_size = 0.20\n",
    "seed = 7\n",
    "x_train, x_validation, Y_train, Y_validation = train_test_split(dataset_X_normalized, dataset_Y, test_size=validation_size, random_state=seed)"
   ]
  },
  {
   "cell_type": "code",
   "execution_count": 143,
   "metadata": {},
   "outputs": [
    {
     "data": {
      "text/plain": [
       "PCA(copy=True, iterated_power='auto', n_components=38, random_state=None,\n",
       "  svd_solver='auto', tol=0.0, whiten=False)"
      ]
     },
     "execution_count": 143,
     "metadata": {},
     "output_type": "execute_result"
    }
   ],
   "source": [
    "from sklearn.decomposition import PCA\n",
    "\n",
    "# We first include all 38 variables\n",
    "pca = PCA(n_components=38)\n",
    "\n",
    "pca.fit(x_train)\n",
    "\n",
    "#The amount of variance that each PC explains\n",
    "var= pca.explained_variance_ratio_\n",
    "\n",
    "#Cumulative Variance explains\n",
    "var1=np.cumsum(np.round(pca.explained_variance_ratio_, decimals=4)*100)"
   ]
  },
  {
   "cell_type": "code",
   "execution_count": 144,
   "metadata": {},
   "outputs": [
    {
     "data": {
      "text/plain": [
       "array([1.38368118e-01, 9.31842084e-02, 8.74476813e-02, 7.64023003e-02,\n",
       "       7.01630699e-02, 6.06767788e-02, 5.83478205e-02, 5.27133797e-02,\n",
       "       4.24276264e-02, 3.80309475e-02, 3.66850502e-02, 3.26028133e-02,\n",
       "       2.73043748e-02, 2.43989048e-02, 2.24418586e-02, 2.13212120e-02,\n",
       "       1.92055849e-02, 1.83996006e-02, 1.53924494e-02, 1.27531587e-02,\n",
       "       1.04955263e-02, 9.29922757e-03, 6.15153410e-03, 5.41478428e-03,\n",
       "       5.02156058e-03, 4.84442779e-03, 3.82620927e-03, 2.07790431e-03,\n",
       "       1.88315785e-03, 1.23926908e-03, 6.71268415e-04, 5.43967178e-04,\n",
       "       1.46643530e-04, 5.28371846e-05, 4.72641012e-05, 1.74806076e-05,\n",
       "       2.72882997e-32, 7.71624890e-34])"
      ]
     },
     "execution_count": 144,
     "metadata": {},
     "output_type": "execute_result"
    }
   ],
   "source": [
    "# explained variance ratio of each PC (Principal Component)\n",
    "var"
   ]
  },
  {
   "cell_type": "code",
   "execution_count": 145,
   "metadata": {},
   "outputs": [],
   "source": [
    "# PC1 explains 13.8%, PC2 explains 9.3%, PC3 explains 8.7% ......first 10 PCs explain roughly 70% of the variance"
   ]
  },
  {
   "cell_type": "code",
   "execution_count": 146,
   "metadata": {},
   "outputs": [
    {
     "data": {
      "text/plain": [
       "[<matplotlib.lines.Line2D at 0x198ed9d6080>]"
      ]
     },
     "execution_count": 146,
     "metadata": {},
     "output_type": "execute_result"
    },
    {
     "data": {
      "image/png": "[encoded data removed]",
      "text/plain": [
       "<Figure size 432x288 with 1 Axes>"
      ]
     },
     "metadata": {
      "needs_background": "light"
     },
     "output_type": "display_data"
    }
   ],
   "source": [
    "# Displays Cumulative Variance plot\n",
    "plt.plot(var1)"
   ]
  },
  {
   "cell_type": "code",
   "execution_count": 147,
   "metadata": {},
   "outputs": [],
   "source": [
    "#Looking at above plot and taking only 28 PCs - explains nearly 100% of the variance in the data\n",
    "pca = PCA(n_components=28)\n",
    "\n",
    "X_train_PC=pca.fit_transform(x_train)"
   ]
  },
  {
   "cell_type": "code",
   "execution_count": 148,
   "metadata": {},
   "outputs": [],
   "source": [
    "X_validation_PC=pca.transform(x_validation)"
   ]
  },
  {
   "cell_type": "markdown",
   "metadata": {},
   "source": [
    "#### BEFORE TRAINING MODEL....."
   ]
  },
  {
   "cell_type": "code",
   "execution_count": 149,
   "metadata": {},
   "outputs": [],
   "source": [
    "# Finding the most important features\n",
    "\n",
    "pca = PCA(n_components=28)\n",
    "X_PC=pca.fit_transform(dataset_X_normalized) # Using entire dataset prior to train/test split\n",
    "\n",
    "x=abs( pca.components_ )"
   ]
  },
  {
   "cell_type": "markdown",
   "metadata": {},
   "source": [
    "Here, pca.components_ has shape [n_components, n_features]. So [28,38]"
   ]
  },
  {
   "cell_type": "code",
   "execution_count": 150,
   "metadata": {},
   "outputs": [
    {
     "data": {
      "text/plain": [
       "array([0.13860558, 0.09322402, 0.08744854, 0.07654981, 0.06999577,\n",
       "       0.0606349 , 0.05830798, 0.05273467, 0.04238818, 0.03803722,\n",
       "       0.0367135 , 0.0326533 , 0.02724071, 0.02437606, 0.0223752 ,\n",
       "       0.02127533, 0.01921877, 0.01838644, 0.01540656, 0.01274837,\n",
       "       0.01047982, 0.00928581, 0.00614256, 0.00542341, 0.00504282,\n",
       "       0.00483841, 0.00381281, 0.00206959])"
      ]
     },
     "execution_count": 150,
     "metadata": {},
     "output_type": "execute_result"
    }
   ],
   "source": [
    "# the explained variance ratios for each PC - first 10 PCs explain roughly 70% of the variance\n",
    "\n",
    "pca.explained_variance_ratio_"
   ]
  },
  {
   "cell_type": "code",
   "execution_count": 151,
   "metadata": {},
   "outputs": [
    {
     "data": {
      "text/plain": [
       "array(['Latitude', 'Longitude', 'Number_of_Casualties',\n",
       "       'Number_of_Vehicles', 'Speed_limit', 'Age_of_Vehicle',\n",
       "       'Engine_Capacity_.CC.', 'Vehicle_Location.Restricted_Lane',\n",
       "       'Age_Band_of_Driver_order', 'Day_of_Week_Friday',\n",
       "       'Day_of_Week_Wednesday',\n",
       "       'Junction_Detail_Not at junction or within 20 metres',\n",
       "       'Junction_Detail_T or staggered junction',\n",
       "       'Light_Conditions_Darkness - lights lit',\n",
       "       'Light_Conditions_Daylight', 'Road_Surface_Conditions_Dry',\n",
       "       'Road_Surface_Conditions_Wet or damp',\n",
       "       'Road_Type_Dual carriageway', 'Road_Type_Single carriageway',\n",
       "       'Urban_or_Rural_Area_Rural', 'Urban_or_Rural_Area_Urban',\n",
       "       'Weather_Conditions_Fine no high winds',\n",
       "       'Driver_Home_Area_Type_Urban area',\n",
       "       'Junction_Location_Approaching junction or waiting/parked at junction approach',\n",
       "       'Junction_Location_Mid Junction - on roundabout or on main road',\n",
       "       'Junction_Location_Not at or within 20 metres of junction',\n",
       "       'Propulsion_Code_Heavy oil', 'Propulsion_Code_Petrol',\n",
       "       'Sex_of_Driver_Female', 'Sex_of_Driver_Male',\n",
       "       'Vehicle_Manoeuvre_Going ahead other', 'Vehicle_Type_Car',\n",
       "       'X1st_Point_of_Impact_Back', 'X1st_Point_of_Impact_Front',\n",
       "       'Daytime_afternoon rush (15-19)', 'Daytime_morning rush (5-10)',\n",
       "       'Daytime_office hours (10-15)',\n",
       "       'Ped_Cross_Physical_No physical crossing facilities within 50 metres'],\n",
       "      dtype=object)"
      ]
     },
     "execution_count": 151,
     "metadata": {},
     "output_type": "execute_result"
    }
   ],
   "source": [
    "y=dataset_X_normalized.columns.values\n",
    "y # list of features"
   ]
  },
  {
   "cell_type": "markdown",
   "metadata": {},
   "source": [
    "looking at individual PC contributions - Looking at first 3 PCs as an example"
   ]
  },
  {
   "cell_type": "code",
   "execution_count": 152,
   "metadata": {},
   "outputs": [
    {
     "name": "stdout",
     "output_type": "stream",
     "text": [
      "[8.14504565e-03 1.50328487e-02 1.64809928e-03 1.88659285e-03\n",
      " 2.20295661e-01 1.45696987e-03 3.12434945e-03 1.00419441e-05\n",
      " 1.68384016e-03 5.36884798e-04 1.66835431e-03 4.38176890e-01\n",
      " 3.02855120e-01 7.18464672e-02 4.07425649e-03 9.29319426e-02\n",
      " 7.66894942e-02 1.31478875e-01 1.10199081e-01 3.94950646e-01\n",
      " 3.94950646e-01 4.69315688e-02 1.44911021e-01 1.71308012e-01\n",
      " 1.76877222e-01 4.38327929e-01 6.62871318e-02 6.46224754e-02\n",
      " 1.94196906e-02 1.94196906e-02 4.26588545e-02 1.76657250e-02\n",
      " 3.04426997e-02 5.23184627e-03 1.15790078e-02 2.90569606e-02\n",
      " 3.42156359e-03 1.30265167e-01]\n"
     ]
    }
   ],
   "source": [
    "print(x[0])"
   ]
  },
  {
   "cell_type": "code",
   "execution_count": 153,
   "metadata": {},
   "outputs": [
    {
     "name": "stdout",
     "output_type": "stream",
     "text": [
      "[1.96124721e-03 2.71533723e-03 8.26384897e-05 1.68734402e-04\n",
      " 1.05068239e-02 9.83324561e-03 1.17287414e-02 6.99495793e-04\n",
      " 1.78471095e-02 3.55923070e-03 8.53425727e-03 2.31948192e-02\n",
      " 1.48175580e-02 9.98601732e-02 1.09979761e-01 3.05656293e-02\n",
      " 3.19176924e-02 2.21514444e-02 2.24622566e-02 4.77205087e-02\n",
      " 4.77205087e-02 1.86321909e-02 4.00657527e-02 8.44581992e-03\n",
      " 3.53461982e-02 2.31893668e-02 4.38090051e-01 4.41580004e-01\n",
      " 5.18015127e-01 5.18015127e-01 4.15418785e-02 1.81803568e-01\n",
      " 4.22718939e-02 3.55289134e-02 1.10916585e-02 1.15660114e-02\n",
      " 5.12053247e-02 2.82743138e-02]\n"
     ]
    }
   ],
   "source": [
    "print(x[1])"
   ]
  },
  {
   "cell_type": "code",
   "execution_count": 154,
   "metadata": {},
   "outputs": [
    {
     "name": "stdout",
     "output_type": "stream",
     "text": [
      "[8.84930595e-03 7.74952101e-03 6.23968579e-05 1.61352549e-03\n",
      " 2.60363559e-02 6.63948088e-03 4.72183928e-03 1.18839121e-03\n",
      " 4.76762971e-02 3.19489216e-03 7.53877185e-04 5.39906621e-03\n",
      " 8.63260052e-03 2.67056620e-01 3.24067429e-01 5.45137786e-01\n",
      " 5.27901050e-01 2.61439459e-02 3.25526308e-02 5.56719267e-02\n",
      " 5.56719267e-02 3.38238942e-01 2.55187523e-02 2.88351124e-02\n",
      " 2.94251999e-02 5.28185093e-03 1.40846078e-01 1.41443930e-01\n",
      " 1.70226505e-03 1.70226505e-03 7.68224216e-02 2.74763112e-02\n",
      " 1.01408669e-01 1.30897104e-01 3.63603835e-02 1.17260949e-02\n",
      " 2.10180416e-01 1.57708729e-02]\n"
     ]
    }
   ],
   "source": [
    "print(x[2])"
   ]
  },
  {
   "cell_type": "markdown",
   "metadata": {},
   "source": [
    "#### Using only 10 PCs - first 10 PCs explain roughly 70% of the variance (Good enough to deduce important features)"
   ]
  },
  {
   "cell_type": "code",
   "execution_count": 155,
   "metadata": {},
   "outputs": [],
   "source": [
    "# Taking only 10 PCs\n",
    "pca = PCA(n_components=10)\n",
    "\n",
    "X_PC=pca.fit_transform(dataset_X_normalized)"
   ]
  },
  {
   "cell_type": "code",
   "execution_count": 157,
   "metadata": {},
   "outputs": [
    {
     "data": {
      "image/png": "[encoded data removed]",
      "text/plain": [
       "<Figure size 1094.4x288 with 2 Axes>"
      ]
     },
     "metadata": {
      "needs_background": "light"
     },
     "output_type": "display_data"
    }
   ],
   "source": [
    "plt.matshow(pca.components_,cmap='viridis')\n",
    "plt.yticks([0,1,2,3,4,5,6,7,8,9],['1st Comp','2nd Comp','3rd Comp','4th Comp','5th Comp','6th Comp'\n",
    "                                 ,'7th Comp','8th Comp','9th Comp','10th Comp'],fontsize=10)\n",
    "plt.colorbar()\n",
    "plt.xticks(range(len(dataset_X_normalized.columns.values)),dataset_X_normalized.columns.values,rotation=65,ha='left')\n",
    "plt.tight_layout()\n",
    "plt.show();"
   ]
  },
  {
   "cell_type": "markdown",
   "metadata": {},
   "source": [
    "The next step would be to sum the contributions of each individual feature across all 10 PCs and identify features with the highest contributions"
   ]
  },
  {
   "cell_type": "code",
   "execution_count": 158,
   "metadata": {},
   "outputs": [],
   "source": [
    "result=0\n",
    "for i in range(10):\n",
    "    result=np.add(result,x[i])"
   ]
  },
  {
   "cell_type": "code",
   "execution_count": 159,
   "metadata": {},
   "outputs": [
    {
     "data": {
      "text/plain": [
       "array([0.07662194, 0.10052245, 0.00637046, 0.01491014, 0.72711589,\n",
       "       0.05772826, 0.04343656, 0.01971822, 0.21587184, 0.09537186,\n",
       "       0.16269238, 1.30659313, 0.87858816, 1.51177109, 1.64070396,\n",
       "       1.38160918, 1.38352619, 1.24251904, 1.48669665, 1.50839997,\n",
       "       1.50839997, 0.93755831, 0.86246595, 1.06732217, 1.01432042,\n",
       "       1.30655883, 1.65947369, 1.66172749, 1.49581942, 1.49581942,\n",
       "       1.56657044, 0.51209805, 1.00325089, 1.39924924, 1.7311738 ,\n",
       "       1.05375298, 1.72784364, 0.40831402])"
      ]
     },
     "execution_count": 159,
     "metadata": {},
     "output_type": "execute_result"
    }
   ],
   "source": [
    "result"
   ]
  },
  {
   "cell_type": "code",
   "execution_count": 160,
   "metadata": {},
   "outputs": [
    {
     "data": {
      "text/plain": [
       "[34, 36, 27, 26, 14, 30, 13, 19, 20, 28, 29, 18, 33, 16, 15]"
      ]
     },
     "execution_count": 160,
     "metadata": {},
     "output_type": "execute_result"
    }
   ],
   "source": [
    "# Get indices of TOP 15 most significant contributors from resulting array (in DESC order)\n",
    "\n",
    "import heapq\n",
    "heapq.nlargest(15, range(len(result)), result.__getitem__)"
   ]
  },
  {
   "cell_type": "code",
   "execution_count": 161,
   "metadata": {},
   "outputs": [
    {
     "name": "stdout",
     "output_type": "stream",
     "text": [
      "Daytime_afternoon rush (15-19)\n",
      "Daytime_office hours (10-15)\n",
      "Propulsion_Code_Petrol\n",
      "Propulsion_Code_Heavy oil\n",
      "Light_Conditions_Daylight\n",
      "Vehicle_Manoeuvre_Going ahead other\n",
      "Light_Conditions_Darkness - lights lit\n",
      "Urban_or_Rural_Area_Rural\n",
      "Urban_or_Rural_Area_Urban\n",
      "Sex_of_Driver_Female\n",
      "Sex_of_Driver_Male\n",
      "Road_Type_Single carriageway\n",
      "X1st_Point_of_Impact_Front\n",
      "Road_Surface_Conditions_Wet or damp\n",
      "Road_Surface_Conditions_Dry\n"
     ]
    }
   ],
   "source": [
    "# TOP 15 features based on contributions in 10 PCs in DESC order (10 PCs explain 70% of the variance in the data)\n",
    "\n",
    "for i in (34, 36, 27, 26, 14, 30, 13, 19, 20, 28, 29, 18, 33, 16, 15):\n",
    "    print(y[i])"
   ]
  },
  {
   "cell_type": "markdown",
   "metadata": {},
   "source": [
    "**CONTINUE WITH TRAINING MODEL USING PCs = 28...**"
   ]
  },
  {
   "cell_type": "code",
   "execution_count": 162,
   "metadata": {},
   "outputs": [],
   "source": [
    "# LOGISTIC REGRESSION\n",
    "# Train model\n",
    "clf_7 = LogisticRegression(solver='saga',max_iter=2500).fit(X_train_PC, Y_train)"
   ]
  },
  {
   "cell_type": "code",
   "execution_count": 163,
   "metadata": {},
   "outputs": [],
   "source": [
    "# Predict on testing set\n",
    "pred_y_7 = clf_7.predict(X_validation_PC)"
   ]
  },
  {
   "cell_type": "code",
   "execution_count": 164,
   "metadata": {},
   "outputs": [
    {
     "name": "stdout",
     "output_type": "stream",
     "text": [
      "Accuracy :  0.8567\n"
     ]
    }
   ],
   "source": [
    "print(\"Accuracy : \", round(accuracy_score(Y_validation, pred_y_7),4))"
   ]
  },
  {
   "cell_type": "code",
   "execution_count": 165,
   "metadata": {},
   "outputs": [
    {
     "name": "stdout",
     "output_type": "stream",
     "text": [
      "0.6671958586168296\n"
     ]
    }
   ],
   "source": [
    "# Predict class probabilities\n",
    "prob_y_7 = clf_7.predict_proba(X_validation_PC)\n",
    "prob_y_7 = [p[1] for p in prob_y_7]\n",
    " \n",
    "print(roc_auc_score(Y_validation, prob_y_7))"
   ]
  },
  {
   "cell_type": "code",
   "execution_count": 166,
   "metadata": {},
   "outputs": [
    {
     "data": {
      "text/plain": [
       "0.00042799058420714745"
      ]
     },
     "execution_count": 166,
     "metadata": {},
     "output_type": "execute_result"
    }
   ],
   "source": [
    "# recall_score\n",
    "recall_score(Y_validation, pred_y_7)"
   ]
  },
  {
   "cell_type": "code",
   "execution_count": 167,
   "metadata": {},
   "outputs": [
    {
     "data": {
      "text/plain": [
       "0.0008548835221201111"
      ]
     },
     "execution_count": 167,
     "metadata": {},
     "output_type": "execute_result"
    }
   ],
   "source": [
    "# f1 score\n",
    "f1_score(Y_validation, pred_y_7)"
   ]
  },
  {
   "cell_type": "markdown",
   "metadata": {},
   "source": [
    "Both F1 score and Recall have gotten much worse - **accounts to the imbalance in the dataset**"
   ]
  },
  {
   "cell_type": "code",
   "execution_count": 168,
   "metadata": {},
   "outputs": [
    {
     "data": {
      "text/plain": [
       "RandomForestClassifier(bootstrap=True, class_weight=None, criterion='gini',\n",
       "            max_depth=None, max_features='auto', max_leaf_nodes=None,\n",
       "            min_impurity_decrease=0.0, min_impurity_split=None,\n",
       "            min_samples_leaf=1, min_samples_split=2,\n",
       "            min_weight_fraction_leaf=0.0, n_estimators=10, n_jobs=1,\n",
       "            oob_score=False, random_state=None, verbose=0,\n",
       "            warm_start=False)"
      ]
     },
     "execution_count": 168,
     "metadata": {},
     "output_type": "execute_result"
    }
   ],
   "source": [
    "# RANDOM FORREST CLASSIFIER\n",
    "\n",
    "clf_8 = RandomForestClassifier()\n",
    "clf_8.fit(X_train_PC, Y_train)"
   ]
  },
  {
   "cell_type": "code",
   "execution_count": 169,
   "metadata": {},
   "outputs": [],
   "source": [
    "# Predict on testing set\n",
    "pred_y_8 = clf_8.predict(X_validation_PC)"
   ]
  },
  {
   "cell_type": "code",
   "execution_count": 170,
   "metadata": {},
   "outputs": [
    {
     "name": "stdout",
     "output_type": "stream",
     "text": [
      "0.8431072008828668\n"
     ]
    }
   ],
   "source": [
    "print(accuracy_score(Y_validation, pred_y_8))"
   ]
  },
  {
   "cell_type": "code",
   "execution_count": 171,
   "metadata": {},
   "outputs": [
    {
     "name": "stdout",
     "output_type": "stream",
     "text": [
      "0.5961841686913831\n"
     ]
    }
   ],
   "source": [
    "# AUROC score\n",
    "prob_y_8 = clf_8.predict_proba(X_validation_PC)\n",
    "prob_y_8 = [p[1] for p in prob_y_8]\n",
    "print( roc_auc_score(Y_validation, prob_y_8) )"
   ]
  },
  {
   "cell_type": "code",
   "execution_count": 172,
   "metadata": {},
   "outputs": [
    {
     "data": {
      "text/plain": [
       "0.0708324416862829"
      ]
     },
     "execution_count": 172,
     "metadata": {},
     "output_type": "execute_result"
    }
   ],
   "source": [
    "# recall_score\n",
    "recall_score(Y_validation, pred_y_8)"
   ]
  },
  {
   "cell_type": "code",
   "execution_count": 173,
   "metadata": {},
   "outputs": [
    {
     "data": {
      "text/plain": [
       "0.11453287197231833"
      ]
     },
     "execution_count": 173,
     "metadata": {},
     "output_type": "execute_result"
    }
   ],
   "source": [
    "# f1 score\n",
    "f1_score(Y_validation, pred_y_8)"
   ]
  },
  {
   "cell_type": "markdown",
   "metadata": {},
   "source": [
    "Improvement in F1 score and Recall using Randomforrest classifer - **again the poor scores for f1 and recall account for imbalance in the dataset**"
   ]
  },
  {
   "cell_type": "code",
   "execution_count": null,
   "metadata": {},
   "outputs": [],
   "source": []
  },
  {
   "cell_type": "markdown",
   "metadata": {},
   "source": [
    "### Testing models for overfitting using k fold cross validation and scoring = 'recall' "
   ]
  },
  {
   "cell_type": "code",
   "execution_count": 174,
   "metadata": {},
   "outputs": [],
   "source": [
    "from sklearn import model_selection\n",
    "from sklearn.neighbors import KNeighborsClassifier\n",
    "from sklearn.svm import SVC"
   ]
  },
  {
   "cell_type": "markdown",
   "metadata": {},
   "source": [
    "Testing model for overfitting using K-fold CV on the **training dataset**"
   ]
  },
  {
   "cell_type": "code",
   "execution_count": 175,
   "metadata": {},
   "outputs": [],
   "source": [
    "scoring = 'recall'"
   ]
  },
  {
   "cell_type": "code",
   "execution_count": 176,
   "metadata": {},
   "outputs": [],
   "source": [
    "# Spot Check Algorithms\n",
    "models = []\n",
    "models.append(('LR', LogisticRegression(solver='saga',max_iter=2500)))\n",
    "# models.append(('K-NN', KNeighborsClassifier())) - not run here\n",
    "models.append(('RF', RandomForestClassifier()))\n",
    "models.append(('NB', GaussianNB()))\n",
    "# models.append(('SVM', SVC(gamma='auto')))       - not run here"
   ]
  },
  {
   "cell_type": "code",
   "execution_count": 177,
   "metadata": {},
   "outputs": [
    {
     "name": "stdout",
     "output_type": "stream",
     "text": [
      "LR: 0.300793 (0.083221)\n",
      "RF: 0.405143 (0.321729)\n",
      "NB: 0.399325 (0.035109)\n"
     ]
    }
   ],
   "source": [
    "# evaluate each model in turn - K-Fold Cross Validation with k-10 splits\n",
    "results = []\n",
    "names = []\n",
    "for name, model in models:\n",
    "    kfold = model_selection.KFold(n_splits=10, random_state=42)\n",
    "    cv_results = model_selection.cross_val_score(model, x_train_res, y_train_res, cv=kfold, scoring=scoring)\n",
    "    results.append(cv_results)\n",
    "    names.append(name)\n",
    "    msg = \"%s: %f (%f)\" % (name, cv_results.mean(), cv_results.std())\n",
    "    print(msg)"
   ]
  },
  {
   "cell_type": "markdown",
   "metadata": {},
   "source": [
    "Best model in terms of avg recall score is RandomForrest followed by GaussianNB. The mean recall scores for the 10 fold cross validation indicates how well the model deals with overfitting. "
   ]
  },
  {
   "cell_type": "markdown",
   "metadata": {},
   "source": [
    "**Starting with best model in terms of avg cross val score and performing some hyper-parameter tuning**"
   ]
  },
  {
   "cell_type": "markdown",
   "metadata": {},
   "source": [
    "### Hyperparameter Tuning - Random Forrest (Using cv=3,5,7 and different hyperparameter values)"
   ]
  },
  {
   "cell_type": "code",
   "execution_count": 178,
   "metadata": {},
   "outputs": [],
   "source": [
    "from sklearn.model_selection import GridSearchCV"
   ]
  },
  {
   "cell_type": "markdown",
   "metadata": {},
   "source": [
    "cv=3"
   ]
  },
  {
   "cell_type": "code",
   "execution_count": 179,
   "metadata": {},
   "outputs": [
    {
     "data": {
      "text/plain": [
       "RandomForestClassifier(bootstrap=True, class_weight=None, criterion='gini',\n",
       "            max_depth=7, max_features='sqrt', max_leaf_nodes=None,\n",
       "            min_impurity_decrease=0.0, min_impurity_split=None,\n",
       "            min_samples_leaf=8, min_samples_split=2,\n",
       "            min_weight_fraction_leaf=0.0, n_estimators=10, n_jobs=1,\n",
       "            oob_score=False, random_state=None, verbose=0,\n",
       "            warm_start=False)"
      ]
     },
     "execution_count": 179,
     "metadata": {},
     "output_type": "execute_result"
    }
   ],
   "source": [
    "rf = RandomForestClassifier()\n",
    "\n",
    "parameters = {'max_features': ['log2', 'sqrt'], \n",
    "              'criterion': ['entropy', 'gini'],\n",
    "              'max_depth': [2, 3, 5, 7], \n",
    "              'min_samples_split': [2, 3, 5],\n",
    "              'min_samples_leaf': [1,5,8]\n",
    "             }\n",
    "\n",
    "grid_obj = GridSearchCV(rf, parameters, cv=3)\n",
    "grid_obj = grid_obj.fit(x_train_res, y_train_res)\n",
    "clf_13 = grid_obj.best_estimator_\n",
    "clf_13.fit(x_train_res, y_train_res)"
   ]
  },
  {
   "cell_type": "code",
   "execution_count": 180,
   "metadata": {},
   "outputs": [],
   "source": [
    "pred_y_13 = clf_13.predict(X_test)"
   ]
  },
  {
   "cell_type": "code",
   "execution_count": 181,
   "metadata": {},
   "outputs": [
    {
     "name": "stdout",
     "output_type": "stream",
     "text": [
      "0.8426473743907299\n"
     ]
    }
   ],
   "source": [
    "print(accuracy_score(y_test, pred_y_13))"
   ]
  },
  {
   "cell_type": "code",
   "execution_count": 182,
   "metadata": {},
   "outputs": [
    {
     "name": "stdout",
     "output_type": "stream",
     "text": [
      "AUC: 0.700\n"
     ]
    },
    {
     "data": {
      "image/png": "[encoded data removed]",
      "text/plain": [
       "<Figure size 432x288 with 1 Axes>"
      ]
     },
     "metadata": {
      "needs_background": "light"
     },
     "output_type": "display_data"
    }
   ],
   "source": [
    "from sklearn.metrics import roc_curve\n",
    "# import matplotlib.pyplot as plt\n",
    "\n",
    "prob_y_13 = clf_13.predict_proba(X_test)\n",
    "# keep probabilities for the positive outcome only\n",
    "prob_y_13 = [p[1] for p in prob_y_13]\n",
    "# calculate AUC\n",
    "auc = roc_auc_score(y_test, prob_y_13)\n",
    "print('AUC: %.3f' % auc)\n",
    "# calculate roc curve\n",
    "fpr, tpr, thresholds = roc_curve(y_test, prob_y_13)\n",
    "# plot no skill\n",
    "plt.plot([0, 1], [0, 1], linestyle='--')\n",
    "# plot the roc curve for the model\n",
    "plt.plot(fpr, tpr, marker='.')\n",
    "# show the plot\n",
    "plt.show();\n",
    "\n",
    "# AUROC score\n",
    "# prob_y_8 = clf_8.predict_proba(X_validation_PC)\n",
    "# prob_y_8 = [p[1] for p in prob_y_8]\n",
    "# print( roc_auc_score(Y_validation, prob_y_8) )"
   ]
  },
  {
   "cell_type": "code",
   "execution_count": 183,
   "metadata": {},
   "outputs": [
    {
     "data": {
      "text/plain": [
       "0.17074742268041238"
      ]
     },
     "execution_count": 183,
     "metadata": {},
     "output_type": "execute_result"
    }
   ],
   "source": [
    "# recall_score\n",
    "recall_score(y_test, pred_y_13)"
   ]
  },
  {
   "cell_type": "code",
   "execution_count": 184,
   "metadata": {},
   "outputs": [
    {
     "data": {
      "text/plain": [
       "0.23650156180276663"
      ]
     },
     "execution_count": 184,
     "metadata": {},
     "output_type": "execute_result"
    }
   ],
   "source": [
    "# f1 score\n",
    "f1_score(y_test, pred_y_13)"
   ]
  },
  {
   "cell_type": "markdown",
   "metadata": {},
   "source": [
    "cv=5"
   ]
  },
  {
   "cell_type": "code",
   "execution_count": 185,
   "metadata": {},
   "outputs": [
    {
     "data": {
      "text/plain": [
       "RandomForestClassifier(bootstrap=True, class_weight=None, criterion='gini',\n",
       "            max_depth=5, max_features='sqrt', max_leaf_nodes=None,\n",
       "            min_impurity_decrease=0.0, min_impurity_split=None,\n",
       "            min_samples_leaf=1, min_samples_split=2,\n",
       "            min_weight_fraction_leaf=0.0, n_estimators=10, n_jobs=1,\n",
       "            oob_score=False, random_state=None, verbose=0,\n",
       "            warm_start=False)"
      ]
     },
     "execution_count": 185,
     "metadata": {},
     "output_type": "execute_result"
    }
   ],
   "source": [
    "rf = RandomForestClassifier()\n",
    "\n",
    "grid_obj = GridSearchCV(rf, parameters, cv=5)\n",
    "grid_obj = grid_obj.fit(x_train_res, y_train_res)\n",
    "clf_16 = grid_obj.best_estimator_\n",
    "clf_16.fit(x_train_res, y_train_res)"
   ]
  },
  {
   "cell_type": "code",
   "execution_count": 186,
   "metadata": {},
   "outputs": [],
   "source": [
    "pred_y_16 = clf_16.predict(X_test)"
   ]
  },
  {
   "cell_type": "code",
   "execution_count": 187,
   "metadata": {},
   "outputs": [
    {
     "name": "stdout",
     "output_type": "stream",
     "text": [
      "0.8532233837098802\n"
     ]
    }
   ],
   "source": [
    "print(accuracy_score(y_test, pred_y_16))"
   ]
  },
  {
   "cell_type": "code",
   "execution_count": 188,
   "metadata": {},
   "outputs": [
    {
     "name": "stdout",
     "output_type": "stream",
     "text": [
      "AUC: 0.688\n"
     ]
    },
    {
     "data": {
      "image/png": "[encoded data removed]",
      "text/plain": [
       "<Figure size 432x288 with 1 Axes>"
      ]
     },
     "metadata": {
      "needs_background": "light"
     },
     "output_type": "display_data"
    }
   ],
   "source": [
    "prob_y_16 = clf_16.predict_proba(X_test)\n",
    "# keep probabilities for the positive outcome only\n",
    "prob_y_16 = [p[1] for p in prob_y_16]\n",
    "# calculate AUC\n",
    "auc = roc_auc_score(y_test, prob_y_16)\n",
    "print('AUC: %.3f' % auc)\n",
    "# calculate roc curve\n",
    "fpr, tpr, thresholds = roc_curve(y_test, prob_y_16)\n",
    "# plot no skill\n",
    "plt.plot([0, 1], [0, 1], linestyle='--')\n",
    "# plot the roc curve for the model\n",
    "plt.plot(fpr, tpr, marker='.')\n",
    "# show the plot\n",
    "plt.show();"
   ]
  },
  {
   "cell_type": "code",
   "execution_count": 189,
   "metadata": {},
   "outputs": [
    {
     "data": {
      "text/plain": [
       "0.10781786941580757"
      ]
     },
     "execution_count": 189,
     "metadata": {},
     "output_type": "execute_result"
    }
   ],
   "source": [
    "# recall_score\n",
    "recall_score(y_test, pred_y_16)"
   ]
  },
  {
   "cell_type": "code",
   "execution_count": 190,
   "metadata": {},
   "outputs": [
    {
     "data": {
      "text/plain": [
       "0.17334254143646408"
      ]
     },
     "execution_count": 190,
     "metadata": {},
     "output_type": "execute_result"
    }
   ],
   "source": [
    "# f1 score\n",
    "f1_score(y_test, pred_y_16)"
   ]
  },
  {
   "cell_type": "markdown",
   "metadata": {},
   "source": [
    "Did not carry out cv=7 as the results do not seem to be improving by much if any and may never get to those produced by GuasisanNB"
   ]
  },
  {
   "cell_type": "markdown",
   "metadata": {},
   "source": [
    "### Hyperparameter Tuning - GaussianNB (no hyperparameters to tune so no need to carry out gridsearch)"
   ]
  },
  {
   "cell_type": "code",
   "execution_count": null,
   "metadata": {},
   "outputs": [],
   "source": [
    "# Best results produced - \n",
    "# Accuracy - 0.7437\n",
    "# Recall - 0.4050\n",
    "# f1 score - 0.3109\n",
    "# Kappa Score - 0.1638"
   ]
  },
  {
   "cell_type": "code",
   "execution_count": 192,
   "metadata": {},
   "outputs": [
    {
     "name": "stdout",
     "output_type": "stream",
     "text": [
      "AUC: 0.663\n"
     ]
    },
    {
     "data": {
      "image/png": "[encoded data removed]",
      "text/plain": [
       "<Figure size 432x288 with 1 Axes>"
      ]
     },
     "metadata": {
      "needs_background": "light"
     },
     "output_type": "display_data"
    }
   ],
   "source": [
    "prob_y_12 = clf_12.predict_proba(X_test)\n",
    "# keep probabilities for the positive outcome only\n",
    "prob_y_12 = [p[1] for p in prob_y_12]\n",
    "# calculate AUC\n",
    "auc = roc_auc_score(y_test, prob_y_12)\n",
    "print('AUC: %.3f' % auc)\n",
    "# calculate roc curve\n",
    "fpr, tpr, thresholds = roc_curve(y_test, prob_y_12)\n",
    "# plot no skill\n",
    "plt.plot([0, 1], [0, 1], linestyle='--')\n",
    "# plot the roc curve for the model\n",
    "plt.plot(fpr, tpr, marker='.')\n",
    "# show the plot\n",
    "plt.show();"
   ]
  },
  {
   "cell_type": "markdown",
   "metadata": {},
   "source": [
    "### Hyperparameter Tuning - Logistic Regression (Using different values for C and cv)"
   ]
  },
  {
   "cell_type": "markdown",
   "metadata": {},
   "source": [
    "#### Regularization used is 'L2' Penalty in all cases"
   ]
  },
  {
   "cell_type": "markdown",
   "metadata": {},
   "source": [
    "cv=3"
   ]
  },
  {
   "cell_type": "code",
   "execution_count": 193,
   "metadata": {},
   "outputs": [
    {
     "data": {
      "text/plain": [
       "LogisticRegression(C=100.0, class_weight=None, dual=False, fit_intercept=True,\n",
       "          intercept_scaling=1, max_iter=2500, multi_class='ovr', n_jobs=1,\n",
       "          penalty='l2', random_state=None, solver='saga', tol=0.0001,\n",
       "          verbose=0, warm_start=False)"
      ]
     },
     "execution_count": 193,
     "metadata": {},
     "output_type": "execute_result"
    }
   ],
   "source": [
    "lr = LogisticRegression(solver='saga',max_iter=2500)\n",
    "\n",
    "parameters = {'C': [1.e-04, 1.e-02, 1.e+00, 1.e+02]}\n",
    "\n",
    "grid_obj = GridSearchCV(lr, parameters, cv=3)\n",
    "grid_obj = grid_obj.fit(x_train_res, y_train_res)\n",
    "clf_14 = grid_obj.best_estimator_\n",
    "clf_14.fit(x_train_res, y_train_res)"
   ]
  },
  {
   "cell_type": "code",
   "execution_count": 194,
   "metadata": {},
   "outputs": [],
   "source": [
    "pred_y_14 = clf_14.predict(X_test)"
   ]
  },
  {
   "cell_type": "code",
   "execution_count": 195,
   "metadata": {},
   "outputs": [
    {
     "name": "stdout",
     "output_type": "stream",
     "text": [
      "0.8045124306428374\n"
     ]
    }
   ],
   "source": [
    "print(accuracy_score(y_test, pred_y_14))"
   ]
  },
  {
   "cell_type": "code",
   "execution_count": 196,
   "metadata": {},
   "outputs": [
    {
     "name": "stdout",
     "output_type": "stream",
     "text": [
      "AUC: 0.685\n"
     ]
    },
    {
     "data": {
      "image/png": "[encoded data removed]",
      "text/plain": [
       "<Figure size 432x288 with 1 Axes>"
      ]
     },
     "metadata": {
      "needs_background": "light"
     },
     "output_type": "display_data"
    }
   ],
   "source": [
    "prob_y_14 = clf_14.predict_proba(X_test)\n",
    "# keep probabilities for the positive outcome only\n",
    "prob_y_14 = [p[1] for p in prob_y_14]\n",
    "# calculate AUC\n",
    "auc = roc_auc_score(y_test, prob_y_14)\n",
    "print('AUC: %.3f' % auc)\n",
    "# calculate roc curve\n",
    "fpr, tpr, thresholds = roc_curve(y_test, prob_y_14)\n",
    "# plot no skill\n",
    "plt.plot([0, 1], [0, 1], linestyle='--')\n",
    "# plot the roc curve for the model\n",
    "plt.plot(fpr, tpr, marker='.')\n",
    "# show the plot\n",
    "plt.show();"
   ]
  },
  {
   "cell_type": "code",
   "execution_count": 197,
   "metadata": {},
   "outputs": [
    {
     "data": {
      "text/plain": [
       "0.3159364261168385"
      ]
     },
     "execution_count": 197,
     "metadata": {},
     "output_type": "execute_result"
    }
   ],
   "source": [
    "# recall_score\n",
    "recall_score(y_test, pred_y_14)"
   ]
  },
  {
   "cell_type": "code",
   "execution_count": 198,
   "metadata": {},
   "outputs": [
    {
     "data": {
      "text/plain": [
       "0.31569910934649636"
      ]
     },
     "execution_count": 198,
     "metadata": {},
     "output_type": "execute_result"
    }
   ],
   "source": [
    "# f1 score\n",
    "f1_score(y_test, pred_y_14)"
   ]
  },
  {
   "cell_type": "markdown",
   "metadata": {},
   "source": [
    "cv=5"
   ]
  },
  {
   "cell_type": "code",
   "execution_count": 199,
   "metadata": {},
   "outputs": [
    {
     "data": {
      "text/plain": [
       "LogisticRegression(C=100.0, class_weight=None, dual=False, fit_intercept=True,\n",
       "          intercept_scaling=1, max_iter=2500, multi_class='ovr', n_jobs=1,\n",
       "          penalty='l2', random_state=None, solver='saga', tol=0.0001,\n",
       "          verbose=0, warm_start=False)"
      ]
     },
     "execution_count": 199,
     "metadata": {},
     "output_type": "execute_result"
    }
   ],
   "source": [
    "lr = LogisticRegression(solver='saga',max_iter=2500)\n",
    "\n",
    "# parameters = {'C': [1.e-04, 1.e-02, 1.e+00, 1.e+02]}\n",
    "\n",
    "grid_obj = GridSearchCV(lr, parameters, cv=5)\n",
    "grid_obj = grid_obj.fit(x_train_res, y_train_res)\n",
    "clf_15 = grid_obj.best_estimator_\n",
    "clf_15.fit(x_train_res, y_train_res)"
   ]
  },
  {
   "cell_type": "code",
   "execution_count": 200,
   "metadata": {},
   "outputs": [],
   "source": [
    "pred_y_15 = clf_15.predict(X_test)"
   ]
  },
  {
   "cell_type": "code",
   "execution_count": 203,
   "metadata": {},
   "outputs": [
    {
     "name": "stdout",
     "output_type": "stream",
     "text": [
      "0.8045124306428374\n"
     ]
    }
   ],
   "source": [
    "print(accuracy_score(y_test, pred_y_15))"
   ]
  },
  {
   "cell_type": "code",
   "execution_count": 204,
   "metadata": {},
   "outputs": [
    {
     "name": "stdout",
     "output_type": "stream",
     "text": [
      "AUC: 0.685\n"
     ]
    },
    {
     "data": {
      "image/png": "[encoded data removed]",
      "text/plain": [
       "<Figure size 432x288 with 1 Axes>"
      ]
     },
     "metadata": {
      "needs_background": "light"
     },
     "output_type": "display_data"
    }
   ],
   "source": [
    "prob_y_15 = clf_15.predict_proba(X_test)\n",
    "# keep probabilities for the positive outcome only\n",
    "prob_y_15 = [p[1] for p in prob_y_15]\n",
    "# calculate AUC\n",
    "auc = roc_auc_score(y_test, prob_y_15)\n",
    "print('AUC: %.3f' % auc)\n",
    "# calculate roc curve\n",
    "fpr, tpr, thresholds = roc_curve(y_test, prob_y_15)\n",
    "# plot no skill\n",
    "plt.plot([0, 1], [0, 1], linestyle='--')\n",
    "# plot the roc curve for the model\n",
    "plt.plot(fpr, tpr, marker='.')\n",
    "# show the plot\n",
    "plt.show();"
   ]
  },
  {
   "cell_type": "code",
   "execution_count": 205,
   "metadata": {},
   "outputs": [
    {
     "data": {
      "text/plain": [
       "0.3159364261168385"
      ]
     },
     "execution_count": 205,
     "metadata": {},
     "output_type": "execute_result"
    }
   ],
   "source": [
    "# recall_score\n",
    "recall_score(y_test, pred_y_15)"
   ]
  },
  {
   "cell_type": "code",
   "execution_count": 206,
   "metadata": {},
   "outputs": [
    {
     "data": {
      "text/plain": [
       "0.31569910934649636"
      ]
     },
     "execution_count": 206,
     "metadata": {},
     "output_type": "execute_result"
    }
   ],
   "source": [
    "# f1 score\n",
    "f1_score(y_test, pred_y_15)"
   ]
  },
  {
   "cell_type": "markdown",
   "metadata": {},
   "source": [
    "although the scores have improved, it is still not as good as of that produced by the GaussianNB model"
   ]
  },
  {
   "cell_type": "code",
   "execution_count": null,
   "metadata": {},
   "outputs": [],
   "source": []
  },
  {
   "cell_type": "markdown",
   "metadata": {},
   "source": [
    "**Matthew’s correlation coefficient (MCC)**"
   ]
  },
  {
   "cell_type": "markdown",
   "metadata": {},
   "source": [
    "The Matthews correlation coefficient is used in machine learning as a measure of the quality of binary (two-class) classifications. It takes into account true and false positives and negatives and is generally regarded as a balanced measure which can be used even if the classes are of very different sizes. The MCC is in essence a correlation coefficient value between -1 and +1. A coefficient of +1 represents a perfect prediction, 0 an average random prediction and -1 an inverse prediction. "
   ]
  },
  {
   "cell_type": "markdown",
   "metadata": {},
   "source": [
    "### Consolidated Results"
   ]
  },
  {
   "cell_type": "code",
   "execution_count": 218,
   "metadata": {},
   "outputs": [],
   "source": [
    "# Function used to list all results into a list for display\n",
    "\n",
    "def model_eval(y_true, y_score):\n",
    "    \n",
    "    # True positive\n",
    "    TP = np.sum(y_true * y_score)\n",
    "    # False positive\n",
    "    FP = np.sum((y_true == 0) * y_score)\n",
    "    # True negative\n",
    "    TN = np.sum((y_true==0) * (y_score==0))\n",
    "    # False negative\n",
    "    FN = np.sum(y_true * (y_score==0))\n",
    "    \n",
    "#     error_rate = 1 - accuracy\n",
    "\n",
    "    accuracy = ((TP+TN))/(TP+FN+FP+TN)\n",
    "    precision = (TP)/(TP+FP)\n",
    "    recall = (TP)/(TP+FN)\n",
    "    f_measure = (2*recall*precision)/(recall+precision) # F1-Score\n",
    "    specificity = (TN) / (TN + FP)\n",
    "    MCC = (TP * TN - FP * FN) / np.sqrt((TP + FP) * (TP + FN) * (TN + FP) * (TN + FN)) # Matthews Correlation Coefficient\n",
    "    tpr = TP / (TP + FN)\n",
    "    fpr = FP / (FP + TN)\n",
    "    tnr = 1 - fpr\n",
    "    auc = (tpr+tnr) / 2   # ROC-AUC for binary classification\n",
    "    kappa_score=cohen_kappa_score(y_true, y_score) # Cohen’s kappa\n",
    "    \n",
    "    \n",
    "    out = {}\n",
    "    out['accuracy'] =  accuracy\n",
    "    out['precision'] = precision\n",
    "    out['recall'] = recall\n",
    "    out['f_measure'] = f_measure\n",
    "    out['specificity'] = specificity\n",
    "    out['MCC'] = MCC\n",
    "    out['AUC'] = auc\n",
    "    out['kappa_score'] = kappa_score\n",
    "    \n",
    "    return out"
   ]
  },
  {
   "cell_type": "code",
   "execution_count": 226,
   "metadata": {},
   "outputs": [
    {
     "data": {
      "text/html": [
       "<div>\n",
       "<style scoped>\n",
       "    .dataframe tbody tr th:only-of-type {\n",
       "        vertical-align: middle;\n",
       "    }\n",
       "\n",
       "    .dataframe tbody tr th {\n",
       "        vertical-align: top;\n",
       "    }\n",
       "\n",
       "    .dataframe thead th {\n",
       "        text-align: right;\n",
       "    }\n",
       "</style>\n",
       "<table border=\"1\" class=\"dataframe\">\n",
       "  <thead>\n",
       "    <tr style=\"text-align: right;\">\n",
       "      <th></th>\n",
       "      <th>AUC</th>\n",
       "      <th>MCC</th>\n",
       "      <th>accuracy</th>\n",
       "      <th>f_measure</th>\n",
       "      <th>kappa_score</th>\n",
       "      <th>precision</th>\n",
       "      <th>recall</th>\n",
       "      <th>specificity</th>\n",
       "    </tr>\n",
       "  </thead>\n",
       "  <tbody>\n",
       "    <tr>\n",
       "      <th>GaussianNB</th>\n",
       "      <td>0.6026</td>\n",
       "      <td>0.1708</td>\n",
       "      <td>0.7437</td>\n",
       "      <td>0.3109</td>\n",
       "      <td>0.1638</td>\n",
       "      <td>0.2523</td>\n",
       "      <td>0.4051</td>\n",
       "      <td>0.8001</td>\n",
       "    </tr>\n",
       "    <tr>\n",
       "      <th>Logistic Regression</th>\n",
       "      <td>0.6009</td>\n",
       "      <td>0.2017</td>\n",
       "      <td>0.8045</td>\n",
       "      <td>0.3157</td>\n",
       "      <td>0.2017</td>\n",
       "      <td>0.3155</td>\n",
       "      <td>0.3159</td>\n",
       "      <td>0.8859</td>\n",
       "    </tr>\n",
       "    <tr>\n",
       "      <th>Random Forest</th>\n",
       "      <td>0.5626</td>\n",
       "      <td>0.1799</td>\n",
       "      <td>0.8426</td>\n",
       "      <td>0.2365</td>\n",
       "      <td>0.1630</td>\n",
       "      <td>0.3846</td>\n",
       "      <td>0.1707</td>\n",
       "      <td>0.9545</td>\n",
       "    </tr>\n",
       "    <tr>\n",
       "      <th>Gradient Boosting</th>\n",
       "      <td>0.5160</td>\n",
       "      <td>0.1202</td>\n",
       "      <td>0.8589</td>\n",
       "      <td>0.0680</td>\n",
       "      <td>0.0525</td>\n",
       "      <td>0.5915</td>\n",
       "      <td>0.0361</td>\n",
       "      <td>0.9959</td>\n",
       "    </tr>\n",
       "  </tbody>\n",
       "</table>\n",
       "</div>"
      ],
      "text/plain": [
       "                        AUC     MCC  accuracy  f_measure  kappa_score  \\\n",
       "GaussianNB           0.6026  0.1708    0.7437     0.3109       0.1638   \n",
       "Logistic Regression  0.6009  0.2017    0.8045     0.3157       0.2017   \n",
       "Random Forest        0.5626  0.1799    0.8426     0.2365       0.1630   \n",
       "Gradient Boosting    0.5160  0.1202    0.8589     0.0680       0.0525   \n",
       "\n",
       "                     precision  recall  specificity  \n",
       "GaussianNB              0.2523  0.4051       0.8001  \n",
       "Logistic Regression     0.3155  0.3159       0.8859  \n",
       "Random Forest           0.3846  0.1707       0.9545  \n",
       "Gradient Boosting       0.5915  0.0361       0.9959  "
      ]
     },
     "metadata": {},
     "output_type": "display_data"
    }
   ],
   "source": [
    "# To display multiple model results in the same table:\n",
    "\n",
    "# Best scores for all trained models\n",
    "\n",
    "LR_result = model_eval(y_test, pred_y_14)\n",
    "RF_result = model_eval(y_test, pred_y_13)\n",
    "GB_result = model_eval(y_test, pred_y_11)\n",
    "NB_result = model_eval(y_test, pred_y_12)\n",
    "model_results = round(pd.DataFrame([NB_result,LR_result,RF_result,GB_result], index = ['GaussianNB','Logistic Regression','Random Forest','Gradient Boosting']),4)\n",
    "display(model_results)"
   ]
  },
  {
   "cell_type": "code",
   "execution_count": null,
   "metadata": {},
   "outputs": [],
   "source": []
  },
  {
   "cell_type": "markdown",
   "metadata": {},
   "source": [
    "#### Consolidated Results before and after hyper-parameter tuning"
   ]
  },
  {
   "cell_type": "markdown",
   "metadata": {},
   "source": [
    "Logistic Regression"
   ]
  },
  {
   "cell_type": "code",
   "execution_count": 220,
   "metadata": {},
   "outputs": [
    {
     "data": {
      "text/html": [
       "<div>\n",
       "<style scoped>\n",
       "    .dataframe tbody tr th:only-of-type {\n",
       "        vertical-align: middle;\n",
       "    }\n",
       "\n",
       "    .dataframe tbody tr th {\n",
       "        vertical-align: top;\n",
       "    }\n",
       "\n",
       "    .dataframe thead th {\n",
       "        text-align: right;\n",
       "    }\n",
       "</style>\n",
       "<table border=\"1\" class=\"dataframe\">\n",
       "  <thead>\n",
       "    <tr style=\"text-align: right;\">\n",
       "      <th></th>\n",
       "      <th>AUC</th>\n",
       "      <th>MCC</th>\n",
       "      <th>accuracy</th>\n",
       "      <th>f_measure</th>\n",
       "      <th>kappa_score</th>\n",
       "      <th>precision</th>\n",
       "      <th>recall</th>\n",
       "      <th>specificity</th>\n",
       "    </tr>\n",
       "  </thead>\n",
       "  <tbody>\n",
       "    <tr>\n",
       "      <th>LR_No_Tuning</th>\n",
       "      <td>0.5994</td>\n",
       "      <td>0.2007</td>\n",
       "      <td>0.8061</td>\n",
       "      <td>0.3135</td>\n",
       "      <td>0.2007</td>\n",
       "      <td>0.3169</td>\n",
       "      <td>0.3101</td>\n",
       "      <td>0.8887</td>\n",
       "    </tr>\n",
       "    <tr>\n",
       "      <th>LR_with_Tuning</th>\n",
       "      <td>0.6009</td>\n",
       "      <td>0.2017</td>\n",
       "      <td>0.8045</td>\n",
       "      <td>0.3157</td>\n",
       "      <td>0.2017</td>\n",
       "      <td>0.3155</td>\n",
       "      <td>0.3159</td>\n",
       "      <td>0.8859</td>\n",
       "    </tr>\n",
       "  </tbody>\n",
       "</table>\n",
       "</div>"
      ],
      "text/plain": [
       "                   AUC     MCC  accuracy  f_measure  kappa_score  precision  \\\n",
       "LR_No_Tuning    0.5994  0.2007    0.8061     0.3135       0.2007     0.3169   \n",
       "LR_with_Tuning  0.6009  0.2017    0.8045     0.3157       0.2017     0.3155   \n",
       "\n",
       "                recall  specificity  \n",
       "LR_No_Tuning    0.3101       0.8887  \n",
       "LR_with_Tuning  0.3159       0.8859  "
      ]
     },
     "metadata": {},
     "output_type": "display_data"
    }
   ],
   "source": [
    "LR_result_1 = model_eval(y_test, pred_y_1)\n",
    "LR_result_2 = model_eval(y_test, pred_y_14)\n",
    "# LR_result_3 = model_eval(y_test, pred_y_12)\n",
    "model_results = round(pd.DataFrame([LR_result_1, LR_result_2], index = ['LR_No_Tuning','LR_with_Tuning']),4)\n",
    "display(model_results)"
   ]
  },
  {
   "cell_type": "markdown",
   "metadata": {},
   "source": [
    "Random Forest"
   ]
  },
  {
   "cell_type": "code",
   "execution_count": 221,
   "metadata": {},
   "outputs": [
    {
     "data": {
      "text/html": [
       "<div>\n",
       "<style scoped>\n",
       "    .dataframe tbody tr th:only-of-type {\n",
       "        vertical-align: middle;\n",
       "    }\n",
       "\n",
       "    .dataframe tbody tr th {\n",
       "        vertical-align: top;\n",
       "    }\n",
       "\n",
       "    .dataframe thead th {\n",
       "        text-align: right;\n",
       "    }\n",
       "</style>\n",
       "<table border=\"1\" class=\"dataframe\">\n",
       "  <thead>\n",
       "    <tr style=\"text-align: right;\">\n",
       "      <th></th>\n",
       "      <th>AUC</th>\n",
       "      <th>MCC</th>\n",
       "      <th>accuracy</th>\n",
       "      <th>f_measure</th>\n",
       "      <th>kappa_score</th>\n",
       "      <th>precision</th>\n",
       "      <th>recall</th>\n",
       "      <th>specificity</th>\n",
       "    </tr>\n",
       "  </thead>\n",
       "  <tbody>\n",
       "    <tr>\n",
       "      <th>RF_No_Tuning</th>\n",
       "      <td>0.5378</td>\n",
       "      <td>0.1395</td>\n",
       "      <td>0.8491</td>\n",
       "      <td>0.1620</td>\n",
       "      <td>0.1093</td>\n",
       "      <td>0.3905</td>\n",
       "      <td>0.1022</td>\n",
       "      <td>0.9734</td>\n",
       "    </tr>\n",
       "    <tr>\n",
       "      <th>RF_with_Tuning</th>\n",
       "      <td>0.5626</td>\n",
       "      <td>0.1799</td>\n",
       "      <td>0.8426</td>\n",
       "      <td>0.2365</td>\n",
       "      <td>0.1630</td>\n",
       "      <td>0.3846</td>\n",
       "      <td>0.1707</td>\n",
       "      <td>0.9545</td>\n",
       "    </tr>\n",
       "  </tbody>\n",
       "</table>\n",
       "</div>"
      ],
      "text/plain": [
       "                   AUC     MCC  accuracy  f_measure  kappa_score  precision  \\\n",
       "RF_No_Tuning    0.5378  0.1395    0.8491     0.1620       0.1093     0.3905   \n",
       "RF_with_Tuning  0.5626  0.1799    0.8426     0.2365       0.1630     0.3846   \n",
       "\n",
       "                recall  specificity  \n",
       "RF_No_Tuning    0.1022       0.9734  \n",
       "RF_with_Tuning  0.1707       0.9545  "
      ]
     },
     "metadata": {},
     "output_type": "display_data"
    }
   ],
   "source": [
    "RF_result_1 = model_eval(y_test, pred_y_10)\n",
    "RF_result_2 = model_eval(y_test, pred_y_13)\n",
    "# LR_result_3 = model_eval(y_test, pred_y_12)\n",
    "model_results = round(pd.DataFrame([RF_result_1, RF_result_2], index = ['RF_No_Tuning','RF_with_Tuning']),4)\n",
    "display(model_results)"
   ]
  },
  {
   "cell_type": "code",
   "execution_count": null,
   "metadata": {},
   "outputs": [],
   "source": []
  },
  {
   "cell_type": "code",
   "execution_count": null,
   "metadata": {},
   "outputs": [],
   "source": []
  },
  {
   "cell_type": "code",
   "execution_count": null,
   "metadata": {},
   "outputs": [],
   "source": []
  }
 ],
 "metadata": {
  "kernelspec": {
   "display_name": "Python 3",
   "language": "python",
   "name": "python3"
  },
  "language_info": {
   "codemirror_mode": {
    "name": "ipython",
    "version": 3
   },
   "file_extension": ".py",
   "mimetype": "text/x-python",
   "name": "python",
   "nbconvert_exporter": "python",
   "pygments_lexer": "ipython3",
   "version": "3.6.7"
  }
 },
 "nbformat": 4,
 "nbformat_minor": 2
}
